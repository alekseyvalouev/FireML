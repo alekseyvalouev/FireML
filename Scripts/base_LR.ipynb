{
 "cells": [
  {
   "cell_type": "code",
   "execution_count": 27,
   "id": "1c29b1fb-5054-4322-8585-a4456fd0cb6c",
   "metadata": {},
   "outputs": [],
   "source": [
    "import pandas as pd"
   ]
  },
  {
   "cell_type": "code",
   "execution_count": 28,
   "id": "742af735-b729-440b-8ff6-42f597d5f314",
   "metadata": {
    "tags": []
   },
   "outputs": [],
   "source": [
    "data = pd.read_csv(\"/Users/alekseyvalouev/Desktop/FireData/CSV/final_table_shifted.csv\")\n",
    "\n",
    "data = data.dropna(axis=0, subset=['fut1fire'])\n",
    "\n",
    "data2 = pd.read_csv('/Users/alekseyvalouev/Desktop/FireData/CSV/final_table_years.csv')\n",
    "\n",
    "data2 = data2.dropna(axis=0, subset=['fut1fire'])\n",
    "\n",
    "data2 = data2.dropna(axis=0, subset=['36MoFires'])"
   ]
  },
  {
   "cell_type": "code",
   "execution_count": 29,
   "id": "b2773f61-dedb-4f39-a482-132f4ab79b1e",
   "metadata": {},
   "outputs": [
    {
     "data": {
      "text/plain": [
       "['Year', 'left', 'top', '36MoFires', '12MoFires', 'Diff', 'Month']"
      ]
     },
     "execution_count": 29,
     "metadata": {},
     "output_type": "execute_result"
    }
   ],
   "source": [
    "cols = data2.columns.tolist()\n",
    "cols\n",
    "cols[3:4] + cols[7:9] + cols[14:17] + cols[29:30]"
   ]
  },
  {
   "cell_type": "code",
   "execution_count": 30,
   "id": "fde80f03-2f0a-41a4-843e-e0e1a12f3354",
   "metadata": {
    "tags": []
   },
   "outputs": [],
   "source": [
    "# Cross Validation\n",
    "\n",
    "from numpy import array \n",
    "import numpy as np\n",
    "from sklearn.preprocessing import StandardScaler\n",
    "from imblearn.over_sampling import BorderlineSMOTE \n",
    "from sklearn.ensemble import RandomForestClassifier\n",
    "from sklearn.linear_model import LogisticRegression\n",
    "import matplotlib.pyplot as plt\n",
    "import sklearn.metrics as metrics\n",
    "import math\n",
    "\n",
    "data2 = data2.sort_values([\"Date\", \"newID\"])\n",
    "t=data2\n",
    "#t = t[(pd.to_datetime(t['Date']).dt.strftime('%B') == 'May') | ]\n",
    "tg = t.groupby('YYYYMM').cumcount()\n",
    "g = data2.groupby('Year').cumcount()"
   ]
  },
  {
   "cell_type": "code",
   "execution_count": 31,
   "id": "2b484c9a-491d-4ef1-a110-09e56ecd1ce4",
   "metadata": {},
   "outputs": [
    {
     "name": "stdout",
     "output_type": "stream",
     "text": [
      "Created array L.\n"
     ]
    }
   ],
   "source": [
    "L = (array(data2.set_index(['Year',g])\n",
    "       .unstack(fill_value=0)\n",
    "       .stack().groupby(level=0)\n",
    "       .apply(lambda x: x.values.tolist())\n",
    "       .tolist()))\n",
    "\n",
    "Lt = (array(t.set_index(['YYYYMM',tg])\n",
    "       .unstack(fill_value=0)\n",
    "       .stack().groupby(level=0)\n",
    "       .apply(lambda x: x.values.tolist())\n",
    "       .tolist()))\n",
    "\n",
    "print(\"Created array L.\")\n",
    "\n",
    "burnin = L[:int(math.floor(len(L)/2))]\n",
    "val = L[int(math.floor(len(L)/2)):]\n",
    "val_test = Lt[int(math.floor(len(L)/2))*12:]\n",
    "\n",
    "burnin = np.concatenate(burnin, axis=0)\n",
    "\n",
    "base_fpr = np\n",
    "\n",
    "tprs = []\n",
    "fprs = []\n",
    "base_fpr = np.linspace(0, 1, 101)\n",
    "_probs = []\n",
    "aucs = []"
   ]
  },
  {
   "cell_type": "code",
   "execution_count": 13,
   "id": "ecfd679e-0ba9-4f65-af25-c2b90a11ea2a",
   "metadata": {
    "collapsed": true,
    "jupyter": {
     "outputs_hidden": true,
     "source_hidden": true
    },
    "tags": []
   },
   "outputs": [
    {
     "name": "stdout",
     "output_type": "stream",
     "text": [
      "Beginning iteration: 1/10\n",
      "Iter_1: Preprocessing complete.\n",
      "Iter_1: Model fitting complete.\n",
      "Iter_1: Model prediction complete.\n",
      "Iter_1: Finished concat.\n"
     ]
    },
    {
     "name": "stderr",
     "output_type": "stream",
     "text": [
      "/var/folders/tn/1hx74qln26x7jlmq6t6mlyqm0000gn/T/ipykernel_1110/3541702504.py:50: UserWarning: color is redundantly defined by the 'color' keyword argument and the fmt string \"b\" (-> color=(0.0, 0.0, 1.0, 1)). The keyword argument will take precedence.\n",
      "  plt.plot(base_fpr, tpr, 'b', label = 'AUC_%s = %0.2f' % (i, roc_auc), color='b')\n"
     ]
    },
    {
     "name": "stdout",
     "output_type": "stream",
     "text": [
      "Finished iteration: 1\n",
      "=====================================\n",
      "Beginning iteration: 2/10\n",
      "Iter_2: Preprocessing complete.\n",
      "Iter_2: Model fitting complete.\n",
      "Iter_2: Model prediction complete.\n",
      "Iter_2: Finished concat.\n"
     ]
    },
    {
     "name": "stderr",
     "output_type": "stream",
     "text": [
      "/var/folders/tn/1hx74qln26x7jlmq6t6mlyqm0000gn/T/ipykernel_1110/3541702504.py:50: UserWarning: color is redundantly defined by the 'color' keyword argument and the fmt string \"b\" (-> color=(0.0, 0.0, 1.0, 1)). The keyword argument will take precedence.\n",
      "  plt.plot(base_fpr, tpr, 'b', label = 'AUC_%s = %0.2f' % (i, roc_auc), color='b')\n"
     ]
    },
    {
     "name": "stdout",
     "output_type": "stream",
     "text": [
      "Finished iteration: 2\n",
      "=====================================\n",
      "Beginning iteration: 3/10\n",
      "Iter_3: Preprocessing complete.\n",
      "Iter_3: Model fitting complete.\n",
      "Iter_3: Model prediction complete.\n",
      "Iter_3: Finished concat.\n"
     ]
    },
    {
     "name": "stderr",
     "output_type": "stream",
     "text": [
      "/var/folders/tn/1hx74qln26x7jlmq6t6mlyqm0000gn/T/ipykernel_1110/3541702504.py:50: UserWarning: color is redundantly defined by the 'color' keyword argument and the fmt string \"b\" (-> color=(0.0, 0.0, 1.0, 1)). The keyword argument will take precedence.\n",
      "  plt.plot(base_fpr, tpr, 'b', label = 'AUC_%s = %0.2f' % (i, roc_auc), color='b')\n"
     ]
    },
    {
     "name": "stdout",
     "output_type": "stream",
     "text": [
      "Finished iteration: 3\n",
      "=====================================\n",
      "Beginning iteration: 4/10\n",
      "Iter_4: Preprocessing complete.\n",
      "Iter_4: Model fitting complete.\n",
      "Iter_4: Model prediction complete.\n",
      "Iter_4: Finished concat.\n"
     ]
    },
    {
     "name": "stderr",
     "output_type": "stream",
     "text": [
      "/var/folders/tn/1hx74qln26x7jlmq6t6mlyqm0000gn/T/ipykernel_1110/3541702504.py:50: UserWarning: color is redundantly defined by the 'color' keyword argument and the fmt string \"b\" (-> color=(0.0, 0.0, 1.0, 1)). The keyword argument will take precedence.\n",
      "  plt.plot(base_fpr, tpr, 'b', label = 'AUC_%s = %0.2f' % (i, roc_auc), color='b')\n"
     ]
    },
    {
     "name": "stdout",
     "output_type": "stream",
     "text": [
      "Finished iteration: 4\n",
      "=====================================\n",
      "Beginning iteration: 5/10\n",
      "Iter_5: Preprocessing complete.\n",
      "Iter_5: Model fitting complete.\n",
      "Iter_5: Model prediction complete.\n",
      "Iter_5: Finished concat.\n"
     ]
    },
    {
     "name": "stderr",
     "output_type": "stream",
     "text": [
      "/var/folders/tn/1hx74qln26x7jlmq6t6mlyqm0000gn/T/ipykernel_1110/3541702504.py:50: UserWarning: color is redundantly defined by the 'color' keyword argument and the fmt string \"b\" (-> color=(0.0, 0.0, 1.0, 1)). The keyword argument will take precedence.\n",
      "  plt.plot(base_fpr, tpr, 'b', label = 'AUC_%s = %0.2f' % (i, roc_auc), color='b')\n"
     ]
    },
    {
     "name": "stdout",
     "output_type": "stream",
     "text": [
      "Finished iteration: 5\n",
      "=====================================\n",
      "Beginning iteration: 6/10\n",
      "Iter_6: Preprocessing complete.\n",
      "Iter_6: Model fitting complete.\n",
      "Iter_6: Model prediction complete.\n",
      "Iter_6: Finished concat.\n"
     ]
    },
    {
     "name": "stderr",
     "output_type": "stream",
     "text": [
      "/var/folders/tn/1hx74qln26x7jlmq6t6mlyqm0000gn/T/ipykernel_1110/3541702504.py:50: UserWarning: color is redundantly defined by the 'color' keyword argument and the fmt string \"b\" (-> color=(0.0, 0.0, 1.0, 1)). The keyword argument will take precedence.\n",
      "  plt.plot(base_fpr, tpr, 'b', label = 'AUC_%s = %0.2f' % (i, roc_auc), color='b')\n"
     ]
    },
    {
     "name": "stdout",
     "output_type": "stream",
     "text": [
      "Finished iteration: 6\n",
      "=====================================\n",
      "Beginning iteration: 7/10\n",
      "Iter_7: Preprocessing complete.\n",
      "Iter_7: Model fitting complete.\n",
      "Iter_7: Model prediction complete.\n",
      "Iter_7: Finished concat.\n"
     ]
    },
    {
     "name": "stderr",
     "output_type": "stream",
     "text": [
      "/var/folders/tn/1hx74qln26x7jlmq6t6mlyqm0000gn/T/ipykernel_1110/3541702504.py:50: UserWarning: color is redundantly defined by the 'color' keyword argument and the fmt string \"b\" (-> color=(0.0, 0.0, 1.0, 1)). The keyword argument will take precedence.\n",
      "  plt.plot(base_fpr, tpr, 'b', label = 'AUC_%s = %0.2f' % (i, roc_auc), color='b')\n"
     ]
    },
    {
     "name": "stdout",
     "output_type": "stream",
     "text": [
      "Finished iteration: 7\n",
      "=====================================\n",
      "Beginning iteration: 8/10\n",
      "Iter_8: Preprocessing complete.\n",
      "Iter_8: Model fitting complete.\n",
      "Iter_8: Model prediction complete.\n",
      "Iter_8: Finished concat.\n"
     ]
    },
    {
     "name": "stderr",
     "output_type": "stream",
     "text": [
      "/var/folders/tn/1hx74qln26x7jlmq6t6mlyqm0000gn/T/ipykernel_1110/3541702504.py:50: UserWarning: color is redundantly defined by the 'color' keyword argument and the fmt string \"b\" (-> color=(0.0, 0.0, 1.0, 1)). The keyword argument will take precedence.\n",
      "  plt.plot(base_fpr, tpr, 'b', label = 'AUC_%s = %0.2f' % (i, roc_auc), color='b')\n"
     ]
    },
    {
     "name": "stdout",
     "output_type": "stream",
     "text": [
      "Finished iteration: 8\n",
      "=====================================\n",
      "Beginning iteration: 9/10\n",
      "Iter_9: Preprocessing complete.\n",
      "Iter_9: Model fitting complete.\n",
      "Iter_9: Model prediction complete.\n",
      "Iter_9: Finished concat.\n"
     ]
    },
    {
     "name": "stderr",
     "output_type": "stream",
     "text": [
      "/var/folders/tn/1hx74qln26x7jlmq6t6mlyqm0000gn/T/ipykernel_1110/3541702504.py:50: UserWarning: color is redundantly defined by the 'color' keyword argument and the fmt string \"b\" (-> color=(0.0, 0.0, 1.0, 1)). The keyword argument will take precedence.\n",
      "  plt.plot(base_fpr, tpr, 'b', label = 'AUC_%s = %0.2f' % (i, roc_auc), color='b')\n"
     ]
    },
    {
     "name": "stdout",
     "output_type": "stream",
     "text": [
      "Finished iteration: 9\n",
      "=====================================\n",
      "Beginning iteration: 10/10\n",
      "Iter_10: Preprocessing complete.\n",
      "Iter_10: Model fitting complete.\n",
      "Iter_10: Model prediction complete.\n",
      "Iter_10: Finished concat.\n"
     ]
    },
    {
     "name": "stderr",
     "output_type": "stream",
     "text": [
      "/var/folders/tn/1hx74qln26x7jlmq6t6mlyqm0000gn/T/ipykernel_1110/3541702504.py:50: UserWarning: color is redundantly defined by the 'color' keyword argument and the fmt string \"b\" (-> color=(0.0, 0.0, 1.0, 1)). The keyword argument will take precedence.\n",
      "  plt.plot(base_fpr, tpr, 'b', label = 'AUC_%s = %0.2f' % (i, roc_auc), color='b')\n"
     ]
    },
    {
     "name": "stdout",
     "output_type": "stream",
     "text": [
      "Finished iteration: 10\n",
      "=====================================\n"
     ]
    },
    {
     "data": {
      "image/png": "[encoded data removed]",
      "text/plain": [
       "<Figure size 432x288 with 1 Axes>"
      ]
     },
     "metadata": {
      "needs_background": "light"
     },
     "output_type": "display_data"
    }
   ],
   "source": [
    "plt.title('ROC')\n",
    "\n",
    "base_fpr = np.linspace(0, 1, 101)\n",
    "\n",
    "models = []\n",
    "\n",
    "for i in range(len(val)):\n",
    "    \n",
    "    print(\"Beginning iteration: %s/%s\" % (i+1, len(val)))\n",
    "    \n",
    "    scaler = StandardScaler()\n",
    "\n",
    "    b_X = burnin[:, [3, 7, 8, 14, 15, 16, 29]]\n",
    "    b_y = burnin[:,-3]\n",
    "\n",
    "    b_X = b_X.astype('float')\n",
    "    b_y = b_y.astype('float').astype('bool')\n",
    "\n",
    "    b_X = scaler.fit_transform(b_X)\n",
    "\n",
    "    v_X = val_test[i][ :, [3, 7, 8, 14, 15, 16, 29]]\n",
    "    v_y = val_test[i,:,-3]\n",
    "\n",
    "    v_X = v_X.astype('float')\n",
    "    v_y = v_y.astype('float').astype('bool')\n",
    "\n",
    "    v_X = scaler.fit_transform(v_X)\n",
    "\n",
    "    b_X, b_y = BorderlineSMOTE().fit_resample(b_X, b_y)\n",
    "    \n",
    "    print(\"Iter_%s: Preprocessing complete.\" %str(i+1))\n",
    "    \n",
    "    # calculate the fpr and tpr for all thresholds of the classification\n",
    "    model = LogisticRegression(solver='sag')\n",
    "    model = model.fit(b_X, b_y)\n",
    "    \n",
    "    models.append(model)\n",
    "    \n",
    "    print(\"Iter_%s: Model fitting complete.\" %str(i+1))\n",
    "    \n",
    "    probs = model.predict_proba(v_X)\n",
    "    \n",
    "    print(\"Iter_%s: Model prediction complete.\" %str(i+1))\n",
    "    \n",
    "    preds = probs[:,1]\n",
    "    _probs.append(probs)\n",
    "    fpr, tpr, threshold = metrics.roc_curve(v_y, preds)\n",
    "    tpr = np.interp(base_fpr, tpr, fpr)\n",
    "    roc_auc = metrics.auc(base_fpr, tpr)\n",
    "    plt.plot(base_fpr, tpr, 'b', label = 'AUC_%s = %0.2f' % (i, roc_auc), color='b')\n",
    "    \n",
    "    tprs.append(tpr)\n",
    "    \n",
    "    print(\"Iter_%s: Finished concat.\" %str(i+1))\n",
    "    \n",
    "    burnin = np.concatenate((burnin, val[i]), axis=0)\n",
    "    \n",
    "    print(\"Finished iteration: %s\" %str(i+1))\n",
    "    print(\"=====================================\")"
   ]
  },
  {
   "cell_type": "code",
   "execution_count": 34,
   "id": "f9bdda22-59cc-4f03-9526-f2031b34c4f6",
   "metadata": {
    "tags": []
   },
   "outputs": [
    {
     "name": "stdout",
     "output_type": "stream",
     "text": [
      "Beginning iteration: 1/10\n",
      "Iter_1: Preprocessing complete.\n",
      "Iter_1: Model fitting complete.\n",
      "Iter_1_1: Model prediction complete.\n",
      "Iter_1_2: Model prediction complete.\n"
     ]
    },
    {
     "name": "stderr",
     "output_type": "stream",
     "text": [
      "/var/folders/tn/1hx74qln26x7jlmq6t6mlyqm0000gn/T/ipykernel_59585/2639462449.py:55: UserWarning: color is redundantly defined by the 'color' keyword argument and the fmt string \"b\" (-> color=(0.0, 0.0, 1.0, 1)). The keyword argument will take precedence.\n",
      "  plt.plot(base_fpr, tpr, 'b', label = 'AUC_%s = %0.2f' % (i, roc_auc), color='b')\n",
      "/var/folders/tn/1hx74qln26x7jlmq6t6mlyqm0000gn/T/ipykernel_59585/2639462449.py:55: UserWarning: color is redundantly defined by the 'color' keyword argument and the fmt string \"b\" (-> color=(0.0, 0.0, 1.0, 1)). The keyword argument will take precedence.\n",
      "  plt.plot(base_fpr, tpr, 'b', label = 'AUC_%s = %0.2f' % (i, roc_auc), color='b')\n",
      "/var/folders/tn/1hx74qln26x7jlmq6t6mlyqm0000gn/T/ipykernel_59585/2639462449.py:55: UserWarning: color is redundantly defined by the 'color' keyword argument and the fmt string \"b\" (-> color=(0.0, 0.0, 1.0, 1)). The keyword argument will take precedence.\n",
      "  plt.plot(base_fpr, tpr, 'b', label = 'AUC_%s = %0.2f' % (i, roc_auc), color='b')\n"
     ]
    },
    {
     "name": "stdout",
     "output_type": "stream",
     "text": [
      "Iter_1_3: Model prediction complete.\n",
      "Iter_1_4: Model prediction complete.\n",
      "Iter_1_5: Model prediction complete.\n"
     ]
    },
    {
     "name": "stderr",
     "output_type": "stream",
     "text": [
      "/var/folders/tn/1hx74qln26x7jlmq6t6mlyqm0000gn/T/ipykernel_59585/2639462449.py:55: UserWarning: color is redundantly defined by the 'color' keyword argument and the fmt string \"b\" (-> color=(0.0, 0.0, 1.0, 1)). The keyword argument will take precedence.\n",
      "  plt.plot(base_fpr, tpr, 'b', label = 'AUC_%s = %0.2f' % (i, roc_auc), color='b')\n",
      "/var/folders/tn/1hx74qln26x7jlmq6t6mlyqm0000gn/T/ipykernel_59585/2639462449.py:55: UserWarning: color is redundantly defined by the 'color' keyword argument and the fmt string \"b\" (-> color=(0.0, 0.0, 1.0, 1)). The keyword argument will take precedence.\n",
      "  plt.plot(base_fpr, tpr, 'b', label = 'AUC_%s = %0.2f' % (i, roc_auc), color='b')\n"
     ]
    },
    {
     "name": "stdout",
     "output_type": "stream",
     "text": [
      "Iter_1_6: Model prediction complete.\n",
      "Iter_1_7: Model prediction complete.\n",
      "Iter_1_8: Model prediction complete.\n"
     ]
    },
    {
     "name": "stderr",
     "output_type": "stream",
     "text": [
      "/var/folders/tn/1hx74qln26x7jlmq6t6mlyqm0000gn/T/ipykernel_59585/2639462449.py:55: UserWarning: color is redundantly defined by the 'color' keyword argument and the fmt string \"b\" (-> color=(0.0, 0.0, 1.0, 1)). The keyword argument will take precedence.\n",
      "  plt.plot(base_fpr, tpr, 'b', label = 'AUC_%s = %0.2f' % (i, roc_auc), color='b')\n",
      "/var/folders/tn/1hx74qln26x7jlmq6t6mlyqm0000gn/T/ipykernel_59585/2639462449.py:55: UserWarning: color is redundantly defined by the 'color' keyword argument and the fmt string \"b\" (-> color=(0.0, 0.0, 1.0, 1)). The keyword argument will take precedence.\n",
      "  plt.plot(base_fpr, tpr, 'b', label = 'AUC_%s = %0.2f' % (i, roc_auc), color='b')\n",
      "/var/folders/tn/1hx74qln26x7jlmq6t6mlyqm0000gn/T/ipykernel_59585/2639462449.py:55: UserWarning: color is redundantly defined by the 'color' keyword argument and the fmt string \"b\" (-> color=(0.0, 0.0, 1.0, 1)). The keyword argument will take precedence.\n",
      "  plt.plot(base_fpr, tpr, 'b', label = 'AUC_%s = %0.2f' % (i, roc_auc), color='b')\n"
     ]
    },
    {
     "name": "stdout",
     "output_type": "stream",
     "text": [
      "Iter_1_9: Model prediction complete.\n",
      "Iter_1_10: Model prediction complete.\n",
      "Iter_1_11: Model prediction complete.\n"
     ]
    },
    {
     "name": "stderr",
     "output_type": "stream",
     "text": [
      "/var/folders/tn/1hx74qln26x7jlmq6t6mlyqm0000gn/T/ipykernel_59585/2639462449.py:55: UserWarning: color is redundantly defined by the 'color' keyword argument and the fmt string \"b\" (-> color=(0.0, 0.0, 1.0, 1)). The keyword argument will take precedence.\n",
      "  plt.plot(base_fpr, tpr, 'b', label = 'AUC_%s = %0.2f' % (i, roc_auc), color='b')\n",
      "/var/folders/tn/1hx74qln26x7jlmq6t6mlyqm0000gn/T/ipykernel_59585/2639462449.py:55: UserWarning: color is redundantly defined by the 'color' keyword argument and the fmt string \"b\" (-> color=(0.0, 0.0, 1.0, 1)). The keyword argument will take precedence.\n",
      "  plt.plot(base_fpr, tpr, 'b', label = 'AUC_%s = %0.2f' % (i, roc_auc), color='b')\n",
      "/var/folders/tn/1hx74qln26x7jlmq6t6mlyqm0000gn/T/ipykernel_59585/2639462449.py:55: UserWarning: color is redundantly defined by the 'color' keyword argument and the fmt string \"b\" (-> color=(0.0, 0.0, 1.0, 1)). The keyword argument will take precedence.\n",
      "  plt.plot(base_fpr, tpr, 'b', label = 'AUC_%s = %0.2f' % (i, roc_auc), color='b')\n"
     ]
    },
    {
     "name": "stdout",
     "output_type": "stream",
     "text": [
      "Iter_1_12: Model prediction complete.\n",
      "Iter_1: Finished concat.\n"
     ]
    },
    {
     "name": "stderr",
     "output_type": "stream",
     "text": [
      "/var/folders/tn/1hx74qln26x7jlmq6t6mlyqm0000gn/T/ipykernel_59585/2639462449.py:55: UserWarning: color is redundantly defined by the 'color' keyword argument and the fmt string \"b\" (-> color=(0.0, 0.0, 1.0, 1)). The keyword argument will take precedence.\n",
      "  plt.plot(base_fpr, tpr, 'b', label = 'AUC_%s = %0.2f' % (i, roc_auc), color='b')\n"
     ]
    },
    {
     "name": "stdout",
     "output_type": "stream",
     "text": [
      "Finished iteration: 1\n",
      "=====================================\n",
      "Beginning iteration: 2/10\n",
      "Iter_2: Preprocessing complete.\n",
      "Iter_2: Model fitting complete.\n",
      "Iter_2_1: Model prediction complete.\n",
      "Iter_2_2: Model prediction complete.\n",
      "Iter_2_3: Model prediction complete.\n"
     ]
    },
    {
     "name": "stderr",
     "output_type": "stream",
     "text": [
      "/var/folders/tn/1hx74qln26x7jlmq6t6mlyqm0000gn/T/ipykernel_59585/2639462449.py:55: UserWarning: color is redundantly defined by the 'color' keyword argument and the fmt string \"b\" (-> color=(0.0, 0.0, 1.0, 1)). The keyword argument will take precedence.\n",
      "  plt.plot(base_fpr, tpr, 'b', label = 'AUC_%s = %0.2f' % (i, roc_auc), color='b')\n",
      "/var/folders/tn/1hx74qln26x7jlmq6t6mlyqm0000gn/T/ipykernel_59585/2639462449.py:55: UserWarning: color is redundantly defined by the 'color' keyword argument and the fmt string \"b\" (-> color=(0.0, 0.0, 1.0, 1)). The keyword argument will take precedence.\n",
      "  plt.plot(base_fpr, tpr, 'b', label = 'AUC_%s = %0.2f' % (i, roc_auc), color='b')\n",
      "/var/folders/tn/1hx74qln26x7jlmq6t6mlyqm0000gn/T/ipykernel_59585/2639462449.py:55: UserWarning: color is redundantly defined by the 'color' keyword argument and the fmt string \"b\" (-> color=(0.0, 0.0, 1.0, 1)). The keyword argument will take precedence.\n",
      "  plt.plot(base_fpr, tpr, 'b', label = 'AUC_%s = %0.2f' % (i, roc_auc), color='b')\n"
     ]
    },
    {
     "name": "stdout",
     "output_type": "stream",
     "text": [
      "Iter_2_4: Model prediction complete.\n",
      "Iter_2_5: Model prediction complete.\n",
      "Iter_2_6: Model prediction complete.\n"
     ]
    },
    {
     "name": "stderr",
     "output_type": "stream",
     "text": [
      "/var/folders/tn/1hx74qln26x7jlmq6t6mlyqm0000gn/T/ipykernel_59585/2639462449.py:55: UserWarning: color is redundantly defined by the 'color' keyword argument and the fmt string \"b\" (-> color=(0.0, 0.0, 1.0, 1)). The keyword argument will take precedence.\n",
      "  plt.plot(base_fpr, tpr, 'b', label = 'AUC_%s = %0.2f' % (i, roc_auc), color='b')\n",
      "/var/folders/tn/1hx74qln26x7jlmq6t6mlyqm0000gn/T/ipykernel_59585/2639462449.py:55: UserWarning: color is redundantly defined by the 'color' keyword argument and the fmt string \"b\" (-> color=(0.0, 0.0, 1.0, 1)). The keyword argument will take precedence.\n",
      "  plt.plot(base_fpr, tpr, 'b', label = 'AUC_%s = %0.2f' % (i, roc_auc), color='b')\n",
      "/var/folders/tn/1hx74qln26x7jlmq6t6mlyqm0000gn/T/ipykernel_59585/2639462449.py:55: UserWarning: color is redundantly defined by the 'color' keyword argument and the fmt string \"b\" (-> color=(0.0, 0.0, 1.0, 1)). The keyword argument will take precedence.\n",
      "  plt.plot(base_fpr, tpr, 'b', label = 'AUC_%s = %0.2f' % (i, roc_auc), color='b')\n"
     ]
    },
    {
     "name": "stdout",
     "output_type": "stream",
     "text": [
      "Iter_2_7: Model prediction complete.\n",
      "Iter_2_8: Model prediction complete.\n",
      "Iter_2_9: Model prediction complete.\n"
     ]
    },
    {
     "name": "stderr",
     "output_type": "stream",
     "text": [
      "/var/folders/tn/1hx74qln26x7jlmq6t6mlyqm0000gn/T/ipykernel_59585/2639462449.py:55: UserWarning: color is redundantly defined by the 'color' keyword argument and the fmt string \"b\" (-> color=(0.0, 0.0, 1.0, 1)). The keyword argument will take precedence.\n",
      "  plt.plot(base_fpr, tpr, 'b', label = 'AUC_%s = %0.2f' % (i, roc_auc), color='b')\n",
      "/var/folders/tn/1hx74qln26x7jlmq6t6mlyqm0000gn/T/ipykernel_59585/2639462449.py:55: UserWarning: color is redundantly defined by the 'color' keyword argument and the fmt string \"b\" (-> color=(0.0, 0.0, 1.0, 1)). The keyword argument will take precedence.\n",
      "  plt.plot(base_fpr, tpr, 'b', label = 'AUC_%s = %0.2f' % (i, roc_auc), color='b')\n",
      "/var/folders/tn/1hx74qln26x7jlmq6t6mlyqm0000gn/T/ipykernel_59585/2639462449.py:55: UserWarning: color is redundantly defined by the 'color' keyword argument and the fmt string \"b\" (-> color=(0.0, 0.0, 1.0, 1)). The keyword argument will take precedence.\n",
      "  plt.plot(base_fpr, tpr, 'b', label = 'AUC_%s = %0.2f' % (i, roc_auc), color='b')\n"
     ]
    },
    {
     "name": "stdout",
     "output_type": "stream",
     "text": [
      "Iter_2_10: Model prediction complete.\n",
      "Iter_2_11: Model prediction complete.\n",
      "Iter_2_12: Model prediction complete.\n",
      "Iter_2: Finished concat.\n"
     ]
    },
    {
     "name": "stderr",
     "output_type": "stream",
     "text": [
      "/var/folders/tn/1hx74qln26x7jlmq6t6mlyqm0000gn/T/ipykernel_59585/2639462449.py:55: UserWarning: color is redundantly defined by the 'color' keyword argument and the fmt string \"b\" (-> color=(0.0, 0.0, 1.0, 1)). The keyword argument will take precedence.\n",
      "  plt.plot(base_fpr, tpr, 'b', label = 'AUC_%s = %0.2f' % (i, roc_auc), color='b')\n",
      "/var/folders/tn/1hx74qln26x7jlmq6t6mlyqm0000gn/T/ipykernel_59585/2639462449.py:55: UserWarning: color is redundantly defined by the 'color' keyword argument and the fmt string \"b\" (-> color=(0.0, 0.0, 1.0, 1)). The keyword argument will take precedence.\n",
      "  plt.plot(base_fpr, tpr, 'b', label = 'AUC_%s = %0.2f' % (i, roc_auc), color='b')\n",
      "/var/folders/tn/1hx74qln26x7jlmq6t6mlyqm0000gn/T/ipykernel_59585/2639462449.py:55: UserWarning: color is redundantly defined by the 'color' keyword argument and the fmt string \"b\" (-> color=(0.0, 0.0, 1.0, 1)). The keyword argument will take precedence.\n",
      "  plt.plot(base_fpr, tpr, 'b', label = 'AUC_%s = %0.2f' % (i, roc_auc), color='b')\n"
     ]
    },
    {
     "name": "stdout",
     "output_type": "stream",
     "text": [
      "Finished iteration: 2\n",
      "=====================================\n",
      "Beginning iteration: 3/10\n",
      "Iter_3: Preprocessing complete.\n",
      "Iter_3: Model fitting complete.\n",
      "Iter_3_1: Model prediction complete.\n",
      "Iter_3_2: Model prediction complete.\n",
      "Iter_3_3: Model prediction complete.\n"
     ]
    },
    {
     "name": "stderr",
     "output_type": "stream",
     "text": [
      "/var/folders/tn/1hx74qln26x7jlmq6t6mlyqm0000gn/T/ipykernel_59585/2639462449.py:55: UserWarning: color is redundantly defined by the 'color' keyword argument and the fmt string \"b\" (-> color=(0.0, 0.0, 1.0, 1)). The keyword argument will take precedence.\n",
      "  plt.plot(base_fpr, tpr, 'b', label = 'AUC_%s = %0.2f' % (i, roc_auc), color='b')\n",
      "/var/folders/tn/1hx74qln26x7jlmq6t6mlyqm0000gn/T/ipykernel_59585/2639462449.py:55: UserWarning: color is redundantly defined by the 'color' keyword argument and the fmt string \"b\" (-> color=(0.0, 0.0, 1.0, 1)). The keyword argument will take precedence.\n",
      "  plt.plot(base_fpr, tpr, 'b', label = 'AUC_%s = %0.2f' % (i, roc_auc), color='b')\n",
      "/var/folders/tn/1hx74qln26x7jlmq6t6mlyqm0000gn/T/ipykernel_59585/2639462449.py:55: UserWarning: color is redundantly defined by the 'color' keyword argument and the fmt string \"b\" (-> color=(0.0, 0.0, 1.0, 1)). The keyword argument will take precedence.\n",
      "  plt.plot(base_fpr, tpr, 'b', label = 'AUC_%s = %0.2f' % (i, roc_auc), color='b')\n"
     ]
    },
    {
     "name": "stdout",
     "output_type": "stream",
     "text": [
      "Iter_3_4: Model prediction complete.\n",
      "Iter_3_5: Model prediction complete.\n"
     ]
    },
    {
     "name": "stderr",
     "output_type": "stream",
     "text": [
      "/var/folders/tn/1hx74qln26x7jlmq6t6mlyqm0000gn/T/ipykernel_59585/2639462449.py:55: UserWarning: color is redundantly defined by the 'color' keyword argument and the fmt string \"b\" (-> color=(0.0, 0.0, 1.0, 1)). The keyword argument will take precedence.\n",
      "  plt.plot(base_fpr, tpr, 'b', label = 'AUC_%s = %0.2f' % (i, roc_auc), color='b')\n",
      "/var/folders/tn/1hx74qln26x7jlmq6t6mlyqm0000gn/T/ipykernel_59585/2639462449.py:55: UserWarning: color is redundantly defined by the 'color' keyword argument and the fmt string \"b\" (-> color=(0.0, 0.0, 1.0, 1)). The keyword argument will take precedence.\n",
      "  plt.plot(base_fpr, tpr, 'b', label = 'AUC_%s = %0.2f' % (i, roc_auc), color='b')\n"
     ]
    },
    {
     "name": "stdout",
     "output_type": "stream",
     "text": [
      "Iter_3_6: Model prediction complete.\n",
      "Iter_3_7: Model prediction complete.\n",
      "Iter_3_8: Model prediction complete.\n"
     ]
    },
    {
     "name": "stderr",
     "output_type": "stream",
     "text": [
      "/var/folders/tn/1hx74qln26x7jlmq6t6mlyqm0000gn/T/ipykernel_59585/2639462449.py:55: UserWarning: color is redundantly defined by the 'color' keyword argument and the fmt string \"b\" (-> color=(0.0, 0.0, 1.0, 1)). The keyword argument will take precedence.\n",
      "  plt.plot(base_fpr, tpr, 'b', label = 'AUC_%s = %0.2f' % (i, roc_auc), color='b')\n",
      "/var/folders/tn/1hx74qln26x7jlmq6t6mlyqm0000gn/T/ipykernel_59585/2639462449.py:55: UserWarning: color is redundantly defined by the 'color' keyword argument and the fmt string \"b\" (-> color=(0.0, 0.0, 1.0, 1)). The keyword argument will take precedence.\n",
      "  plt.plot(base_fpr, tpr, 'b', label = 'AUC_%s = %0.2f' % (i, roc_auc), color='b')\n",
      "/var/folders/tn/1hx74qln26x7jlmq6t6mlyqm0000gn/T/ipykernel_59585/2639462449.py:55: UserWarning: color is redundantly defined by the 'color' keyword argument and the fmt string \"b\" (-> color=(0.0, 0.0, 1.0, 1)). The keyword argument will take precedence.\n",
      "  plt.plot(base_fpr, tpr, 'b', label = 'AUC_%s = %0.2f' % (i, roc_auc), color='b')\n"
     ]
    },
    {
     "name": "stdout",
     "output_type": "stream",
     "text": [
      "Iter_3_9: Model prediction complete.\n",
      "Iter_3_10: Model prediction complete.\n",
      "Iter_3_11: Model prediction complete.\n"
     ]
    },
    {
     "name": "stderr",
     "output_type": "stream",
     "text": [
      "/var/folders/tn/1hx74qln26x7jlmq6t6mlyqm0000gn/T/ipykernel_59585/2639462449.py:55: UserWarning: color is redundantly defined by the 'color' keyword argument and the fmt string \"b\" (-> color=(0.0, 0.0, 1.0, 1)). The keyword argument will take precedence.\n",
      "  plt.plot(base_fpr, tpr, 'b', label = 'AUC_%s = %0.2f' % (i, roc_auc), color='b')\n",
      "/var/folders/tn/1hx74qln26x7jlmq6t6mlyqm0000gn/T/ipykernel_59585/2639462449.py:55: UserWarning: color is redundantly defined by the 'color' keyword argument and the fmt string \"b\" (-> color=(0.0, 0.0, 1.0, 1)). The keyword argument will take precedence.\n",
      "  plt.plot(base_fpr, tpr, 'b', label = 'AUC_%s = %0.2f' % (i, roc_auc), color='b')\n",
      "/var/folders/tn/1hx74qln26x7jlmq6t6mlyqm0000gn/T/ipykernel_59585/2639462449.py:55: UserWarning: color is redundantly defined by the 'color' keyword argument and the fmt string \"b\" (-> color=(0.0, 0.0, 1.0, 1)). The keyword argument will take precedence.\n",
      "  plt.plot(base_fpr, tpr, 'b', label = 'AUC_%s = %0.2f' % (i, roc_auc), color='b')\n"
     ]
    },
    {
     "name": "stdout",
     "output_type": "stream",
     "text": [
      "Iter_3_12: Model prediction complete.\n",
      "Iter_3: Finished concat.\n"
     ]
    },
    {
     "name": "stderr",
     "output_type": "stream",
     "text": [
      "/var/folders/tn/1hx74qln26x7jlmq6t6mlyqm0000gn/T/ipykernel_59585/2639462449.py:55: UserWarning: color is redundantly defined by the 'color' keyword argument and the fmt string \"b\" (-> color=(0.0, 0.0, 1.0, 1)). The keyword argument will take precedence.\n",
      "  plt.plot(base_fpr, tpr, 'b', label = 'AUC_%s = %0.2f' % (i, roc_auc), color='b')\n"
     ]
    },
    {
     "name": "stdout",
     "output_type": "stream",
     "text": [
      "Finished iteration: 3\n",
      "=====================================\n",
      "Beginning iteration: 4/10\n",
      "Iter_4: Preprocessing complete.\n",
      "Iter_4: Model fitting complete.\n",
      "Iter_4_1: Model prediction complete.\n",
      "Iter_4_2: Model prediction complete.\n",
      "Iter_4_3: Model prediction complete.\n"
     ]
    },
    {
     "name": "stderr",
     "output_type": "stream",
     "text": [
      "/var/folders/tn/1hx74qln26x7jlmq6t6mlyqm0000gn/T/ipykernel_59585/2639462449.py:55: UserWarning: color is redundantly defined by the 'color' keyword argument and the fmt string \"b\" (-> color=(0.0, 0.0, 1.0, 1)). The keyword argument will take precedence.\n",
      "  plt.plot(base_fpr, tpr, 'b', label = 'AUC_%s = %0.2f' % (i, roc_auc), color='b')\n",
      "/var/folders/tn/1hx74qln26x7jlmq6t6mlyqm0000gn/T/ipykernel_59585/2639462449.py:55: UserWarning: color is redundantly defined by the 'color' keyword argument and the fmt string \"b\" (-> color=(0.0, 0.0, 1.0, 1)). The keyword argument will take precedence.\n",
      "  plt.plot(base_fpr, tpr, 'b', label = 'AUC_%s = %0.2f' % (i, roc_auc), color='b')\n",
      "/var/folders/tn/1hx74qln26x7jlmq6t6mlyqm0000gn/T/ipykernel_59585/2639462449.py:55: UserWarning: color is redundantly defined by the 'color' keyword argument and the fmt string \"b\" (-> color=(0.0, 0.0, 1.0, 1)). The keyword argument will take precedence.\n",
      "  plt.plot(base_fpr, tpr, 'b', label = 'AUC_%s = %0.2f' % (i, roc_auc), color='b')\n"
     ]
    },
    {
     "name": "stdout",
     "output_type": "stream",
     "text": [
      "Iter_4_4: Model prediction complete.\n",
      "Iter_4_5: Model prediction complete.\n",
      "Iter_4_6: Model prediction complete.\n"
     ]
    },
    {
     "name": "stderr",
     "output_type": "stream",
     "text": [
      "/var/folders/tn/1hx74qln26x7jlmq6t6mlyqm0000gn/T/ipykernel_59585/2639462449.py:55: UserWarning: color is redundantly defined by the 'color' keyword argument and the fmt string \"b\" (-> color=(0.0, 0.0, 1.0, 1)). The keyword argument will take precedence.\n",
      "  plt.plot(base_fpr, tpr, 'b', label = 'AUC_%s = %0.2f' % (i, roc_auc), color='b')\n",
      "/var/folders/tn/1hx74qln26x7jlmq6t6mlyqm0000gn/T/ipykernel_59585/2639462449.py:55: UserWarning: color is redundantly defined by the 'color' keyword argument and the fmt string \"b\" (-> color=(0.0, 0.0, 1.0, 1)). The keyword argument will take precedence.\n",
      "  plt.plot(base_fpr, tpr, 'b', label = 'AUC_%s = %0.2f' % (i, roc_auc), color='b')\n",
      "/var/folders/tn/1hx74qln26x7jlmq6t6mlyqm0000gn/T/ipykernel_59585/2639462449.py:55: UserWarning: color is redundantly defined by the 'color' keyword argument and the fmt string \"b\" (-> color=(0.0, 0.0, 1.0, 1)). The keyword argument will take precedence.\n",
      "  plt.plot(base_fpr, tpr, 'b', label = 'AUC_%s = %0.2f' % (i, roc_auc), color='b')\n"
     ]
    },
    {
     "name": "stdout",
     "output_type": "stream",
     "text": [
      "Iter_4_7: Model prediction complete.\n",
      "Iter_4_8: Model prediction complete.\n",
      "Iter_4_9: Model prediction complete.\n"
     ]
    },
    {
     "name": "stderr",
     "output_type": "stream",
     "text": [
      "/var/folders/tn/1hx74qln26x7jlmq6t6mlyqm0000gn/T/ipykernel_59585/2639462449.py:55: UserWarning: color is redundantly defined by the 'color' keyword argument and the fmt string \"b\" (-> color=(0.0, 0.0, 1.0, 1)). The keyword argument will take precedence.\n",
      "  plt.plot(base_fpr, tpr, 'b', label = 'AUC_%s = %0.2f' % (i, roc_auc), color='b')\n",
      "/var/folders/tn/1hx74qln26x7jlmq6t6mlyqm0000gn/T/ipykernel_59585/2639462449.py:55: UserWarning: color is redundantly defined by the 'color' keyword argument and the fmt string \"b\" (-> color=(0.0, 0.0, 1.0, 1)). The keyword argument will take precedence.\n",
      "  plt.plot(base_fpr, tpr, 'b', label = 'AUC_%s = %0.2f' % (i, roc_auc), color='b')\n",
      "/var/folders/tn/1hx74qln26x7jlmq6t6mlyqm0000gn/T/ipykernel_59585/2639462449.py:55: UserWarning: color is redundantly defined by the 'color' keyword argument and the fmt string \"b\" (-> color=(0.0, 0.0, 1.0, 1)). The keyword argument will take precedence.\n",
      "  plt.plot(base_fpr, tpr, 'b', label = 'AUC_%s = %0.2f' % (i, roc_auc), color='b')\n"
     ]
    },
    {
     "name": "stdout",
     "output_type": "stream",
     "text": [
      "Iter_4_10: Model prediction complete.\n",
      "Iter_4_11: Model prediction complete.\n",
      "Iter_4_12: Model prediction complete.\n",
      "Iter_4: Finished concat.\n"
     ]
    },
    {
     "name": "stderr",
     "output_type": "stream",
     "text": [
      "/var/folders/tn/1hx74qln26x7jlmq6t6mlyqm0000gn/T/ipykernel_59585/2639462449.py:55: UserWarning: color is redundantly defined by the 'color' keyword argument and the fmt string \"b\" (-> color=(0.0, 0.0, 1.0, 1)). The keyword argument will take precedence.\n",
      "  plt.plot(base_fpr, tpr, 'b', label = 'AUC_%s = %0.2f' % (i, roc_auc), color='b')\n",
      "/var/folders/tn/1hx74qln26x7jlmq6t6mlyqm0000gn/T/ipykernel_59585/2639462449.py:55: UserWarning: color is redundantly defined by the 'color' keyword argument and the fmt string \"b\" (-> color=(0.0, 0.0, 1.0, 1)). The keyword argument will take precedence.\n",
      "  plt.plot(base_fpr, tpr, 'b', label = 'AUC_%s = %0.2f' % (i, roc_auc), color='b')\n",
      "/var/folders/tn/1hx74qln26x7jlmq6t6mlyqm0000gn/T/ipykernel_59585/2639462449.py:55: UserWarning: color is redundantly defined by the 'color' keyword argument and the fmt string \"b\" (-> color=(0.0, 0.0, 1.0, 1)). The keyword argument will take precedence.\n",
      "  plt.plot(base_fpr, tpr, 'b', label = 'AUC_%s = %0.2f' % (i, roc_auc), color='b')\n"
     ]
    },
    {
     "name": "stdout",
     "output_type": "stream",
     "text": [
      "Finished iteration: 4\n",
      "=====================================\n",
      "Beginning iteration: 5/10\n",
      "Iter_5: Preprocessing complete.\n",
      "Iter_5: Model fitting complete.\n",
      "Iter_5_1: Model prediction complete.\n",
      "Iter_5_2: Model prediction complete.\n",
      "Iter_5_3: Model prediction complete.\n"
     ]
    },
    {
     "name": "stderr",
     "output_type": "stream",
     "text": [
      "/var/folders/tn/1hx74qln26x7jlmq6t6mlyqm0000gn/T/ipykernel_59585/2639462449.py:55: UserWarning: color is redundantly defined by the 'color' keyword argument and the fmt string \"b\" (-> color=(0.0, 0.0, 1.0, 1)). The keyword argument will take precedence.\n",
      "  plt.plot(base_fpr, tpr, 'b', label = 'AUC_%s = %0.2f' % (i, roc_auc), color='b')\n",
      "/var/folders/tn/1hx74qln26x7jlmq6t6mlyqm0000gn/T/ipykernel_59585/2639462449.py:55: UserWarning: color is redundantly defined by the 'color' keyword argument and the fmt string \"b\" (-> color=(0.0, 0.0, 1.0, 1)). The keyword argument will take precedence.\n",
      "  plt.plot(base_fpr, tpr, 'b', label = 'AUC_%s = %0.2f' % (i, roc_auc), color='b')\n",
      "/var/folders/tn/1hx74qln26x7jlmq6t6mlyqm0000gn/T/ipykernel_59585/2639462449.py:55: UserWarning: color is redundantly defined by the 'color' keyword argument and the fmt string \"b\" (-> color=(0.0, 0.0, 1.0, 1)). The keyword argument will take precedence.\n",
      "  plt.plot(base_fpr, tpr, 'b', label = 'AUC_%s = %0.2f' % (i, roc_auc), color='b')\n"
     ]
    },
    {
     "name": "stdout",
     "output_type": "stream",
     "text": [
      "Iter_5_4: Model prediction complete.\n",
      "Iter_5_5: Model prediction complete.\n",
      "Iter_5_6: Model prediction complete.\n"
     ]
    },
    {
     "name": "stderr",
     "output_type": "stream",
     "text": [
      "/var/folders/tn/1hx74qln26x7jlmq6t6mlyqm0000gn/T/ipykernel_59585/2639462449.py:55: UserWarning: color is redundantly defined by the 'color' keyword argument and the fmt string \"b\" (-> color=(0.0, 0.0, 1.0, 1)). The keyword argument will take precedence.\n",
      "  plt.plot(base_fpr, tpr, 'b', label = 'AUC_%s = %0.2f' % (i, roc_auc), color='b')\n",
      "/var/folders/tn/1hx74qln26x7jlmq6t6mlyqm0000gn/T/ipykernel_59585/2639462449.py:55: UserWarning: color is redundantly defined by the 'color' keyword argument and the fmt string \"b\" (-> color=(0.0, 0.0, 1.0, 1)). The keyword argument will take precedence.\n",
      "  plt.plot(base_fpr, tpr, 'b', label = 'AUC_%s = %0.2f' % (i, roc_auc), color='b')\n",
      "/var/folders/tn/1hx74qln26x7jlmq6t6mlyqm0000gn/T/ipykernel_59585/2639462449.py:55: UserWarning: color is redundantly defined by the 'color' keyword argument and the fmt string \"b\" (-> color=(0.0, 0.0, 1.0, 1)). The keyword argument will take precedence.\n",
      "  plt.plot(base_fpr, tpr, 'b', label = 'AUC_%s = %0.2f' % (i, roc_auc), color='b')\n"
     ]
    },
    {
     "name": "stdout",
     "output_type": "stream",
     "text": [
      "Iter_5_7: Model prediction complete.\n",
      "Iter_5_8: Model prediction complete.\n",
      "Iter_5_9: Model prediction complete.\n"
     ]
    },
    {
     "name": "stderr",
     "output_type": "stream",
     "text": [
      "/var/folders/tn/1hx74qln26x7jlmq6t6mlyqm0000gn/T/ipykernel_59585/2639462449.py:55: UserWarning: color is redundantly defined by the 'color' keyword argument and the fmt string \"b\" (-> color=(0.0, 0.0, 1.0, 1)). The keyword argument will take precedence.\n",
      "  plt.plot(base_fpr, tpr, 'b', label = 'AUC_%s = %0.2f' % (i, roc_auc), color='b')\n",
      "/var/folders/tn/1hx74qln26x7jlmq6t6mlyqm0000gn/T/ipykernel_59585/2639462449.py:55: UserWarning: color is redundantly defined by the 'color' keyword argument and the fmt string \"b\" (-> color=(0.0, 0.0, 1.0, 1)). The keyword argument will take precedence.\n",
      "  plt.plot(base_fpr, tpr, 'b', label = 'AUC_%s = %0.2f' % (i, roc_auc), color='b')\n",
      "/var/folders/tn/1hx74qln26x7jlmq6t6mlyqm0000gn/T/ipykernel_59585/2639462449.py:55: UserWarning: color is redundantly defined by the 'color' keyword argument and the fmt string \"b\" (-> color=(0.0, 0.0, 1.0, 1)). The keyword argument will take precedence.\n",
      "  plt.plot(base_fpr, tpr, 'b', label = 'AUC_%s = %0.2f' % (i, roc_auc), color='b')\n"
     ]
    },
    {
     "name": "stdout",
     "output_type": "stream",
     "text": [
      "Iter_5_10: Model prediction complete.\n",
      "Iter_5_11: Model prediction complete.\n",
      "Iter_5_12: Model prediction complete.\n",
      "Iter_5: Finished concat.\n"
     ]
    },
    {
     "name": "stderr",
     "output_type": "stream",
     "text": [
      "/var/folders/tn/1hx74qln26x7jlmq6t6mlyqm0000gn/T/ipykernel_59585/2639462449.py:55: UserWarning: color is redundantly defined by the 'color' keyword argument and the fmt string \"b\" (-> color=(0.0, 0.0, 1.0, 1)). The keyword argument will take precedence.\n",
      "  plt.plot(base_fpr, tpr, 'b', label = 'AUC_%s = %0.2f' % (i, roc_auc), color='b')\n",
      "/var/folders/tn/1hx74qln26x7jlmq6t6mlyqm0000gn/T/ipykernel_59585/2639462449.py:55: UserWarning: color is redundantly defined by the 'color' keyword argument and the fmt string \"b\" (-> color=(0.0, 0.0, 1.0, 1)). The keyword argument will take precedence.\n",
      "  plt.plot(base_fpr, tpr, 'b', label = 'AUC_%s = %0.2f' % (i, roc_auc), color='b')\n",
      "/var/folders/tn/1hx74qln26x7jlmq6t6mlyqm0000gn/T/ipykernel_59585/2639462449.py:55: UserWarning: color is redundantly defined by the 'color' keyword argument and the fmt string \"b\" (-> color=(0.0, 0.0, 1.0, 1)). The keyword argument will take precedence.\n",
      "  plt.plot(base_fpr, tpr, 'b', label = 'AUC_%s = %0.2f' % (i, roc_auc), color='b')\n"
     ]
    },
    {
     "name": "stdout",
     "output_type": "stream",
     "text": [
      "Finished iteration: 5\n",
      "=====================================\n",
      "Beginning iteration: 6/10\n",
      "Iter_6: Preprocessing complete.\n",
      "Iter_6: Model fitting complete.\n",
      "Iter_6_1: Model prediction complete.\n",
      "Iter_6_2: Model prediction complete.\n"
     ]
    },
    {
     "name": "stderr",
     "output_type": "stream",
     "text": [
      "/var/folders/tn/1hx74qln26x7jlmq6t6mlyqm0000gn/T/ipykernel_59585/2639462449.py:55: UserWarning: color is redundantly defined by the 'color' keyword argument and the fmt string \"b\" (-> color=(0.0, 0.0, 1.0, 1)). The keyword argument will take precedence.\n",
      "  plt.plot(base_fpr, tpr, 'b', label = 'AUC_%s = %0.2f' % (i, roc_auc), color='b')\n",
      "/var/folders/tn/1hx74qln26x7jlmq6t6mlyqm0000gn/T/ipykernel_59585/2639462449.py:55: UserWarning: color is redundantly defined by the 'color' keyword argument and the fmt string \"b\" (-> color=(0.0, 0.0, 1.0, 1)). The keyword argument will take precedence.\n",
      "  plt.plot(base_fpr, tpr, 'b', label = 'AUC_%s = %0.2f' % (i, roc_auc), color='b')\n",
      "/var/folders/tn/1hx74qln26x7jlmq6t6mlyqm0000gn/T/ipykernel_59585/2639462449.py:55: UserWarning: color is redundantly defined by the 'color' keyword argument and the fmt string \"b\" (-> color=(0.0, 0.0, 1.0, 1)). The keyword argument will take precedence.\n",
      "  plt.plot(base_fpr, tpr, 'b', label = 'AUC_%s = %0.2f' % (i, roc_auc), color='b')\n"
     ]
    },
    {
     "name": "stdout",
     "output_type": "stream",
     "text": [
      "Iter_6_3: Model prediction complete.\n",
      "Iter_6_4: Model prediction complete.\n"
     ]
    },
    {
     "name": "stderr",
     "output_type": "stream",
     "text": [
      "/var/folders/tn/1hx74qln26x7jlmq6t6mlyqm0000gn/T/ipykernel_59585/2639462449.py:55: UserWarning: color is redundantly defined by the 'color' keyword argument and the fmt string \"b\" (-> color=(0.0, 0.0, 1.0, 1)). The keyword argument will take precedence.\n",
      "  plt.plot(base_fpr, tpr, 'b', label = 'AUC_%s = %0.2f' % (i, roc_auc), color='b')\n",
      "/var/folders/tn/1hx74qln26x7jlmq6t6mlyqm0000gn/T/ipykernel_59585/2639462449.py:55: UserWarning: color is redundantly defined by the 'color' keyword argument and the fmt string \"b\" (-> color=(0.0, 0.0, 1.0, 1)). The keyword argument will take precedence.\n",
      "  plt.plot(base_fpr, tpr, 'b', label = 'AUC_%s = %0.2f' % (i, roc_auc), color='b')\n",
      "/var/folders/tn/1hx74qln26x7jlmq6t6mlyqm0000gn/T/ipykernel_59585/2639462449.py:55: UserWarning: color is redundantly defined by the 'color' keyword argument and the fmt string \"b\" (-> color=(0.0, 0.0, 1.0, 1)). The keyword argument will take precedence.\n",
      "  plt.plot(base_fpr, tpr, 'b', label = 'AUC_%s = %0.2f' % (i, roc_auc), color='b')\n"
     ]
    },
    {
     "name": "stdout",
     "output_type": "stream",
     "text": [
      "Iter_6_5: Model prediction complete.\n",
      "Iter_6_6: Model prediction complete.\n",
      "Iter_6_7: Model prediction complete.\n"
     ]
    },
    {
     "name": "stderr",
     "output_type": "stream",
     "text": [
      "/var/folders/tn/1hx74qln26x7jlmq6t6mlyqm0000gn/T/ipykernel_59585/2639462449.py:55: UserWarning: color is redundantly defined by the 'color' keyword argument and the fmt string \"b\" (-> color=(0.0, 0.0, 1.0, 1)). The keyword argument will take precedence.\n",
      "  plt.plot(base_fpr, tpr, 'b', label = 'AUC_%s = %0.2f' % (i, roc_auc), color='b')\n",
      "/var/folders/tn/1hx74qln26x7jlmq6t6mlyqm0000gn/T/ipykernel_59585/2639462449.py:55: UserWarning: color is redundantly defined by the 'color' keyword argument and the fmt string \"b\" (-> color=(0.0, 0.0, 1.0, 1)). The keyword argument will take precedence.\n",
      "  plt.plot(base_fpr, tpr, 'b', label = 'AUC_%s = %0.2f' % (i, roc_auc), color='b')\n",
      "/var/folders/tn/1hx74qln26x7jlmq6t6mlyqm0000gn/T/ipykernel_59585/2639462449.py:55: UserWarning: color is redundantly defined by the 'color' keyword argument and the fmt string \"b\" (-> color=(0.0, 0.0, 1.0, 1)). The keyword argument will take precedence.\n",
      "  plt.plot(base_fpr, tpr, 'b', label = 'AUC_%s = %0.2f' % (i, roc_auc), color='b')\n"
     ]
    },
    {
     "name": "stdout",
     "output_type": "stream",
     "text": [
      "Iter_6_8: Model prediction complete.\n",
      "Iter_6_9: Model prediction complete.\n",
      "Iter_6_10: Model prediction complete.\n"
     ]
    },
    {
     "name": "stderr",
     "output_type": "stream",
     "text": [
      "/var/folders/tn/1hx74qln26x7jlmq6t6mlyqm0000gn/T/ipykernel_59585/2639462449.py:55: UserWarning: color is redundantly defined by the 'color' keyword argument and the fmt string \"b\" (-> color=(0.0, 0.0, 1.0, 1)). The keyword argument will take precedence.\n",
      "  plt.plot(base_fpr, tpr, 'b', label = 'AUC_%s = %0.2f' % (i, roc_auc), color='b')\n",
      "/var/folders/tn/1hx74qln26x7jlmq6t6mlyqm0000gn/T/ipykernel_59585/2639462449.py:55: UserWarning: color is redundantly defined by the 'color' keyword argument and the fmt string \"b\" (-> color=(0.0, 0.0, 1.0, 1)). The keyword argument will take precedence.\n",
      "  plt.plot(base_fpr, tpr, 'b', label = 'AUC_%s = %0.2f' % (i, roc_auc), color='b')\n",
      "/var/folders/tn/1hx74qln26x7jlmq6t6mlyqm0000gn/T/ipykernel_59585/2639462449.py:55: UserWarning: color is redundantly defined by the 'color' keyword argument and the fmt string \"b\" (-> color=(0.0, 0.0, 1.0, 1)). The keyword argument will take precedence.\n",
      "  plt.plot(base_fpr, tpr, 'b', label = 'AUC_%s = %0.2f' % (i, roc_auc), color='b')\n"
     ]
    },
    {
     "name": "stdout",
     "output_type": "stream",
     "text": [
      "Iter_6_11: Model prediction complete.\n",
      "Iter_6_12: Model prediction complete.\n",
      "Iter_6: Finished concat.\n",
      "Finished iteration: 6\n",
      "=====================================\n",
      "Beginning iteration: 7/10\n",
      "Iter_7: Preprocessing complete.\n",
      "Iter_7: Model fitting complete.\n",
      "Iter_7_1: Model prediction complete.\n",
      "Iter_7_2: Model prediction complete.\n"
     ]
    },
    {
     "name": "stderr",
     "output_type": "stream",
     "text": [
      "/var/folders/tn/1hx74qln26x7jlmq6t6mlyqm0000gn/T/ipykernel_59585/2639462449.py:55: UserWarning: color is redundantly defined by the 'color' keyword argument and the fmt string \"b\" (-> color=(0.0, 0.0, 1.0, 1)). The keyword argument will take precedence.\n",
      "  plt.plot(base_fpr, tpr, 'b', label = 'AUC_%s = %0.2f' % (i, roc_auc), color='b')\n",
      "/var/folders/tn/1hx74qln26x7jlmq6t6mlyqm0000gn/T/ipykernel_59585/2639462449.py:55: UserWarning: color is redundantly defined by the 'color' keyword argument and the fmt string \"b\" (-> color=(0.0, 0.0, 1.0, 1)). The keyword argument will take precedence.\n",
      "  plt.plot(base_fpr, tpr, 'b', label = 'AUC_%s = %0.2f' % (i, roc_auc), color='b')\n",
      "/var/folders/tn/1hx74qln26x7jlmq6t6mlyqm0000gn/T/ipykernel_59585/2639462449.py:55: UserWarning: color is redundantly defined by the 'color' keyword argument and the fmt string \"b\" (-> color=(0.0, 0.0, 1.0, 1)). The keyword argument will take precedence.\n",
      "  plt.plot(base_fpr, tpr, 'b', label = 'AUC_%s = %0.2f' % (i, roc_auc), color='b')\n"
     ]
    },
    {
     "name": "stdout",
     "output_type": "stream",
     "text": [
      "Iter_7_3: Model prediction complete.\n",
      "Iter_7_4: Model prediction complete.\n",
      "Iter_7_5: Model prediction complete.\n"
     ]
    },
    {
     "name": "stderr",
     "output_type": "stream",
     "text": [
      "/var/folders/tn/1hx74qln26x7jlmq6t6mlyqm0000gn/T/ipykernel_59585/2639462449.py:55: UserWarning: color is redundantly defined by the 'color' keyword argument and the fmt string \"b\" (-> color=(0.0, 0.0, 1.0, 1)). The keyword argument will take precedence.\n",
      "  plt.plot(base_fpr, tpr, 'b', label = 'AUC_%s = %0.2f' % (i, roc_auc), color='b')\n",
      "/var/folders/tn/1hx74qln26x7jlmq6t6mlyqm0000gn/T/ipykernel_59585/2639462449.py:55: UserWarning: color is redundantly defined by the 'color' keyword argument and the fmt string \"b\" (-> color=(0.0, 0.0, 1.0, 1)). The keyword argument will take precedence.\n",
      "  plt.plot(base_fpr, tpr, 'b', label = 'AUC_%s = %0.2f' % (i, roc_auc), color='b')\n",
      "/var/folders/tn/1hx74qln26x7jlmq6t6mlyqm0000gn/T/ipykernel_59585/2639462449.py:55: UserWarning: color is redundantly defined by the 'color' keyword argument and the fmt string \"b\" (-> color=(0.0, 0.0, 1.0, 1)). The keyword argument will take precedence.\n",
      "  plt.plot(base_fpr, tpr, 'b', label = 'AUC_%s = %0.2f' % (i, roc_auc), color='b')\n"
     ]
    },
    {
     "name": "stdout",
     "output_type": "stream",
     "text": [
      "Iter_7_6: Model prediction complete.\n",
      "Iter_7_7: Model prediction complete.\n"
     ]
    },
    {
     "name": "stderr",
     "output_type": "stream",
     "text": [
      "/var/folders/tn/1hx74qln26x7jlmq6t6mlyqm0000gn/T/ipykernel_59585/2639462449.py:55: UserWarning: color is redundantly defined by the 'color' keyword argument and the fmt string \"b\" (-> color=(0.0, 0.0, 1.0, 1)). The keyword argument will take precedence.\n",
      "  plt.plot(base_fpr, tpr, 'b', label = 'AUC_%s = %0.2f' % (i, roc_auc), color='b')\n",
      "/var/folders/tn/1hx74qln26x7jlmq6t6mlyqm0000gn/T/ipykernel_59585/2639462449.py:55: UserWarning: color is redundantly defined by the 'color' keyword argument and the fmt string \"b\" (-> color=(0.0, 0.0, 1.0, 1)). The keyword argument will take precedence.\n",
      "  plt.plot(base_fpr, tpr, 'b', label = 'AUC_%s = %0.2f' % (i, roc_auc), color='b')\n",
      "/var/folders/tn/1hx74qln26x7jlmq6t6mlyqm0000gn/T/ipykernel_59585/2639462449.py:55: UserWarning: color is redundantly defined by the 'color' keyword argument and the fmt string \"b\" (-> color=(0.0, 0.0, 1.0, 1)). The keyword argument will take precedence.\n",
      "  plt.plot(base_fpr, tpr, 'b', label = 'AUC_%s = %0.2f' % (i, roc_auc), color='b')\n"
     ]
    },
    {
     "name": "stdout",
     "output_type": "stream",
     "text": [
      "Iter_7_8: Model prediction complete.\n",
      "Iter_7_9: Model prediction complete.\n",
      "Iter_7_10: Model prediction complete.\n"
     ]
    },
    {
     "name": "stderr",
     "output_type": "stream",
     "text": [
      "/var/folders/tn/1hx74qln26x7jlmq6t6mlyqm0000gn/T/ipykernel_59585/2639462449.py:55: UserWarning: color is redundantly defined by the 'color' keyword argument and the fmt string \"b\" (-> color=(0.0, 0.0, 1.0, 1)). The keyword argument will take precedence.\n",
      "  plt.plot(base_fpr, tpr, 'b', label = 'AUC_%s = %0.2f' % (i, roc_auc), color='b')\n",
      "/var/folders/tn/1hx74qln26x7jlmq6t6mlyqm0000gn/T/ipykernel_59585/2639462449.py:55: UserWarning: color is redundantly defined by the 'color' keyword argument and the fmt string \"b\" (-> color=(0.0, 0.0, 1.0, 1)). The keyword argument will take precedence.\n",
      "  plt.plot(base_fpr, tpr, 'b', label = 'AUC_%s = %0.2f' % (i, roc_auc), color='b')\n",
      "/var/folders/tn/1hx74qln26x7jlmq6t6mlyqm0000gn/T/ipykernel_59585/2639462449.py:55: UserWarning: color is redundantly defined by the 'color' keyword argument and the fmt string \"b\" (-> color=(0.0, 0.0, 1.0, 1)). The keyword argument will take precedence.\n",
      "  plt.plot(base_fpr, tpr, 'b', label = 'AUC_%s = %0.2f' % (i, roc_auc), color='b')\n"
     ]
    },
    {
     "name": "stdout",
     "output_type": "stream",
     "text": [
      "Iter_7_11: Model prediction complete.\n",
      "Iter_7_12: Model prediction complete.\n",
      "Iter_7: Finished concat.\n",
      "Finished iteration: 7\n",
      "=====================================\n",
      "Beginning iteration: 8/10\n",
      "Iter_8: Preprocessing complete.\n",
      "Iter_8: Model fitting complete.\n",
      "Iter_8_1: Model prediction complete.\n",
      "Iter_8_2: Model prediction complete.\n"
     ]
    },
    {
     "name": "stderr",
     "output_type": "stream",
     "text": [
      "/var/folders/tn/1hx74qln26x7jlmq6t6mlyqm0000gn/T/ipykernel_59585/2639462449.py:55: UserWarning: color is redundantly defined by the 'color' keyword argument and the fmt string \"b\" (-> color=(0.0, 0.0, 1.0, 1)). The keyword argument will take precedence.\n",
      "  plt.plot(base_fpr, tpr, 'b', label = 'AUC_%s = %0.2f' % (i, roc_auc), color='b')\n",
      "/var/folders/tn/1hx74qln26x7jlmq6t6mlyqm0000gn/T/ipykernel_59585/2639462449.py:55: UserWarning: color is redundantly defined by the 'color' keyword argument and the fmt string \"b\" (-> color=(0.0, 0.0, 1.0, 1)). The keyword argument will take precedence.\n",
      "  plt.plot(base_fpr, tpr, 'b', label = 'AUC_%s = %0.2f' % (i, roc_auc), color='b')\n",
      "/var/folders/tn/1hx74qln26x7jlmq6t6mlyqm0000gn/T/ipykernel_59585/2639462449.py:55: UserWarning: color is redundantly defined by the 'color' keyword argument and the fmt string \"b\" (-> color=(0.0, 0.0, 1.0, 1)). The keyword argument will take precedence.\n",
      "  plt.plot(base_fpr, tpr, 'b', label = 'AUC_%s = %0.2f' % (i, roc_auc), color='b')\n"
     ]
    },
    {
     "name": "stdout",
     "output_type": "stream",
     "text": [
      "Iter_8_3: Model prediction complete.\n",
      "Iter_8_4: Model prediction complete.\n",
      "Iter_8_5: Model prediction complete.\n"
     ]
    },
    {
     "name": "stderr",
     "output_type": "stream",
     "text": [
      "/var/folders/tn/1hx74qln26x7jlmq6t6mlyqm0000gn/T/ipykernel_59585/2639462449.py:55: UserWarning: color is redundantly defined by the 'color' keyword argument and the fmt string \"b\" (-> color=(0.0, 0.0, 1.0, 1)). The keyword argument will take precedence.\n",
      "  plt.plot(base_fpr, tpr, 'b', label = 'AUC_%s = %0.2f' % (i, roc_auc), color='b')\n",
      "/var/folders/tn/1hx74qln26x7jlmq6t6mlyqm0000gn/T/ipykernel_59585/2639462449.py:55: UserWarning: color is redundantly defined by the 'color' keyword argument and the fmt string \"b\" (-> color=(0.0, 0.0, 1.0, 1)). The keyword argument will take precedence.\n",
      "  plt.plot(base_fpr, tpr, 'b', label = 'AUC_%s = %0.2f' % (i, roc_auc), color='b')\n",
      "/var/folders/tn/1hx74qln26x7jlmq6t6mlyqm0000gn/T/ipykernel_59585/2639462449.py:55: UserWarning: color is redundantly defined by the 'color' keyword argument and the fmt string \"b\" (-> color=(0.0, 0.0, 1.0, 1)). The keyword argument will take precedence.\n",
      "  plt.plot(base_fpr, tpr, 'b', label = 'AUC_%s = %0.2f' % (i, roc_auc), color='b')\n"
     ]
    },
    {
     "name": "stdout",
     "output_type": "stream",
     "text": [
      "Iter_8_6: Model prediction complete.\n",
      "Iter_8_7: Model prediction complete.\n",
      "Iter_8_8: Model prediction complete.\n"
     ]
    },
    {
     "name": "stderr",
     "output_type": "stream",
     "text": [
      "/var/folders/tn/1hx74qln26x7jlmq6t6mlyqm0000gn/T/ipykernel_59585/2639462449.py:55: UserWarning: color is redundantly defined by the 'color' keyword argument and the fmt string \"b\" (-> color=(0.0, 0.0, 1.0, 1)). The keyword argument will take precedence.\n",
      "  plt.plot(base_fpr, tpr, 'b', label = 'AUC_%s = %0.2f' % (i, roc_auc), color='b')\n",
      "/var/folders/tn/1hx74qln26x7jlmq6t6mlyqm0000gn/T/ipykernel_59585/2639462449.py:55: UserWarning: color is redundantly defined by the 'color' keyword argument and the fmt string \"b\" (-> color=(0.0, 0.0, 1.0, 1)). The keyword argument will take precedence.\n",
      "  plt.plot(base_fpr, tpr, 'b', label = 'AUC_%s = %0.2f' % (i, roc_auc), color='b')\n",
      "/var/folders/tn/1hx74qln26x7jlmq6t6mlyqm0000gn/T/ipykernel_59585/2639462449.py:55: UserWarning: color is redundantly defined by the 'color' keyword argument and the fmt string \"b\" (-> color=(0.0, 0.0, 1.0, 1)). The keyword argument will take precedence.\n",
      "  plt.plot(base_fpr, tpr, 'b', label = 'AUC_%s = %0.2f' % (i, roc_auc), color='b')\n"
     ]
    },
    {
     "name": "stdout",
     "output_type": "stream",
     "text": [
      "Iter_8_9: Model prediction complete.\n",
      "Iter_8_10: Model prediction complete.\n",
      "Iter_8_11: Model prediction complete.\n"
     ]
    },
    {
     "name": "stderr",
     "output_type": "stream",
     "text": [
      "/var/folders/tn/1hx74qln26x7jlmq6t6mlyqm0000gn/T/ipykernel_59585/2639462449.py:55: UserWarning: color is redundantly defined by the 'color' keyword argument and the fmt string \"b\" (-> color=(0.0, 0.0, 1.0, 1)). The keyword argument will take precedence.\n",
      "  plt.plot(base_fpr, tpr, 'b', label = 'AUC_%s = %0.2f' % (i, roc_auc), color='b')\n",
      "/var/folders/tn/1hx74qln26x7jlmq6t6mlyqm0000gn/T/ipykernel_59585/2639462449.py:55: UserWarning: color is redundantly defined by the 'color' keyword argument and the fmt string \"b\" (-> color=(0.0, 0.0, 1.0, 1)). The keyword argument will take precedence.\n",
      "  plt.plot(base_fpr, tpr, 'b', label = 'AUC_%s = %0.2f' % (i, roc_auc), color='b')\n",
      "/var/folders/tn/1hx74qln26x7jlmq6t6mlyqm0000gn/T/ipykernel_59585/2639462449.py:55: UserWarning: color is redundantly defined by the 'color' keyword argument and the fmt string \"b\" (-> color=(0.0, 0.0, 1.0, 1)). The keyword argument will take precedence.\n",
      "  plt.plot(base_fpr, tpr, 'b', label = 'AUC_%s = %0.2f' % (i, roc_auc), color='b')\n"
     ]
    },
    {
     "name": "stdout",
     "output_type": "stream",
     "text": [
      "Iter_8_12: Model prediction complete.\n",
      "Iter_8: Finished concat.\n",
      "Finished iteration: 8\n",
      "=====================================\n",
      "Beginning iteration: 9/10\n",
      "Iter_9: Preprocessing complete.\n",
      "Iter_9: Model fitting complete.\n",
      "Iter_9_1: Model prediction complete.\n",
      "Iter_9_2: Model prediction complete.\n"
     ]
    },
    {
     "name": "stderr",
     "output_type": "stream",
     "text": [
      "/var/folders/tn/1hx74qln26x7jlmq6t6mlyqm0000gn/T/ipykernel_59585/2639462449.py:55: UserWarning: color is redundantly defined by the 'color' keyword argument and the fmt string \"b\" (-> color=(0.0, 0.0, 1.0, 1)). The keyword argument will take precedence.\n",
      "  plt.plot(base_fpr, tpr, 'b', label = 'AUC_%s = %0.2f' % (i, roc_auc), color='b')\n",
      "/var/folders/tn/1hx74qln26x7jlmq6t6mlyqm0000gn/T/ipykernel_59585/2639462449.py:55: UserWarning: color is redundantly defined by the 'color' keyword argument and the fmt string \"b\" (-> color=(0.0, 0.0, 1.0, 1)). The keyword argument will take precedence.\n",
      "  plt.plot(base_fpr, tpr, 'b', label = 'AUC_%s = %0.2f' % (i, roc_auc), color='b')\n",
      "/var/folders/tn/1hx74qln26x7jlmq6t6mlyqm0000gn/T/ipykernel_59585/2639462449.py:55: UserWarning: color is redundantly defined by the 'color' keyword argument and the fmt string \"b\" (-> color=(0.0, 0.0, 1.0, 1)). The keyword argument will take precedence.\n",
      "  plt.plot(base_fpr, tpr, 'b', label = 'AUC_%s = %0.2f' % (i, roc_auc), color='b')\n"
     ]
    },
    {
     "name": "stdout",
     "output_type": "stream",
     "text": [
      "Iter_9_3: Model prediction complete.\n",
      "Iter_9_4: Model prediction complete.\n"
     ]
    },
    {
     "name": "stderr",
     "output_type": "stream",
     "text": [
      "/var/folders/tn/1hx74qln26x7jlmq6t6mlyqm0000gn/T/ipykernel_59585/2639462449.py:55: UserWarning: color is redundantly defined by the 'color' keyword argument and the fmt string \"b\" (-> color=(0.0, 0.0, 1.0, 1)). The keyword argument will take precedence.\n",
      "  plt.plot(base_fpr, tpr, 'b', label = 'AUC_%s = %0.2f' % (i, roc_auc), color='b')\n",
      "/var/folders/tn/1hx74qln26x7jlmq6t6mlyqm0000gn/T/ipykernel_59585/2639462449.py:55: UserWarning: color is redundantly defined by the 'color' keyword argument and the fmt string \"b\" (-> color=(0.0, 0.0, 1.0, 1)). The keyword argument will take precedence.\n",
      "  plt.plot(base_fpr, tpr, 'b', label = 'AUC_%s = %0.2f' % (i, roc_auc), color='b')\n"
     ]
    },
    {
     "name": "stdout",
     "output_type": "stream",
     "text": [
      "Iter_9_5: Model prediction complete.\n",
      "Iter_9_6: Model prediction complete.\n"
     ]
    },
    {
     "name": "stderr",
     "output_type": "stream",
     "text": [
      "/var/folders/tn/1hx74qln26x7jlmq6t6mlyqm0000gn/T/ipykernel_59585/2639462449.py:55: UserWarning: color is redundantly defined by the 'color' keyword argument and the fmt string \"b\" (-> color=(0.0, 0.0, 1.0, 1)). The keyword argument will take precedence.\n",
      "  plt.plot(base_fpr, tpr, 'b', label = 'AUC_%s = %0.2f' % (i, roc_auc), color='b')\n",
      "/var/folders/tn/1hx74qln26x7jlmq6t6mlyqm0000gn/T/ipykernel_59585/2639462449.py:55: UserWarning: color is redundantly defined by the 'color' keyword argument and the fmt string \"b\" (-> color=(0.0, 0.0, 1.0, 1)). The keyword argument will take precedence.\n",
      "  plt.plot(base_fpr, tpr, 'b', label = 'AUC_%s = %0.2f' % (i, roc_auc), color='b')\n"
     ]
    },
    {
     "name": "stdout",
     "output_type": "stream",
     "text": [
      "Iter_9_7: Model prediction complete.\n",
      "Iter_9_8: Model prediction complete.\n"
     ]
    },
    {
     "name": "stderr",
     "output_type": "stream",
     "text": [
      "/var/folders/tn/1hx74qln26x7jlmq6t6mlyqm0000gn/T/ipykernel_59585/2639462449.py:55: UserWarning: color is redundantly defined by the 'color' keyword argument and the fmt string \"b\" (-> color=(0.0, 0.0, 1.0, 1)). The keyword argument will take precedence.\n",
      "  plt.plot(base_fpr, tpr, 'b', label = 'AUC_%s = %0.2f' % (i, roc_auc), color='b')\n",
      "/var/folders/tn/1hx74qln26x7jlmq6t6mlyqm0000gn/T/ipykernel_59585/2639462449.py:55: UserWarning: color is redundantly defined by the 'color' keyword argument and the fmt string \"b\" (-> color=(0.0, 0.0, 1.0, 1)). The keyword argument will take precedence.\n",
      "  plt.plot(base_fpr, tpr, 'b', label = 'AUC_%s = %0.2f' % (i, roc_auc), color='b')\n"
     ]
    },
    {
     "name": "stdout",
     "output_type": "stream",
     "text": [
      "Iter_9_9: Model prediction complete.\n",
      "Iter_9_10: Model prediction complete.\n"
     ]
    },
    {
     "name": "stderr",
     "output_type": "stream",
     "text": [
      "/var/folders/tn/1hx74qln26x7jlmq6t6mlyqm0000gn/T/ipykernel_59585/2639462449.py:55: UserWarning: color is redundantly defined by the 'color' keyword argument and the fmt string \"b\" (-> color=(0.0, 0.0, 1.0, 1)). The keyword argument will take precedence.\n",
      "  plt.plot(base_fpr, tpr, 'b', label = 'AUC_%s = %0.2f' % (i, roc_auc), color='b')\n",
      "/var/folders/tn/1hx74qln26x7jlmq6t6mlyqm0000gn/T/ipykernel_59585/2639462449.py:55: UserWarning: color is redundantly defined by the 'color' keyword argument and the fmt string \"b\" (-> color=(0.0, 0.0, 1.0, 1)). The keyword argument will take precedence.\n",
      "  plt.plot(base_fpr, tpr, 'b', label = 'AUC_%s = %0.2f' % (i, roc_auc), color='b')\n"
     ]
    },
    {
     "name": "stdout",
     "output_type": "stream",
     "text": [
      "Iter_9_11: Model prediction complete.\n",
      "Iter_9_12: Model prediction complete.\n",
      "Iter_9: Finished concat.\n"
     ]
    },
    {
     "name": "stderr",
     "output_type": "stream",
     "text": [
      "/var/folders/tn/1hx74qln26x7jlmq6t6mlyqm0000gn/T/ipykernel_59585/2639462449.py:55: UserWarning: color is redundantly defined by the 'color' keyword argument and the fmt string \"b\" (-> color=(0.0, 0.0, 1.0, 1)). The keyword argument will take precedence.\n",
      "  plt.plot(base_fpr, tpr, 'b', label = 'AUC_%s = %0.2f' % (i, roc_auc), color='b')\n"
     ]
    },
    {
     "name": "stdout",
     "output_type": "stream",
     "text": [
      "Finished iteration: 9\n",
      "=====================================\n",
      "Beginning iteration: 10/10\n",
      "Iter_10: Preprocessing complete.\n",
      "Iter_10: Model fitting complete.\n",
      "Iter_10_1: Model prediction complete.\n",
      "Iter_10_2: Model prediction complete.\n"
     ]
    },
    {
     "name": "stderr",
     "output_type": "stream",
     "text": [
      "/var/folders/tn/1hx74qln26x7jlmq6t6mlyqm0000gn/T/ipykernel_59585/2639462449.py:55: UserWarning: color is redundantly defined by the 'color' keyword argument and the fmt string \"b\" (-> color=(0.0, 0.0, 1.0, 1)). The keyword argument will take precedence.\n",
      "  plt.plot(base_fpr, tpr, 'b', label = 'AUC_%s = %0.2f' % (i, roc_auc), color='b')\n",
      "/var/folders/tn/1hx74qln26x7jlmq6t6mlyqm0000gn/T/ipykernel_59585/2639462449.py:55: UserWarning: color is redundantly defined by the 'color' keyword argument and the fmt string \"b\" (-> color=(0.0, 0.0, 1.0, 1)). The keyword argument will take precedence.\n",
      "  plt.plot(base_fpr, tpr, 'b', label = 'AUC_%s = %0.2f' % (i, roc_auc), color='b')\n",
      "/var/folders/tn/1hx74qln26x7jlmq6t6mlyqm0000gn/T/ipykernel_59585/2639462449.py:55: UserWarning: color is redundantly defined by the 'color' keyword argument and the fmt string \"b\" (-> color=(0.0, 0.0, 1.0, 1)). The keyword argument will take precedence.\n",
      "  plt.plot(base_fpr, tpr, 'b', label = 'AUC_%s = %0.2f' % (i, roc_auc), color='b')\n"
     ]
    },
    {
     "name": "stdout",
     "output_type": "stream",
     "text": [
      "Iter_10_3: Model prediction complete.\n",
      "Iter_10_4: Model prediction complete.\n",
      "Iter_10_5: Model prediction complete.\n"
     ]
    },
    {
     "name": "stderr",
     "output_type": "stream",
     "text": [
      "/var/folders/tn/1hx74qln26x7jlmq6t6mlyqm0000gn/T/ipykernel_59585/2639462449.py:55: UserWarning: color is redundantly defined by the 'color' keyword argument and the fmt string \"b\" (-> color=(0.0, 0.0, 1.0, 1)). The keyword argument will take precedence.\n",
      "  plt.plot(base_fpr, tpr, 'b', label = 'AUC_%s = %0.2f' % (i, roc_auc), color='b')\n",
      "/var/folders/tn/1hx74qln26x7jlmq6t6mlyqm0000gn/T/ipykernel_59585/2639462449.py:55: UserWarning: color is redundantly defined by the 'color' keyword argument and the fmt string \"b\" (-> color=(0.0, 0.0, 1.0, 1)). The keyword argument will take precedence.\n",
      "  plt.plot(base_fpr, tpr, 'b', label = 'AUC_%s = %0.2f' % (i, roc_auc), color='b')\n",
      "/var/folders/tn/1hx74qln26x7jlmq6t6mlyqm0000gn/T/ipykernel_59585/2639462449.py:55: UserWarning: color is redundantly defined by the 'color' keyword argument and the fmt string \"b\" (-> color=(0.0, 0.0, 1.0, 1)). The keyword argument will take precedence.\n",
      "  plt.plot(base_fpr, tpr, 'b', label = 'AUC_%s = %0.2f' % (i, roc_auc), color='b')\n"
     ]
    },
    {
     "name": "stdout",
     "output_type": "stream",
     "text": [
      "Iter_10_6: Model prediction complete.\n",
      "Iter_10_7: Model prediction complete.\n",
      "Iter_10_8: Model prediction complete.\n"
     ]
    },
    {
     "name": "stderr",
     "output_type": "stream",
     "text": [
      "/var/folders/tn/1hx74qln26x7jlmq6t6mlyqm0000gn/T/ipykernel_59585/2639462449.py:55: UserWarning: color is redundantly defined by the 'color' keyword argument and the fmt string \"b\" (-> color=(0.0, 0.0, 1.0, 1)). The keyword argument will take precedence.\n",
      "  plt.plot(base_fpr, tpr, 'b', label = 'AUC_%s = %0.2f' % (i, roc_auc), color='b')\n",
      "/var/folders/tn/1hx74qln26x7jlmq6t6mlyqm0000gn/T/ipykernel_59585/2639462449.py:55: UserWarning: color is redundantly defined by the 'color' keyword argument and the fmt string \"b\" (-> color=(0.0, 0.0, 1.0, 1)). The keyword argument will take precedence.\n",
      "  plt.plot(base_fpr, tpr, 'b', label = 'AUC_%s = %0.2f' % (i, roc_auc), color='b')\n",
      "/var/folders/tn/1hx74qln26x7jlmq6t6mlyqm0000gn/T/ipykernel_59585/2639462449.py:55: UserWarning: color is redundantly defined by the 'color' keyword argument and the fmt string \"b\" (-> color=(0.0, 0.0, 1.0, 1)). The keyword argument will take precedence.\n",
      "  plt.plot(base_fpr, tpr, 'b', label = 'AUC_%s = %0.2f' % (i, roc_auc), color='b')\n"
     ]
    },
    {
     "name": "stdout",
     "output_type": "stream",
     "text": [
      "Iter_10_9: Model prediction complete.\n",
      "Iter_10_10: Model prediction complete.\n",
      "Iter_10_11: Model prediction complete.\n"
     ]
    },
    {
     "name": "stderr",
     "output_type": "stream",
     "text": [
      "/var/folders/tn/1hx74qln26x7jlmq6t6mlyqm0000gn/T/ipykernel_59585/2639462449.py:55: UserWarning: color is redundantly defined by the 'color' keyword argument and the fmt string \"b\" (-> color=(0.0, 0.0, 1.0, 1)). The keyword argument will take precedence.\n",
      "  plt.plot(base_fpr, tpr, 'b', label = 'AUC_%s = %0.2f' % (i, roc_auc), color='b')\n",
      "/var/folders/tn/1hx74qln26x7jlmq6t6mlyqm0000gn/T/ipykernel_59585/2639462449.py:55: UserWarning: color is redundantly defined by the 'color' keyword argument and the fmt string \"b\" (-> color=(0.0, 0.0, 1.0, 1)). The keyword argument will take precedence.\n",
      "  plt.plot(base_fpr, tpr, 'b', label = 'AUC_%s = %0.2f' % (i, roc_auc), color='b')\n",
      "/var/folders/tn/1hx74qln26x7jlmq6t6mlyqm0000gn/T/ipykernel_59585/2639462449.py:55: UserWarning: color is redundantly defined by the 'color' keyword argument and the fmt string \"b\" (-> color=(0.0, 0.0, 1.0, 1)). The keyword argument will take precedence.\n",
      "  plt.plot(base_fpr, tpr, 'b', label = 'AUC_%s = %0.2f' % (i, roc_auc), color='b')\n"
     ]
    },
    {
     "name": "stdout",
     "output_type": "stream",
     "text": [
      "Iter_10_12: Model prediction complete.\n",
      "Iter_10: Finished concat.\n",
      "Finished iteration: 10\n",
      "=====================================\n"
     ]
    },
    {
     "data": {
      "image/png": "[encoded data removed]",
      "text/plain": [
       "<Figure size 432x288 with 1 Axes>"
      ]
     },
     "metadata": {
      "needs_background": "light"
     },
     "output_type": "display_data"
    }
   ],
   "source": [
    "plt.title('ROC')\n",
    "\n",
    "base_fpr = np.linspace(0, 1, 101)\n",
    "\n",
    "def create_slice(arr):\n",
    "    tmp = arr[:,3:30].astype('float')\n",
    "    return np.concatenate((tmp[:,3:4], tmp[:,7:9], tmp[:,14:17], tmp[:,29:30]), axis=1)\n",
    "\n",
    "def create_3d_slice(arr):\n",
    "    tmp = arr[:,:,3:30].astype('float')\n",
    "    return np.concatenate((tmp[:,:,3:4] + tmp[:,:,7:9] + tmp[:,:,14:17] + tmp[:,:,29:30]), axis=1)\n",
    "\n",
    "for i in range(len(val)):\n",
    "    \n",
    "    print(\"Beginning iteration: %s/%s\" % (i+1, len(val)))\n",
    "    \n",
    "    scaler = StandardScaler()\n",
    "\n",
    "    b_X = create_slice(burnin)\n",
    "    b_y = burnin[:,-3]\n",
    "\n",
    "    b_X = b_X.astype('float')\n",
    "    b_y = b_y.astype('float').astype('bool')\n",
    "\n",
    "    b_X = scaler.fit_transform(b_X)\n",
    "\n",
    "    b_X, b_y = BorderlineSMOTE().fit_resample(b_X, b_y)\n",
    "    \n",
    "    print(\"Iter_%s: Preprocessing complete.\" %str(i+1))\n",
    "    \n",
    "    # calculate the fpr and tpr for all thresholds of the classification\n",
    "    model = LogisticRegression(solver='sag')\n",
    "    model = model.fit(b_X, b_y)\n",
    "    \n",
    "    print(\"Iter_%s: Model fitting complete.\" %str(i+1))\n",
    "    \n",
    "    for j in range(12):\n",
    "        v_X = create_slice(val_test[12*i+j,:,:])\n",
    "        v_y = val_test[i,:,-3]\n",
    "\n",
    "        v_X = v_X.astype('float')\n",
    "        v_y = v_y.astype('float').astype('bool')\n",
    "\n",
    "        v_X = scaler.fit_transform(v_X)\n",
    "\n",
    "        probs = model.predict_proba(v_X)\n",
    "\n",
    "        print(\"Iter_%s_%s: Model prediction complete.\" %(str(i+1), str(j+1)))\n",
    "\n",
    "        preds = probs[:,1]\n",
    "        _probs.append(probs)\n",
    "        fpr, tpr, threshold = metrics.roc_curve(v_y, preds)\n",
    "        tpr = np.interp(base_fpr, tpr, fpr)\n",
    "        roc_auc = metrics.auc(base_fpr, tpr)\n",
    "        plt.plot(base_fpr, tpr, 'b', label = 'AUC_%s = %0.2f' % (i, roc_auc), color='b')\n",
    "\n",
    "        tprs.append(tpr)\n",
    "        \n",
    "        aucs.append(roc_auc)\n",
    "\n",
    "    print(\"Iter_%s: Finished concat.\" %str(i+1))\n",
    "\n",
    "    burnin = np.concatenate((burnin, val[i]), axis=0)\n",
    "    \n",
    "    print(\"Finished iteration: %s\" %str(i+1))\n",
    "    print(\"=====================================\")"
   ]
  },
  {
   "cell_type": "code",
   "execution_count": 35,
   "id": "4455928f-4ab8-4467-993a-703dbc9ac850",
   "metadata": {
    "tags": []
   },
   "outputs": [
    {
     "name": "stderr",
     "output_type": "stream",
     "text": [
      "/var/folders/tn/1hx74qln26x7jlmq6t6mlyqm0000gn/T/ipykernel_59585/1633113654.py:8: UserWarning: color is redundantly defined by the 'color' keyword argument and the fmt string \"b\" (-> color=(0.0, 0.0, 1.0, 1)). The keyword argument will take precedence.\n",
      "  plt.plot(tprs[i], base_fpr, 'b', label = 'AUC_%s = %0.2f' % (i, roc_auc), color='b')\n",
      "/var/folders/tn/1hx74qln26x7jlmq6t6mlyqm0000gn/T/ipykernel_59585/1633113654.py:8: UserWarning: color is redundantly defined by the 'color' keyword argument and the fmt string \"b\" (-> color=(0.0, 0.0, 1.0, 1)). The keyword argument will take precedence.\n",
      "  plt.plot(tprs[i], base_fpr, 'b', label = 'AUC_%s = %0.2f' % (i, roc_auc), color='b')\n",
      "/var/folders/tn/1hx74qln26x7jlmq6t6mlyqm0000gn/T/ipykernel_59585/1633113654.py:8: UserWarning: color is redundantly defined by the 'color' keyword argument and the fmt string \"b\" (-> color=(0.0, 0.0, 1.0, 1)). The keyword argument will take precedence.\n",
      "  plt.plot(tprs[i], base_fpr, 'b', label = 'AUC_%s = %0.2f' % (i, roc_auc), color='b')\n",
      "/var/folders/tn/1hx74qln26x7jlmq6t6mlyqm0000gn/T/ipykernel_59585/1633113654.py:8: UserWarning: color is redundantly defined by the 'color' keyword argument and the fmt string \"b\" (-> color=(0.0, 0.0, 1.0, 1)). The keyword argument will take precedence.\n",
      "  plt.plot(tprs[i], base_fpr, 'b', label = 'AUC_%s = %0.2f' % (i, roc_auc), color='b')\n",
      "/var/folders/tn/1hx74qln26x7jlmq6t6mlyqm0000gn/T/ipykernel_59585/1633113654.py:8: UserWarning: color is redundantly defined by the 'color' keyword argument and the fmt string \"b\" (-> color=(0.0, 0.0, 1.0, 1)). The keyword argument will take precedence.\n",
      "  plt.plot(tprs[i], base_fpr, 'b', label = 'AUC_%s = %0.2f' % (i, roc_auc), color='b')\n",
      "/var/folders/tn/1hx74qln26x7jlmq6t6mlyqm0000gn/T/ipykernel_59585/1633113654.py:8: UserWarning: color is redundantly defined by the 'color' keyword argument and the fmt string \"b\" (-> color=(0.0, 0.0, 1.0, 1)). The keyword argument will take precedence.\n",
      "  plt.plot(tprs[i], base_fpr, 'b', label = 'AUC_%s = %0.2f' % (i, roc_auc), color='b')\n",
      "/var/folders/tn/1hx74qln26x7jlmq6t6mlyqm0000gn/T/ipykernel_59585/1633113654.py:8: UserWarning: color is redundantly defined by the 'color' keyword argument and the fmt string \"b\" (-> color=(0.0, 0.0, 1.0, 1)). The keyword argument will take precedence.\n",
      "  plt.plot(tprs[i], base_fpr, 'b', label = 'AUC_%s = %0.2f' % (i, roc_auc), color='b')\n",
      "/var/folders/tn/1hx74qln26x7jlmq6t6mlyqm0000gn/T/ipykernel_59585/1633113654.py:8: UserWarning: color is redundantly defined by the 'color' keyword argument and the fmt string \"b\" (-> color=(0.0, 0.0, 1.0, 1)). The keyword argument will take precedence.\n",
      "  plt.plot(tprs[i], base_fpr, 'b', label = 'AUC_%s = %0.2f' % (i, roc_auc), color='b')\n",
      "/var/folders/tn/1hx74qln26x7jlmq6t6mlyqm0000gn/T/ipykernel_59585/1633113654.py:8: UserWarning: color is redundantly defined by the 'color' keyword argument and the fmt string \"b\" (-> color=(0.0, 0.0, 1.0, 1)). The keyword argument will take precedence.\n",
      "  plt.plot(tprs[i], base_fpr, 'b', label = 'AUC_%s = %0.2f' % (i, roc_auc), color='b')\n",
      "/var/folders/tn/1hx74qln26x7jlmq6t6mlyqm0000gn/T/ipykernel_59585/1633113654.py:8: UserWarning: color is redundantly defined by the 'color' keyword argument and the fmt string \"b\" (-> color=(0.0, 0.0, 1.0, 1)). The keyword argument will take precedence.\n",
      "  plt.plot(tprs[i], base_fpr, 'b', label = 'AUC_%s = %0.2f' % (i, roc_auc), color='b')\n",
      "/var/folders/tn/1hx74qln26x7jlmq6t6mlyqm0000gn/T/ipykernel_59585/1633113654.py:8: UserWarning: color is redundantly defined by the 'color' keyword argument and the fmt string \"b\" (-> color=(0.0, 0.0, 1.0, 1)). The keyword argument will take precedence.\n",
      "  plt.plot(tprs[i], base_fpr, 'b', label = 'AUC_%s = %0.2f' % (i, roc_auc), color='b')\n",
      "/var/folders/tn/1hx74qln26x7jlmq6t6mlyqm0000gn/T/ipykernel_59585/1633113654.py:8: UserWarning: color is redundantly defined by the 'color' keyword argument and the fmt string \"b\" (-> color=(0.0, 0.0, 1.0, 1)). The keyword argument will take precedence.\n",
      "  plt.plot(tprs[i], base_fpr, 'b', label = 'AUC_%s = %0.2f' % (i, roc_auc), color='b')\n",
      "/var/folders/tn/1hx74qln26x7jlmq6t6mlyqm0000gn/T/ipykernel_59585/1633113654.py:8: UserWarning: color is redundantly defined by the 'color' keyword argument and the fmt string \"b\" (-> color=(0.0, 0.0, 1.0, 1)). The keyword argument will take precedence.\n",
      "  plt.plot(tprs[i], base_fpr, 'b', label = 'AUC_%s = %0.2f' % (i, roc_auc), color='b')\n",
      "/var/folders/tn/1hx74qln26x7jlmq6t6mlyqm0000gn/T/ipykernel_59585/1633113654.py:8: UserWarning: color is redundantly defined by the 'color' keyword argument and the fmt string \"b\" (-> color=(0.0, 0.0, 1.0, 1)). The keyword argument will take precedence.\n",
      "  plt.plot(tprs[i], base_fpr, 'b', label = 'AUC_%s = %0.2f' % (i, roc_auc), color='b')\n",
      "/var/folders/tn/1hx74qln26x7jlmq6t6mlyqm0000gn/T/ipykernel_59585/1633113654.py:8: UserWarning: color is redundantly defined by the 'color' keyword argument and the fmt string \"b\" (-> color=(0.0, 0.0, 1.0, 1)). The keyword argument will take precedence.\n",
      "  plt.plot(tprs[i], base_fpr, 'b', label = 'AUC_%s = %0.2f' % (i, roc_auc), color='b')\n",
      "/var/folders/tn/1hx74qln26x7jlmq6t6mlyqm0000gn/T/ipykernel_59585/1633113654.py:8: UserWarning: color is redundantly defined by the 'color' keyword argument and the fmt string \"b\" (-> color=(0.0, 0.0, 1.0, 1)). The keyword argument will take precedence.\n",
      "  plt.plot(tprs[i], base_fpr, 'b', label = 'AUC_%s = %0.2f' % (i, roc_auc), color='b')\n",
      "/var/folders/tn/1hx74qln26x7jlmq6t6mlyqm0000gn/T/ipykernel_59585/1633113654.py:8: UserWarning: color is redundantly defined by the 'color' keyword argument and the fmt string \"b\" (-> color=(0.0, 0.0, 1.0, 1)). The keyword argument will take precedence.\n",
      "  plt.plot(tprs[i], base_fpr, 'b', label = 'AUC_%s = %0.2f' % (i, roc_auc), color='b')\n",
      "/var/folders/tn/1hx74qln26x7jlmq6t6mlyqm0000gn/T/ipykernel_59585/1633113654.py:8: UserWarning: color is redundantly defined by the 'color' keyword argument and the fmt string \"b\" (-> color=(0.0, 0.0, 1.0, 1)). The keyword argument will take precedence.\n",
      "  plt.plot(tprs[i], base_fpr, 'b', label = 'AUC_%s = %0.2f' % (i, roc_auc), color='b')\n",
      "/var/folders/tn/1hx74qln26x7jlmq6t6mlyqm0000gn/T/ipykernel_59585/1633113654.py:8: UserWarning: color is redundantly defined by the 'color' keyword argument and the fmt string \"b\" (-> color=(0.0, 0.0, 1.0, 1)). The keyword argument will take precedence.\n",
      "  plt.plot(tprs[i], base_fpr, 'b', label = 'AUC_%s = %0.2f' % (i, roc_auc), color='b')\n",
      "/var/folders/tn/1hx74qln26x7jlmq6t6mlyqm0000gn/T/ipykernel_59585/1633113654.py:8: UserWarning: color is redundantly defined by the 'color' keyword argument and the fmt string \"b\" (-> color=(0.0, 0.0, 1.0, 1)). The keyword argument will take precedence.\n",
      "  plt.plot(tprs[i], base_fpr, 'b', label = 'AUC_%s = %0.2f' % (i, roc_auc), color='b')\n",
      "/var/folders/tn/1hx74qln26x7jlmq6t6mlyqm0000gn/T/ipykernel_59585/1633113654.py:8: UserWarning: color is redundantly defined by the 'color' keyword argument and the fmt string \"b\" (-> color=(0.0, 0.0, 1.0, 1)). The keyword argument will take precedence.\n",
      "  plt.plot(tprs[i], base_fpr, 'b', label = 'AUC_%s = %0.2f' % (i, roc_auc), color='b')\n",
      "/var/folders/tn/1hx74qln26x7jlmq6t6mlyqm0000gn/T/ipykernel_59585/1633113654.py:8: UserWarning: color is redundantly defined by the 'color' keyword argument and the fmt string \"b\" (-> color=(0.0, 0.0, 1.0, 1)). The keyword argument will take precedence.\n",
      "  plt.plot(tprs[i], base_fpr, 'b', label = 'AUC_%s = %0.2f' % (i, roc_auc), color='b')\n",
      "/var/folders/tn/1hx74qln26x7jlmq6t6mlyqm0000gn/T/ipykernel_59585/1633113654.py:8: UserWarning: color is redundantly defined by the 'color' keyword argument and the fmt string \"b\" (-> color=(0.0, 0.0, 1.0, 1)). The keyword argument will take precedence.\n",
      "  plt.plot(tprs[i], base_fpr, 'b', label = 'AUC_%s = %0.2f' % (i, roc_auc), color='b')\n",
      "/var/folders/tn/1hx74qln26x7jlmq6t6mlyqm0000gn/T/ipykernel_59585/1633113654.py:8: UserWarning: color is redundantly defined by the 'color' keyword argument and the fmt string \"b\" (-> color=(0.0, 0.0, 1.0, 1)). The keyword argument will take precedence.\n",
      "  plt.plot(tprs[i], base_fpr, 'b', label = 'AUC_%s = %0.2f' % (i, roc_auc), color='b')\n",
      "/var/folders/tn/1hx74qln26x7jlmq6t6mlyqm0000gn/T/ipykernel_59585/1633113654.py:8: UserWarning: color is redundantly defined by the 'color' keyword argument and the fmt string \"b\" (-> color=(0.0, 0.0, 1.0, 1)). The keyword argument will take precedence.\n",
      "  plt.plot(tprs[i], base_fpr, 'b', label = 'AUC_%s = %0.2f' % (i, roc_auc), color='b')\n",
      "/var/folders/tn/1hx74qln26x7jlmq6t6mlyqm0000gn/T/ipykernel_59585/1633113654.py:8: UserWarning: color is redundantly defined by the 'color' keyword argument and the fmt string \"b\" (-> color=(0.0, 0.0, 1.0, 1)). The keyword argument will take precedence.\n",
      "  plt.plot(tprs[i], base_fpr, 'b', label = 'AUC_%s = %0.2f' % (i, roc_auc), color='b')\n",
      "/var/folders/tn/1hx74qln26x7jlmq6t6mlyqm0000gn/T/ipykernel_59585/1633113654.py:8: UserWarning: color is redundantly defined by the 'color' keyword argument and the fmt string \"b\" (-> color=(0.0, 0.0, 1.0, 1)). The keyword argument will take precedence.\n",
      "  plt.plot(tprs[i], base_fpr, 'b', label = 'AUC_%s = %0.2f' % (i, roc_auc), color='b')\n",
      "/var/folders/tn/1hx74qln26x7jlmq6t6mlyqm0000gn/T/ipykernel_59585/1633113654.py:8: UserWarning: color is redundantly defined by the 'color' keyword argument and the fmt string \"b\" (-> color=(0.0, 0.0, 1.0, 1)). The keyword argument will take precedence.\n",
      "  plt.plot(tprs[i], base_fpr, 'b', label = 'AUC_%s = %0.2f' % (i, roc_auc), color='b')\n",
      "/var/folders/tn/1hx74qln26x7jlmq6t6mlyqm0000gn/T/ipykernel_59585/1633113654.py:8: UserWarning: color is redundantly defined by the 'color' keyword argument and the fmt string \"b\" (-> color=(0.0, 0.0, 1.0, 1)). The keyword argument will take precedence.\n",
      "  plt.plot(tprs[i], base_fpr, 'b', label = 'AUC_%s = %0.2f' % (i, roc_auc), color='b')\n",
      "/var/folders/tn/1hx74qln26x7jlmq6t6mlyqm0000gn/T/ipykernel_59585/1633113654.py:8: UserWarning: color is redundantly defined by the 'color' keyword argument and the fmt string \"b\" (-> color=(0.0, 0.0, 1.0, 1)). The keyword argument will take precedence.\n",
      "  plt.plot(tprs[i], base_fpr, 'b', label = 'AUC_%s = %0.2f' % (i, roc_auc), color='b')\n",
      "/var/folders/tn/1hx74qln26x7jlmq6t6mlyqm0000gn/T/ipykernel_59585/1633113654.py:8: UserWarning: color is redundantly defined by the 'color' keyword argument and the fmt string \"b\" (-> color=(0.0, 0.0, 1.0, 1)). The keyword argument will take precedence.\n",
      "  plt.plot(tprs[i], base_fpr, 'b', label = 'AUC_%s = %0.2f' % (i, roc_auc), color='b')\n",
      "/var/folders/tn/1hx74qln26x7jlmq6t6mlyqm0000gn/T/ipykernel_59585/1633113654.py:8: UserWarning: color is redundantly defined by the 'color' keyword argument and the fmt string \"b\" (-> color=(0.0, 0.0, 1.0, 1)). The keyword argument will take precedence.\n",
      "  plt.plot(tprs[i], base_fpr, 'b', label = 'AUC_%s = %0.2f' % (i, roc_auc), color='b')\n",
      "/var/folders/tn/1hx74qln26x7jlmq6t6mlyqm0000gn/T/ipykernel_59585/1633113654.py:8: UserWarning: color is redundantly defined by the 'color' keyword argument and the fmt string \"b\" (-> color=(0.0, 0.0, 1.0, 1)). The keyword argument will take precedence.\n",
      "  plt.plot(tprs[i], base_fpr, 'b', label = 'AUC_%s = %0.2f' % (i, roc_auc), color='b')\n",
      "/var/folders/tn/1hx74qln26x7jlmq6t6mlyqm0000gn/T/ipykernel_59585/1633113654.py:8: UserWarning: color is redundantly defined by the 'color' keyword argument and the fmt string \"b\" (-> color=(0.0, 0.0, 1.0, 1)). The keyword argument will take precedence.\n",
      "  plt.plot(tprs[i], base_fpr, 'b', label = 'AUC_%s = %0.2f' % (i, roc_auc), color='b')\n",
      "/var/folders/tn/1hx74qln26x7jlmq6t6mlyqm0000gn/T/ipykernel_59585/1633113654.py:8: UserWarning: color is redundantly defined by the 'color' keyword argument and the fmt string \"b\" (-> color=(0.0, 0.0, 1.0, 1)). The keyword argument will take precedence.\n",
      "  plt.plot(tprs[i], base_fpr, 'b', label = 'AUC_%s = %0.2f' % (i, roc_auc), color='b')\n",
      "/var/folders/tn/1hx74qln26x7jlmq6t6mlyqm0000gn/T/ipykernel_59585/1633113654.py:8: UserWarning: color is redundantly defined by the 'color' keyword argument and the fmt string \"b\" (-> color=(0.0, 0.0, 1.0, 1)). The keyword argument will take precedence.\n",
      "  plt.plot(tprs[i], base_fpr, 'b', label = 'AUC_%s = %0.2f' % (i, roc_auc), color='b')\n",
      "/var/folders/tn/1hx74qln26x7jlmq6t6mlyqm0000gn/T/ipykernel_59585/1633113654.py:8: UserWarning: color is redundantly defined by the 'color' keyword argument and the fmt string \"b\" (-> color=(0.0, 0.0, 1.0, 1)). The keyword argument will take precedence.\n",
      "  plt.plot(tprs[i], base_fpr, 'b', label = 'AUC_%s = %0.2f' % (i, roc_auc), color='b')\n",
      "/var/folders/tn/1hx74qln26x7jlmq6t6mlyqm0000gn/T/ipykernel_59585/1633113654.py:8: UserWarning: color is redundantly defined by the 'color' keyword argument and the fmt string \"b\" (-> color=(0.0, 0.0, 1.0, 1)). The keyword argument will take precedence.\n",
      "  plt.plot(tprs[i], base_fpr, 'b', label = 'AUC_%s = %0.2f' % (i, roc_auc), color='b')\n",
      "/var/folders/tn/1hx74qln26x7jlmq6t6mlyqm0000gn/T/ipykernel_59585/1633113654.py:8: UserWarning: color is redundantly defined by the 'color' keyword argument and the fmt string \"b\" (-> color=(0.0, 0.0, 1.0, 1)). The keyword argument will take precedence.\n",
      "  plt.plot(tprs[i], base_fpr, 'b', label = 'AUC_%s = %0.2f' % (i, roc_auc), color='b')\n",
      "/var/folders/tn/1hx74qln26x7jlmq6t6mlyqm0000gn/T/ipykernel_59585/1633113654.py:8: UserWarning: color is redundantly defined by the 'color' keyword argument and the fmt string \"b\" (-> color=(0.0, 0.0, 1.0, 1)). The keyword argument will take precedence.\n",
      "  plt.plot(tprs[i], base_fpr, 'b', label = 'AUC_%s = %0.2f' % (i, roc_auc), color='b')\n",
      "/var/folders/tn/1hx74qln26x7jlmq6t6mlyqm0000gn/T/ipykernel_59585/1633113654.py:8: UserWarning: color is redundantly defined by the 'color' keyword argument and the fmt string \"b\" (-> color=(0.0, 0.0, 1.0, 1)). The keyword argument will take precedence.\n",
      "  plt.plot(tprs[i], base_fpr, 'b', label = 'AUC_%s = %0.2f' % (i, roc_auc), color='b')\n",
      "/var/folders/tn/1hx74qln26x7jlmq6t6mlyqm0000gn/T/ipykernel_59585/1633113654.py:8: UserWarning: color is redundantly defined by the 'color' keyword argument and the fmt string \"b\" (-> color=(0.0, 0.0, 1.0, 1)). The keyword argument will take precedence.\n",
      "  plt.plot(tprs[i], base_fpr, 'b', label = 'AUC_%s = %0.2f' % (i, roc_auc), color='b')\n",
      "/var/folders/tn/1hx74qln26x7jlmq6t6mlyqm0000gn/T/ipykernel_59585/1633113654.py:8: UserWarning: color is redundantly defined by the 'color' keyword argument and the fmt string \"b\" (-> color=(0.0, 0.0, 1.0, 1)). The keyword argument will take precedence.\n",
      "  plt.plot(tprs[i], base_fpr, 'b', label = 'AUC_%s = %0.2f' % (i, roc_auc), color='b')\n",
      "/var/folders/tn/1hx74qln26x7jlmq6t6mlyqm0000gn/T/ipykernel_59585/1633113654.py:8: UserWarning: color is redundantly defined by the 'color' keyword argument and the fmt string \"b\" (-> color=(0.0, 0.0, 1.0, 1)). The keyword argument will take precedence.\n",
      "  plt.plot(tprs[i], base_fpr, 'b', label = 'AUC_%s = %0.2f' % (i, roc_auc), color='b')\n",
      "/var/folders/tn/1hx74qln26x7jlmq6t6mlyqm0000gn/T/ipykernel_59585/1633113654.py:8: UserWarning: color is redundantly defined by the 'color' keyword argument and the fmt string \"b\" (-> color=(0.0, 0.0, 1.0, 1)). The keyword argument will take precedence.\n",
      "  plt.plot(tprs[i], base_fpr, 'b', label = 'AUC_%s = %0.2f' % (i, roc_auc), color='b')\n",
      "/var/folders/tn/1hx74qln26x7jlmq6t6mlyqm0000gn/T/ipykernel_59585/1633113654.py:8: UserWarning: color is redundantly defined by the 'color' keyword argument and the fmt string \"b\" (-> color=(0.0, 0.0, 1.0, 1)). The keyword argument will take precedence.\n",
      "  plt.plot(tprs[i], base_fpr, 'b', label = 'AUC_%s = %0.2f' % (i, roc_auc), color='b')\n",
      "/var/folders/tn/1hx74qln26x7jlmq6t6mlyqm0000gn/T/ipykernel_59585/1633113654.py:8: UserWarning: color is redundantly defined by the 'color' keyword argument and the fmt string \"b\" (-> color=(0.0, 0.0, 1.0, 1)). The keyword argument will take precedence.\n",
      "  plt.plot(tprs[i], base_fpr, 'b', label = 'AUC_%s = %0.2f' % (i, roc_auc), color='b')\n",
      "/var/folders/tn/1hx74qln26x7jlmq6t6mlyqm0000gn/T/ipykernel_59585/1633113654.py:8: UserWarning: color is redundantly defined by the 'color' keyword argument and the fmt string \"b\" (-> color=(0.0, 0.0, 1.0, 1)). The keyword argument will take precedence.\n",
      "  plt.plot(tprs[i], base_fpr, 'b', label = 'AUC_%s = %0.2f' % (i, roc_auc), color='b')\n",
      "/var/folders/tn/1hx74qln26x7jlmq6t6mlyqm0000gn/T/ipykernel_59585/1633113654.py:8: UserWarning: color is redundantly defined by the 'color' keyword argument and the fmt string \"b\" (-> color=(0.0, 0.0, 1.0, 1)). The keyword argument will take precedence.\n",
      "  plt.plot(tprs[i], base_fpr, 'b', label = 'AUC_%s = %0.2f' % (i, roc_auc), color='b')\n",
      "/var/folders/tn/1hx74qln26x7jlmq6t6mlyqm0000gn/T/ipykernel_59585/1633113654.py:8: UserWarning: color is redundantly defined by the 'color' keyword argument and the fmt string \"b\" (-> color=(0.0, 0.0, 1.0, 1)). The keyword argument will take precedence.\n",
      "  plt.plot(tprs[i], base_fpr, 'b', label = 'AUC_%s = %0.2f' % (i, roc_auc), color='b')\n",
      "/var/folders/tn/1hx74qln26x7jlmq6t6mlyqm0000gn/T/ipykernel_59585/1633113654.py:8: UserWarning: color is redundantly defined by the 'color' keyword argument and the fmt string \"b\" (-> color=(0.0, 0.0, 1.0, 1)). The keyword argument will take precedence.\n",
      "  plt.plot(tprs[i], base_fpr, 'b', label = 'AUC_%s = %0.2f' % (i, roc_auc), color='b')\n",
      "/var/folders/tn/1hx74qln26x7jlmq6t6mlyqm0000gn/T/ipykernel_59585/1633113654.py:8: UserWarning: color is redundantly defined by the 'color' keyword argument and the fmt string \"b\" (-> color=(0.0, 0.0, 1.0, 1)). The keyword argument will take precedence.\n",
      "  plt.plot(tprs[i], base_fpr, 'b', label = 'AUC_%s = %0.2f' % (i, roc_auc), color='b')\n",
      "/var/folders/tn/1hx74qln26x7jlmq6t6mlyqm0000gn/T/ipykernel_59585/1633113654.py:8: UserWarning: color is redundantly defined by the 'color' keyword argument and the fmt string \"b\" (-> color=(0.0, 0.0, 1.0, 1)). The keyword argument will take precedence.\n",
      "  plt.plot(tprs[i], base_fpr, 'b', label = 'AUC_%s = %0.2f' % (i, roc_auc), color='b')\n",
      "/var/folders/tn/1hx74qln26x7jlmq6t6mlyqm0000gn/T/ipykernel_59585/1633113654.py:8: UserWarning: color is redundantly defined by the 'color' keyword argument and the fmt string \"b\" (-> color=(0.0, 0.0, 1.0, 1)). The keyword argument will take precedence.\n",
      "  plt.plot(tprs[i], base_fpr, 'b', label = 'AUC_%s = %0.2f' % (i, roc_auc), color='b')\n",
      "/var/folders/tn/1hx74qln26x7jlmq6t6mlyqm0000gn/T/ipykernel_59585/1633113654.py:8: UserWarning: color is redundantly defined by the 'color' keyword argument and the fmt string \"b\" (-> color=(0.0, 0.0, 1.0, 1)). The keyword argument will take precedence.\n",
      "  plt.plot(tprs[i], base_fpr, 'b', label = 'AUC_%s = %0.2f' % (i, roc_auc), color='b')\n",
      "/var/folders/tn/1hx74qln26x7jlmq6t6mlyqm0000gn/T/ipykernel_59585/1633113654.py:8: UserWarning: color is redundantly defined by the 'color' keyword argument and the fmt string \"b\" (-> color=(0.0, 0.0, 1.0, 1)). The keyword argument will take precedence.\n",
      "  plt.plot(tprs[i], base_fpr, 'b', label = 'AUC_%s = %0.2f' % (i, roc_auc), color='b')\n",
      "/var/folders/tn/1hx74qln26x7jlmq6t6mlyqm0000gn/T/ipykernel_59585/1633113654.py:8: UserWarning: color is redundantly defined by the 'color' keyword argument and the fmt string \"b\" (-> color=(0.0, 0.0, 1.0, 1)). The keyword argument will take precedence.\n",
      "  plt.plot(tprs[i], base_fpr, 'b', label = 'AUC_%s = %0.2f' % (i, roc_auc), color='b')\n",
      "/var/folders/tn/1hx74qln26x7jlmq6t6mlyqm0000gn/T/ipykernel_59585/1633113654.py:8: UserWarning: color is redundantly defined by the 'color' keyword argument and the fmt string \"b\" (-> color=(0.0, 0.0, 1.0, 1)). The keyword argument will take precedence.\n",
      "  plt.plot(tprs[i], base_fpr, 'b', label = 'AUC_%s = %0.2f' % (i, roc_auc), color='b')\n",
      "/var/folders/tn/1hx74qln26x7jlmq6t6mlyqm0000gn/T/ipykernel_59585/1633113654.py:8: UserWarning: color is redundantly defined by the 'color' keyword argument and the fmt string \"b\" (-> color=(0.0, 0.0, 1.0, 1)). The keyword argument will take precedence.\n",
      "  plt.plot(tprs[i], base_fpr, 'b', label = 'AUC_%s = %0.2f' % (i, roc_auc), color='b')\n",
      "/var/folders/tn/1hx74qln26x7jlmq6t6mlyqm0000gn/T/ipykernel_59585/1633113654.py:8: UserWarning: color is redundantly defined by the 'color' keyword argument and the fmt string \"b\" (-> color=(0.0, 0.0, 1.0, 1)). The keyword argument will take precedence.\n",
      "  plt.plot(tprs[i], base_fpr, 'b', label = 'AUC_%s = %0.2f' % (i, roc_auc), color='b')\n",
      "/var/folders/tn/1hx74qln26x7jlmq6t6mlyqm0000gn/T/ipykernel_59585/1633113654.py:8: UserWarning: color is redundantly defined by the 'color' keyword argument and the fmt string \"b\" (-> color=(0.0, 0.0, 1.0, 1)). The keyword argument will take precedence.\n",
      "  plt.plot(tprs[i], base_fpr, 'b', label = 'AUC_%s = %0.2f' % (i, roc_auc), color='b')\n",
      "/var/folders/tn/1hx74qln26x7jlmq6t6mlyqm0000gn/T/ipykernel_59585/1633113654.py:8: UserWarning: color is redundantly defined by the 'color' keyword argument and the fmt string \"b\" (-> color=(0.0, 0.0, 1.0, 1)). The keyword argument will take precedence.\n",
      "  plt.plot(tprs[i], base_fpr, 'b', label = 'AUC_%s = %0.2f' % (i, roc_auc), color='b')\n",
      "/var/folders/tn/1hx74qln26x7jlmq6t6mlyqm0000gn/T/ipykernel_59585/1633113654.py:8: UserWarning: color is redundantly defined by the 'color' keyword argument and the fmt string \"b\" (-> color=(0.0, 0.0, 1.0, 1)). The keyword argument will take precedence.\n",
      "  plt.plot(tprs[i], base_fpr, 'b', label = 'AUC_%s = %0.2f' % (i, roc_auc), color='b')\n",
      "/var/folders/tn/1hx74qln26x7jlmq6t6mlyqm0000gn/T/ipykernel_59585/1633113654.py:8: UserWarning: color is redundantly defined by the 'color' keyword argument and the fmt string \"b\" (-> color=(0.0, 0.0, 1.0, 1)). The keyword argument will take precedence.\n",
      "  plt.plot(tprs[i], base_fpr, 'b', label = 'AUC_%s = %0.2f' % (i, roc_auc), color='b')\n",
      "/var/folders/tn/1hx74qln26x7jlmq6t6mlyqm0000gn/T/ipykernel_59585/1633113654.py:8: UserWarning: color is redundantly defined by the 'color' keyword argument and the fmt string \"b\" (-> color=(0.0, 0.0, 1.0, 1)). The keyword argument will take precedence.\n",
      "  plt.plot(tprs[i], base_fpr, 'b', label = 'AUC_%s = %0.2f' % (i, roc_auc), color='b')\n",
      "/var/folders/tn/1hx74qln26x7jlmq6t6mlyqm0000gn/T/ipykernel_59585/1633113654.py:8: UserWarning: color is redundantly defined by the 'color' keyword argument and the fmt string \"b\" (-> color=(0.0, 0.0, 1.0, 1)). The keyword argument will take precedence.\n",
      "  plt.plot(tprs[i], base_fpr, 'b', label = 'AUC_%s = %0.2f' % (i, roc_auc), color='b')\n",
      "/var/folders/tn/1hx74qln26x7jlmq6t6mlyqm0000gn/T/ipykernel_59585/1633113654.py:8: UserWarning: color is redundantly defined by the 'color' keyword argument and the fmt string \"b\" (-> color=(0.0, 0.0, 1.0, 1)). The keyword argument will take precedence.\n",
      "  plt.plot(tprs[i], base_fpr, 'b', label = 'AUC_%s = %0.2f' % (i, roc_auc), color='b')\n",
      "/var/folders/tn/1hx74qln26x7jlmq6t6mlyqm0000gn/T/ipykernel_59585/1633113654.py:8: UserWarning: color is redundantly defined by the 'color' keyword argument and the fmt string \"b\" (-> color=(0.0, 0.0, 1.0, 1)). The keyword argument will take precedence.\n",
      "  plt.plot(tprs[i], base_fpr, 'b', label = 'AUC_%s = %0.2f' % (i, roc_auc), color='b')\n",
      "/var/folders/tn/1hx74qln26x7jlmq6t6mlyqm0000gn/T/ipykernel_59585/1633113654.py:8: UserWarning: color is redundantly defined by the 'color' keyword argument and the fmt string \"b\" (-> color=(0.0, 0.0, 1.0, 1)). The keyword argument will take precedence.\n",
      "  plt.plot(tprs[i], base_fpr, 'b', label = 'AUC_%s = %0.2f' % (i, roc_auc), color='b')\n",
      "/var/folders/tn/1hx74qln26x7jlmq6t6mlyqm0000gn/T/ipykernel_59585/1633113654.py:8: UserWarning: color is redundantly defined by the 'color' keyword argument and the fmt string \"b\" (-> color=(0.0, 0.0, 1.0, 1)). The keyword argument will take precedence.\n",
      "  plt.plot(tprs[i], base_fpr, 'b', label = 'AUC_%s = %0.2f' % (i, roc_auc), color='b')\n",
      "/var/folders/tn/1hx74qln26x7jlmq6t6mlyqm0000gn/T/ipykernel_59585/1633113654.py:8: UserWarning: color is redundantly defined by the 'color' keyword argument and the fmt string \"b\" (-> color=(0.0, 0.0, 1.0, 1)). The keyword argument will take precedence.\n",
      "  plt.plot(tprs[i], base_fpr, 'b', label = 'AUC_%s = %0.2f' % (i, roc_auc), color='b')\n",
      "/var/folders/tn/1hx74qln26x7jlmq6t6mlyqm0000gn/T/ipykernel_59585/1633113654.py:8: UserWarning: color is redundantly defined by the 'color' keyword argument and the fmt string \"b\" (-> color=(0.0, 0.0, 1.0, 1)). The keyword argument will take precedence.\n",
      "  plt.plot(tprs[i], base_fpr, 'b', label = 'AUC_%s = %0.2f' % (i, roc_auc), color='b')\n",
      "/var/folders/tn/1hx74qln26x7jlmq6t6mlyqm0000gn/T/ipykernel_59585/1633113654.py:8: UserWarning: color is redundantly defined by the 'color' keyword argument and the fmt string \"b\" (-> color=(0.0, 0.0, 1.0, 1)). The keyword argument will take precedence.\n",
      "  plt.plot(tprs[i], base_fpr, 'b', label = 'AUC_%s = %0.2f' % (i, roc_auc), color='b')\n",
      "/var/folders/tn/1hx74qln26x7jlmq6t6mlyqm0000gn/T/ipykernel_59585/1633113654.py:8: UserWarning: color is redundantly defined by the 'color' keyword argument and the fmt string \"b\" (-> color=(0.0, 0.0, 1.0, 1)). The keyword argument will take precedence.\n",
      "  plt.plot(tprs[i], base_fpr, 'b', label = 'AUC_%s = %0.2f' % (i, roc_auc), color='b')\n",
      "/var/folders/tn/1hx74qln26x7jlmq6t6mlyqm0000gn/T/ipykernel_59585/1633113654.py:8: UserWarning: color is redundantly defined by the 'color' keyword argument and the fmt string \"b\" (-> color=(0.0, 0.0, 1.0, 1)). The keyword argument will take precedence.\n",
      "  plt.plot(tprs[i], base_fpr, 'b', label = 'AUC_%s = %0.2f' % (i, roc_auc), color='b')\n",
      "/var/folders/tn/1hx74qln26x7jlmq6t6mlyqm0000gn/T/ipykernel_59585/1633113654.py:8: UserWarning: color is redundantly defined by the 'color' keyword argument and the fmt string \"b\" (-> color=(0.0, 0.0, 1.0, 1)). The keyword argument will take precedence.\n",
      "  plt.plot(tprs[i], base_fpr, 'b', label = 'AUC_%s = %0.2f' % (i, roc_auc), color='b')\n",
      "/var/folders/tn/1hx74qln26x7jlmq6t6mlyqm0000gn/T/ipykernel_59585/1633113654.py:8: UserWarning: color is redundantly defined by the 'color' keyword argument and the fmt string \"b\" (-> color=(0.0, 0.0, 1.0, 1)). The keyword argument will take precedence.\n",
      "  plt.plot(tprs[i], base_fpr, 'b', label = 'AUC_%s = %0.2f' % (i, roc_auc), color='b')\n",
      "/var/folders/tn/1hx74qln26x7jlmq6t6mlyqm0000gn/T/ipykernel_59585/1633113654.py:8: UserWarning: color is redundantly defined by the 'color' keyword argument and the fmt string \"b\" (-> color=(0.0, 0.0, 1.0, 1)). The keyword argument will take precedence.\n",
      "  plt.plot(tprs[i], base_fpr, 'b', label = 'AUC_%s = %0.2f' % (i, roc_auc), color='b')\n",
      "/var/folders/tn/1hx74qln26x7jlmq6t6mlyqm0000gn/T/ipykernel_59585/1633113654.py:8: UserWarning: color is redundantly defined by the 'color' keyword argument and the fmt string \"b\" (-> color=(0.0, 0.0, 1.0, 1)). The keyword argument will take precedence.\n",
      "  plt.plot(tprs[i], base_fpr, 'b', label = 'AUC_%s = %0.2f' % (i, roc_auc), color='b')\n",
      "/var/folders/tn/1hx74qln26x7jlmq6t6mlyqm0000gn/T/ipykernel_59585/1633113654.py:8: UserWarning: color is redundantly defined by the 'color' keyword argument and the fmt string \"b\" (-> color=(0.0, 0.0, 1.0, 1)). The keyword argument will take precedence.\n",
      "  plt.plot(tprs[i], base_fpr, 'b', label = 'AUC_%s = %0.2f' % (i, roc_auc), color='b')\n",
      "/var/folders/tn/1hx74qln26x7jlmq6t6mlyqm0000gn/T/ipykernel_59585/1633113654.py:8: UserWarning: color is redundantly defined by the 'color' keyword argument and the fmt string \"b\" (-> color=(0.0, 0.0, 1.0, 1)). The keyword argument will take precedence.\n",
      "  plt.plot(tprs[i], base_fpr, 'b', label = 'AUC_%s = %0.2f' % (i, roc_auc), color='b')\n",
      "/var/folders/tn/1hx74qln26x7jlmq6t6mlyqm0000gn/T/ipykernel_59585/1633113654.py:8: UserWarning: color is redundantly defined by the 'color' keyword argument and the fmt string \"b\" (-> color=(0.0, 0.0, 1.0, 1)). The keyword argument will take precedence.\n",
      "  plt.plot(tprs[i], base_fpr, 'b', label = 'AUC_%s = %0.2f' % (i, roc_auc), color='b')\n",
      "/var/folders/tn/1hx74qln26x7jlmq6t6mlyqm0000gn/T/ipykernel_59585/1633113654.py:8: UserWarning: color is redundantly defined by the 'color' keyword argument and the fmt string \"b\" (-> color=(0.0, 0.0, 1.0, 1)). The keyword argument will take precedence.\n",
      "  plt.plot(tprs[i], base_fpr, 'b', label = 'AUC_%s = %0.2f' % (i, roc_auc), color='b')\n",
      "/var/folders/tn/1hx74qln26x7jlmq6t6mlyqm0000gn/T/ipykernel_59585/1633113654.py:8: UserWarning: color is redundantly defined by the 'color' keyword argument and the fmt string \"b\" (-> color=(0.0, 0.0, 1.0, 1)). The keyword argument will take precedence.\n",
      "  plt.plot(tprs[i], base_fpr, 'b', label = 'AUC_%s = %0.2f' % (i, roc_auc), color='b')\n",
      "/var/folders/tn/1hx74qln26x7jlmq6t6mlyqm0000gn/T/ipykernel_59585/1633113654.py:8: UserWarning: color is redundantly defined by the 'color' keyword argument and the fmt string \"b\" (-> color=(0.0, 0.0, 1.0, 1)). The keyword argument will take precedence.\n",
      "  plt.plot(tprs[i], base_fpr, 'b', label = 'AUC_%s = %0.2f' % (i, roc_auc), color='b')\n",
      "/var/folders/tn/1hx74qln26x7jlmq6t6mlyqm0000gn/T/ipykernel_59585/1633113654.py:8: UserWarning: color is redundantly defined by the 'color' keyword argument and the fmt string \"b\" (-> color=(0.0, 0.0, 1.0, 1)). The keyword argument will take precedence.\n",
      "  plt.plot(tprs[i], base_fpr, 'b', label = 'AUC_%s = %0.2f' % (i, roc_auc), color='b')\n",
      "/var/folders/tn/1hx74qln26x7jlmq6t6mlyqm0000gn/T/ipykernel_59585/1633113654.py:8: UserWarning: color is redundantly defined by the 'color' keyword argument and the fmt string \"b\" (-> color=(0.0, 0.0, 1.0, 1)). The keyword argument will take precedence.\n",
      "  plt.plot(tprs[i], base_fpr, 'b', label = 'AUC_%s = %0.2f' % (i, roc_auc), color='b')\n",
      "/var/folders/tn/1hx74qln26x7jlmq6t6mlyqm0000gn/T/ipykernel_59585/1633113654.py:8: UserWarning: color is redundantly defined by the 'color' keyword argument and the fmt string \"b\" (-> color=(0.0, 0.0, 1.0, 1)). The keyword argument will take precedence.\n",
      "  plt.plot(tprs[i], base_fpr, 'b', label = 'AUC_%s = %0.2f' % (i, roc_auc), color='b')\n",
      "/var/folders/tn/1hx74qln26x7jlmq6t6mlyqm0000gn/T/ipykernel_59585/1633113654.py:8: UserWarning: color is redundantly defined by the 'color' keyword argument and the fmt string \"b\" (-> color=(0.0, 0.0, 1.0, 1)). The keyword argument will take precedence.\n",
      "  plt.plot(tprs[i], base_fpr, 'b', label = 'AUC_%s = %0.2f' % (i, roc_auc), color='b')\n",
      "/var/folders/tn/1hx74qln26x7jlmq6t6mlyqm0000gn/T/ipykernel_59585/1633113654.py:8: UserWarning: color is redundantly defined by the 'color' keyword argument and the fmt string \"b\" (-> color=(0.0, 0.0, 1.0, 1)). The keyword argument will take precedence.\n",
      "  plt.plot(tprs[i], base_fpr, 'b', label = 'AUC_%s = %0.2f' % (i, roc_auc), color='b')\n",
      "/var/folders/tn/1hx74qln26x7jlmq6t6mlyqm0000gn/T/ipykernel_59585/1633113654.py:8: UserWarning: color is redundantly defined by the 'color' keyword argument and the fmt string \"b\" (-> color=(0.0, 0.0, 1.0, 1)). The keyword argument will take precedence.\n",
      "  plt.plot(tprs[i], base_fpr, 'b', label = 'AUC_%s = %0.2f' % (i, roc_auc), color='b')\n",
      "/var/folders/tn/1hx74qln26x7jlmq6t6mlyqm0000gn/T/ipykernel_59585/1633113654.py:8: UserWarning: color is redundantly defined by the 'color' keyword argument and the fmt string \"b\" (-> color=(0.0, 0.0, 1.0, 1)). The keyword argument will take precedence.\n",
      "  plt.plot(tprs[i], base_fpr, 'b', label = 'AUC_%s = %0.2f' % (i, roc_auc), color='b')\n",
      "/var/folders/tn/1hx74qln26x7jlmq6t6mlyqm0000gn/T/ipykernel_59585/1633113654.py:8: UserWarning: color is redundantly defined by the 'color' keyword argument and the fmt string \"b\" (-> color=(0.0, 0.0, 1.0, 1)). The keyword argument will take precedence.\n",
      "  plt.plot(tprs[i], base_fpr, 'b', label = 'AUC_%s = %0.2f' % (i, roc_auc), color='b')\n",
      "/var/folders/tn/1hx74qln26x7jlmq6t6mlyqm0000gn/T/ipykernel_59585/1633113654.py:8: UserWarning: color is redundantly defined by the 'color' keyword argument and the fmt string \"b\" (-> color=(0.0, 0.0, 1.0, 1)). The keyword argument will take precedence.\n",
      "  plt.plot(tprs[i], base_fpr, 'b', label = 'AUC_%s = %0.2f' % (i, roc_auc), color='b')\n",
      "/var/folders/tn/1hx74qln26x7jlmq6t6mlyqm0000gn/T/ipykernel_59585/1633113654.py:8: UserWarning: color is redundantly defined by the 'color' keyword argument and the fmt string \"b\" (-> color=(0.0, 0.0, 1.0, 1)). The keyword argument will take precedence.\n",
      "  plt.plot(tprs[i], base_fpr, 'b', label = 'AUC_%s = %0.2f' % (i, roc_auc), color='b')\n",
      "/var/folders/tn/1hx74qln26x7jlmq6t6mlyqm0000gn/T/ipykernel_59585/1633113654.py:8: UserWarning: color is redundantly defined by the 'color' keyword argument and the fmt string \"b\" (-> color=(0.0, 0.0, 1.0, 1)). The keyword argument will take precedence.\n",
      "  plt.plot(tprs[i], base_fpr, 'b', label = 'AUC_%s = %0.2f' % (i, roc_auc), color='b')\n",
      "/var/folders/tn/1hx74qln26x7jlmq6t6mlyqm0000gn/T/ipykernel_59585/1633113654.py:8: UserWarning: color is redundantly defined by the 'color' keyword argument and the fmt string \"b\" (-> color=(0.0, 0.0, 1.0, 1)). The keyword argument will take precedence.\n",
      "  plt.plot(tprs[i], base_fpr, 'b', label = 'AUC_%s = %0.2f' % (i, roc_auc), color='b')\n",
      "/var/folders/tn/1hx74qln26x7jlmq6t6mlyqm0000gn/T/ipykernel_59585/1633113654.py:8: UserWarning: color is redundantly defined by the 'color' keyword argument and the fmt string \"b\" (-> color=(0.0, 0.0, 1.0, 1)). The keyword argument will take precedence.\n",
      "  plt.plot(tprs[i], base_fpr, 'b', label = 'AUC_%s = %0.2f' % (i, roc_auc), color='b')\n",
      "/var/folders/tn/1hx74qln26x7jlmq6t6mlyqm0000gn/T/ipykernel_59585/1633113654.py:8: UserWarning: color is redundantly defined by the 'color' keyword argument and the fmt string \"b\" (-> color=(0.0, 0.0, 1.0, 1)). The keyword argument will take precedence.\n",
      "  plt.plot(tprs[i], base_fpr, 'b', label = 'AUC_%s = %0.2f' % (i, roc_auc), color='b')\n",
      "/var/folders/tn/1hx74qln26x7jlmq6t6mlyqm0000gn/T/ipykernel_59585/1633113654.py:8: UserWarning: color is redundantly defined by the 'color' keyword argument and the fmt string \"b\" (-> color=(0.0, 0.0, 1.0, 1)). The keyword argument will take precedence.\n",
      "  plt.plot(tprs[i], base_fpr, 'b', label = 'AUC_%s = %0.2f' % (i, roc_auc), color='b')\n",
      "/var/folders/tn/1hx74qln26x7jlmq6t6mlyqm0000gn/T/ipykernel_59585/1633113654.py:8: UserWarning: color is redundantly defined by the 'color' keyword argument and the fmt string \"b\" (-> color=(0.0, 0.0, 1.0, 1)). The keyword argument will take precedence.\n",
      "  plt.plot(tprs[i], base_fpr, 'b', label = 'AUC_%s = %0.2f' % (i, roc_auc), color='b')\n",
      "/var/folders/tn/1hx74qln26x7jlmq6t6mlyqm0000gn/T/ipykernel_59585/1633113654.py:8: UserWarning: color is redundantly defined by the 'color' keyword argument and the fmt string \"b\" (-> color=(0.0, 0.0, 1.0, 1)). The keyword argument will take precedence.\n",
      "  plt.plot(tprs[i], base_fpr, 'b', label = 'AUC_%s = %0.2f' % (i, roc_auc), color='b')\n",
      "/var/folders/tn/1hx74qln26x7jlmq6t6mlyqm0000gn/T/ipykernel_59585/1633113654.py:8: UserWarning: color is redundantly defined by the 'color' keyword argument and the fmt string \"b\" (-> color=(0.0, 0.0, 1.0, 1)). The keyword argument will take precedence.\n",
      "  plt.plot(tprs[i], base_fpr, 'b', label = 'AUC_%s = %0.2f' % (i, roc_auc), color='b')\n",
      "/var/folders/tn/1hx74qln26x7jlmq6t6mlyqm0000gn/T/ipykernel_59585/1633113654.py:8: UserWarning: color is redundantly defined by the 'color' keyword argument and the fmt string \"b\" (-> color=(0.0, 0.0, 1.0, 1)). The keyword argument will take precedence.\n",
      "  plt.plot(tprs[i], base_fpr, 'b', label = 'AUC_%s = %0.2f' % (i, roc_auc), color='b')\n",
      "/var/folders/tn/1hx74qln26x7jlmq6t6mlyqm0000gn/T/ipykernel_59585/1633113654.py:8: UserWarning: color is redundantly defined by the 'color' keyword argument and the fmt string \"b\" (-> color=(0.0, 0.0, 1.0, 1)). The keyword argument will take precedence.\n",
      "  plt.plot(tprs[i], base_fpr, 'b', label = 'AUC_%s = %0.2f' % (i, roc_auc), color='b')\n",
      "/var/folders/tn/1hx74qln26x7jlmq6t6mlyqm0000gn/T/ipykernel_59585/1633113654.py:8: UserWarning: color is redundantly defined by the 'color' keyword argument and the fmt string \"b\" (-> color=(0.0, 0.0, 1.0, 1)). The keyword argument will take precedence.\n",
      "  plt.plot(tprs[i], base_fpr, 'b', label = 'AUC_%s = %0.2f' % (i, roc_auc), color='b')\n",
      "/var/folders/tn/1hx74qln26x7jlmq6t6mlyqm0000gn/T/ipykernel_59585/1633113654.py:8: UserWarning: color is redundantly defined by the 'color' keyword argument and the fmt string \"b\" (-> color=(0.0, 0.0, 1.0, 1)). The keyword argument will take precedence.\n",
      "  plt.plot(tprs[i], base_fpr, 'b', label = 'AUC_%s = %0.2f' % (i, roc_auc), color='b')\n",
      "/var/folders/tn/1hx74qln26x7jlmq6t6mlyqm0000gn/T/ipykernel_59585/1633113654.py:8: UserWarning: color is redundantly defined by the 'color' keyword argument and the fmt string \"b\" (-> color=(0.0, 0.0, 1.0, 1)). The keyword argument will take precedence.\n",
      "  plt.plot(tprs[i], base_fpr, 'b', label = 'AUC_%s = %0.2f' % (i, roc_auc), color='b')\n",
      "/var/folders/tn/1hx74qln26x7jlmq6t6mlyqm0000gn/T/ipykernel_59585/1633113654.py:8: UserWarning: color is redundantly defined by the 'color' keyword argument and the fmt string \"b\" (-> color=(0.0, 0.0, 1.0, 1)). The keyword argument will take precedence.\n",
      "  plt.plot(tprs[i], base_fpr, 'b', label = 'AUC_%s = %0.2f' % (i, roc_auc), color='b')\n",
      "/var/folders/tn/1hx74qln26x7jlmq6t6mlyqm0000gn/T/ipykernel_59585/1633113654.py:8: UserWarning: color is redundantly defined by the 'color' keyword argument and the fmt string \"b\" (-> color=(0.0, 0.0, 1.0, 1)). The keyword argument will take precedence.\n",
      "  plt.plot(tprs[i], base_fpr, 'b', label = 'AUC_%s = %0.2f' % (i, roc_auc), color='b')\n",
      "/var/folders/tn/1hx74qln26x7jlmq6t6mlyqm0000gn/T/ipykernel_59585/1633113654.py:8: UserWarning: color is redundantly defined by the 'color' keyword argument and the fmt string \"b\" (-> color=(0.0, 0.0, 1.0, 1)). The keyword argument will take precedence.\n",
      "  plt.plot(tprs[i], base_fpr, 'b', label = 'AUC_%s = %0.2f' % (i, roc_auc), color='b')\n",
      "/var/folders/tn/1hx74qln26x7jlmq6t6mlyqm0000gn/T/ipykernel_59585/1633113654.py:8: UserWarning: color is redundantly defined by the 'color' keyword argument and the fmt string \"b\" (-> color=(0.0, 0.0, 1.0, 1)). The keyword argument will take precedence.\n",
      "  plt.plot(tprs[i], base_fpr, 'b', label = 'AUC_%s = %0.2f' % (i, roc_auc), color='b')\n",
      "/var/folders/tn/1hx74qln26x7jlmq6t6mlyqm0000gn/T/ipykernel_59585/1633113654.py:8: UserWarning: color is redundantly defined by the 'color' keyword argument and the fmt string \"b\" (-> color=(0.0, 0.0, 1.0, 1)). The keyword argument will take precedence.\n",
      "  plt.plot(tprs[i], base_fpr, 'b', label = 'AUC_%s = %0.2f' % (i, roc_auc), color='b')\n",
      "/var/folders/tn/1hx74qln26x7jlmq6t6mlyqm0000gn/T/ipykernel_59585/1633113654.py:8: UserWarning: color is redundantly defined by the 'color' keyword argument and the fmt string \"b\" (-> color=(0.0, 0.0, 1.0, 1)). The keyword argument will take precedence.\n",
      "  plt.plot(tprs[i], base_fpr, 'b', label = 'AUC_%s = %0.2f' % (i, roc_auc), color='b')\n",
      "/var/folders/tn/1hx74qln26x7jlmq6t6mlyqm0000gn/T/ipykernel_59585/1633113654.py:8: UserWarning: color is redundantly defined by the 'color' keyword argument and the fmt string \"b\" (-> color=(0.0, 0.0, 1.0, 1)). The keyword argument will take precedence.\n",
      "  plt.plot(tprs[i], base_fpr, 'b', label = 'AUC_%s = %0.2f' % (i, roc_auc), color='b')\n",
      "/var/folders/tn/1hx74qln26x7jlmq6t6mlyqm0000gn/T/ipykernel_59585/1633113654.py:8: UserWarning: color is redundantly defined by the 'color' keyword argument and the fmt string \"b\" (-> color=(0.0, 0.0, 1.0, 1)). The keyword argument will take precedence.\n",
      "  plt.plot(tprs[i], base_fpr, 'b', label = 'AUC_%s = %0.2f' % (i, roc_auc), color='b')\n",
      "/var/folders/tn/1hx74qln26x7jlmq6t6mlyqm0000gn/T/ipykernel_59585/1633113654.py:8: UserWarning: color is redundantly defined by the 'color' keyword argument and the fmt string \"b\" (-> color=(0.0, 0.0, 1.0, 1)). The keyword argument will take precedence.\n",
      "  plt.plot(tprs[i], base_fpr, 'b', label = 'AUC_%s = %0.2f' % (i, roc_auc), color='b')\n",
      "/var/folders/tn/1hx74qln26x7jlmq6t6mlyqm0000gn/T/ipykernel_59585/1633113654.py:8: UserWarning: color is redundantly defined by the 'color' keyword argument and the fmt string \"b\" (-> color=(0.0, 0.0, 1.0, 1)). The keyword argument will take precedence.\n",
      "  plt.plot(tprs[i], base_fpr, 'b', label = 'AUC_%s = %0.2f' % (i, roc_auc), color='b')\n",
      "/var/folders/tn/1hx74qln26x7jlmq6t6mlyqm0000gn/T/ipykernel_59585/1633113654.py:8: UserWarning: color is redundantly defined by the 'color' keyword argument and the fmt string \"b\" (-> color=(0.0, 0.0, 1.0, 1)). The keyword argument will take precedence.\n",
      "  plt.plot(tprs[i], base_fpr, 'b', label = 'AUC_%s = %0.2f' % (i, roc_auc), color='b')\n",
      "/var/folders/tn/1hx74qln26x7jlmq6t6mlyqm0000gn/T/ipykernel_59585/1633113654.py:8: UserWarning: color is redundantly defined by the 'color' keyword argument and the fmt string \"b\" (-> color=(0.0, 0.0, 1.0, 1)). The keyword argument will take precedence.\n",
      "  plt.plot(tprs[i], base_fpr, 'b', label = 'AUC_%s = %0.2f' % (i, roc_auc), color='b')\n"
     ]
    },
    {
     "data": {
      "image/png": "[encoded data removed]",
      "text/plain": [
       "<Figure size 432x288 with 1 Axes>"
      ]
     },
     "metadata": {
      "needs_background": "light"
     },
     "output_type": "display_data"
    }
   ],
   "source": [
    "#\n",
    "\n",
    "base_fpr = np.linspace(0, 1, 101)\n",
    "\n",
    "for i in range(len(tprs)):\n",
    "    #t_tpr = np.interp(base_fpr, tprs[i], fprs[i])\n",
    "    roc_auc = metrics.auc(tprs[i], base_fpr)\n",
    "    plt.plot(tprs[i], base_fpr, 'b', label = 'AUC_%s = %0.2f' % (i, roc_auc), color='b')\n",
    "    \n",
    "plt.title('ROC Curves for Folds for June Predictions')\n",
    "    \n",
    "plt.legend(loc = 'lower right')\n",
    "plt.plot([0, 1], [0, 1],'r--')\n",
    "plt.xlim([0, 1])\n",
    "plt.ylim([0, 1])\n",
    "    \n",
    "plt.ylabel('True Positive Rate')\n",
    "plt.xlabel('False Positive Rate')\n",
    "plt.show()"
   ]
  },
  {
   "cell_type": "code",
   "execution_count": 36,
   "id": "a14d1bee-e914-40f0-8a25-7b665e6a31f3",
   "metadata": {},
   "outputs": [
    {
     "name": "stdout",
     "output_type": "stream",
     "text": [
      "[0.5937727842333105, 0.6797040223336372, 0.6008811802232855, 0.6076713502398904, 0.6196759795965685, 0.6366205315691738, 0.619343215373799, 0.6827340694732, 0.7107022857142857, 0.6759591302367942]\n"
     ]
    },
    {
     "data": {
      "text/plain": [
       "0.6427064548993945"
      ]
     },
     "execution_count": 36,
     "metadata": {},
     "output_type": "execute_result"
    }
   ],
   "source": [
    "summer_aucs = []\n",
    "avgs = []\n",
    "for i in range(len(aucs)):\n",
    "    if ((i%12) == 5 or (i%12) == 6 or (i%12) == 7 or (i%12) == 8):\n",
    "        summer_aucs.append(aucs[i])\n",
    "        \n",
    "for i in range(int(len(summer_aucs)/4)):\n",
    "    avgs.append(1-np.mean(np.array([summer_aucs[4*i], summer_aucs[4*i+1], summer_aucs[4*i+2], summer_aucs[4*i+3]])))\n",
    "                \n",
    "print(avgs)\n",
    "        \n",
    "np.mean(avgs)"
   ]
  },
  {
   "cell_type": "code",
   "execution_count": 37,
   "id": "e7640fff-48d7-40a1-92d3-701c3d9a6fda",
   "metadata": {},
   "outputs": [
    {
     "data": {
      "text/plain": [
       "0.5562456752011851"
      ]
     },
     "execution_count": 37,
     "metadata": {},
     "output_type": "execute_result"
    }
   ],
   "source": [
    "summer_aucs = []\n",
    "for i in range(len(aucs)):\n",
    "    if ((i%12) != 4 and (i%12) != 5 and (i%12) != 6 and (i%12) != 7 and (i%12) != 8):\n",
    "        summer_aucs.append(aucs[i])\n",
    "        \n",
    "1-np.mean(summer_aucs)"
   ]
  },
  {
   "cell_type": "code",
   "execution_count": 39,
   "id": "a17c17c6-0c6f-4477-b76d-a5780d9c44a3",
   "metadata": {},
   "outputs": [],
   "source": [
    "auc_formed = list(np.subtract([1]*len(aucs), aucs))\n",
    "\n",
    "o = []\n",
    "\n",
    "for i in range(int(len(auc_formed)/12)):\n",
    "    t = []\n",
    "    for j in range(12):\n",
    "        t.append(auc_formed[10*i+j])\n",
    "    o.append(t)\n",
    "    \n",
    "pd.DataFrame(o).transpose().to_csv('/Users/alekseyvalouev/Desktop/FireData/Scripts/3.csv', index=False)"
   ]
  },
  {
   "cell_type": "code",
   "execution_count": 38,
   "id": "f5c870f7-5f6d-40f4-a900-7f5a3767f323",
   "metadata": {
    "tags": []
   },
   "outputs": [
    {
     "name": "stderr",
     "output_type": "stream",
     "text": [
      "/var/folders/tn/1hx74qln26x7jlmq6t6mlyqm0000gn/T/ipykernel_59585/1146683063.py:8: UserWarning: color is redundantly defined by the 'color' keyword argument and the fmt string \"b\" (-> color=(0.0, 0.0, 1.0, 1)). The keyword argument will take precedence.\n",
      "  plt.plot(fpr, tpr, 'b', label = 'AUC = %0.2f' % (roc_auc), color='orange')\n"
     ]
    },
    {
     "data": {
      "image/png": "[encoded data removed]",
      "text/plain": [
       "<Figure size 432x288 with 1 Axes>"
      ]
     },
     "metadata": {
      "needs_background": "light"
     },
     "output_type": "display_data"
    }
   ],
   "source": [
    "t_probs = np.concatenate(np.array(_probs), axis=0)\n",
    "preds = t_probs[:,1]\n",
    "\n",
    "_v_y = np.concatenate(val_test[:,:,-3], axis=0).astype('float')\n",
    "\n",
    "fpr, tpr, threshold = metrics.roc_curve(_v_y, preds)\n",
    "roc_auc = metrics.auc(fpr, tpr)\n",
    "plt.plot(fpr, tpr, 'b', label = 'AUC = %0.2f' % (roc_auc), color='orange')\n",
    "\n",
    "plt.title('Cross-Validated ROC Curve for June Predictions')\n",
    "\n",
    "plt.legend(loc = 'lower right')\n",
    "plt.plot([0, 1], [0, 1],'r--')\n",
    "plt.xlim([0, 1])\n",
    "plt.ylim([0, 1])\n",
    "    \n",
    "plt.ylabel('True Positive Rate')\n",
    "plt.xlabel('False Positive Rate')\n",
    "plt.show()"
   ]
  },
  {
   "cell_type": "code",
   "execution_count": null,
   "id": "1230d606-cfc9-4112-ab82-e20b88d03818",
   "metadata": {},
   "outputs": [],
   "source": [
    "filter = _v_y == 0.0"
   ]
  },
  {
   "cell_type": "code",
   "execution_count": null,
   "id": "b43590f8-502d-4eae-85b9-d254b1258b37",
   "metadata": {},
   "outputs": [],
   "source": [
    "from scipy.interpolate import interp1d\n",
    "\n",
    "scores = sorted(t_probs[filter, 1])\n",
    "\n",
    "inc = 1/(len(scores)-1)\n",
    "fractions = np.arange(0, 1 + inc, inc)\n",
    "fractions = fractions[0:len(scores)]\n",
    "\n",
    "score_curve = interp1d(fractions, scores)\n",
    "\n",
    "perf_metrics = [[0.9, None], [0.95, None], [0.98, None]]\n",
    "\n",
    "for i, metric in enumerate(perf_metrics):\n",
    "    perf_metrics[i][1] = round(float(score_curve(metric[0])), 2)\n",
    "    print(\"spec: \" + str(metric[0]) + \" score cutoff: \" + str(perf_metrics[i][1]))"
   ]
  },
  {
   "cell_type": "code",
   "execution_count": null,
   "id": "0809f283-9b51-4d36-90e5-456cf5ae132c",
   "metadata": {},
   "outputs": [],
   "source": [
    "filter = _v_y == 1.0\n",
    "num_pos = np.sum(t_probs[filter, 1] > perf_metrics[2][1])\n",
    "num_total = np.sum(filter)\n",
    "sens = np.round(float(num_pos) / float(num_total), 2)\n",
    "sens"
   ]
  },
  {
   "cell_type": "code",
   "execution_count": null,
   "id": "9a0bf34a-bb7b-4d64-823a-6d92733e5566",
   "metadata": {},
   "outputs": [],
   "source": []
  }
 ],
 "metadata": {
  "kernelspec": {
   "display_name": "Python 3 (ipykernel)",
   "language": "python",
   "name": "python3"
  },
  "language_info": {
   "codemirror_mode": {
    "name": "ipython",
    "version": 3
   },
   "file_extension": ".py",
   "mimetype": "text/x-python",
   "name": "python",
   "nbconvert_exporter": "python",
   "pygments_lexer": "ipython3",
   "version": "3.9.7"
  }
 },
 "nbformat": 4,
 "nbformat_minor": 5
}

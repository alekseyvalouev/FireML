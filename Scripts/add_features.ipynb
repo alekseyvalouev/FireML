{
 "cells": [
  {
   "cell_type": "markdown",
   "id": "df34f680-c564-41f1-848f-fbe36b2873bb",
   "metadata": {},
   "source": [
    "**Adding Constant Features**"
   ]
  },
  {
   "cell_type": "code",
   "execution_count": null,
   "id": "9cd4a7e7-85a1-46ef-9546-5794afd79639",
   "metadata": {},
   "outputs": [],
   "source": []
  }
 ],
 "metadata": {
  "kernelspec": {
   "display_name": "Python 3 (ipykernel)",
   "language": "python",
   "name": "python3"
  },
  "language_info": {
   "codemirror_mode": {
    "name": "ipython",
    "version": 3
   },
   "file_extension": ".py",
   "mimetype": "text/x-python",
   "name": "python",
   "nbconvert_exporter": "python",
   "pygments_lexer": "ipython3",
   "version": "3.9.7"
  }
 },
 "nbformat": 4,
 "nbformat_minor": 5
}

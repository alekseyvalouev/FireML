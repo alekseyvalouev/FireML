{
 "cells": [
  {
   "cell_type": "markdown",
   "id": "950cf09a",
   "metadata": {},
   "source": [
    "**Process original date format into YYYMM date format**"
   ]
  },
  {
   "cell_type": "code",
   "execution_count": 28,
   "id": "ca17daec",
   "metadata": {
    "scrolled": true
   },
   "outputs": [],
   "source": [
    "import pandas as pd\n",
    "\n",
    "table1 = pd.read_csv(\"/Users/alekseyvalouev/Desktop/FireData/CSV/finaltable1.csv\")"
   ]
  },
  {
   "cell_type": "code",
   "execution_count": 24,
   "id": "4578f36d",
   "metadata": {},
   "outputs": [],
   "source": [
    "import pandas as pd\n",
    "import numpy as np\n",
    "\n",
    "table1 = table1.reset_index(drop=True)  # make sure indexes pair with number of rows\n",
    "\n",
    "col_values = []\n",
    "\n",
    "drop = []\n",
    "\n",
    "for index, row in table1.iterrows():\n",
    "    if (not pd.isna(row[\"ALARM_DATE\"])):\n",
    "        year_month = str(row[\"ALARM_DATE\"])[0:7]\n",
    "        year_month = year_month[:4] + year_month[5:]\n",
    "        col_values.append(int(year_month))\n",
    "    elif (not pd.isna(row[\"CONT_DATE\"])):\n",
    "        year_month = str(row[\"CONT_DATE\"])[0:7]\n",
    "        year_month = year_month[:4] + year_month[5:]\n",
    "        col_values.append(int(year_month))\n",
    "    else:\n",
    "        drop.append(table1.index[index])\n",
    "\n",
    "out_table1 = table1.drop(drop)\n",
    "\n",
    "out_table1.insert(11, \"date_formatted\", col_values, True)\n",
    "\n",
    "out_table1 = out_table1.reset_index(drop=True)\n",
    "\n",
    "# print(\"Length of T1: %s\\nLength of date array: %s\" % (len(table1), len(out_table1)))"
   ]
  },
  {
   "cell_type": "code",
   "execution_count": 25,
   "id": "bed98422",
   "metadata": {},
   "outputs": [],
   "source": [
    "out_table1.to_csv('/Users/alekseyvalouev/Desktop/FireData/CSV/dateformatted_table1.csv', index=False)"
   ]
  },
  {
   "cell_type": "code",
   "execution_count": 26,
   "id": "23d6c3c2",
   "metadata": {},
   "outputs": [],
   "source": [
    "final_table2 = pd.read_csv(\"/Users/alekseyvalouev/Desktop/FireData/CSV/finaltable2.csv\")"
   ]
  },
  {
   "cell_type": "code",
   "execution_count": 27,
   "id": "3449013c-7d69-4a09-a5e8-99112efbc75f",
   "metadata": {},
   "outputs": [],
   "source": [
    "table1 = pd.read_csv(\"/Users/alekseyvalouev/Desktop/FireData/CSV/dateformatted_table1.csv\")"
   ]
  },
  {
   "cell_type": "code",
   "execution_count": null,
   "id": "4397df3a-db19-4624-a230-f2ca33cc31b8",
   "metadata": {},
   "outputs": [],
   "source": [
    "for i in range(23):\n",
    "    yr = i+1999\n",
    "    for i in range(12):\n",
    "        month = i+1\n",
    "        out = str(id) + \"_\"\n",
    "        if (month < 10):\n",
    "            out += (str(yr) + \"0\" + str(month))\n",
    "        else:\n",
    "            out += (str(yr) + str(month))"
   ]
  },
  {
   "cell_type": "code",
   "execution_count": 32,
   "id": "3cdd71a7",
   "metadata": {
    "jupyter": {
     "source_hidden": true
    },
    "tags": []
   },
   "outputs": [],
   "source": [
    "observationcols = []\n",
    "idcols = []\n",
    "datecols = []\n",
    "elevation = []\n",
    "\n",
    "final_table2 = final_table2.reset_index(drop=True)  # make sure indexes pair with number of rows\n",
    "for index, row in final_table2.iterrows():\n",
    "    id = int(row.get([\"newID\"]))\n",
    "    \n",
    "    for i in range(22):\n",
    "        yr = i+2000\n",
    "        for i in range(12):\n",
    "            month = i+1\n",
    "            out = \"\"\n",
    "            if (month < 10):\n",
    "                out += (str(yr) + \"0\" + str(month))\n",
    "            else:\n",
    "                out += (str(yr) + str(month))\n",
    "            \n",
    "            datecols.append(int(out))\n",
    "            idcols.append(id)\n",
    "            \n",
    "fireobs =[]            \n",
    "\n",
    "'''for index, row in table1.iterrows():\n",
    "    id = int(row.get([\"newID\"]))\n",
    "    date = int(row.get([\"date_formatted\"]))\n",
    "    id_date = str(id) + \"_\" + str(date)\n",
    "    fireobs.append(id_date)\n",
    "    '''\n",
    "            \n",
    "df = pd.DataFrame()\n",
    "\n",
    "df.insert(0, \"ID\", idcols, True)\n",
    "df.insert(1, \"Date\", datecols, True)"
   ]
  },
  {
   "cell_type": "code",
   "execution_count": 33,
   "id": "a7582ba8-a064-4bf2-92d5-5815204ba72f",
   "metadata": {},
   "outputs": [
    {
     "data": {
      "text/html": [
       "<div>\n",
       "<style scoped>\n",
       "    .dataframe tbody tr th:only-of-type {\n",
       "        vertical-align: middle;\n",
       "    }\n",
       "\n",
       "    .dataframe tbody tr th {\n",
       "        vertical-align: top;\n",
       "    }\n",
       "\n",
       "    .dataframe thead th {\n",
       "        text-align: right;\n",
       "    }\n",
       "</style>\n",
       "<table border=\"1\" class=\"dataframe\">\n",
       "  <thead>\n",
       "    <tr style=\"text-align: right;\">\n",
       "      <th></th>\n",
       "      <th>ID</th>\n",
       "      <th>Date</th>\n",
       "    </tr>\n",
       "  </thead>\n",
       "  <tbody>\n",
       "    <tr>\n",
       "      <th>0</th>\n",
       "      <td>1</td>\n",
       "      <td>200001</td>\n",
       "    </tr>\n",
       "    <tr>\n",
       "      <th>1</th>\n",
       "      <td>1</td>\n",
       "      <td>200002</td>\n",
       "    </tr>\n",
       "    <tr>\n",
       "      <th>2</th>\n",
       "      <td>1</td>\n",
       "      <td>200003</td>\n",
       "    </tr>\n",
       "    <tr>\n",
       "      <th>3</th>\n",
       "      <td>1</td>\n",
       "      <td>200004</td>\n",
       "    </tr>\n",
       "    <tr>\n",
       "      <th>4</th>\n",
       "      <td>1</td>\n",
       "      <td>200005</td>\n",
       "    </tr>\n",
       "    <tr>\n",
       "      <th>...</th>\n",
       "      <td>...</td>\n",
       "      <td>...</td>\n",
       "    </tr>\n",
       "    <tr>\n",
       "      <th>1160803</th>\n",
       "      <td>4517</td>\n",
       "      <td>202108</td>\n",
       "    </tr>\n",
       "    <tr>\n",
       "      <th>1160804</th>\n",
       "      <td>4517</td>\n",
       "      <td>202109</td>\n",
       "    </tr>\n",
       "    <tr>\n",
       "      <th>1160805</th>\n",
       "      <td>4517</td>\n",
       "      <td>202110</td>\n",
       "    </tr>\n",
       "    <tr>\n",
       "      <th>1160806</th>\n",
       "      <td>4517</td>\n",
       "      <td>202111</td>\n",
       "    </tr>\n",
       "    <tr>\n",
       "      <th>1160807</th>\n",
       "      <td>4517</td>\n",
       "      <td>202112</td>\n",
       "    </tr>\n",
       "  </tbody>\n",
       "</table>\n",
       "<p>1160808 rows × 2 columns</p>\n",
       "</div>"
      ],
      "text/plain": [
       "           ID    Date\n",
       "0           1  200001\n",
       "1           1  200002\n",
       "2           1  200003\n",
       "3           1  200004\n",
       "4           1  200005\n",
       "...       ...     ...\n",
       "1160803  4517  202108\n",
       "1160804  4517  202109\n",
       "1160805  4517  202110\n",
       "1160806  4517  202111\n",
       "1160807  4517  202112\n",
       "\n",
       "[1160808 rows x 2 columns]"
      ]
     },
     "execution_count": 33,
     "metadata": {},
     "output_type": "execute_result"
    }
   ],
   "source": [
    "df"
   ]
  },
  {
   "cell_type": "code",
   "execution_count": 11,
   "id": "31b62380-cea0-47b0-a4eb-d5839e1638ae",
   "metadata": {},
   "outputs": [],
   "source": [
    "baseobs = [0]*len(df)\n",
    "\n",
    "for i in range(len(observationcols)):\n",
    "    if (observationcols[i] in fireobs):\n",
    "        baseobs[i] = 1"
   ]
  },
  {
   "cell_type": "code",
   "execution_count": 15,
   "id": "d5de8248-4555-4ee9-af61-d07bfa8d4c70",
   "metadata": {
    "tags": []
   },
   "outputs": [
    {
     "name": "stdout",
     "output_type": "stream",
     "text": [
      "503\n"
     ]
    }
   ],
   "source": [
    "from collections import Counter\n",
    "c = Counter(fireobs)\n",
    "count = 0\n",
    "for i in c:\n",
    "    if (c[i] > 1):\n",
    "        count+=(c[i]-1)\n",
    "print(count)d"
   ]
  },
  {
   "cell_type": "code",
   "execution_count": null,
   "id": "8fa4ff05-195a-414f-b606-58f52450b7f9",
   "metadata": {},
   "outputs": [],
   "source": [
    "df.insert(1, \"Fire\", baseobs, True)"
   ]
  },
  {
   "cell_type": "code",
   "execution_count": 8,
   "id": "e62d29fa-b32b-4880-937f-099fbe08101c",
   "metadata": {},
   "outputs": [],
   "source": [
    "df.to_csv('/Users/alekseyvalouev/Desktop/FireData/CSV/final_table.csv', index=False)"
   ]
  },
  {
   "cell_type": "code",
   "execution_count": 14,
   "id": "1a14cc28-14d0-454f-9928-d23a3464ac50",
   "metadata": {},
   "outputs": [
    {
     "name": "stdout",
     "output_type": "stream",
     "text": [
      "5960\n",
      "1160808\n",
      "1160808\n",
      "6465\n"
     ]
    }
   ],
   "source": [
    "print(baseobs.count(1))\n",
    "print(len(baseobs))\n",
    "print(len(df))\n",
    "print(len(fireobs))"
   ]
  },
  {
   "cell_type": "code",
   "execution_count": 34,
   "id": "9cf349e9",
   "metadata": {},
   "outputs": [
    {
     "data": {
      "text/html": [
       "<div>\n",
       "<style scoped>\n",
       "    .dataframe tbody tr th:only-of-type {\n",
       "        vertical-align: middle;\n",
       "    }\n",
       "\n",
       "    .dataframe tbody tr th {\n",
       "        vertical-align: top;\n",
       "    }\n",
       "\n",
       "    .dataframe thead th {\n",
       "        text-align: right;\n",
       "    }\n",
       "</style>\n",
       "<table border=\"1\" class=\"dataframe\">\n",
       "  <thead>\n",
       "    <tr style=\"text-align: right;\">\n",
       "      <th></th>\n",
       "      <th>Observations</th>\n",
       "      <th>Fire</th>\n",
       "    </tr>\n",
       "  </thead>\n",
       "  <tbody>\n",
       "    <tr>\n",
       "      <th>0</th>\n",
       "      <td>1_200001</td>\n",
       "      <td>0</td>\n",
       "    </tr>\n",
       "    <tr>\n",
       "      <th>1</th>\n",
       "      <td>1_200002</td>\n",
       "      <td>0</td>\n",
       "    </tr>\n",
       "    <tr>\n",
       "      <th>2</th>\n",
       "      <td>1_200003</td>\n",
       "      <td>0</td>\n",
       "    </tr>\n",
       "    <tr>\n",
       "      <th>3</th>\n",
       "      <td>1_200004</td>\n",
       "      <td>0</td>\n",
       "    </tr>\n",
       "    <tr>\n",
       "      <th>4</th>\n",
       "      <td>1_200005</td>\n",
       "      <td>0</td>\n",
       "    </tr>\n",
       "    <tr>\n",
       "      <th>...</th>\n",
       "      <td>...</td>\n",
       "      <td>...</td>\n",
       "    </tr>\n",
       "    <tr>\n",
       "      <th>1160803</th>\n",
       "      <td>4517_202108</td>\n",
       "      <td>0</td>\n",
       "    </tr>\n",
       "    <tr>\n",
       "      <th>1160804</th>\n",
       "      <td>4517_202109</td>\n",
       "      <td>0</td>\n",
       "    </tr>\n",
       "    <tr>\n",
       "      <th>1160805</th>\n",
       "      <td>4517_202110</td>\n",
       "      <td>0</td>\n",
       "    </tr>\n",
       "    <tr>\n",
       "      <th>1160806</th>\n",
       "      <td>4517_202111</td>\n",
       "      <td>0</td>\n",
       "    </tr>\n",
       "    <tr>\n",
       "      <th>1160807</th>\n",
       "      <td>4517_202112</td>\n",
       "      <td>0</td>\n",
       "    </tr>\n",
       "  </tbody>\n",
       "</table>\n",
       "<p>1160808 rows × 2 columns</p>\n",
       "</div>"
      ],
      "text/plain": [
       "        Observations  Fire\n",
       "0           1_200001     0\n",
       "1           1_200002     0\n",
       "2           1_200003     0\n",
       "3           1_200004     0\n",
       "4           1_200005     0\n",
       "...              ...   ...\n",
       "1160803  4517_202108     0\n",
       "1160804  4517_202109     0\n",
       "1160805  4517_202110     0\n",
       "1160806  4517_202111     0\n",
       "1160807  4517_202112     0\n",
       "\n",
       "[1160808 rows x 2 columns]"
      ]
     },
     "execution_count": 34,
     "metadata": {},
     "output_type": "execute_result"
    }
   ],
   "source": [
    "final_table = pd.read_csv(\"/Users/alekseyvalouev/Desktop/FireData/CSV/final_table.csv\")\n",
    "\n",
    "final_table"
   ]
  },
  {
   "cell_type": "code",
   "execution_count": null,
   "id": "4852f808-49ea-4c33-a192-bc16a93396bf",
   "metadata": {},
   "outputs": [],
   "source": []
  }
 ],
 "metadata": {
  "kernelspec": {
   "display_name": "Python 3 (ipykernel)",
   "language": "python",
   "name": "python3"
  },
  "language_info": {
   "codemirror_mode": {
    "name": "ipython",
    "version": 3
   },
   "file_extension": ".py",
   "mimetype": "text/x-python",
   "name": "python",
   "nbconvert_exporter": "python",
   "pygments_lexer": "ipython3",
   "version": "3.9.7"
  }
 },
 "nbformat": 4,
 "nbformat_minor": 5
}

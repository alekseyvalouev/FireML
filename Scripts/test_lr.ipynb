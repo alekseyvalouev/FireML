{
 "cells": [
  {
   "cell_type": "code",
   "execution_count": 173,
   "id": "3607e4f6-9331-4e35-af5b-d756c69b879f",
   "metadata": {},
   "outputs": [],
   "source": [
    "import numpy as np\n",
    "import pandas as pd\n",
    "import matplotlib.pyplot as plt\n",
    "from sklearn.model_selection import train_test_split\n",
    "from math import exp"
   ]
  },
  {
   "cell_type": "code",
   "execution_count": 174,
   "id": "2169e919-1cdc-4b58-a868-4d688c665587",
   "metadata": {},
   "outputs": [],
   "source": [
    "data = pd.read_csv(\"/Users/alekseyvalouev/Desktop/FireData/CSV/final_table_shifted.csv\")\n",
    "\n",
    "data = data.dropna(axis=0, subset=['fut1fire'])"
   ]
  },
  {
   "cell_type": "code",
   "execution_count": 175,
   "id": "327fb756-46f6-4161-aa88-c9265e9a72d9",
   "metadata": {},
   "outputs": [
    {
     "data": {
      "text/html": [
       "<div>\n",
       "<style scoped>\n",
       "    .dataframe tbody tr th:only-of-type {\n",
       "        vertical-align: middle;\n",
       "    }\n",
       "\n",
       "    .dataframe tbody tr th {\n",
       "        vertical-align: top;\n",
       "    }\n",
       "\n",
       "    .dataframe thead th {\n",
       "        text-align: right;\n",
       "    }\n",
       "</style>\n",
       "<table border=\"1\" class=\"dataframe\">\n",
       "  <thead>\n",
       "    <tr style=\"text-align: right;\">\n",
       "      <th></th>\n",
       "      <th>newID</th>\n",
       "      <th>Date</th>\n",
       "      <th>YYYYMM</th>\n",
       "      <th>VPD</th>\n",
       "      <th>PPT</th>\n",
       "      <th>TMAX</th>\n",
       "      <th>Fire</th>\n",
       "      <th>fut1fire</th>\n",
       "    </tr>\n",
       "  </thead>\n",
       "  <tbody>\n",
       "    <tr>\n",
       "      <th>0</th>\n",
       "      <td>1</td>\n",
       "      <td>1999-01-01</td>\n",
       "      <td>199901</td>\n",
       "      <td>5.318143</td>\n",
       "      <td>289.466287</td>\n",
       "      <td>12.153000</td>\n",
       "      <td>0</td>\n",
       "      <td>0.0</td>\n",
       "    </tr>\n",
       "    <tr>\n",
       "      <th>1</th>\n",
       "      <td>1</td>\n",
       "      <td>1999-02-01</td>\n",
       "      <td>199902</td>\n",
       "      <td>4.519571</td>\n",
       "      <td>508.476711</td>\n",
       "      <td>10.698429</td>\n",
       "      <td>0</td>\n",
       "      <td>0.0</td>\n",
       "    </tr>\n",
       "    <tr>\n",
       "      <th>2</th>\n",
       "      <td>1</td>\n",
       "      <td>1999-03-01</td>\n",
       "      <td>199903</td>\n",
       "      <td>5.311428</td>\n",
       "      <td>309.567858</td>\n",
       "      <td>11.620428</td>\n",
       "      <td>0</td>\n",
       "      <td>0.0</td>\n",
       "    </tr>\n",
       "    <tr>\n",
       "      <th>3</th>\n",
       "      <td>1</td>\n",
       "      <td>1999-04-01</td>\n",
       "      <td>199904</td>\n",
       "      <td>7.304143</td>\n",
       "      <td>82.425429</td>\n",
       "      <td>13.764143</td>\n",
       "      <td>0</td>\n",
       "      <td>0.0</td>\n",
       "    </tr>\n",
       "    <tr>\n",
       "      <th>4</th>\n",
       "      <td>1</td>\n",
       "      <td>1999-05-01</td>\n",
       "      <td>199905</td>\n",
       "      <td>5.658571</td>\n",
       "      <td>119.406572</td>\n",
       "      <td>14.522286</td>\n",
       "      <td>0</td>\n",
       "      <td>0.0</td>\n",
       "    </tr>\n",
       "    <tr>\n",
       "      <th>...</th>\n",
       "      <td>...</td>\n",
       "      <td>...</td>\n",
       "      <td>...</td>\n",
       "      <td>...</td>\n",
       "      <td>...</td>\n",
       "      <td>...</td>\n",
       "      <td>...</td>\n",
       "      <td>...</td>\n",
       "    </tr>\n",
       "    <tr>\n",
       "      <th>1217963</th>\n",
       "      <td>4517</td>\n",
       "      <td>2021-08-01</td>\n",
       "      <td>202108</td>\n",
       "      <td>24.241250</td>\n",
       "      <td>1.711850</td>\n",
       "      <td>29.326550</td>\n",
       "      <td>0</td>\n",
       "      <td>0.0</td>\n",
       "    </tr>\n",
       "    <tr>\n",
       "      <th>1217964</th>\n",
       "      <td>4517</td>\n",
       "      <td>2021-09-01</td>\n",
       "      <td>202109</td>\n",
       "      <td>21.749450</td>\n",
       "      <td>8.002600</td>\n",
       "      <td>27.934199</td>\n",
       "      <td>0</td>\n",
       "      <td>0.0</td>\n",
       "    </tr>\n",
       "    <tr>\n",
       "      <th>1217965</th>\n",
       "      <td>4517</td>\n",
       "      <td>2021-10-01</td>\n",
       "      <td>202110</td>\n",
       "      <td>22.783499</td>\n",
       "      <td>27.762850</td>\n",
       "      <td>24.977949</td>\n",
       "      <td>0</td>\n",
       "      <td>0.0</td>\n",
       "    </tr>\n",
       "    <tr>\n",
       "      <th>1217966</th>\n",
       "      <td>4517</td>\n",
       "      <td>2021-11-01</td>\n",
       "      <td>202111</td>\n",
       "      <td>22.209550</td>\n",
       "      <td>0.000000</td>\n",
       "      <td>24.351800</td>\n",
       "      <td>0</td>\n",
       "      <td>0.0</td>\n",
       "    </tr>\n",
       "    <tr>\n",
       "      <th>1217967</th>\n",
       "      <td>4517</td>\n",
       "      <td>2021-12-01</td>\n",
       "      <td>202112</td>\n",
       "      <td>11.387200</td>\n",
       "      <td>107.264397</td>\n",
       "      <td>17.097599</td>\n",
       "      <td>0</td>\n",
       "      <td>0.0</td>\n",
       "    </tr>\n",
       "  </tbody>\n",
       "</table>\n",
       "<p>1213572 rows × 8 columns</p>\n",
       "</div>"
      ],
      "text/plain": [
       "         newID        Date  YYYYMM        VPD         PPT       TMAX  Fire  \\\n",
       "0            1  1999-01-01  199901   5.318143  289.466287  12.153000     0   \n",
       "1            1  1999-02-01  199902   4.519571  508.476711  10.698429     0   \n",
       "2            1  1999-03-01  199903   5.311428  309.567858  11.620428     0   \n",
       "3            1  1999-04-01  199904   7.304143   82.425429  13.764143     0   \n",
       "4            1  1999-05-01  199905   5.658571  119.406572  14.522286     0   \n",
       "...        ...         ...     ...        ...         ...        ...   ...   \n",
       "1217963   4517  2021-08-01  202108  24.241250    1.711850  29.326550     0   \n",
       "1217964   4517  2021-09-01  202109  21.749450    8.002600  27.934199     0   \n",
       "1217965   4517  2021-10-01  202110  22.783499   27.762850  24.977949     0   \n",
       "1217966   4517  2021-11-01  202111  22.209550    0.000000  24.351800     0   \n",
       "1217967   4517  2021-12-01  202112  11.387200  107.264397  17.097599     0   \n",
       "\n",
       "         fut1fire  \n",
       "0             0.0  \n",
       "1             0.0  \n",
       "2             0.0  \n",
       "3             0.0  \n",
       "4             0.0  \n",
       "...           ...  \n",
       "1217963       0.0  \n",
       "1217964       0.0  \n",
       "1217965       0.0  \n",
       "1217966       0.0  \n",
       "1217967       0.0  \n",
       "\n",
       "[1213572 rows x 8 columns]"
      ]
     },
     "execution_count": 175,
     "metadata": {},
     "output_type": "execute_result"
    }
   ],
   "source": [
    "data"
   ]
  },
  {
   "cell_type": "code",
   "execution_count": 176,
   "id": "d1e59f30-a5b8-4dde-ad91-f675010b2bd7",
   "metadata": {},
   "outputs": [],
   "source": [
    "data = data[pd.to_datetime(data['Date']).dt.strftime('%B') == 'June']"
   ]
  },
  {
   "cell_type": "code",
   "execution_count": 177,
   "id": "e8b33547-372c-422d-a755-a90412e4940d",
   "metadata": {},
   "outputs": [],
   "source": [
    "array = data.values"
   ]
  },
  {
   "cell_type": "code",
   "execution_count": 178,
   "id": "acac783e-3551-49c3-a8a1-e4f7d7b915e8",
   "metadata": {},
   "outputs": [
    {
     "data": {
      "image/png": "[encoded data removed]",
      "text/plain": [
       "<Figure size 432x288 with 1 Axes>"
      ]
     },
     "metadata": {
      "needs_background": "light"
     },
     "output_type": "display_data"
    },
    {
     "data": {
      "image/png": "[encoded data removed]",
      "text/plain": [
       "<Figure size 432x288 with 1 Axes>"
      ]
     },
     "metadata": {
      "needs_background": "light"
     },
     "output_type": "display_data"
    }
   ],
   "source": [
    "plt.clf()\n",
    "plt.scatter(data['TMAX'], data['VPD'])\n",
    "plt.scatter(data['TMAX'], data['fut1fire'], c='red')\n",
    "plt.show()\n",
    "plt.clf()\n",
    "plt.scatter(data['PPT'], data['TMAX'])\n",
    "plt.scatter(data['PPT'], data['fut1fire'], c='red')\n",
    "plt.show()"
   ]
  },
  {
   "cell_type": "code",
   "execution_count": 179,
   "id": "e81b0395-aba6-400a-a887-b75d5ecfdc1d",
   "metadata": {},
   "outputs": [
    {
     "data": {
      "text/plain": [
       "array([[1, '1999-06-01', 199906, ..., 16.55842876434326, 0, 0.0],\n",
       "       [1, '2000-06-01', 200006, ..., 17.454571178981237, 0, 0.0],\n",
       "       [1, '2001-06-01', 200106, ..., 17.932857377188547, 0, 0.0],\n",
       "       ...,\n",
       "       [4517, '2019-06-01', 201906, ..., 25.501999855041504, 0, 0.0],\n",
       "       [4517, '2020-06-01', 202006, ..., 26.536999702453613, 0, 0.0],\n",
       "       [4517, '2021-06-01', 202106, ..., 26.24650001525879, 0, 0.0]],\n",
       "      dtype=object)"
      ]
     },
     "execution_count": 179,
     "metadata": {},
     "output_type": "execute_result"
    }
   ],
   "source": [
    "array"
   ]
  },
  {
   "cell_type": "code",
   "execution_count": 180,
   "id": "05bf4940-6018-4055-8d70-9f590b74fdd0",
   "metadata": {},
   "outputs": [],
   "source": [
    "X = array[:,3:6]\n",
    "y = array[:,7]"
   ]
  },
  {
   "cell_type": "code",
   "execution_count": 181,
   "id": "27777531-0227-4329-94c6-5fdf79c281ee",
   "metadata": {},
   "outputs": [
    {
     "data": {
      "text/plain": [
       "array([0.0, 0.0, 0.0, ..., 0.0, 0.0, 0.0], dtype=object)"
      ]
     },
     "execution_count": 181,
     "metadata": {},
     "output_type": "execute_result"
    }
   ],
   "source": [
    "y"
   ]
  },
  {
   "cell_type": "code",
   "execution_count": 182,
   "id": "64e0f0ae-aab6-42b6-ad4a-fe1f19e74ef3",
   "metadata": {},
   "outputs": [],
   "source": [
    "X_train, X_test, y_train, y_test = train_test_split(X, y, test_size=0.20)\n",
    "\n",
    "X_train = X_train.astype('float')\n",
    "\n",
    "y_train = y_train.astype('bool')\n",
    "\n",
    "X_test = X_test.astype('float')\n",
    "\n",
    "y_test = y_test.astype('bool')"
   ]
  },
  {
   "cell_type": "code",
   "execution_count": 184,
   "id": "6a5d82e7-ad9e-425f-9ca5-907ba0e285c4",
   "metadata": {},
   "outputs": [],
   "source": [
    "from imblearn.over_sampling import BorderlineSMOTE "
   ]
  },
  {
   "cell_type": "code",
   "execution_count": 185,
   "id": "50bcab67-118d-4e82-8425-22956ad2415d",
   "metadata": {},
   "outputs": [],
   "source": [
    "X_train_res, y_train_res = BorderlineSMOTE().fit_resample(X_train, y_train)"
   ]
  },
  {
   "cell_type": "code",
   "execution_count": 197,
   "id": "59341664-666d-4e1d-8d7f-882e5d32ffb3",
   "metadata": {},
   "outputs": [],
   "source": [
    "# Making predictions using scikit learn\n",
    "from sklearn.linear_model import *\n",
    "from sklearn.neighbors import KNeighborsClassifier\n",
    "from sklearn.discriminant_analysis import LinearDiscriminantAnalysis\n",
    "from sklearn.naive_bayes import GaussianNB\n",
    "from sklearn.svm import LinearSVC\n",
    "from sklearn.ensemble import RandomForestClassifier\n",
    "#import sklearn.ensemble.RandomForestClassifier"
   ]
  },
  {
   "cell_type": "code",
   "execution_count": 198,
   "id": "3ec4a643-d4bc-43ae-b32a-cb81ccd7f5d6",
   "metadata": {},
   "outputs": [
    {
     "data": {
      "text/plain": [
       "RandomForestClassifier()"
      ]
     },
     "execution_count": 198,
     "metadata": {},
     "output_type": "execute_result"
    }
   ],
   "source": [
    "# Create an instance and fit the model \n",
    "lr_model = RandomForestClassifier()\n",
    "lr_model.fit(X_train_res, y_train_res)"
   ]
  },
  {
   "cell_type": "code",
   "execution_count": 199,
   "id": "72dca6d9-f962-44f4-a866-c384f03c3f3b",
   "metadata": {},
   "outputs": [
    {
     "data": {
      "text/plain": [
       "'# Making predictions\\ny_pred_sk = lr_model.predict(X_test)\\nplt.clf()\\nplt.scatter([i[1] for i in X_test], y_test)\\nplt.show()\\n\\nplt.clf()\\nplt.scatter([i[1] for i in X_test], y_pred_sk, c=\"red\")\\nplt.show()\\n\\nplt.clf()\\nplt.scatter([i[1] for i in X_test], y_test)\\nplt.scatter([i[1] for i in X_test], y_pred_sk, c=\"red\")\\nplt.show()'"
      ]
     },
     "execution_count": 199,
     "metadata": {},
     "output_type": "execute_result"
    }
   ],
   "source": [
    "'''# Making predictions\n",
    "y_pred_sk = lr_model.predict(X_test)\n",
    "plt.clf()\n",
    "plt.scatter([i[1] for i in X_test], y_test)\n",
    "plt.show()\n",
    "\n",
    "plt.clf()\n",
    "plt.scatter([i[1] for i in X_test], y_pred_sk, c=\"red\")\n",
    "plt.show()\n",
    "\n",
    "plt.clf()\n",
    "plt.scatter([i[1] for i in X_test], y_test)\n",
    "plt.scatter([i[1] for i in X_test], y_pred_sk, c=\"red\")\n",
    "plt.show()'''"
   ]
  },
  {
   "cell_type": "code",
   "execution_count": 200,
   "id": "ead63a84-5877-47f8-983d-84acb09d8b35",
   "metadata": {},
   "outputs": [
    {
     "name": "stdout",
     "output_type": "stream",
     "text": [
      "Accuracy = 0.9326148217728778\n"
     ]
    }
   ],
   "source": [
    "# Accuracy\n",
    "print(f\"Accuracy = {lr_model.score(X_test, y_test)}\")"
   ]
  },
  {
   "cell_type": "code",
   "execution_count": 201,
   "id": "d31e387f-20dc-456e-8c11-598ba89b7fa6",
   "metadata": {},
   "outputs": [],
   "source": [
    "# X_train"
   ]
  },
  {
   "cell_type": "code",
   "execution_count": 202,
   "id": "a6377d77-0529-4aea-999d-67109472b7f8",
   "metadata": {},
   "outputs": [],
   "source": [
    "# y_train"
   ]
  },
  {
   "cell_type": "code",
   "execution_count": 203,
   "id": "46c946df-7411-41ab-9e0e-9ceabdb98a41",
   "metadata": {},
   "outputs": [],
   "source": [
    "# data[:10]"
   ]
  },
  {
   "cell_type": "code",
   "execution_count": 204,
   "id": "f62baf5b-e004-42c9-83ee-ae981f6e843f",
   "metadata": {},
   "outputs": [],
   "source": [
    "# data.describe()"
   ]
  },
  {
   "cell_type": "code",
   "execution_count": 205,
   "id": "a7a566b4-a868-4e25-b94a-85a9b5f83d01",
   "metadata": {},
   "outputs": [
    {
     "data": {
      "image/png": "[encoded data removed]",
      "text/plain": [
       "<Figure size 432x288 with 1 Axes>"
      ]
     },
     "metadata": {
      "needs_background": "light"
     },
     "output_type": "display_data"
    }
   ],
   "source": [
    "import sklearn.metrics as metrics\n",
    "# calculate the fpr and tpr for all thresholds of the classification\n",
    "#kfold = StratifiedKFold(n_splits=10, random_state=1, shuffle=True)\n",
    "#cv_results = cross_val_score(model, X_train, Y_train, cv=kfold, scoring='accuracy')\n",
    "probs = lr_model.predict_proba(X_test)\n",
    "preds = probs[:,1]\n",
    "fpr, tpr, threshold = metrics.roc_curve(y_test, preds)\n",
    "roc_auc = metrics.auc(fpr, tpr)\n",
    "\n",
    "import matplotlib.pyplot as plt\n",
    "plt.title('ROC')\n",
    "plt.plot(fpr, tpr, 'b', label = 'AUC = %0.2f' % roc_auc)\n",
    "plt.legend(loc = 'lower right')\n",
    "plt.plot([0, 1], [0, 1],'r--')\n",
    "plt.xlim([0, 1])\n",
    "plt.ylim([0, 1])\n",
    "plt.ylabel('True Positive Rate')\n",
    "plt.xlabel('False Positive Rate')\n",
    "plt.show()"
   ]
  }
 ],
 "metadata": {
  "kernelspec": {
   "display_name": "Python 3 (ipykernel)",
   "language": "python",
   "name": "python3"
  },
  "language_info": {
   "codemirror_mode": {
    "name": "ipython",
    "version": 3
   },
   "file_extension": ".py",
   "mimetype": "text/x-python",
   "name": "python",
   "nbconvert_exporter": "python",
   "pygments_lexer": "ipython3",
   "version": "3.9.7"
  }
 },
 "nbformat": 4,
 "nbformat_minor": 5
}

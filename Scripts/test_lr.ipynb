{
 "cells": [
  {
   "cell_type": "code",
   "execution_count": 2,
   "id": "9160cca6-be33-48a0-a280-39449f96859e",
   "metadata": {},
   "outputs": [],
   "source": [
    "import pandas as pd"
   ]
  },
  {
   "cell_type": "code",
   "execution_count": 3,
   "id": "3607e4f6-9331-4e35-af5b-d756c69b879f",
   "metadata": {},
   "outputs": [],
   "source": [
    "import numpy as np\n",
    "import pandas as pd\n",
    "import matplotlib.pyplot as plt\n",
    "from sklearn.model_selection import train_test_split\n",
    "from math import exp"
   ]
  },
  {
   "cell_type": "code",
   "execution_count": 4,
   "id": "2169e919-1cdc-4b58-a868-4d688c665587",
   "metadata": {},
   "outputs": [],
   "source": [
    "data = pd.read_csv(\"/Users/alekseyvalouev/Desktop/FireData/CSV/final_table_shifted.csv\")\n",
    "\n",
    "data = data.dropna(axis=0, subset=['fut1fire'])\n",
    "\n",
    "data2 = pd.read_csv('/Users/alekseyvalouev/Desktop/FireData/CSV/final_table_years.csv')\n",
    "\n",
    "data2 = data2.dropna(axis=0, subset=['fut1fire'])\n",
    "\n",
    "data2 = data2.dropna(axis=0, subset=['36MoFires'])"
   ]
  },
  {
   "cell_type": "code",
   "execution_count": 70,
   "id": "cadcd7be-f686-4006-8c6b-1d9b0ae4d15b",
   "metadata": {},
   "outputs": [
    {
     "data": {
      "text/plain": [
       "Index(['newID', 'Date', 'YYYYMM', 'Year', 'VPD', 'PPT', 'TMAX', 'left', 'top',\n",
       "       'HubDist', 'elev_meanm', 'slope_mean', 'popdensity', 'slope_dummy',\n",
       "       '36MoFires', '12MoFires', 'Diff', '1Mo_VPD', '2Mo_VPD', '3Mo_VPD',\n",
       "       '1Mo_TMAX', '2Mo_TMAX', '3Mo_TMAX', '1Mo_PPT', '2Mo_PPT', '3Mo_PPT',\n",
       "       '12MoMeanVPD', '12MoMeanTMAX', '12MoMeanPPT', 'Month', 'Fire',\n",
       "       'fut1fire', 'fut2fire', 'fut3fire'],\n",
       "      dtype='object')"
      ]
     },
     "execution_count": 70,
     "metadata": {},
     "output_type": "execute_result"
    }
   ],
   "source": [
    "data2.columns"
   ]
  },
  {
   "cell_type": "code",
   "execution_count": 88,
   "id": "d1e59f30-a5b8-4dde-ad91-f675010b2bd7",
   "metadata": {},
   "outputs": [
    {
     "data": {
      "text/html": [
       "<div>\n",
       "<style scoped>\n",
       "    .dataframe tbody tr th:only-of-type {\n",
       "        vertical-align: middle;\n",
       "    }\n",
       "\n",
       "    .dataframe tbody tr th {\n",
       "        vertical-align: top;\n",
       "    }\n",
       "\n",
       "    .dataframe thead th {\n",
       "        text-align: right;\n",
       "    }\n",
       "</style>\n",
       "<table border=\"1\" class=\"dataframe\">\n",
       "  <thead>\n",
       "    <tr style=\"text-align: right;\">\n",
       "      <th></th>\n",
       "      <th>newID</th>\n",
       "      <th>Date</th>\n",
       "      <th>YYYYMM</th>\n",
       "      <th>Year</th>\n",
       "      <th>VPD</th>\n",
       "      <th>PPT</th>\n",
       "      <th>TMAX</th>\n",
       "      <th>left</th>\n",
       "      <th>top</th>\n",
       "      <th>HubDist</th>\n",
       "      <th>...</th>\n",
       "      <th>2Mo_PPT</th>\n",
       "      <th>3Mo_PPT</th>\n",
       "      <th>12MoMeanVPD</th>\n",
       "      <th>12MoMeanTMAX</th>\n",
       "      <th>12MoMeanPPT</th>\n",
       "      <th>Month</th>\n",
       "      <th>Fire</th>\n",
       "      <th>fut1fire</th>\n",
       "      <th>fut2fire</th>\n",
       "      <th>fut3fire</th>\n",
       "    </tr>\n",
       "  </thead>\n",
       "  <tbody>\n",
       "    <tr>\n",
       "      <th>36</th>\n",
       "      <td>1</td>\n",
       "      <td>2002-01-01</td>\n",
       "      <td>200201</td>\n",
       "      <td>2002</td>\n",
       "      <td>4.283429</td>\n",
       "      <td>350.124429</td>\n",
       "      <td>11.391571</td>\n",
       "      <td>-124.301341</td>\n",
       "      <td>42.055424</td>\n",
       "      <td>3658.694708</td>\n",
       "      <td>...</td>\n",
       "      <td>14.109857</td>\n",
       "      <td>17.405143</td>\n",
       "      <td>6.335667</td>\n",
       "      <td>15.226559</td>\n",
       "      <td>137.125548</td>\n",
       "      <td>0.0</td>\n",
       "      <td>0</td>\n",
       "      <td>0.0</td>\n",
       "      <td>0.0</td>\n",
       "      <td>0.0</td>\n",
       "    </tr>\n",
       "    <tr>\n",
       "      <th>313</th>\n",
       "      <td>2</td>\n",
       "      <td>2002-01-01</td>\n",
       "      <td>200201</td>\n",
       "      <td>2002</td>\n",
       "      <td>3.826500</td>\n",
       "      <td>400.322505</td>\n",
       "      <td>10.289834</td>\n",
       "      <td>-124.201341</td>\n",
       "      <td>42.055424</td>\n",
       "      <td>4926.625172</td>\n",
       "      <td>...</td>\n",
       "      <td>13.638500</td>\n",
       "      <td>20.400333</td>\n",
       "      <td>9.725583</td>\n",
       "      <td>17.123194</td>\n",
       "      <td>147.513195</td>\n",
       "      <td>0.0</td>\n",
       "      <td>0</td>\n",
       "      <td>0.0</td>\n",
       "      <td>0.0</td>\n",
       "      <td>0.0</td>\n",
       "    </tr>\n",
       "    <tr>\n",
       "      <th>590</th>\n",
       "      <td>3</td>\n",
       "      <td>2002-01-01</td>\n",
       "      <td>200201</td>\n",
       "      <td>2002</td>\n",
       "      <td>3.453833</td>\n",
       "      <td>432.551997</td>\n",
       "      <td>9.616500</td>\n",
       "      <td>-124.101341</td>\n",
       "      <td>42.055424</td>\n",
       "      <td>11649.734645</td>\n",
       "      <td>...</td>\n",
       "      <td>13.258000</td>\n",
       "      <td>21.137000</td>\n",
       "      <td>11.526361</td>\n",
       "      <td>17.932514</td>\n",
       "      <td>156.439597</td>\n",
       "      <td>0.0</td>\n",
       "      <td>0</td>\n",
       "      <td>0.0</td>\n",
       "      <td>0.0</td>\n",
       "      <td>0.0</td>\n",
       "    </tr>\n",
       "    <tr>\n",
       "      <th>867</th>\n",
       "      <td>4</td>\n",
       "      <td>2002-01-01</td>\n",
       "      <td>200201</td>\n",
       "      <td>2002</td>\n",
       "      <td>4.441556</td>\n",
       "      <td>491.909336</td>\n",
       "      <td>8.627889</td>\n",
       "      <td>-124.001341</td>\n",
       "      <td>42.055424</td>\n",
       "      <td>17830.887457</td>\n",
       "      <td>...</td>\n",
       "      <td>12.341111</td>\n",
       "      <td>20.358889</td>\n",
       "      <td>14.074556</td>\n",
       "      <td>18.259870</td>\n",
       "      <td>180.370926</td>\n",
       "      <td>0.0</td>\n",
       "      <td>0</td>\n",
       "      <td>0.0</td>\n",
       "      <td>0.0</td>\n",
       "      <td>0.0</td>\n",
       "    </tr>\n",
       "    <tr>\n",
       "      <th>1144</th>\n",
       "      <td>5</td>\n",
       "      <td>2002-01-01</td>\n",
       "      <td>200201</td>\n",
       "      <td>2002</td>\n",
       "      <td>4.626500</td>\n",
       "      <td>519.459508</td>\n",
       "      <td>7.754333</td>\n",
       "      <td>-123.901341</td>\n",
       "      <td>42.055424</td>\n",
       "      <td>9621.080189</td>\n",
       "      <td>...</td>\n",
       "      <td>11.172667</td>\n",
       "      <td>19.092667</td>\n",
       "      <td>13.839278</td>\n",
       "      <td>17.358403</td>\n",
       "      <td>191.672485</td>\n",
       "      <td>0.0</td>\n",
       "      <td>0</td>\n",
       "      <td>0.0</td>\n",
       "      <td>0.0</td>\n",
       "      <td>0.0</td>\n",
       "    </tr>\n",
       "    <tr>\n",
       "      <th>...</th>\n",
       "      <td>...</td>\n",
       "      <td>...</td>\n",
       "      <td>...</td>\n",
       "      <td>...</td>\n",
       "      <td>...</td>\n",
       "      <td>...</td>\n",
       "      <td>...</td>\n",
       "      <td>...</td>\n",
       "      <td>...</td>\n",
       "      <td>...</td>\n",
       "      <td>...</td>\n",
       "      <td>...</td>\n",
       "      <td>...</td>\n",
       "      <td>...</td>\n",
       "      <td>...</td>\n",
       "      <td>...</td>\n",
       "      <td>...</td>\n",
       "      <td>...</td>\n",
       "      <td>...</td>\n",
       "      <td>...</td>\n",
       "      <td>...</td>\n",
       "    </tr>\n",
       "    <tr>\n",
       "      <th>1216859</th>\n",
       "      <td>4512</td>\n",
       "      <td>2021-12-01</td>\n",
       "      <td>202112</td>\n",
       "      <td>2021</td>\n",
       "      <td>19.652550</td>\n",
       "      <td>10.393700</td>\n",
       "      <td>21.511600</td>\n",
       "      <td>-115.701341</td>\n",
       "      <td>32.655424</td>\n",
       "      <td>8199.756390</td>\n",
       "      <td>...</td>\n",
       "      <td>31.235800</td>\n",
       "      <td>39.572899</td>\n",
       "      <td>41.707737</td>\n",
       "      <td>31.771062</td>\n",
       "      <td>3.247512</td>\n",
       "      <td>-0.5</td>\n",
       "      <td>0</td>\n",
       "      <td>0.0</td>\n",
       "      <td>NaN</td>\n",
       "      <td>NaN</td>\n",
       "    </tr>\n",
       "    <tr>\n",
       "      <th>1217136</th>\n",
       "      <td>4514</td>\n",
       "      <td>2021-12-01</td>\n",
       "      <td>202112</td>\n",
       "      <td>2021</td>\n",
       "      <td>7.788333</td>\n",
       "      <td>78.411265</td>\n",
       "      <td>16.261600</td>\n",
       "      <td>-117.201341</td>\n",
       "      <td>32.555424</td>\n",
       "      <td>9302.807544</td>\n",
       "      <td>...</td>\n",
       "      <td>21.818099</td>\n",
       "      <td>22.083633</td>\n",
       "      <td>10.107128</td>\n",
       "      <td>19.995158</td>\n",
       "      <td>12.918264</td>\n",
       "      <td>-0.5</td>\n",
       "      <td>0</td>\n",
       "      <td>0.0</td>\n",
       "      <td>NaN</td>\n",
       "      <td>NaN</td>\n",
       "    </tr>\n",
       "    <tr>\n",
       "      <th>1217413</th>\n",
       "      <td>4515</td>\n",
       "      <td>2021-12-01</td>\n",
       "      <td>202112</td>\n",
       "      <td>2021</td>\n",
       "      <td>8.986200</td>\n",
       "      <td>85.628124</td>\n",
       "      <td>16.767900</td>\n",
       "      <td>-117.101341</td>\n",
       "      <td>32.555424</td>\n",
       "      <td>4558.517518</td>\n",
       "      <td>...</td>\n",
       "      <td>23.552724</td>\n",
       "      <td>23.592050</td>\n",
       "      <td>12.647156</td>\n",
       "      <td>20.955750</td>\n",
       "      <td>14.092894</td>\n",
       "      <td>-0.5</td>\n",
       "      <td>0</td>\n",
       "      <td>0.0</td>\n",
       "      <td>NaN</td>\n",
       "      <td>NaN</td>\n",
       "    </tr>\n",
       "    <tr>\n",
       "      <th>1217690</th>\n",
       "      <td>4516</td>\n",
       "      <td>2021-12-01</td>\n",
       "      <td>202112</td>\n",
       "      <td>2021</td>\n",
       "      <td>9.966675</td>\n",
       "      <td>88.875797</td>\n",
       "      <td>17.117199</td>\n",
       "      <td>-117.001341</td>\n",
       "      <td>32.555424</td>\n",
       "      <td>5109.923928</td>\n",
       "      <td>...</td>\n",
       "      <td>24.445049</td>\n",
       "      <td>26.479399</td>\n",
       "      <td>15.948952</td>\n",
       "      <td>22.572979</td>\n",
       "      <td>14.055881</td>\n",
       "      <td>-0.5</td>\n",
       "      <td>0</td>\n",
       "      <td>0.0</td>\n",
       "      <td>NaN</td>\n",
       "      <td>NaN</td>\n",
       "    </tr>\n",
       "    <tr>\n",
       "      <th>1217967</th>\n",
       "      <td>4517</td>\n",
       "      <td>2021-12-01</td>\n",
       "      <td>202112</td>\n",
       "      <td>2021</td>\n",
       "      <td>11.387200</td>\n",
       "      <td>107.264397</td>\n",
       "      <td>17.097599</td>\n",
       "      <td>-116.901341</td>\n",
       "      <td>32.555424</td>\n",
       "      <td>9607.776316</td>\n",
       "      <td>...</td>\n",
       "      <td>24.977949</td>\n",
       "      <td>27.934199</td>\n",
       "      <td>18.492925</td>\n",
       "      <td>23.354562</td>\n",
       "      <td>16.793679</td>\n",
       "      <td>-0.5</td>\n",
       "      <td>0</td>\n",
       "      <td>0.0</td>\n",
       "      <td>NaN</td>\n",
       "      <td>NaN</td>\n",
       "    </tr>\n",
       "  </tbody>\n",
       "</table>\n",
       "<p>1055280 rows × 34 columns</p>\n",
       "</div>"
      ],
      "text/plain": [
       "         newID        Date  YYYYMM  Year        VPD         PPT       TMAX  \\\n",
       "36           1  2002-01-01  200201  2002   4.283429  350.124429  11.391571   \n",
       "313          2  2002-01-01  200201  2002   3.826500  400.322505  10.289834   \n",
       "590          3  2002-01-01  200201  2002   3.453833  432.551997   9.616500   \n",
       "867          4  2002-01-01  200201  2002   4.441556  491.909336   8.627889   \n",
       "1144         5  2002-01-01  200201  2002   4.626500  519.459508   7.754333   \n",
       "...        ...         ...     ...   ...        ...         ...        ...   \n",
       "1216859   4512  2021-12-01  202112  2021  19.652550   10.393700  21.511600   \n",
       "1217136   4514  2021-12-01  202112  2021   7.788333   78.411265  16.261600   \n",
       "1217413   4515  2021-12-01  202112  2021   8.986200   85.628124  16.767900   \n",
       "1217690   4516  2021-12-01  202112  2021   9.966675   88.875797  17.117199   \n",
       "1217967   4517  2021-12-01  202112  2021  11.387200  107.264397  17.097599   \n",
       "\n",
       "               left        top       HubDist  ...    2Mo_PPT    3Mo_PPT  \\\n",
       "36      -124.301341  42.055424   3658.694708  ...  14.109857  17.405143   \n",
       "313     -124.201341  42.055424   4926.625172  ...  13.638500  20.400333   \n",
       "590     -124.101341  42.055424  11649.734645  ...  13.258000  21.137000   \n",
       "867     -124.001341  42.055424  17830.887457  ...  12.341111  20.358889   \n",
       "1144    -123.901341  42.055424   9621.080189  ...  11.172667  19.092667   \n",
       "...             ...        ...           ...  ...        ...        ...   \n",
       "1216859 -115.701341  32.655424   8199.756390  ...  31.235800  39.572899   \n",
       "1217136 -117.201341  32.555424   9302.807544  ...  21.818099  22.083633   \n",
       "1217413 -117.101341  32.555424   4558.517518  ...  23.552724  23.592050   \n",
       "1217690 -117.001341  32.555424   5109.923928  ...  24.445049  26.479399   \n",
       "1217967 -116.901341  32.555424   9607.776316  ...  24.977949  27.934199   \n",
       "\n",
       "         12MoMeanVPD  12MoMeanTMAX  12MoMeanPPT  Month  Fire  fut1fire  \\\n",
       "36          6.335667     15.226559   137.125548    0.0     0       0.0   \n",
       "313         9.725583     17.123194   147.513195    0.0     0       0.0   \n",
       "590        11.526361     17.932514   156.439597    0.0     0       0.0   \n",
       "867        14.074556     18.259870   180.370926    0.0     0       0.0   \n",
       "1144       13.839278     17.358403   191.672485    0.0     0       0.0   \n",
       "...              ...           ...          ...    ...   ...       ...   \n",
       "1216859    41.707737     31.771062     3.247512   -0.5     0       0.0   \n",
       "1217136    10.107128     19.995158    12.918264   -0.5     0       0.0   \n",
       "1217413    12.647156     20.955750    14.092894   -0.5     0       0.0   \n",
       "1217690    15.948952     22.572979    14.055881   -0.5     0       0.0   \n",
       "1217967    18.492925     23.354562    16.793679   -0.5     0       0.0   \n",
       "\n",
       "         fut2fire  fut3fire  \n",
       "36            0.0       0.0  \n",
       "313           0.0       0.0  \n",
       "590           0.0       0.0  \n",
       "867           0.0       0.0  \n",
       "1144          0.0       0.0  \n",
       "...           ...       ...  \n",
       "1216859       NaN       NaN  \n",
       "1217136       NaN       NaN  \n",
       "1217413       NaN       NaN  \n",
       "1217690       NaN       NaN  \n",
       "1217967       NaN       NaN  \n",
       "\n",
       "[1055280 rows x 34 columns]"
      ]
     },
     "execution_count": 88,
     "metadata": {},
     "output_type": "execute_result"
    }
   ],
   "source": [
    "#data = data[pd.to_datetime(data['Date']).dt.strftime('%B') == 'June']\n",
    "#data2 = data2[pd.to_datetime(data2['Date']).dt.strftime('%B') == 'June']\n",
    "\n",
    "data2 = data2.sort_values([\"Date\", \"newID\"])\n",
    "data2"
   ]
  },
  {
   "cell_type": "code",
   "execution_count": 89,
   "id": "4aee9201-e522-4b12-b983-f61149d7915b",
   "metadata": {},
   "outputs": [
    {
     "data": {
      "text/plain": [
       "['Year',\n",
       " 'VPD',\n",
       " 'PPT',\n",
       " 'TMAX',\n",
       " 'left',\n",
       " 'top',\n",
       " 'HubDist',\n",
       " 'elev_meanm',\n",
       " 'slope_mean',\n",
       " 'popdensity',\n",
       " 'slope_dummy',\n",
       " '36MoFires',\n",
       " '12MoFires',\n",
       " 'Diff',\n",
       " '1Mo_VPD',\n",
       " '2Mo_VPD',\n",
       " '3Mo_VPD',\n",
       " '1Mo_TMAX',\n",
       " '2Mo_TMAX',\n",
       " '3Mo_TMAX',\n",
       " '1Mo_PPT',\n",
       " '2Mo_PPT',\n",
       " '3Mo_PPT',\n",
       " '12MoMeanVPD',\n",
       " '12MoMeanTMAX',\n",
       " '12MoMeanPPT',\n",
       " 'Month']"
      ]
     },
     "execution_count": 106,
     "metadata": {},
     "output_type": "execute_result"
    }
   ],
   "source": [
    "cols = data2.columns.tolist()\n",
    "\n",
    "#cols[3:30]"
   ]
  },
  {
   "cell_type": "code",
   "execution_count": 90,
   "id": "e8b33547-372c-422d-a755-a90412e4940d",
   "metadata": {},
   "outputs": [],
   "source": [
    "array = data.values\n",
    "array2 = data2.values"
   ]
  },
  {
   "cell_type": "code",
   "execution_count": 91,
   "id": "def0fa2a-0940-4d49-a3c7-711d68922080",
   "metadata": {},
   "outputs": [
    {
     "data": {
      "text/plain": [
       "array([[1, '2002-01-01', 200201, ..., 0.0, 0.0, 0.0],\n",
       "       [2, '2002-01-01', 200201, ..., 0.0, 0.0, 0.0],\n",
       "       [3, '2002-01-01', 200201, ..., 0.0, 0.0, 0.0],\n",
       "       ...,\n",
       "       [4515, '2021-12-01', 202112, ..., 0.0, nan, nan],\n",
       "       [4516, '2021-12-01', 202112, ..., 0.0, nan, nan],\n",
       "       [4517, '2021-12-01', 202112, ..., 0.0, nan, nan]], dtype=object)"
      ]
     },
     "execution_count": 91,
     "metadata": {},
     "output_type": "execute_result"
    }
   ],
   "source": [
    "array2"
   ]
  },
  {
   "cell_type": "code",
   "execution_count": 92,
   "id": "05bf4940-6018-4055-8d70-9f590b74fdd0",
   "metadata": {},
   "outputs": [],
   "source": [
    "X = array[:,3:6]\n",
    "y = array[:,7]\n",
    "\n",
    "X = X.astype('float')\n",
    "y = y.astype('bool')\n",
    "\n",
    "X2 = array2[:,3:30]\n",
    "#X2 = array2[:,6:8]\n",
    "y2 = array2[:,-3]\n",
    "\n",
    "X2 = X2.astype('float')\n",
    "y2 = y2.astype('bool')"
   ]
  },
  {
   "cell_type": "code",
   "execution_count": 93,
   "id": "c9d9970a-3657-4aa5-a283-7c8a40c9d22f",
   "metadata": {},
   "outputs": [],
   "source": [
    "from sklearn.preprocessing import StandardScaler\n",
    "from imblearn.over_sampling import BorderlineSMOTE \n",
    "from sklearn.ensemble import RandomForestClassifier\n",
    "\n",
    "def create_rf_model(X, y):\n",
    "    scaler = StandardScaler()\n",
    "  \n",
    "    X = scaler.fit_transform(X)\n",
    "\n",
    "    X_train, X_test, y_train, y_test = train_test_split(X, y, test_size=0.10, shuffle=False)\n",
    "    #X_train, X_test, y_train, y_test = X[:len(X)-int(len(X)/11)], X[len(X)-int(len(X)/11):], y[:len(y)-int(len(y)/11)], y[len(y)-int(len(y)/11):]\n",
    "\n",
    "    X_train = X_train.astype('float')\n",
    "\n",
    "    y_train = y_train.astype('bool')\n",
    "\n",
    "    X_test = X_test.astype('float')\n",
    "\n",
    "    y_test = y_test.astype('bool')\n",
    "    \n",
    "    X_train_res, y_train_res = BorderlineSMOTE().fit_resample(X_train, y_train)\n",
    "    \n",
    "    rf_model = RandomForestClassifier(n_jobs=-1)\n",
    "    \n",
    "    rf_model.fit(X_train_res, y_train_res)\n",
    "    \n",
    "    return rf_model, X_test, y_test"
   ]
  },
  {
   "cell_type": "code",
   "execution_count": 94,
   "id": "3ec4a643-d4bc-43ae-b32a-cb81ccd7f5d6",
   "metadata": {},
   "outputs": [],
   "source": [
    "# Create an instance and fit the model \n",
    "#lr_model, X_test, y_test = create_rf_model(X, y)\n",
    "\n",
    "lr_model2, X_test2, y_test2 = create_rf_model(X2, y2)"
   ]
  },
  {
   "cell_type": "code",
   "execution_count": 95,
   "id": "ead63a84-5877-47f8-983d-84acb09d8b35",
   "metadata": {},
   "outputs": [],
   "source": [
    "# Accuracy\n",
    "# print(f\"Accuracy = {lr_model.score(X_test, y_test)}\")"
   ]
  },
  {
   "cell_type": "code",
   "execution_count": 96,
   "id": "a7a566b4-a868-4e25-b94a-85a9b5f83d01",
   "metadata": {},
   "outputs": [
    {
     "name": "stderr",
     "output_type": "stream",
     "text": [
      "/var/folders/tn/1hx74qln26x7jlmq6t6mlyqm0000gn/T/ipykernel_4874/224860472.py:17: UserWarning: color is redundantly defined by the 'color' keyword argument and the fmt string \"b\" (-> color=(0.0, 0.0, 1.0, 1)). The keyword argument will take precedence.\n",
      "  plt.plot(fpr, tpr, 'b', label = 'AUC = %0.2f' % roc_auc, color='b')\n",
      "/var/folders/tn/1hx74qln26x7jlmq6t6mlyqm0000gn/T/ipykernel_4874/224860472.py:18: UserWarning: color is redundantly defined by the 'color' keyword argument and the fmt string \"b\" (-> color=(0.0, 0.0, 1.0, 1)). The keyword argument will take precedence.\n",
      "  plt.plot(fpr2, tpr2, 'b', label = 'AUC = %0.2f' % roc_auc2, color='g')\n"
     ]
    },
    {
     "data": {
      "image/png": "[encoded data removed]",
      "text/plain": [
       "<Figure size 432x288 with 1 Axes>"
      ]
     },
     "metadata": {
      "needs_background": "light"
     },
     "output_type": "display_data"
    }
   ],
   "source": [
    "import sklearn.metrics as metrics\n",
    "# calculate the fpr and tpr for all thresholds of the classification\n",
    "#kfold = StratifiedKFold(n_splits=10, random_state=1, shuffle=True)\n",
    "#cv_results = cross_val_score(model, X_train, Y_train, cv=kfold, scoring='accuracy')\n",
    "probs = lr_model.predict_proba(X_test)\n",
    "preds = probs[:,1]\n",
    "fpr, tpr, threshold = metrics.roc_curve(y_test, preds)\n",
    "roc_auc = metrics.auc(fpr, tpr)\n",
    "\n",
    "probs2 = lr_model2.predict_proba(X_test2)\n",
    "preds2 = probs2[:,1]\n",
    "fpr2, tpr2, threshold2 = metrics.roc_curve(y_test2, preds2)\n",
    "roc_auc2 = metrics.auc(fpr2, tpr2)\n",
    "\n",
    "import matplotlib.pyplot as plt\n",
    "plt.title('ROC')\n",
    "plt.plot(fpr, tpr, 'b', label = 'AUC = %0.2f' % roc_auc, color='b')\n",
    "plt.plot(fpr2, tpr2, 'b', label = 'AUC = %0.2f' % roc_auc2, color='g')\n",
    "plt.legend(loc = 'lower right')\n",
    "plt.plot([0, 1], [0, 1],'r--')\n",
    "plt.xlim([0, 1])\n",
    "plt.ylim([0, 1])\n",
    "plt.ylabel('True Positive Rate')\n",
    "plt.xlabel('False Positive Rate')\n",
    "plt.show()"
   ]
  },
  {
   "cell_type": "code",
   "execution_count": 60,
   "id": "7762afca-8923-45e0-992c-9b1bcca36b60",
   "metadata": {},
   "outputs": [
    {
     "data": {
      "text/plain": [
       "Text(0.5, 0, 'Relative Importance')"
      ]
     },
     "execution_count": 60,
     "metadata": {},
     "output_type": "execute_result"
    },
    {
     "data": {
      "image/png": "[encoded data removed]",
      "text/plain": [
       "<Figure size 432x288 with 1 Axes>"
      ]
     },
     "metadata": {
      "needs_background": "light"
     },
     "output_type": "display_data"
    }
   ],
   "source": [
    "features=data.columns[[3,4,5]]\n",
    "importances = lr_model.feature_importances_\n",
    "indices = np.argsort(importances)\n",
    "\n",
    "plt.figure(1)\n",
    "plt.title('Feature Importances')\n",
    "plt.barh(range(len(indices)), importances[indices], color='b', align='center')\n",
    "plt.yticks(range(len(indices)), features[indices])\n",
    "plt.xlabel('Relative Importance')"
   ]
  },
  {
   "cell_type": "code",
   "execution_count": 80,
   "id": "ed3199bc-d011-4c58-908f-917798dd2dd5",
   "metadata": {},
   "outputs": [
    {
     "data": {
      "text/plain": [
       "Text(0.5, 0, 'Relative Importance')"
      ]
     },
     "execution_count": 80,
     "metadata": {},
     "output_type": "execute_result"
    },
    {
     "data": {
      "image/png": "[encoded data removed]",
      "text/plain": [
       "<Figure size 432x288 with 1 Axes>"
      ]
     },
     "metadata": {
      "needs_background": "light"
     },
     "output_type": "display_data"
    }
   ],
   "source": [
    "features=data2.columns[[3,4,5,6,7,8,9,10,11,12,13,14,15,16,17,18,19,20,21,22,23,24,25,26,27,28,29,30]]\n",
    "#features=data2.columns[[3,4,5,6,7,8,9,10,11,12,13,14,15,16,17,18,19,20,21,22,23,24]]\n",
    "#features=data2.columns[[6,7]]\n",
    "importances = lr_model2.feature_importances_\n",
    "indices = np.argsort(importances)\n",
    "\n",
    "plt.figure(1)\n",
    "plt.title('Feature Importances')\n",
    "plt.barh(range(len(indices)), importances[indices], color='g', align='center')\n",
    "plt.yticks(range(len(indices)), features[indices])\n",
    "plt.xlabel('Relative Importance')"
   ]
  },
  {
   "cell_type": "code",
   "execution_count": 97,
   "id": "14d054c0-10d6-4231-b7a5-163aa53071b3",
   "metadata": {},
   "outputs": [],
   "source": [
    "import numpy as np\n",
    "\n",
    "final_pred_data = pd.read_csv('/Users/alekseyvalouev/Desktop/FireData/CSV/final_table_3mofwd.csv')\n",
    "\n",
    "final_pred_data = final_pred_data[(pd.to_datetime(final_pred_data['Date']).dt.strftime('%Y') == '2021') & (pd.to_datetime(final_pred_data['Date']).dt.strftime('%B') == 'May')]\n",
    "\n",
    "pred_array = final_pred_data.values\n",
    "\n",
    "X_pred = pred_array[:,3:30]\n",
    "\n",
    "X_pred = X_pred.astype('float')\n",
    "\n",
    "pred_probs = lr_model2.predict_proba(X_pred)"
   ]
  },
  {
   "cell_type": "code",
   "execution_count": 98,
   "id": "46a30b11-5ac3-4f9e-bd45-79f809c87a81",
   "metadata": {},
   "outputs": [
    {
     "data": {
      "text/plain": [
       "array([[  6.6792857 ,  24.52342878,  14.82314287, ..., 142.80921374,\n",
       "          0.8660254 ,   0.        ],\n",
       "       [ 12.66166655,  23.39983368,  19.53733317, ..., 164.08690269,\n",
       "          0.8660254 ,   0.        ],\n",
       "       [ 14.93783347,  23.74616655,  20.96700001, ..., 178.4023337 ,\n",
       "          0.8660254 ,   0.        ],\n",
       "       ...,\n",
       "       [  8.40825009,   0.81275   ,  18.97949982, ...,  12.35606254,\n",
       "          0.8660254 ,   0.        ],\n",
       "       [ 11.78224993,   0.72374999,  21.0625    , ...,  12.4409791 ,\n",
       "          0.8660254 ,   0.        ],\n",
       "       [ 13.63749981,   0.30600001,  21.8135004 , ...,  15.59462507,\n",
       "          0.8660254 ,   0.        ]])"
      ]
     },
     "execution_count": 98,
     "metadata": {},
     "output_type": "execute_result"
    }
   ],
   "source": [
    "X_pred"
   ]
  },
  {
   "cell_type": "code",
   "execution_count": null,
   "id": "27fdc1e4-9b0a-4612-b87e-8bf5ae8827a4",
   "metadata": {},
   "outputs": [],
   "source": [
    "import numpy as np\n",
    "import geopandas as gpd\n",
    "from shapely.geometry import Point, Polygon\n",
    "\n",
    "out = np.concatenate((X_pred[:,3:5], pred_probs), axis=1)\n",
    "\n",
    "out_df = pd.DataFrame(out)\n",
    "\n",
    "out_df\n",
    "\n",
    "out_df.columns = out_df.columns.astype(str)\n",
    "\n",
    "geometry = [Point(xy) for xy in zip(out_df[\"0\"], out_df[\"1\"])]\n",
    "\n",
    "geo_poly = []\n",
    "\n",
    "t = [[0, 0], [0, 0.1], [0.1, 0.1], [0.1, 0]]\n",
    "\n",
    "for point in geometry:\n",
    "    tmp = []\n",
    "    for i in t:\n",
    "        tmp.append([point.x + i[0], point.y + i[1]])\n",
    "    \n",
    "    geo_poly.append(Polygon(tmp))"
   ]
  },
  {
   "cell_type": "code",
   "execution_count": null,
   "id": "6424e3c7-c3dc-4760-9f81-b5b8882ae74c",
   "metadata": {},
   "outputs": [
    {
     "data": {
      "text/html": [
       "<div>\n",
       "<style scoped>\n",
       "    .dataframe tbody tr th:only-of-type {\n",
       "        vertical-align: middle;\n",
       "    }\n",
       "\n",
       "    .dataframe tbody tr th {\n",
       "        vertical-align: top;\n",
       "    }\n",
       "\n",
       "    .dataframe thead th {\n",
       "        text-align: right;\n",
       "    }\n",
       "</style>\n",
       "<table border=\"1\" class=\"dataframe\">\n",
       "  <thead>\n",
       "    <tr style=\"text-align: right;\">\n",
       "      <th></th>\n",
       "      <th>0</th>\n",
       "      <th>1</th>\n",
       "      <th>2</th>\n",
       "      <th>3</th>\n",
       "      <th>geometry</th>\n",
       "    </tr>\n",
       "  </thead>\n",
       "  <tbody>\n",
       "    <tr>\n",
       "      <th>0</th>\n",
       "      <td>-124.301341</td>\n",
       "      <td>42.055424</td>\n",
       "      <td>0.88</td>\n",
       "      <td>0.12</td>\n",
       "      <td>POLYGON ((-124.30134 42.05542, -124.30134 42.1...</td>\n",
       "    </tr>\n",
       "    <tr>\n",
       "      <th>1</th>\n",
       "      <td>-124.201341</td>\n",
       "      <td>42.055424</td>\n",
       "      <td>0.88</td>\n",
       "      <td>0.12</td>\n",
       "      <td>POLYGON ((-124.20134 42.05542, -124.20134 42.1...</td>\n",
       "    </tr>\n",
       "    <tr>\n",
       "      <th>2</th>\n",
       "      <td>-124.101341</td>\n",
       "      <td>42.055424</td>\n",
       "      <td>0.88</td>\n",
       "      <td>0.12</td>\n",
       "      <td>POLYGON ((-124.10134 42.05542, -124.10134 42.1...</td>\n",
       "    </tr>\n",
       "    <tr>\n",
       "      <th>3</th>\n",
       "      <td>-124.001341</td>\n",
       "      <td>42.055424</td>\n",
       "      <td>0.88</td>\n",
       "      <td>0.12</td>\n",
       "      <td>POLYGON ((-124.00134 42.05542, -124.00134 42.1...</td>\n",
       "    </tr>\n",
       "    <tr>\n",
       "      <th>4</th>\n",
       "      <td>-123.901341</td>\n",
       "      <td>42.055424</td>\n",
       "      <td>0.88</td>\n",
       "      <td>0.12</td>\n",
       "      <td>POLYGON ((-123.90134 42.05542, -123.90134 42.1...</td>\n",
       "    </tr>\n",
       "    <tr>\n",
       "      <th>...</th>\n",
       "      <td>...</td>\n",
       "      <td>...</td>\n",
       "      <td>...</td>\n",
       "      <td>...</td>\n",
       "      <td>...</td>\n",
       "    </tr>\n",
       "    <tr>\n",
       "      <th>4392</th>\n",
       "      <td>-115.701341</td>\n",
       "      <td>32.655424</td>\n",
       "      <td>0.88</td>\n",
       "      <td>0.12</td>\n",
       "      <td>POLYGON ((-115.70134 32.65542, -115.70134 32.7...</td>\n",
       "    </tr>\n",
       "    <tr>\n",
       "      <th>4393</th>\n",
       "      <td>-117.201341</td>\n",
       "      <td>32.555424</td>\n",
       "      <td>0.88</td>\n",
       "      <td>0.12</td>\n",
       "      <td>POLYGON ((-117.20134 32.55542, -117.20134 32.6...</td>\n",
       "    </tr>\n",
       "    <tr>\n",
       "      <th>4394</th>\n",
       "      <td>-117.101341</td>\n",
       "      <td>32.555424</td>\n",
       "      <td>0.88</td>\n",
       "      <td>0.12</td>\n",
       "      <td>POLYGON ((-117.10134 32.55542, -117.10134 32.6...</td>\n",
       "    </tr>\n",
       "    <tr>\n",
       "      <th>4395</th>\n",
       "      <td>-117.001341</td>\n",
       "      <td>32.555424</td>\n",
       "      <td>0.88</td>\n",
       "      <td>0.12</td>\n",
       "      <td>POLYGON ((-117.00134 32.55542, -117.00134 32.6...</td>\n",
       "    </tr>\n",
       "    <tr>\n",
       "      <th>4396</th>\n",
       "      <td>-116.901341</td>\n",
       "      <td>32.555424</td>\n",
       "      <td>0.89</td>\n",
       "      <td>0.11</td>\n",
       "      <td>POLYGON ((-116.90134 32.55542, -116.90134 32.6...</td>\n",
       "    </tr>\n",
       "  </tbody>\n",
       "</table>\n",
       "<p>4397 rows × 5 columns</p>\n",
       "</div>"
      ],
      "text/plain": [
       "               0          1     2     3  \\\n",
       "0    -124.301341  42.055424  0.88  0.12   \n",
       "1    -124.201341  42.055424  0.88  0.12   \n",
       "2    -124.101341  42.055424  0.88  0.12   \n",
       "3    -124.001341  42.055424  0.88  0.12   \n",
       "4    -123.901341  42.055424  0.88  0.12   \n",
       "...          ...        ...   ...   ...   \n",
       "4392 -115.701341  32.655424  0.88  0.12   \n",
       "4393 -117.201341  32.555424  0.88  0.12   \n",
       "4394 -117.101341  32.555424  0.88  0.12   \n",
       "4395 -117.001341  32.555424  0.88  0.12   \n",
       "4396 -116.901341  32.555424  0.89  0.11   \n",
       "\n",
       "                                               geometry  \n",
       "0     POLYGON ((-124.30134 42.05542, -124.30134 42.1...  \n",
       "1     POLYGON ((-124.20134 42.05542, -124.20134 42.1...  \n",
       "2     POLYGON ((-124.10134 42.05542, -124.10134 42.1...  \n",
       "3     POLYGON ((-124.00134 42.05542, -124.00134 42.1...  \n",
       "4     POLYGON ((-123.90134 42.05542, -123.90134 42.1...  \n",
       "...                                                 ...  \n",
       "4392  POLYGON ((-115.70134 32.65542, -115.70134 32.7...  \n",
       "4393  POLYGON ((-117.20134 32.55542, -117.20134 32.6...  \n",
       "4394  POLYGON ((-117.10134 32.55542, -117.10134 32.6...  \n",
       "4395  POLYGON ((-117.00134 32.55542, -117.00134 32.6...  \n",
       "4396  POLYGON ((-116.90134 32.55542, -116.90134 32.6...  \n",
       "\n",
       "[4397 rows x 5 columns]"
      ]
     },
     "execution_count": 100,
     "metadata": {},
     "output_type": "execute_result"
    }
   ],
   "source": [
    "geo_df = gpd.GeoDataFrame(out_df, crs='epsg:4326', geometry=geo_poly)\n",
    "\n",
    "geo_df"
   ]
  },
  {
   "cell_type": "code",
   "execution_count": null,
   "id": "57d892e8-9c63-414e-b873-d2b6718b4489",
   "metadata": {},
   "outputs": [
    {
     "name": "stdout",
     "output_type": "stream",
     "text": [
      "Array = [0.12 0.12 0.12 ... 0.12 0.12 0.11]\n",
      "Mean = 0.12184216511257673\n",
      "Median = 0.12\n",
      "Max = 0.15\n",
      "Min = 0.08\n"
     ]
    }
   ],
   "source": [
    "arr = out[:,-1]\n",
    "\n",
    "mean = np.mean(arr)\n",
    "median = np.median(arr)\n",
    "max = np.max(arr)\n",
    "min = np.min(arr)\n",
    " \n",
    "print(\"Array =\", arr)\n",
    "print(\"Mean =\", mean)\n",
    "print(\"Median =\", median)\n",
    "print(\"Max =\", max)\n",
    "print(\"Min =\", min)"
   ]
  },
  {
   "cell_type": "code",
   "execution_count": 114,
   "id": "4d35c461-b7aa-4067-89ee-bdae65e52b99",
   "metadata": {},
   "outputs": [],
   "source": [
    "from matplotlib.colors import Normalize"
   ]
  },
  {
   "cell_type": "code",
   "execution_count": 135,
   "id": "7f34d77d-8d95-4929-a948-d0f1a9525a1e",
   "metadata": {},
   "outputs": [
    {
     "data": {
      "image/png": "[encoded data removed]",
      "text/plain": [
       "<Figure size 1280x960 with 2 Axes>"
      ]
     },
     "metadata": {
      "needs_background": "light"
     },
     "output_type": "display_data"
    }
   ],
   "source": [
    "import geopandas as gpd\n",
    "import matplotlib\n",
    "\n",
    "norms = Normalize(vmin=np.min(geo_df[\"3\"].unique()), vmax=np.max(geo_df[\"3\"].unique()))\n",
    "# initialize an axis\n",
    "fig, ax = plt.subplots(figsize=(8,6), dpi=160)\n",
    "# plot map on axis\n",
    "state = gpd.read_file(\"/Users/alekseyvalouev/Desktop/FireData/California_SHP/CA_State_TIGER2016.shp\")\n",
    "state = state.to_crs(epsg=4326)\n",
    "state[state[\"NAME\"] == \"California\"].plot(color=\"lightgrey\", ax=ax)\n",
    "\n",
    "Reds = plt.get_cmap('Oranges')\n",
    "\n",
    "geo_df.plot(color=Reds(norms(geo_df[\"3\"])), ax = ax)\n",
    "\n",
    "fig.colorbar(matplotlib.cm.ScalarMappable(norm=norms, cmap=Reds), orientation='vertical', label='Score')\n",
    "\n",
    "\n",
    "plt.show()"
   ]
  },
  {
   "cell_type": "code",
   "execution_count": 134,
   "id": "77318f34-5769-4b7c-9ce8-8654ba39efcd",
   "metadata": {},
   "outputs": [],
   "source": [
    "ttprs = tprs\n",
    "tfprs = fprs\n",
    "t_probs = _probs"
   ]
  },
  {
   "cell_type": "code",
   "execution_count": 29,
   "id": "32019b41-5a94-443c-9a4c-212717a699d5",
   "metadata": {},
   "outputs": [],
   "source": [
    "# Cross Validation\n",
    "\n",
    "from numpy import array \n",
    "import numpy as np\n",
    "from sklearn.preprocessing import StandardScaler\n",
    "from imblearn.over_sampling import BorderlineSMOTE \n",
    "from sklearn.ensemble import RandomForestClassifier\n",
    "import matplotlib.pyplot as plt\n",
    "import sklearn.metrics as metrics\n",
    "import math\n",
    "\n",
    "data2 = data2.sort_values([\"Date\", \"newID\"])\n",
    "t=data2\n",
    "#t = t[(pd.to_datetime(t['Date']).dt.strftime('%B') == 'May') | ]\n",
    "tg = t.groupby('YYYYMM').cumcount()\n",
    "g = data2.groupby('Year').cumcount()"
   ]
  },
  {
   "cell_type": "code",
   "execution_count": 30,
   "id": "5dc6e5fa-4d87-4e88-aaf3-2f25b652ff6e",
   "metadata": {},
   "outputs": [
    {
     "name": "stdout",
     "output_type": "stream",
     "text": [
      "Created array L.\n"
     ]
    }
   ],
   "source": [
    "L = (array(data2.set_index(['Year',g])\n",
    "       .unstack(fill_value=0)\n",
    "       .stack().groupby(level=0)\n",
    "       .apply(lambda x: x.values.tolist())\n",
    "       .tolist()))\n",
    "\n",
    "Lt = (array(t.set_index(['YYYYMM',tg])\n",
    "       .unstack(fill_value=0)\n",
    "       .stack().groupby(level=0)\n",
    "       .apply(lambda x: x.values.tolist())\n",
    "       .tolist()))\n",
    "\n",
    "print(\"Created array L.\")\n",
    "\n",
    "burnin = L[:int(math.floor(len(L)/2))]\n",
    "val = L[int(math.floor(len(L)/2)):]\n",
    "val_test = Lt[int(math.floor(len(L)/2))*12:]\n",
    "\n",
    "burnin = np.concatenate(burnin, axis=0)\n",
    "\n",
    "base_fpr = np\n",
    "\n",
    "tprs = []\n",
    "fprs = []\n",
    "base_fpr = np.linspace(0, 1, 101)\n",
    "_probs = []\n",
    "aucs = []"
   ]
  },
  {
   "cell_type": "code",
   "execution_count": 31,
   "id": "8644fa0e-887d-469d-bc44-8212c9a4aed3",
   "metadata": {},
   "outputs": [
    {
     "name": "stdout",
     "output_type": "stream",
     "text": [
      "Beginning iteration: 1/10\n",
      "Iter_1: Preprocessing complete.\n",
      "Iter_1: Model fitting complete.\n",
      "Iter_1_1: Model prediction complete.\n"
     ]
    },
    {
     "name": "stderr",
     "output_type": "stream",
     "text": [
      "/var/folders/tn/1hx74qln26x7jlmq6t6mlyqm0000gn/T/ipykernel_1111/3843534340.py:47: UserWarning: color is redundantly defined by the 'color' keyword argument and the fmt string \"b\" (-> color=(0.0, 0.0, 1.0, 1)). The keyword argument will take precedence.\n",
      "  plt.plot(base_fpr, tpr, 'b', label = 'AUC_%s = %0.2f' % (i, roc_auc), color='b')\n"
     ]
    },
    {
     "name": "stdout",
     "output_type": "stream",
     "text": [
      "Iter_1_2: Model prediction complete.\n",
      "Iter_1_3: Model prediction complete.\n"
     ]
    },
    {
     "name": "stderr",
     "output_type": "stream",
     "text": [
      "/var/folders/tn/1hx74qln26x7jlmq6t6mlyqm0000gn/T/ipykernel_1111/3843534340.py:47: UserWarning: color is redundantly defined by the 'color' keyword argument and the fmt string \"b\" (-> color=(0.0, 0.0, 1.0, 1)). The keyword argument will take precedence.\n",
      "  plt.plot(base_fpr, tpr, 'b', label = 'AUC_%s = %0.2f' % (i, roc_auc), color='b')\n",
      "/var/folders/tn/1hx74qln26x7jlmq6t6mlyqm0000gn/T/ipykernel_1111/3843534340.py:47: UserWarning: color is redundantly defined by the 'color' keyword argument and the fmt string \"b\" (-> color=(0.0, 0.0, 1.0, 1)). The keyword argument will take precedence.\n",
      "  plt.plot(base_fpr, tpr, 'b', label = 'AUC_%s = %0.2f' % (i, roc_auc), color='b')\n"
     ]
    },
    {
     "name": "stdout",
     "output_type": "stream",
     "text": [
      "Iter_1_4: Model prediction complete.\n",
      "Iter_1_5: Model prediction complete.\n"
     ]
    },
    {
     "name": "stderr",
     "output_type": "stream",
     "text": [
      "/var/folders/tn/1hx74qln26x7jlmq6t6mlyqm0000gn/T/ipykernel_1111/3843534340.py:47: UserWarning: color is redundantly defined by the 'color' keyword argument and the fmt string \"b\" (-> color=(0.0, 0.0, 1.0, 1)). The keyword argument will take precedence.\n",
      "  plt.plot(base_fpr, tpr, 'b', label = 'AUC_%s = %0.2f' % (i, roc_auc), color='b')\n",
      "/var/folders/tn/1hx74qln26x7jlmq6t6mlyqm0000gn/T/ipykernel_1111/3843534340.py:47: UserWarning: color is redundantly defined by the 'color' keyword argument and the fmt string \"b\" (-> color=(0.0, 0.0, 1.0, 1)). The keyword argument will take precedence.\n",
      "  plt.plot(base_fpr, tpr, 'b', label = 'AUC_%s = %0.2f' % (i, roc_auc), color='b')\n"
     ]
    },
    {
     "name": "stdout",
     "output_type": "stream",
     "text": [
      "Iter_1_6: Model prediction complete.\n",
      "Iter_1_7: Model prediction complete.\n"
     ]
    },
    {
     "name": "stderr",
     "output_type": "stream",
     "text": [
      "/var/folders/tn/1hx74qln26x7jlmq6t6mlyqm0000gn/T/ipykernel_1111/3843534340.py:47: UserWarning: color is redundantly defined by the 'color' keyword argument and the fmt string \"b\" (-> color=(0.0, 0.0, 1.0, 1)). The keyword argument will take precedence.\n",
      "  plt.plot(base_fpr, tpr, 'b', label = 'AUC_%s = %0.2f' % (i, roc_auc), color='b')\n",
      "/var/folders/tn/1hx74qln26x7jlmq6t6mlyqm0000gn/T/ipykernel_1111/3843534340.py:47: UserWarning: color is redundantly defined by the 'color' keyword argument and the fmt string \"b\" (-> color=(0.0, 0.0, 1.0, 1)). The keyword argument will take precedence.\n",
      "  plt.plot(base_fpr, tpr, 'b', label = 'AUC_%s = %0.2f' % (i, roc_auc), color='b')\n"
     ]
    },
    {
     "name": "stdout",
     "output_type": "stream",
     "text": [
      "Iter_1_8: Model prediction complete.\n",
      "Iter_1_9: Model prediction complete.\n"
     ]
    },
    {
     "name": "stderr",
     "output_type": "stream",
     "text": [
      "/var/folders/tn/1hx74qln26x7jlmq6t6mlyqm0000gn/T/ipykernel_1111/3843534340.py:47: UserWarning: color is redundantly defined by the 'color' keyword argument and the fmt string \"b\" (-> color=(0.0, 0.0, 1.0, 1)). The keyword argument will take precedence.\n",
      "  plt.plot(base_fpr, tpr, 'b', label = 'AUC_%s = %0.2f' % (i, roc_auc), color='b')\n",
      "/var/folders/tn/1hx74qln26x7jlmq6t6mlyqm0000gn/T/ipykernel_1111/3843534340.py:47: UserWarning: color is redundantly defined by the 'color' keyword argument and the fmt string \"b\" (-> color=(0.0, 0.0, 1.0, 1)). The keyword argument will take precedence.\n",
      "  plt.plot(base_fpr, tpr, 'b', label = 'AUC_%s = %0.2f' % (i, roc_auc), color='b')\n"
     ]
    },
    {
     "name": "stdout",
     "output_type": "stream",
     "text": [
      "Iter_1_10: Model prediction complete.\n",
      "Iter_1_11: Model prediction complete.\n"
     ]
    },
    {
     "name": "stderr",
     "output_type": "stream",
     "text": [
      "/var/folders/tn/1hx74qln26x7jlmq6t6mlyqm0000gn/T/ipykernel_1111/3843534340.py:47: UserWarning: color is redundantly defined by the 'color' keyword argument and the fmt string \"b\" (-> color=(0.0, 0.0, 1.0, 1)). The keyword argument will take precedence.\n",
      "  plt.plot(base_fpr, tpr, 'b', label = 'AUC_%s = %0.2f' % (i, roc_auc), color='b')\n",
      "/var/folders/tn/1hx74qln26x7jlmq6t6mlyqm0000gn/T/ipykernel_1111/3843534340.py:47: UserWarning: color is redundantly defined by the 'color' keyword argument and the fmt string \"b\" (-> color=(0.0, 0.0, 1.0, 1)). The keyword argument will take precedence.\n",
      "  plt.plot(base_fpr, tpr, 'b', label = 'AUC_%s = %0.2f' % (i, roc_auc), color='b')\n"
     ]
    },
    {
     "name": "stdout",
     "output_type": "stream",
     "text": [
      "Iter_1_12: Model prediction complete.\n",
      "Iter_1: Finished concat.\n"
     ]
    },
    {
     "name": "stderr",
     "output_type": "stream",
     "text": [
      "/var/folders/tn/1hx74qln26x7jlmq6t6mlyqm0000gn/T/ipykernel_1111/3843534340.py:47: UserWarning: color is redundantly defined by the 'color' keyword argument and the fmt string \"b\" (-> color=(0.0, 0.0, 1.0, 1)). The keyword argument will take precedence.\n",
      "  plt.plot(base_fpr, tpr, 'b', label = 'AUC_%s = %0.2f' % (i, roc_auc), color='b')\n"
     ]
    },
    {
     "name": "stdout",
     "output_type": "stream",
     "text": [
      "Finished iteration: 1\n",
      "=====================================\n",
      "Beginning iteration: 2/10\n",
      "Iter_2: Preprocessing complete.\n",
      "Iter_2: Model fitting complete.\n",
      "Iter_2_1: Model prediction complete.\n"
     ]
    },
    {
     "name": "stderr",
     "output_type": "stream",
     "text": [
      "/var/folders/tn/1hx74qln26x7jlmq6t6mlyqm0000gn/T/ipykernel_1111/3843534340.py:47: UserWarning: color is redundantly defined by the 'color' keyword argument and the fmt string \"b\" (-> color=(0.0, 0.0, 1.0, 1)). The keyword argument will take precedence.\n",
      "  plt.plot(base_fpr, tpr, 'b', label = 'AUC_%s = %0.2f' % (i, roc_auc), color='b')\n",
      "/var/folders/tn/1hx74qln26x7jlmq6t6mlyqm0000gn/T/ipykernel_1111/3843534340.py:47: UserWarning: color is redundantly defined by the 'color' keyword argument and the fmt string \"b\" (-> color=(0.0, 0.0, 1.0, 1)). The keyword argument will take precedence.\n",
      "  plt.plot(base_fpr, tpr, 'b', label = 'AUC_%s = %0.2f' % (i, roc_auc), color='b')\n"
     ]
    },
    {
     "name": "stdout",
     "output_type": "stream",
     "text": [
      "Iter_2_2: Model prediction complete.\n",
      "Iter_2_3: Model prediction complete.\n"
     ]
    },
    {
     "name": "stderr",
     "output_type": "stream",
     "text": [
      "/var/folders/tn/1hx74qln26x7jlmq6t6mlyqm0000gn/T/ipykernel_1111/3843534340.py:47: UserWarning: color is redundantly defined by the 'color' keyword argument and the fmt string \"b\" (-> color=(0.0, 0.0, 1.0, 1)). The keyword argument will take precedence.\n",
      "  plt.plot(base_fpr, tpr, 'b', label = 'AUC_%s = %0.2f' % (i, roc_auc), color='b')\n",
      "/var/folders/tn/1hx74qln26x7jlmq6t6mlyqm0000gn/T/ipykernel_1111/3843534340.py:47: UserWarning: color is redundantly defined by the 'color' keyword argument and the fmt string \"b\" (-> color=(0.0, 0.0, 1.0, 1)). The keyword argument will take precedence.\n",
      "  plt.plot(base_fpr, tpr, 'b', label = 'AUC_%s = %0.2f' % (i, roc_auc), color='b')\n"
     ]
    },
    {
     "name": "stdout",
     "output_type": "stream",
     "text": [
      "Iter_2_4: Model prediction complete.\n",
      "Iter_2_5: Model prediction complete.\n"
     ]
    },
    {
     "name": "stderr",
     "output_type": "stream",
     "text": [
      "/var/folders/tn/1hx74qln26x7jlmq6t6mlyqm0000gn/T/ipykernel_1111/3843534340.py:47: UserWarning: color is redundantly defined by the 'color' keyword argument and the fmt string \"b\" (-> color=(0.0, 0.0, 1.0, 1)). The keyword argument will take precedence.\n",
      "  plt.plot(base_fpr, tpr, 'b', label = 'AUC_%s = %0.2f' % (i, roc_auc), color='b')\n",
      "/var/folders/tn/1hx74qln26x7jlmq6t6mlyqm0000gn/T/ipykernel_1111/3843534340.py:47: UserWarning: color is redundantly defined by the 'color' keyword argument and the fmt string \"b\" (-> color=(0.0, 0.0, 1.0, 1)). The keyword argument will take precedence.\n",
      "  plt.plot(base_fpr, tpr, 'b', label = 'AUC_%s = %0.2f' % (i, roc_auc), color='b')\n"
     ]
    },
    {
     "name": "stdout",
     "output_type": "stream",
     "text": [
      "Iter_2_6: Model prediction complete.\n",
      "Iter_2_7: Model prediction complete.\n"
     ]
    },
    {
     "name": "stderr",
     "output_type": "stream",
     "text": [
      "/var/folders/tn/1hx74qln26x7jlmq6t6mlyqm0000gn/T/ipykernel_1111/3843534340.py:47: UserWarning: color is redundantly defined by the 'color' keyword argument and the fmt string \"b\" (-> color=(0.0, 0.0, 1.0, 1)). The keyword argument will take precedence.\n",
      "  plt.plot(base_fpr, tpr, 'b', label = 'AUC_%s = %0.2f' % (i, roc_auc), color='b')\n",
      "/var/folders/tn/1hx74qln26x7jlmq6t6mlyqm0000gn/T/ipykernel_1111/3843534340.py:47: UserWarning: color is redundantly defined by the 'color' keyword argument and the fmt string \"b\" (-> color=(0.0, 0.0, 1.0, 1)). The keyword argument will take precedence.\n",
      "  plt.plot(base_fpr, tpr, 'b', label = 'AUC_%s = %0.2f' % (i, roc_auc), color='b')\n"
     ]
    },
    {
     "name": "stdout",
     "output_type": "stream",
     "text": [
      "Iter_2_8: Model prediction complete.\n",
      "Iter_2_9: Model prediction complete.\n"
     ]
    },
    {
     "name": "stderr",
     "output_type": "stream",
     "text": [
      "/var/folders/tn/1hx74qln26x7jlmq6t6mlyqm0000gn/T/ipykernel_1111/3843534340.py:47: UserWarning: color is redundantly defined by the 'color' keyword argument and the fmt string \"b\" (-> color=(0.0, 0.0, 1.0, 1)). The keyword argument will take precedence.\n",
      "  plt.plot(base_fpr, tpr, 'b', label = 'AUC_%s = %0.2f' % (i, roc_auc), color='b')\n",
      "/var/folders/tn/1hx74qln26x7jlmq6t6mlyqm0000gn/T/ipykernel_1111/3843534340.py:47: UserWarning: color is redundantly defined by the 'color' keyword argument and the fmt string \"b\" (-> color=(0.0, 0.0, 1.0, 1)). The keyword argument will take precedence.\n",
      "  plt.plot(base_fpr, tpr, 'b', label = 'AUC_%s = %0.2f' % (i, roc_auc), color='b')\n"
     ]
    },
    {
     "name": "stdout",
     "output_type": "stream",
     "text": [
      "Iter_2_10: Model prediction complete.\n",
      "Iter_2_11: Model prediction complete.\n"
     ]
    },
    {
     "name": "stderr",
     "output_type": "stream",
     "text": [
      "/var/folders/tn/1hx74qln26x7jlmq6t6mlyqm0000gn/T/ipykernel_1111/3843534340.py:47: UserWarning: color is redundantly defined by the 'color' keyword argument and the fmt string \"b\" (-> color=(0.0, 0.0, 1.0, 1)). The keyword argument will take precedence.\n",
      "  plt.plot(base_fpr, tpr, 'b', label = 'AUC_%s = %0.2f' % (i, roc_auc), color='b')\n",
      "/var/folders/tn/1hx74qln26x7jlmq6t6mlyqm0000gn/T/ipykernel_1111/3843534340.py:47: UserWarning: color is redundantly defined by the 'color' keyword argument and the fmt string \"b\" (-> color=(0.0, 0.0, 1.0, 1)). The keyword argument will take precedence.\n",
      "  plt.plot(base_fpr, tpr, 'b', label = 'AUC_%s = %0.2f' % (i, roc_auc), color='b')\n"
     ]
    },
    {
     "name": "stdout",
     "output_type": "stream",
     "text": [
      "Iter_2_12: Model prediction complete.\n",
      "Iter_2: Finished concat.\n",
      "Finished iteration: 2\n",
      "=====================================\n",
      "Beginning iteration: 3/10\n",
      "Iter_3: Preprocessing complete.\n",
      "Iter_3: Model fitting complete.\n",
      "Iter_3_1: Model prediction complete.\n"
     ]
    },
    {
     "name": "stderr",
     "output_type": "stream",
     "text": [
      "/var/folders/tn/1hx74qln26x7jlmq6t6mlyqm0000gn/T/ipykernel_1111/3843534340.py:47: UserWarning: color is redundantly defined by the 'color' keyword argument and the fmt string \"b\" (-> color=(0.0, 0.0, 1.0, 1)). The keyword argument will take precedence.\n",
      "  plt.plot(base_fpr, tpr, 'b', label = 'AUC_%s = %0.2f' % (i, roc_auc), color='b')\n",
      "/var/folders/tn/1hx74qln26x7jlmq6t6mlyqm0000gn/T/ipykernel_1111/3843534340.py:47: UserWarning: color is redundantly defined by the 'color' keyword argument and the fmt string \"b\" (-> color=(0.0, 0.0, 1.0, 1)). The keyword argument will take precedence.\n",
      "  plt.plot(base_fpr, tpr, 'b', label = 'AUC_%s = %0.2f' % (i, roc_auc), color='b')\n"
     ]
    },
    {
     "name": "stdout",
     "output_type": "stream",
     "text": [
      "Iter_3_2: Model prediction complete.\n",
      "Iter_3_3: Model prediction complete.\n"
     ]
    },
    {
     "name": "stderr",
     "output_type": "stream",
     "text": [
      "/var/folders/tn/1hx74qln26x7jlmq6t6mlyqm0000gn/T/ipykernel_1111/3843534340.py:47: UserWarning: color is redundantly defined by the 'color' keyword argument and the fmt string \"b\" (-> color=(0.0, 0.0, 1.0, 1)). The keyword argument will take precedence.\n",
      "  plt.plot(base_fpr, tpr, 'b', label = 'AUC_%s = %0.2f' % (i, roc_auc), color='b')\n",
      "/var/folders/tn/1hx74qln26x7jlmq6t6mlyqm0000gn/T/ipykernel_1111/3843534340.py:47: UserWarning: color is redundantly defined by the 'color' keyword argument and the fmt string \"b\" (-> color=(0.0, 0.0, 1.0, 1)). The keyword argument will take precedence.\n",
      "  plt.plot(base_fpr, tpr, 'b', label = 'AUC_%s = %0.2f' % (i, roc_auc), color='b')\n"
     ]
    },
    {
     "name": "stdout",
     "output_type": "stream",
     "text": [
      "Iter_3_4: Model prediction complete.\n",
      "Iter_3_5: Model prediction complete.\n"
     ]
    },
    {
     "name": "stderr",
     "output_type": "stream",
     "text": [
      "/var/folders/tn/1hx74qln26x7jlmq6t6mlyqm0000gn/T/ipykernel_1111/3843534340.py:47: UserWarning: color is redundantly defined by the 'color' keyword argument and the fmt string \"b\" (-> color=(0.0, 0.0, 1.0, 1)). The keyword argument will take precedence.\n",
      "  plt.plot(base_fpr, tpr, 'b', label = 'AUC_%s = %0.2f' % (i, roc_auc), color='b')\n",
      "/var/folders/tn/1hx74qln26x7jlmq6t6mlyqm0000gn/T/ipykernel_1111/3843534340.py:47: UserWarning: color is redundantly defined by the 'color' keyword argument and the fmt string \"b\" (-> color=(0.0, 0.0, 1.0, 1)). The keyword argument will take precedence.\n",
      "  plt.plot(base_fpr, tpr, 'b', label = 'AUC_%s = %0.2f' % (i, roc_auc), color='b')\n"
     ]
    },
    {
     "name": "stdout",
     "output_type": "stream",
     "text": [
      "Iter_3_6: Model prediction complete.\n",
      "Iter_3_7: Model prediction complete.\n"
     ]
    },
    {
     "name": "stderr",
     "output_type": "stream",
     "text": [
      "/var/folders/tn/1hx74qln26x7jlmq6t6mlyqm0000gn/T/ipykernel_1111/3843534340.py:47: UserWarning: color is redundantly defined by the 'color' keyword argument and the fmt string \"b\" (-> color=(0.0, 0.0, 1.0, 1)). The keyword argument will take precedence.\n",
      "  plt.plot(base_fpr, tpr, 'b', label = 'AUC_%s = %0.2f' % (i, roc_auc), color='b')\n",
      "/var/folders/tn/1hx74qln26x7jlmq6t6mlyqm0000gn/T/ipykernel_1111/3843534340.py:47: UserWarning: color is redundantly defined by the 'color' keyword argument and the fmt string \"b\" (-> color=(0.0, 0.0, 1.0, 1)). The keyword argument will take precedence.\n",
      "  plt.plot(base_fpr, tpr, 'b', label = 'AUC_%s = %0.2f' % (i, roc_auc), color='b')\n"
     ]
    },
    {
     "name": "stdout",
     "output_type": "stream",
     "text": [
      "Iter_3_8: Model prediction complete.\n",
      "Iter_3_9: Model prediction complete.\n"
     ]
    },
    {
     "name": "stderr",
     "output_type": "stream",
     "text": [
      "/var/folders/tn/1hx74qln26x7jlmq6t6mlyqm0000gn/T/ipykernel_1111/3843534340.py:47: UserWarning: color is redundantly defined by the 'color' keyword argument and the fmt string \"b\" (-> color=(0.0, 0.0, 1.0, 1)). The keyword argument will take precedence.\n",
      "  plt.plot(base_fpr, tpr, 'b', label = 'AUC_%s = %0.2f' % (i, roc_auc), color='b')\n",
      "/var/folders/tn/1hx74qln26x7jlmq6t6mlyqm0000gn/T/ipykernel_1111/3843534340.py:47: UserWarning: color is redundantly defined by the 'color' keyword argument and the fmt string \"b\" (-> color=(0.0, 0.0, 1.0, 1)). The keyword argument will take precedence.\n",
      "  plt.plot(base_fpr, tpr, 'b', label = 'AUC_%s = %0.2f' % (i, roc_auc), color='b')\n"
     ]
    },
    {
     "name": "stdout",
     "output_type": "stream",
     "text": [
      "Iter_3_10: Model prediction complete.\n",
      "Iter_3_11: Model prediction complete.\n"
     ]
    },
    {
     "name": "stderr",
     "output_type": "stream",
     "text": [
      "/var/folders/tn/1hx74qln26x7jlmq6t6mlyqm0000gn/T/ipykernel_1111/3843534340.py:47: UserWarning: color is redundantly defined by the 'color' keyword argument and the fmt string \"b\" (-> color=(0.0, 0.0, 1.0, 1)). The keyword argument will take precedence.\n",
      "  plt.plot(base_fpr, tpr, 'b', label = 'AUC_%s = %0.2f' % (i, roc_auc), color='b')\n",
      "/var/folders/tn/1hx74qln26x7jlmq6t6mlyqm0000gn/T/ipykernel_1111/3843534340.py:47: UserWarning: color is redundantly defined by the 'color' keyword argument and the fmt string \"b\" (-> color=(0.0, 0.0, 1.0, 1)). The keyword argument will take precedence.\n",
      "  plt.plot(base_fpr, tpr, 'b', label = 'AUC_%s = %0.2f' % (i, roc_auc), color='b')\n"
     ]
    },
    {
     "name": "stdout",
     "output_type": "stream",
     "text": [
      "Iter_3_12: Model prediction complete.\n",
      "Iter_3: Finished concat.\n",
      "Finished iteration: 3\n",
      "=====================================\n",
      "Beginning iteration: 4/10\n",
      "Iter_4: Preprocessing complete.\n",
      "Iter_4: Model fitting complete.\n",
      "Iter_4_1: Model prediction complete.\n"
     ]
    },
    {
     "name": "stderr",
     "output_type": "stream",
     "text": [
      "/var/folders/tn/1hx74qln26x7jlmq6t6mlyqm0000gn/T/ipykernel_1111/3843534340.py:47: UserWarning: color is redundantly defined by the 'color' keyword argument and the fmt string \"b\" (-> color=(0.0, 0.0, 1.0, 1)). The keyword argument will take precedence.\n",
      "  plt.plot(base_fpr, tpr, 'b', label = 'AUC_%s = %0.2f' % (i, roc_auc), color='b')\n",
      "/var/folders/tn/1hx74qln26x7jlmq6t6mlyqm0000gn/T/ipykernel_1111/3843534340.py:47: UserWarning: color is redundantly defined by the 'color' keyword argument and the fmt string \"b\" (-> color=(0.0, 0.0, 1.0, 1)). The keyword argument will take precedence.\n",
      "  plt.plot(base_fpr, tpr, 'b', label = 'AUC_%s = %0.2f' % (i, roc_auc), color='b')\n"
     ]
    },
    {
     "name": "stdout",
     "output_type": "stream",
     "text": [
      "Iter_4_2: Model prediction complete.\n",
      "Iter_4_3: Model prediction complete.\n"
     ]
    },
    {
     "name": "stderr",
     "output_type": "stream",
     "text": [
      "/var/folders/tn/1hx74qln26x7jlmq6t6mlyqm0000gn/T/ipykernel_1111/3843534340.py:47: UserWarning: color is redundantly defined by the 'color' keyword argument and the fmt string \"b\" (-> color=(0.0, 0.0, 1.0, 1)). The keyword argument will take precedence.\n",
      "  plt.plot(base_fpr, tpr, 'b', label = 'AUC_%s = %0.2f' % (i, roc_auc), color='b')\n",
      "/var/folders/tn/1hx74qln26x7jlmq6t6mlyqm0000gn/T/ipykernel_1111/3843534340.py:47: UserWarning: color is redundantly defined by the 'color' keyword argument and the fmt string \"b\" (-> color=(0.0, 0.0, 1.0, 1)). The keyword argument will take precedence.\n",
      "  plt.plot(base_fpr, tpr, 'b', label = 'AUC_%s = %0.2f' % (i, roc_auc), color='b')\n"
     ]
    },
    {
     "name": "stdout",
     "output_type": "stream",
     "text": [
      "Iter_4_4: Model prediction complete.\n",
      "Iter_4_5: Model prediction complete.\n"
     ]
    },
    {
     "name": "stderr",
     "output_type": "stream",
     "text": [
      "/var/folders/tn/1hx74qln26x7jlmq6t6mlyqm0000gn/T/ipykernel_1111/3843534340.py:47: UserWarning: color is redundantly defined by the 'color' keyword argument and the fmt string \"b\" (-> color=(0.0, 0.0, 1.0, 1)). The keyword argument will take precedence.\n",
      "  plt.plot(base_fpr, tpr, 'b', label = 'AUC_%s = %0.2f' % (i, roc_auc), color='b')\n",
      "/var/folders/tn/1hx74qln26x7jlmq6t6mlyqm0000gn/T/ipykernel_1111/3843534340.py:47: UserWarning: color is redundantly defined by the 'color' keyword argument and the fmt string \"b\" (-> color=(0.0, 0.0, 1.0, 1)). The keyword argument will take precedence.\n",
      "  plt.plot(base_fpr, tpr, 'b', label = 'AUC_%s = %0.2f' % (i, roc_auc), color='b')\n"
     ]
    },
    {
     "name": "stdout",
     "output_type": "stream",
     "text": [
      "Iter_4_6: Model prediction complete.\n",
      "Iter_4_7: Model prediction complete.\n"
     ]
    },
    {
     "name": "stderr",
     "output_type": "stream",
     "text": [
      "/var/folders/tn/1hx74qln26x7jlmq6t6mlyqm0000gn/T/ipykernel_1111/3843534340.py:47: UserWarning: color is redundantly defined by the 'color' keyword argument and the fmt string \"b\" (-> color=(0.0, 0.0, 1.0, 1)). The keyword argument will take precedence.\n",
      "  plt.plot(base_fpr, tpr, 'b', label = 'AUC_%s = %0.2f' % (i, roc_auc), color='b')\n",
      "/var/folders/tn/1hx74qln26x7jlmq6t6mlyqm0000gn/T/ipykernel_1111/3843534340.py:47: UserWarning: color is redundantly defined by the 'color' keyword argument and the fmt string \"b\" (-> color=(0.0, 0.0, 1.0, 1)). The keyword argument will take precedence.\n",
      "  plt.plot(base_fpr, tpr, 'b', label = 'AUC_%s = %0.2f' % (i, roc_auc), color='b')\n"
     ]
    },
    {
     "name": "stdout",
     "output_type": "stream",
     "text": [
      "Iter_4_8: Model prediction complete.\n",
      "Iter_4_9: Model prediction complete.\n"
     ]
    },
    {
     "name": "stderr",
     "output_type": "stream",
     "text": [
      "/var/folders/tn/1hx74qln26x7jlmq6t6mlyqm0000gn/T/ipykernel_1111/3843534340.py:47: UserWarning: color is redundantly defined by the 'color' keyword argument and the fmt string \"b\" (-> color=(0.0, 0.0, 1.0, 1)). The keyword argument will take precedence.\n",
      "  plt.plot(base_fpr, tpr, 'b', label = 'AUC_%s = %0.2f' % (i, roc_auc), color='b')\n",
      "/var/folders/tn/1hx74qln26x7jlmq6t6mlyqm0000gn/T/ipykernel_1111/3843534340.py:47: UserWarning: color is redundantly defined by the 'color' keyword argument and the fmt string \"b\" (-> color=(0.0, 0.0, 1.0, 1)). The keyword argument will take precedence.\n",
      "  plt.plot(base_fpr, tpr, 'b', label = 'AUC_%s = %0.2f' % (i, roc_auc), color='b')\n"
     ]
    },
    {
     "name": "stdout",
     "output_type": "stream",
     "text": [
      "Iter_4_10: Model prediction complete.\n",
      "Iter_4_11: Model prediction complete.\n"
     ]
    },
    {
     "name": "stderr",
     "output_type": "stream",
     "text": [
      "/var/folders/tn/1hx74qln26x7jlmq6t6mlyqm0000gn/T/ipykernel_1111/3843534340.py:47: UserWarning: color is redundantly defined by the 'color' keyword argument and the fmt string \"b\" (-> color=(0.0, 0.0, 1.0, 1)). The keyword argument will take precedence.\n",
      "  plt.plot(base_fpr, tpr, 'b', label = 'AUC_%s = %0.2f' % (i, roc_auc), color='b')\n",
      "/var/folders/tn/1hx74qln26x7jlmq6t6mlyqm0000gn/T/ipykernel_1111/3843534340.py:47: UserWarning: color is redundantly defined by the 'color' keyword argument and the fmt string \"b\" (-> color=(0.0, 0.0, 1.0, 1)). The keyword argument will take precedence.\n",
      "  plt.plot(base_fpr, tpr, 'b', label = 'AUC_%s = %0.2f' % (i, roc_auc), color='b')\n"
     ]
    },
    {
     "name": "stdout",
     "output_type": "stream",
     "text": [
      "Iter_4_12: Model prediction complete.\n",
      "Iter_4: Finished concat.\n",
      "Finished iteration: 4\n",
      "=====================================\n",
      "Beginning iteration: 5/10\n",
      "Iter_5: Preprocessing complete.\n",
      "Iter_5: Model fitting complete.\n",
      "Iter_5_1: Model prediction complete.\n"
     ]
    },
    {
     "name": "stderr",
     "output_type": "stream",
     "text": [
      "/var/folders/tn/1hx74qln26x7jlmq6t6mlyqm0000gn/T/ipykernel_1111/3843534340.py:47: UserWarning: color is redundantly defined by the 'color' keyword argument and the fmt string \"b\" (-> color=(0.0, 0.0, 1.0, 1)). The keyword argument will take precedence.\n",
      "  plt.plot(base_fpr, tpr, 'b', label = 'AUC_%s = %0.2f' % (i, roc_auc), color='b')\n",
      "/var/folders/tn/1hx74qln26x7jlmq6t6mlyqm0000gn/T/ipykernel_1111/3843534340.py:47: UserWarning: color is redundantly defined by the 'color' keyword argument and the fmt string \"b\" (-> color=(0.0, 0.0, 1.0, 1)). The keyword argument will take precedence.\n",
      "  plt.plot(base_fpr, tpr, 'b', label = 'AUC_%s = %0.2f' % (i, roc_auc), color='b')\n"
     ]
    },
    {
     "name": "stdout",
     "output_type": "stream",
     "text": [
      "Iter_5_2: Model prediction complete.\n",
      "Iter_5_3: Model prediction complete.\n"
     ]
    },
    {
     "name": "stderr",
     "output_type": "stream",
     "text": [
      "/var/folders/tn/1hx74qln26x7jlmq6t6mlyqm0000gn/T/ipykernel_1111/3843534340.py:47: UserWarning: color is redundantly defined by the 'color' keyword argument and the fmt string \"b\" (-> color=(0.0, 0.0, 1.0, 1)). The keyword argument will take precedence.\n",
      "  plt.plot(base_fpr, tpr, 'b', label = 'AUC_%s = %0.2f' % (i, roc_auc), color='b')\n",
      "/var/folders/tn/1hx74qln26x7jlmq6t6mlyqm0000gn/T/ipykernel_1111/3843534340.py:47: UserWarning: color is redundantly defined by the 'color' keyword argument and the fmt string \"b\" (-> color=(0.0, 0.0, 1.0, 1)). The keyword argument will take precedence.\n",
      "  plt.plot(base_fpr, tpr, 'b', label = 'AUC_%s = %0.2f' % (i, roc_auc), color='b')\n"
     ]
    },
    {
     "name": "stdout",
     "output_type": "stream",
     "text": [
      "Iter_5_4: Model prediction complete.\n",
      "Iter_5_5: Model prediction complete.\n"
     ]
    },
    {
     "name": "stderr",
     "output_type": "stream",
     "text": [
      "/var/folders/tn/1hx74qln26x7jlmq6t6mlyqm0000gn/T/ipykernel_1111/3843534340.py:47: UserWarning: color is redundantly defined by the 'color' keyword argument and the fmt string \"b\" (-> color=(0.0, 0.0, 1.0, 1)). The keyword argument will take precedence.\n",
      "  plt.plot(base_fpr, tpr, 'b', label = 'AUC_%s = %0.2f' % (i, roc_auc), color='b')\n",
      "/var/folders/tn/1hx74qln26x7jlmq6t6mlyqm0000gn/T/ipykernel_1111/3843534340.py:47: UserWarning: color is redundantly defined by the 'color' keyword argument and the fmt string \"b\" (-> color=(0.0, 0.0, 1.0, 1)). The keyword argument will take precedence.\n",
      "  plt.plot(base_fpr, tpr, 'b', label = 'AUC_%s = %0.2f' % (i, roc_auc), color='b')\n"
     ]
    },
    {
     "name": "stdout",
     "output_type": "stream",
     "text": [
      "Iter_5_6: Model prediction complete.\n",
      "Iter_5_7: Model prediction complete.\n"
     ]
    },
    {
     "name": "stderr",
     "output_type": "stream",
     "text": [
      "/var/folders/tn/1hx74qln26x7jlmq6t6mlyqm0000gn/T/ipykernel_1111/3843534340.py:47: UserWarning: color is redundantly defined by the 'color' keyword argument and the fmt string \"b\" (-> color=(0.0, 0.0, 1.0, 1)). The keyword argument will take precedence.\n",
      "  plt.plot(base_fpr, tpr, 'b', label = 'AUC_%s = %0.2f' % (i, roc_auc), color='b')\n",
      "/var/folders/tn/1hx74qln26x7jlmq6t6mlyqm0000gn/T/ipykernel_1111/3843534340.py:47: UserWarning: color is redundantly defined by the 'color' keyword argument and the fmt string \"b\" (-> color=(0.0, 0.0, 1.0, 1)). The keyword argument will take precedence.\n",
      "  plt.plot(base_fpr, tpr, 'b', label = 'AUC_%s = %0.2f' % (i, roc_auc), color='b')\n"
     ]
    },
    {
     "name": "stdout",
     "output_type": "stream",
     "text": [
      "Iter_5_8: Model prediction complete.\n",
      "Iter_5_9: Model prediction complete.\n"
     ]
    },
    {
     "name": "stderr",
     "output_type": "stream",
     "text": [
      "/var/folders/tn/1hx74qln26x7jlmq6t6mlyqm0000gn/T/ipykernel_1111/3843534340.py:47: UserWarning: color is redundantly defined by the 'color' keyword argument and the fmt string \"b\" (-> color=(0.0, 0.0, 1.0, 1)). The keyword argument will take precedence.\n",
      "  plt.plot(base_fpr, tpr, 'b', label = 'AUC_%s = %0.2f' % (i, roc_auc), color='b')\n",
      "/var/folders/tn/1hx74qln26x7jlmq6t6mlyqm0000gn/T/ipykernel_1111/3843534340.py:47: UserWarning: color is redundantly defined by the 'color' keyword argument and the fmt string \"b\" (-> color=(0.0, 0.0, 1.0, 1)). The keyword argument will take precedence.\n",
      "  plt.plot(base_fpr, tpr, 'b', label = 'AUC_%s = %0.2f' % (i, roc_auc), color='b')\n"
     ]
    },
    {
     "name": "stdout",
     "output_type": "stream",
     "text": [
      "Iter_5_10: Model prediction complete.\n",
      "Iter_5_11: Model prediction complete.\n"
     ]
    },
    {
     "name": "stderr",
     "output_type": "stream",
     "text": [
      "/var/folders/tn/1hx74qln26x7jlmq6t6mlyqm0000gn/T/ipykernel_1111/3843534340.py:47: UserWarning: color is redundantly defined by the 'color' keyword argument and the fmt string \"b\" (-> color=(0.0, 0.0, 1.0, 1)). The keyword argument will take precedence.\n",
      "  plt.plot(base_fpr, tpr, 'b', label = 'AUC_%s = %0.2f' % (i, roc_auc), color='b')\n",
      "/var/folders/tn/1hx74qln26x7jlmq6t6mlyqm0000gn/T/ipykernel_1111/3843534340.py:47: UserWarning: color is redundantly defined by the 'color' keyword argument and the fmt string \"b\" (-> color=(0.0, 0.0, 1.0, 1)). The keyword argument will take precedence.\n",
      "  plt.plot(base_fpr, tpr, 'b', label = 'AUC_%s = %0.2f' % (i, roc_auc), color='b')\n"
     ]
    },
    {
     "name": "stdout",
     "output_type": "stream",
     "text": [
      "Iter_5_12: Model prediction complete.\n",
      "Iter_5: Finished concat.\n",
      "Finished iteration: 5\n",
      "=====================================\n",
      "Beginning iteration: 6/10\n",
      "Iter_6: Preprocessing complete.\n",
      "Iter_6: Model fitting complete.\n",
      "Iter_6_1: Model prediction complete.\n"
     ]
    },
    {
     "name": "stderr",
     "output_type": "stream",
     "text": [
      "/var/folders/tn/1hx74qln26x7jlmq6t6mlyqm0000gn/T/ipykernel_1111/3843534340.py:47: UserWarning: color is redundantly defined by the 'color' keyword argument and the fmt string \"b\" (-> color=(0.0, 0.0, 1.0, 1)). The keyword argument will take precedence.\n",
      "  plt.plot(base_fpr, tpr, 'b', label = 'AUC_%s = %0.2f' % (i, roc_auc), color='b')\n",
      "/var/folders/tn/1hx74qln26x7jlmq6t6mlyqm0000gn/T/ipykernel_1111/3843534340.py:47: UserWarning: color is redundantly defined by the 'color' keyword argument and the fmt string \"b\" (-> color=(0.0, 0.0, 1.0, 1)). The keyword argument will take precedence.\n",
      "  plt.plot(base_fpr, tpr, 'b', label = 'AUC_%s = %0.2f' % (i, roc_auc), color='b')\n"
     ]
    },
    {
     "name": "stdout",
     "output_type": "stream",
     "text": [
      "Iter_6_2: Model prediction complete.\n",
      "Iter_6_3: Model prediction complete.\n"
     ]
    },
    {
     "name": "stderr",
     "output_type": "stream",
     "text": [
      "/var/folders/tn/1hx74qln26x7jlmq6t6mlyqm0000gn/T/ipykernel_1111/3843534340.py:47: UserWarning: color is redundantly defined by the 'color' keyword argument and the fmt string \"b\" (-> color=(0.0, 0.0, 1.0, 1)). The keyword argument will take precedence.\n",
      "  plt.plot(base_fpr, tpr, 'b', label = 'AUC_%s = %0.2f' % (i, roc_auc), color='b')\n",
      "/var/folders/tn/1hx74qln26x7jlmq6t6mlyqm0000gn/T/ipykernel_1111/3843534340.py:47: UserWarning: color is redundantly defined by the 'color' keyword argument and the fmt string \"b\" (-> color=(0.0, 0.0, 1.0, 1)). The keyword argument will take precedence.\n",
      "  plt.plot(base_fpr, tpr, 'b', label = 'AUC_%s = %0.2f' % (i, roc_auc), color='b')\n"
     ]
    },
    {
     "name": "stdout",
     "output_type": "stream",
     "text": [
      "Iter_6_4: Model prediction complete.\n",
      "Iter_6_5: Model prediction complete.\n"
     ]
    },
    {
     "name": "stderr",
     "output_type": "stream",
     "text": [
      "/var/folders/tn/1hx74qln26x7jlmq6t6mlyqm0000gn/T/ipykernel_1111/3843534340.py:47: UserWarning: color is redundantly defined by the 'color' keyword argument and the fmt string \"b\" (-> color=(0.0, 0.0, 1.0, 1)). The keyword argument will take precedence.\n",
      "  plt.plot(base_fpr, tpr, 'b', label = 'AUC_%s = %0.2f' % (i, roc_auc), color='b')\n",
      "/var/folders/tn/1hx74qln26x7jlmq6t6mlyqm0000gn/T/ipykernel_1111/3843534340.py:47: UserWarning: color is redundantly defined by the 'color' keyword argument and the fmt string \"b\" (-> color=(0.0, 0.0, 1.0, 1)). The keyword argument will take precedence.\n",
      "  plt.plot(base_fpr, tpr, 'b', label = 'AUC_%s = %0.2f' % (i, roc_auc), color='b')\n"
     ]
    },
    {
     "name": "stdout",
     "output_type": "stream",
     "text": [
      "Iter_6_6: Model prediction complete.\n",
      "Iter_6_7: Model prediction complete.\n"
     ]
    },
    {
     "name": "stderr",
     "output_type": "stream",
     "text": [
      "/var/folders/tn/1hx74qln26x7jlmq6t6mlyqm0000gn/T/ipykernel_1111/3843534340.py:47: UserWarning: color is redundantly defined by the 'color' keyword argument and the fmt string \"b\" (-> color=(0.0, 0.0, 1.0, 1)). The keyword argument will take precedence.\n",
      "  plt.plot(base_fpr, tpr, 'b', label = 'AUC_%s = %0.2f' % (i, roc_auc), color='b')\n",
      "/var/folders/tn/1hx74qln26x7jlmq6t6mlyqm0000gn/T/ipykernel_1111/3843534340.py:47: UserWarning: color is redundantly defined by the 'color' keyword argument and the fmt string \"b\" (-> color=(0.0, 0.0, 1.0, 1)). The keyword argument will take precedence.\n",
      "  plt.plot(base_fpr, tpr, 'b', label = 'AUC_%s = %0.2f' % (i, roc_auc), color='b')\n"
     ]
    },
    {
     "name": "stdout",
     "output_type": "stream",
     "text": [
      "Iter_6_8: Model prediction complete.\n",
      "Iter_6_9: Model prediction complete.\n",
      "Iter_6_10: Model prediction complete.\n"
     ]
    },
    {
     "name": "stderr",
     "output_type": "stream",
     "text": [
      "/var/folders/tn/1hx74qln26x7jlmq6t6mlyqm0000gn/T/ipykernel_1111/3843534340.py:47: UserWarning: color is redundantly defined by the 'color' keyword argument and the fmt string \"b\" (-> color=(0.0, 0.0, 1.0, 1)). The keyword argument will take precedence.\n",
      "  plt.plot(base_fpr, tpr, 'b', label = 'AUC_%s = %0.2f' % (i, roc_auc), color='b')\n",
      "/var/folders/tn/1hx74qln26x7jlmq6t6mlyqm0000gn/T/ipykernel_1111/3843534340.py:47: UserWarning: color is redundantly defined by the 'color' keyword argument and the fmt string \"b\" (-> color=(0.0, 0.0, 1.0, 1)). The keyword argument will take precedence.\n",
      "  plt.plot(base_fpr, tpr, 'b', label = 'AUC_%s = %0.2f' % (i, roc_auc), color='b')\n"
     ]
    },
    {
     "name": "stdout",
     "output_type": "stream",
     "text": [
      "Iter_6_11: Model prediction complete.\n",
      "Iter_6_12: Model prediction complete.\n",
      "Iter_6: Finished concat.\n"
     ]
    },
    {
     "name": "stderr",
     "output_type": "stream",
     "text": [
      "/var/folders/tn/1hx74qln26x7jlmq6t6mlyqm0000gn/T/ipykernel_1111/3843534340.py:47: UserWarning: color is redundantly defined by the 'color' keyword argument and the fmt string \"b\" (-> color=(0.0, 0.0, 1.0, 1)). The keyword argument will take precedence.\n",
      "  plt.plot(base_fpr, tpr, 'b', label = 'AUC_%s = %0.2f' % (i, roc_auc), color='b')\n",
      "/var/folders/tn/1hx74qln26x7jlmq6t6mlyqm0000gn/T/ipykernel_1111/3843534340.py:47: UserWarning: color is redundantly defined by the 'color' keyword argument and the fmt string \"b\" (-> color=(0.0, 0.0, 1.0, 1)). The keyword argument will take precedence.\n",
      "  plt.plot(base_fpr, tpr, 'b', label = 'AUC_%s = %0.2f' % (i, roc_auc), color='b')\n"
     ]
    },
    {
     "name": "stdout",
     "output_type": "stream",
     "text": [
      "Finished iteration: 6\n",
      "=====================================\n",
      "Beginning iteration: 7/10\n",
      "Iter_7: Preprocessing complete.\n",
      "Iter_7: Model fitting complete.\n",
      "Iter_7_1: Model prediction complete.\n"
     ]
    },
    {
     "name": "stderr",
     "output_type": "stream",
     "text": [
      "/var/folders/tn/1hx74qln26x7jlmq6t6mlyqm0000gn/T/ipykernel_1111/3843534340.py:47: UserWarning: color is redundantly defined by the 'color' keyword argument and the fmt string \"b\" (-> color=(0.0, 0.0, 1.0, 1)). The keyword argument will take precedence.\n",
      "  plt.plot(base_fpr, tpr, 'b', label = 'AUC_%s = %0.2f' % (i, roc_auc), color='b')\n",
      "/var/folders/tn/1hx74qln26x7jlmq6t6mlyqm0000gn/T/ipykernel_1111/3843534340.py:47: UserWarning: color is redundantly defined by the 'color' keyword argument and the fmt string \"b\" (-> color=(0.0, 0.0, 1.0, 1)). The keyword argument will take precedence.\n",
      "  plt.plot(base_fpr, tpr, 'b', label = 'AUC_%s = %0.2f' % (i, roc_auc), color='b')\n"
     ]
    },
    {
     "name": "stdout",
     "output_type": "stream",
     "text": [
      "Iter_7_2: Model prediction complete.\n",
      "Iter_7_3: Model prediction complete.\n"
     ]
    },
    {
     "name": "stderr",
     "output_type": "stream",
     "text": [
      "/var/folders/tn/1hx74qln26x7jlmq6t6mlyqm0000gn/T/ipykernel_1111/3843534340.py:47: UserWarning: color is redundantly defined by the 'color' keyword argument and the fmt string \"b\" (-> color=(0.0, 0.0, 1.0, 1)). The keyword argument will take precedence.\n",
      "  plt.plot(base_fpr, tpr, 'b', label = 'AUC_%s = %0.2f' % (i, roc_auc), color='b')\n",
      "/var/folders/tn/1hx74qln26x7jlmq6t6mlyqm0000gn/T/ipykernel_1111/3843534340.py:47: UserWarning: color is redundantly defined by the 'color' keyword argument and the fmt string \"b\" (-> color=(0.0, 0.0, 1.0, 1)). The keyword argument will take precedence.\n",
      "  plt.plot(base_fpr, tpr, 'b', label = 'AUC_%s = %0.2f' % (i, roc_auc), color='b')\n"
     ]
    },
    {
     "name": "stdout",
     "output_type": "stream",
     "text": [
      "Iter_7_4: Model prediction complete.\n",
      "Iter_7_5: Model prediction complete.\n"
     ]
    },
    {
     "name": "stderr",
     "output_type": "stream",
     "text": [
      "/var/folders/tn/1hx74qln26x7jlmq6t6mlyqm0000gn/T/ipykernel_1111/3843534340.py:47: UserWarning: color is redundantly defined by the 'color' keyword argument and the fmt string \"b\" (-> color=(0.0, 0.0, 1.0, 1)). The keyword argument will take precedence.\n",
      "  plt.plot(base_fpr, tpr, 'b', label = 'AUC_%s = %0.2f' % (i, roc_auc), color='b')\n",
      "/var/folders/tn/1hx74qln26x7jlmq6t6mlyqm0000gn/T/ipykernel_1111/3843534340.py:47: UserWarning: color is redundantly defined by the 'color' keyword argument and the fmt string \"b\" (-> color=(0.0, 0.0, 1.0, 1)). The keyword argument will take precedence.\n",
      "  plt.plot(base_fpr, tpr, 'b', label = 'AUC_%s = %0.2f' % (i, roc_auc), color='b')\n"
     ]
    },
    {
     "name": "stdout",
     "output_type": "stream",
     "text": [
      "Iter_7_6: Model prediction complete.\n",
      "Iter_7_7: Model prediction complete.\n"
     ]
    },
    {
     "name": "stderr",
     "output_type": "stream",
     "text": [
      "/var/folders/tn/1hx74qln26x7jlmq6t6mlyqm0000gn/T/ipykernel_1111/3843534340.py:47: UserWarning: color is redundantly defined by the 'color' keyword argument and the fmt string \"b\" (-> color=(0.0, 0.0, 1.0, 1)). The keyword argument will take precedence.\n",
      "  plt.plot(base_fpr, tpr, 'b', label = 'AUC_%s = %0.2f' % (i, roc_auc), color='b')\n",
      "/var/folders/tn/1hx74qln26x7jlmq6t6mlyqm0000gn/T/ipykernel_1111/3843534340.py:47: UserWarning: color is redundantly defined by the 'color' keyword argument and the fmt string \"b\" (-> color=(0.0, 0.0, 1.0, 1)). The keyword argument will take precedence.\n",
      "  plt.plot(base_fpr, tpr, 'b', label = 'AUC_%s = %0.2f' % (i, roc_auc), color='b')\n"
     ]
    },
    {
     "name": "stdout",
     "output_type": "stream",
     "text": [
      "Iter_7_8: Model prediction complete.\n",
      "Iter_7_9: Model prediction complete.\n"
     ]
    },
    {
     "name": "stderr",
     "output_type": "stream",
     "text": [
      "/var/folders/tn/1hx74qln26x7jlmq6t6mlyqm0000gn/T/ipykernel_1111/3843534340.py:47: UserWarning: color is redundantly defined by the 'color' keyword argument and the fmt string \"b\" (-> color=(0.0, 0.0, 1.0, 1)). The keyword argument will take precedence.\n",
      "  plt.plot(base_fpr, tpr, 'b', label = 'AUC_%s = %0.2f' % (i, roc_auc), color='b')\n",
      "/var/folders/tn/1hx74qln26x7jlmq6t6mlyqm0000gn/T/ipykernel_1111/3843534340.py:47: UserWarning: color is redundantly defined by the 'color' keyword argument and the fmt string \"b\" (-> color=(0.0, 0.0, 1.0, 1)). The keyword argument will take precedence.\n",
      "  plt.plot(base_fpr, tpr, 'b', label = 'AUC_%s = %0.2f' % (i, roc_auc), color='b')\n"
     ]
    },
    {
     "name": "stdout",
     "output_type": "stream",
     "text": [
      "Iter_7_10: Model prediction complete.\n",
      "Iter_7_11: Model prediction complete.\n"
     ]
    },
    {
     "name": "stderr",
     "output_type": "stream",
     "text": [
      "/var/folders/tn/1hx74qln26x7jlmq6t6mlyqm0000gn/T/ipykernel_1111/3843534340.py:47: UserWarning: color is redundantly defined by the 'color' keyword argument and the fmt string \"b\" (-> color=(0.0, 0.0, 1.0, 1)). The keyword argument will take precedence.\n",
      "  plt.plot(base_fpr, tpr, 'b', label = 'AUC_%s = %0.2f' % (i, roc_auc), color='b')\n",
      "/var/folders/tn/1hx74qln26x7jlmq6t6mlyqm0000gn/T/ipykernel_1111/3843534340.py:47: UserWarning: color is redundantly defined by the 'color' keyword argument and the fmt string \"b\" (-> color=(0.0, 0.0, 1.0, 1)). The keyword argument will take precedence.\n",
      "  plt.plot(base_fpr, tpr, 'b', label = 'AUC_%s = %0.2f' % (i, roc_auc), color='b')\n"
     ]
    },
    {
     "name": "stdout",
     "output_type": "stream",
     "text": [
      "Iter_7_12: Model prediction complete.\n",
      "Iter_7: Finished concat.\n",
      "Finished iteration: 7\n",
      "=====================================\n",
      "Beginning iteration: 8/10\n",
      "Iter_8: Preprocessing complete.\n",
      "Iter_8: Model fitting complete.\n",
      "Iter_8_1: Model prediction complete.\n"
     ]
    },
    {
     "name": "stderr",
     "output_type": "stream",
     "text": [
      "/var/folders/tn/1hx74qln26x7jlmq6t6mlyqm0000gn/T/ipykernel_1111/3843534340.py:47: UserWarning: color is redundantly defined by the 'color' keyword argument and the fmt string \"b\" (-> color=(0.0, 0.0, 1.0, 1)). The keyword argument will take precedence.\n",
      "  plt.plot(base_fpr, tpr, 'b', label = 'AUC_%s = %0.2f' % (i, roc_auc), color='b')\n",
      "/var/folders/tn/1hx74qln26x7jlmq6t6mlyqm0000gn/T/ipykernel_1111/3843534340.py:47: UserWarning: color is redundantly defined by the 'color' keyword argument and the fmt string \"b\" (-> color=(0.0, 0.0, 1.0, 1)). The keyword argument will take precedence.\n",
      "  plt.plot(base_fpr, tpr, 'b', label = 'AUC_%s = %0.2f' % (i, roc_auc), color='b')\n"
     ]
    },
    {
     "name": "stdout",
     "output_type": "stream",
     "text": [
      "Iter_8_2: Model prediction complete.\n",
      "Iter_8_3: Model prediction complete.\n"
     ]
    },
    {
     "name": "stderr",
     "output_type": "stream",
     "text": [
      "/var/folders/tn/1hx74qln26x7jlmq6t6mlyqm0000gn/T/ipykernel_1111/3843534340.py:47: UserWarning: color is redundantly defined by the 'color' keyword argument and the fmt string \"b\" (-> color=(0.0, 0.0, 1.0, 1)). The keyword argument will take precedence.\n",
      "  plt.plot(base_fpr, tpr, 'b', label = 'AUC_%s = %0.2f' % (i, roc_auc), color='b')\n",
      "/var/folders/tn/1hx74qln26x7jlmq6t6mlyqm0000gn/T/ipykernel_1111/3843534340.py:47: UserWarning: color is redundantly defined by the 'color' keyword argument and the fmt string \"b\" (-> color=(0.0, 0.0, 1.0, 1)). The keyword argument will take precedence.\n",
      "  plt.plot(base_fpr, tpr, 'b', label = 'AUC_%s = %0.2f' % (i, roc_auc), color='b')\n"
     ]
    },
    {
     "name": "stdout",
     "output_type": "stream",
     "text": [
      "Iter_8_4: Model prediction complete.\n",
      "Iter_8_5: Model prediction complete.\n"
     ]
    },
    {
     "name": "stderr",
     "output_type": "stream",
     "text": [
      "/var/folders/tn/1hx74qln26x7jlmq6t6mlyqm0000gn/T/ipykernel_1111/3843534340.py:47: UserWarning: color is redundantly defined by the 'color' keyword argument and the fmt string \"b\" (-> color=(0.0, 0.0, 1.0, 1)). The keyword argument will take precedence.\n",
      "  plt.plot(base_fpr, tpr, 'b', label = 'AUC_%s = %0.2f' % (i, roc_auc), color='b')\n",
      "/var/folders/tn/1hx74qln26x7jlmq6t6mlyqm0000gn/T/ipykernel_1111/3843534340.py:47: UserWarning: color is redundantly defined by the 'color' keyword argument and the fmt string \"b\" (-> color=(0.0, 0.0, 1.0, 1)). The keyword argument will take precedence.\n",
      "  plt.plot(base_fpr, tpr, 'b', label = 'AUC_%s = %0.2f' % (i, roc_auc), color='b')\n"
     ]
    },
    {
     "name": "stdout",
     "output_type": "stream",
     "text": [
      "Iter_8_6: Model prediction complete.\n",
      "Iter_8_7: Model prediction complete.\n"
     ]
    },
    {
     "name": "stderr",
     "output_type": "stream",
     "text": [
      "/var/folders/tn/1hx74qln26x7jlmq6t6mlyqm0000gn/T/ipykernel_1111/3843534340.py:47: UserWarning: color is redundantly defined by the 'color' keyword argument and the fmt string \"b\" (-> color=(0.0, 0.0, 1.0, 1)). The keyword argument will take precedence.\n",
      "  plt.plot(base_fpr, tpr, 'b', label = 'AUC_%s = %0.2f' % (i, roc_auc), color='b')\n",
      "/var/folders/tn/1hx74qln26x7jlmq6t6mlyqm0000gn/T/ipykernel_1111/3843534340.py:47: UserWarning: color is redundantly defined by the 'color' keyword argument and the fmt string \"b\" (-> color=(0.0, 0.0, 1.0, 1)). The keyword argument will take precedence.\n",
      "  plt.plot(base_fpr, tpr, 'b', label = 'AUC_%s = %0.2f' % (i, roc_auc), color='b')\n"
     ]
    },
    {
     "name": "stdout",
     "output_type": "stream",
     "text": [
      "Iter_8_8: Model prediction complete.\n",
      "Iter_8_9: Model prediction complete.\n"
     ]
    },
    {
     "name": "stderr",
     "output_type": "stream",
     "text": [
      "/var/folders/tn/1hx74qln26x7jlmq6t6mlyqm0000gn/T/ipykernel_1111/3843534340.py:47: UserWarning: color is redundantly defined by the 'color' keyword argument and the fmt string \"b\" (-> color=(0.0, 0.0, 1.0, 1)). The keyword argument will take precedence.\n",
      "  plt.plot(base_fpr, tpr, 'b', label = 'AUC_%s = %0.2f' % (i, roc_auc), color='b')\n",
      "/var/folders/tn/1hx74qln26x7jlmq6t6mlyqm0000gn/T/ipykernel_1111/3843534340.py:47: UserWarning: color is redundantly defined by the 'color' keyword argument and the fmt string \"b\" (-> color=(0.0, 0.0, 1.0, 1)). The keyword argument will take precedence.\n",
      "  plt.plot(base_fpr, tpr, 'b', label = 'AUC_%s = %0.2f' % (i, roc_auc), color='b')\n"
     ]
    },
    {
     "name": "stdout",
     "output_type": "stream",
     "text": [
      "Iter_8_10: Model prediction complete.\n",
      "Iter_8_11: Model prediction complete.\n"
     ]
    },
    {
     "name": "stderr",
     "output_type": "stream",
     "text": [
      "/var/folders/tn/1hx74qln26x7jlmq6t6mlyqm0000gn/T/ipykernel_1111/3843534340.py:47: UserWarning: color is redundantly defined by the 'color' keyword argument and the fmt string \"b\" (-> color=(0.0, 0.0, 1.0, 1)). The keyword argument will take precedence.\n",
      "  plt.plot(base_fpr, tpr, 'b', label = 'AUC_%s = %0.2f' % (i, roc_auc), color='b')\n",
      "/var/folders/tn/1hx74qln26x7jlmq6t6mlyqm0000gn/T/ipykernel_1111/3843534340.py:47: UserWarning: color is redundantly defined by the 'color' keyword argument and the fmt string \"b\" (-> color=(0.0, 0.0, 1.0, 1)). The keyword argument will take precedence.\n",
      "  plt.plot(base_fpr, tpr, 'b', label = 'AUC_%s = %0.2f' % (i, roc_auc), color='b')\n"
     ]
    },
    {
     "name": "stdout",
     "output_type": "stream",
     "text": [
      "Iter_8_12: Model prediction complete.\n",
      "Iter_8: Finished concat.\n",
      "Finished iteration: 8\n",
      "=====================================\n",
      "Beginning iteration: 9/10\n",
      "Iter_9: Preprocessing complete.\n",
      "Iter_9: Model fitting complete.\n",
      "Iter_9_1: Model prediction complete.\n"
     ]
    },
    {
     "name": "stderr",
     "output_type": "stream",
     "text": [
      "/var/folders/tn/1hx74qln26x7jlmq6t6mlyqm0000gn/T/ipykernel_1111/3843534340.py:47: UserWarning: color is redundantly defined by the 'color' keyword argument and the fmt string \"b\" (-> color=(0.0, 0.0, 1.0, 1)). The keyword argument will take precedence.\n",
      "  plt.plot(base_fpr, tpr, 'b', label = 'AUC_%s = %0.2f' % (i, roc_auc), color='b')\n",
      "/var/folders/tn/1hx74qln26x7jlmq6t6mlyqm0000gn/T/ipykernel_1111/3843534340.py:47: UserWarning: color is redundantly defined by the 'color' keyword argument and the fmt string \"b\" (-> color=(0.0, 0.0, 1.0, 1)). The keyword argument will take precedence.\n",
      "  plt.plot(base_fpr, tpr, 'b', label = 'AUC_%s = %0.2f' % (i, roc_auc), color='b')\n"
     ]
    },
    {
     "name": "stdout",
     "output_type": "stream",
     "text": [
      "Iter_9_2: Model prediction complete.\n",
      "Iter_9_3: Model prediction complete.\n"
     ]
    },
    {
     "name": "stderr",
     "output_type": "stream",
     "text": [
      "/var/folders/tn/1hx74qln26x7jlmq6t6mlyqm0000gn/T/ipykernel_1111/3843534340.py:47: UserWarning: color is redundantly defined by the 'color' keyword argument and the fmt string \"b\" (-> color=(0.0, 0.0, 1.0, 1)). The keyword argument will take precedence.\n",
      "  plt.plot(base_fpr, tpr, 'b', label = 'AUC_%s = %0.2f' % (i, roc_auc), color='b')\n",
      "/var/folders/tn/1hx74qln26x7jlmq6t6mlyqm0000gn/T/ipykernel_1111/3843534340.py:47: UserWarning: color is redundantly defined by the 'color' keyword argument and the fmt string \"b\" (-> color=(0.0, 0.0, 1.0, 1)). The keyword argument will take precedence.\n",
      "  plt.plot(base_fpr, tpr, 'b', label = 'AUC_%s = %0.2f' % (i, roc_auc), color='b')\n"
     ]
    },
    {
     "name": "stdout",
     "output_type": "stream",
     "text": [
      "Iter_9_4: Model prediction complete.\n",
      "Iter_9_5: Model prediction complete.\n"
     ]
    },
    {
     "name": "stderr",
     "output_type": "stream",
     "text": [
      "/var/folders/tn/1hx74qln26x7jlmq6t6mlyqm0000gn/T/ipykernel_1111/3843534340.py:47: UserWarning: color is redundantly defined by the 'color' keyword argument and the fmt string \"b\" (-> color=(0.0, 0.0, 1.0, 1)). The keyword argument will take precedence.\n",
      "  plt.plot(base_fpr, tpr, 'b', label = 'AUC_%s = %0.2f' % (i, roc_auc), color='b')\n",
      "/var/folders/tn/1hx74qln26x7jlmq6t6mlyqm0000gn/T/ipykernel_1111/3843534340.py:47: UserWarning: color is redundantly defined by the 'color' keyword argument and the fmt string \"b\" (-> color=(0.0, 0.0, 1.0, 1)). The keyword argument will take precedence.\n",
      "  plt.plot(base_fpr, tpr, 'b', label = 'AUC_%s = %0.2f' % (i, roc_auc), color='b')\n"
     ]
    },
    {
     "name": "stdout",
     "output_type": "stream",
     "text": [
      "Iter_9_6: Model prediction complete.\n",
      "Iter_9_7: Model prediction complete.\n"
     ]
    },
    {
     "name": "stderr",
     "output_type": "stream",
     "text": [
      "/var/folders/tn/1hx74qln26x7jlmq6t6mlyqm0000gn/T/ipykernel_1111/3843534340.py:47: UserWarning: color is redundantly defined by the 'color' keyword argument and the fmt string \"b\" (-> color=(0.0, 0.0, 1.0, 1)). The keyword argument will take precedence.\n",
      "  plt.plot(base_fpr, tpr, 'b', label = 'AUC_%s = %0.2f' % (i, roc_auc), color='b')\n",
      "/var/folders/tn/1hx74qln26x7jlmq6t6mlyqm0000gn/T/ipykernel_1111/3843534340.py:47: UserWarning: color is redundantly defined by the 'color' keyword argument and the fmt string \"b\" (-> color=(0.0, 0.0, 1.0, 1)). The keyword argument will take precedence.\n",
      "  plt.plot(base_fpr, tpr, 'b', label = 'AUC_%s = %0.2f' % (i, roc_auc), color='b')\n"
     ]
    },
    {
     "name": "stdout",
     "output_type": "stream",
     "text": [
      "Iter_9_8: Model prediction complete.\n",
      "Iter_9_9: Model prediction complete.\n"
     ]
    },
    {
     "name": "stderr",
     "output_type": "stream",
     "text": [
      "/var/folders/tn/1hx74qln26x7jlmq6t6mlyqm0000gn/T/ipykernel_1111/3843534340.py:47: UserWarning: color is redundantly defined by the 'color' keyword argument and the fmt string \"b\" (-> color=(0.0, 0.0, 1.0, 1)). The keyword argument will take precedence.\n",
      "  plt.plot(base_fpr, tpr, 'b', label = 'AUC_%s = %0.2f' % (i, roc_auc), color='b')\n",
      "/var/folders/tn/1hx74qln26x7jlmq6t6mlyqm0000gn/T/ipykernel_1111/3843534340.py:47: UserWarning: color is redundantly defined by the 'color' keyword argument and the fmt string \"b\" (-> color=(0.0, 0.0, 1.0, 1)). The keyword argument will take precedence.\n",
      "  plt.plot(base_fpr, tpr, 'b', label = 'AUC_%s = %0.2f' % (i, roc_auc), color='b')\n"
     ]
    },
    {
     "name": "stdout",
     "output_type": "stream",
     "text": [
      "Iter_9_10: Model prediction complete.\n",
      "Iter_9_11: Model prediction complete.\n"
     ]
    },
    {
     "name": "stderr",
     "output_type": "stream",
     "text": [
      "/var/folders/tn/1hx74qln26x7jlmq6t6mlyqm0000gn/T/ipykernel_1111/3843534340.py:47: UserWarning: color is redundantly defined by the 'color' keyword argument and the fmt string \"b\" (-> color=(0.0, 0.0, 1.0, 1)). The keyword argument will take precedence.\n",
      "  plt.plot(base_fpr, tpr, 'b', label = 'AUC_%s = %0.2f' % (i, roc_auc), color='b')\n",
      "/var/folders/tn/1hx74qln26x7jlmq6t6mlyqm0000gn/T/ipykernel_1111/3843534340.py:47: UserWarning: color is redundantly defined by the 'color' keyword argument and the fmt string \"b\" (-> color=(0.0, 0.0, 1.0, 1)). The keyword argument will take precedence.\n",
      "  plt.plot(base_fpr, tpr, 'b', label = 'AUC_%s = %0.2f' % (i, roc_auc), color='b')\n"
     ]
    },
    {
     "name": "stdout",
     "output_type": "stream",
     "text": [
      "Iter_9_12: Model prediction complete.\n",
      "Iter_9: Finished concat.\n",
      "Finished iteration: 9\n",
      "=====================================\n",
      "Beginning iteration: 10/10\n",
      "Iter_10: Preprocessing complete.\n",
      "Iter_10: Model fitting complete.\n",
      "Iter_10_1: Model prediction complete.\n"
     ]
    },
    {
     "name": "stderr",
     "output_type": "stream",
     "text": [
      "/var/folders/tn/1hx74qln26x7jlmq6t6mlyqm0000gn/T/ipykernel_1111/3843534340.py:47: UserWarning: color is redundantly defined by the 'color' keyword argument and the fmt string \"b\" (-> color=(0.0, 0.0, 1.0, 1)). The keyword argument will take precedence.\n",
      "  plt.plot(base_fpr, tpr, 'b', label = 'AUC_%s = %0.2f' % (i, roc_auc), color='b')\n",
      "/var/folders/tn/1hx74qln26x7jlmq6t6mlyqm0000gn/T/ipykernel_1111/3843534340.py:47: UserWarning: color is redundantly defined by the 'color' keyword argument and the fmt string \"b\" (-> color=(0.0, 0.0, 1.0, 1)). The keyword argument will take precedence.\n",
      "  plt.plot(base_fpr, tpr, 'b', label = 'AUC_%s = %0.2f' % (i, roc_auc), color='b')\n"
     ]
    },
    {
     "name": "stdout",
     "output_type": "stream",
     "text": [
      "Iter_10_2: Model prediction complete.\n",
      "Iter_10_3: Model prediction complete.\n"
     ]
    },
    {
     "name": "stderr",
     "output_type": "stream",
     "text": [
      "/var/folders/tn/1hx74qln26x7jlmq6t6mlyqm0000gn/T/ipykernel_1111/3843534340.py:47: UserWarning: color is redundantly defined by the 'color' keyword argument and the fmt string \"b\" (-> color=(0.0, 0.0, 1.0, 1)). The keyword argument will take precedence.\n",
      "  plt.plot(base_fpr, tpr, 'b', label = 'AUC_%s = %0.2f' % (i, roc_auc), color='b')\n",
      "/var/folders/tn/1hx74qln26x7jlmq6t6mlyqm0000gn/T/ipykernel_1111/3843534340.py:47: UserWarning: color is redundantly defined by the 'color' keyword argument and the fmt string \"b\" (-> color=(0.0, 0.0, 1.0, 1)). The keyword argument will take precedence.\n",
      "  plt.plot(base_fpr, tpr, 'b', label = 'AUC_%s = %0.2f' % (i, roc_auc), color='b')\n"
     ]
    },
    {
     "name": "stdout",
     "output_type": "stream",
     "text": [
      "Iter_10_4: Model prediction complete.\n",
      "Iter_10_5: Model prediction complete.\n"
     ]
    },
    {
     "name": "stderr",
     "output_type": "stream",
     "text": [
      "/var/folders/tn/1hx74qln26x7jlmq6t6mlyqm0000gn/T/ipykernel_1111/3843534340.py:47: UserWarning: color is redundantly defined by the 'color' keyword argument and the fmt string \"b\" (-> color=(0.0, 0.0, 1.0, 1)). The keyword argument will take precedence.\n",
      "  plt.plot(base_fpr, tpr, 'b', label = 'AUC_%s = %0.2f' % (i, roc_auc), color='b')\n",
      "/var/folders/tn/1hx74qln26x7jlmq6t6mlyqm0000gn/T/ipykernel_1111/3843534340.py:47: UserWarning: color is redundantly defined by the 'color' keyword argument and the fmt string \"b\" (-> color=(0.0, 0.0, 1.0, 1)). The keyword argument will take precedence.\n",
      "  plt.plot(base_fpr, tpr, 'b', label = 'AUC_%s = %0.2f' % (i, roc_auc), color='b')\n"
     ]
    },
    {
     "name": "stdout",
     "output_type": "stream",
     "text": [
      "Iter_10_6: Model prediction complete.\n",
      "Iter_10_7: Model prediction complete.\n"
     ]
    },
    {
     "name": "stderr",
     "output_type": "stream",
     "text": [
      "/var/folders/tn/1hx74qln26x7jlmq6t6mlyqm0000gn/T/ipykernel_1111/3843534340.py:47: UserWarning: color is redundantly defined by the 'color' keyword argument and the fmt string \"b\" (-> color=(0.0, 0.0, 1.0, 1)). The keyword argument will take precedence.\n",
      "  plt.plot(base_fpr, tpr, 'b', label = 'AUC_%s = %0.2f' % (i, roc_auc), color='b')\n"
     ]
    },
    {
     "name": "stdout",
     "output_type": "stream",
     "text": [
      "Iter_10_8: Model prediction complete.\n",
      "Iter_10_9: Model prediction complete.\n"
     ]
    },
    {
     "name": "stderr",
     "output_type": "stream",
     "text": [
      "/var/folders/tn/1hx74qln26x7jlmq6t6mlyqm0000gn/T/ipykernel_1111/3843534340.py:47: UserWarning: color is redundantly defined by the 'color' keyword argument and the fmt string \"b\" (-> color=(0.0, 0.0, 1.0, 1)). The keyword argument will take precedence.\n",
      "  plt.plot(base_fpr, tpr, 'b', label = 'AUC_%s = %0.2f' % (i, roc_auc), color='b')\n",
      "/var/folders/tn/1hx74qln26x7jlmq6t6mlyqm0000gn/T/ipykernel_1111/3843534340.py:47: UserWarning: color is redundantly defined by the 'color' keyword argument and the fmt string \"b\" (-> color=(0.0, 0.0, 1.0, 1)). The keyword argument will take precedence.\n",
      "  plt.plot(base_fpr, tpr, 'b', label = 'AUC_%s = %0.2f' % (i, roc_auc), color='b')\n"
     ]
    },
    {
     "name": "stdout",
     "output_type": "stream",
     "text": [
      "Iter_10_10: Model prediction complete.\n",
      "Iter_10_11: Model prediction complete.\n"
     ]
    },
    {
     "name": "stderr",
     "output_type": "stream",
     "text": [
      "/var/folders/tn/1hx74qln26x7jlmq6t6mlyqm0000gn/T/ipykernel_1111/3843534340.py:47: UserWarning: color is redundantly defined by the 'color' keyword argument and the fmt string \"b\" (-> color=(0.0, 0.0, 1.0, 1)). The keyword argument will take precedence.\n",
      "  plt.plot(base_fpr, tpr, 'b', label = 'AUC_%s = %0.2f' % (i, roc_auc), color='b')\n",
      "/var/folders/tn/1hx74qln26x7jlmq6t6mlyqm0000gn/T/ipykernel_1111/3843534340.py:47: UserWarning: color is redundantly defined by the 'color' keyword argument and the fmt string \"b\" (-> color=(0.0, 0.0, 1.0, 1)). The keyword argument will take precedence.\n",
      "  plt.plot(base_fpr, tpr, 'b', label = 'AUC_%s = %0.2f' % (i, roc_auc), color='b')\n"
     ]
    },
    {
     "name": "stdout",
     "output_type": "stream",
     "text": [
      "Iter_10_12: Model prediction complete.\n",
      "Iter_10: Finished concat.\n"
     ]
    },
    {
     "name": "stderr",
     "output_type": "stream",
     "text": [
      "/var/folders/tn/1hx74qln26x7jlmq6t6mlyqm0000gn/T/ipykernel_1111/3843534340.py:47: UserWarning: color is redundantly defined by the 'color' keyword argument and the fmt string \"b\" (-> color=(0.0, 0.0, 1.0, 1)). The keyword argument will take precedence.\n",
      "  plt.plot(base_fpr, tpr, 'b', label = 'AUC_%s = %0.2f' % (i, roc_auc), color='b')\n"
     ]
    },
    {
     "name": "stdout",
     "output_type": "stream",
     "text": [
      "Finished iteration: 10\n",
      "=====================================\n"
     ]
    },
    {
     "data": {
      "image/png": "[encoded data removed]",
      "text/plain": [
       "<Figure size 432x288 with 1 Axes>"
      ]
     },
     "metadata": {
      "needs_background": "light"
     },
     "output_type": "display_data"
    }
   ],
   "source": [
    "plt.title('ROC')\n",
    "\n",
    "base_fpr = np.linspace(0, 1, 101)\n",
    "\n",
    "for i in range(len(val)):\n",
    "    \n",
    "    print(\"Beginning iteration: %s/%s\" % (i+1, len(val)))\n",
    "    \n",
    "    scaler = StandardScaler()\n",
    "\n",
    "    b_X = burnin[:,3:30]\n",
    "    b_y = burnin[:,-3]\n",
    "\n",
    "    b_X = b_X.astype('float')\n",
    "    b_y = b_y.astype('float').astype('bool')\n",
    "\n",
    "    b_X = scaler.fit_transform(b_X)\n",
    "\n",
    "    b_X, b_y = BorderlineSMOTE().fit_resample(b_X, b_y)\n",
    "    \n",
    "    print(\"Iter_%s: Preprocessing complete.\" %str(i+1))\n",
    "    \n",
    "    # calculate the fpr and tpr for all thresholds of the classification\n",
    "    model = RandomForestClassifier(n_jobs=-1, max_depth=13, n_estimators=400)\n",
    "    model = model.fit(b_X, b_y)\n",
    "    \n",
    "    print(\"Iter_%s: Model fitting complete.\" %str(i+1))\n",
    "    \n",
    "    for j in range(12):\n",
    "        v_X = val_test[12*i+j,:,3:30]\n",
    "        v_y = val_test[i,:,-3]\n",
    "\n",
    "        v_X = v_X.astype('float')\n",
    "        v_y = v_y.astype('float').astype('bool')\n",
    "\n",
    "        v_X = scaler.fit_transform(v_X)\n",
    "\n",
    "        probs = model.predict_proba(v_X)\n",
    "\n",
    "        print(\"Iter_%s_%s: Model prediction complete.\" %(str(i+1), str(j+1)))\n",
    "\n",
    "        preds = probs[:,1]\n",
    "        _probs.append(probs)\n",
    "        fpr, tpr, threshold = metrics.roc_curve(v_y, preds)\n",
    "        tpr = np.interp(base_fpr, tpr, fpr)\n",
    "        roc_auc = metrics.auc(base_fpr, tpr)\n",
    "        plt.plot(base_fpr, tpr, 'b', label = 'AUC_%s = %0.2f' % (i, roc_auc), color='b')\n",
    "\n",
    "        tprs.append(tpr)\n",
    "        \n",
    "        aucs.append(roc_auc)\n",
    "\n",
    "    print(\"Iter_%s: Finished concat.\" %str(i+1))\n",
    "\n",
    "    burnin = np.concatenate((burnin, val[i]), axis=0)\n",
    "    \n",
    "    print(\"Finished iteration: %s\" %str(i+1))\n",
    "    print(\"=====================================\")"
   ]
  },
  {
   "cell_type": "code",
   "execution_count": null,
   "id": "e3271ae9-ab08-4ca2-a314-0f51e57ade4b",
   "metadata": {
    "collapsed": true,
    "jupyter": {
     "outputs_hidden": true,
     "source_hidden": true
    },
    "tags": []
   },
   "outputs": [
    {
     "name": "stdout",
     "output_type": "stream",
     "text": [
      "Beginning iteration: 1/10\n",
      "Iter_0: Preprocessing complete.\n",
      "Iter_0: Model fitting complete.\n",
      "Iter_0: Model prediction complete.\n",
      "Iter_0: Finished concat.\n"
     ]
    },
    {
     "name": "stderr",
     "output_type": "stream",
     "text": [
      "/var/folders/tn/1hx74qln26x7jlmq6t6mlyqm0000gn/T/ipykernel_97026/1761898223.py:44: UserWarning: color is redundantly defined by the 'color' keyword argument and the fmt string \"b\" (-> color=(0.0, 0.0, 1.0, 1)). The keyword argument will take precedence.\n",
      "  plt.plot(fpr, tpr, 'b', label = 'AUC_%s = %0.2f' % (i, roc_auc), color='b')\n"
     ]
    },
    {
     "name": "stdout",
     "output_type": "stream",
     "text": [
      "Finished iteration: 0\n",
      "=====================================\n",
      "Beginning iteration: 2/10\n",
      "Iter_1: Preprocessing complete.\n",
      "Iter_1: Model fitting complete.\n",
      "Iter_1: Model prediction complete.\n",
      "Iter_1: Finished concat.\n"
     ]
    },
    {
     "name": "stderr",
     "output_type": "stream",
     "text": [
      "/var/folders/tn/1hx74qln26x7jlmq6t6mlyqm0000gn/T/ipykernel_97026/1761898223.py:44: UserWarning: color is redundantly defined by the 'color' keyword argument and the fmt string \"b\" (-> color=(0.0, 0.0, 1.0, 1)). The keyword argument will take precedence.\n",
      "  plt.plot(fpr, tpr, 'b', label = 'AUC_%s = %0.2f' % (i, roc_auc), color='b')\n"
     ]
    },
    {
     "name": "stdout",
     "output_type": "stream",
     "text": [
      "Finished iteration: 1\n",
      "=====================================\n",
      "Beginning iteration: 3/10\n",
      "Iter_2: Preprocessing complete.\n",
      "Iter_2: Model fitting complete.\n",
      "Iter_2: Model prediction complete.\n",
      "Iter_2: Finished concat.\n"
     ]
    },
    {
     "name": "stderr",
     "output_type": "stream",
     "text": [
      "/var/folders/tn/1hx74qln26x7jlmq6t6mlyqm0000gn/T/ipykernel_97026/1761898223.py:44: UserWarning: color is redundantly defined by the 'color' keyword argument and the fmt string \"b\" (-> color=(0.0, 0.0, 1.0, 1)). The keyword argument will take precedence.\n",
      "  plt.plot(fpr, tpr, 'b', label = 'AUC_%s = %0.2f' % (i, roc_auc), color='b')\n"
     ]
    },
    {
     "name": "stdout",
     "output_type": "stream",
     "text": [
      "Finished iteration: 2\n",
      "=====================================\n",
      "Beginning iteration: 4/10\n",
      "Iter_3: Preprocessing complete.\n",
      "Iter_3: Model fitting complete.\n",
      "Iter_3: Model prediction complete.\n",
      "Iter_3: Finished concat.\n"
     ]
    },
    {
     "name": "stderr",
     "output_type": "stream",
     "text": [
      "/var/folders/tn/1hx74qln26x7jlmq6t6mlyqm0000gn/T/ipykernel_97026/1761898223.py:44: UserWarning: color is redundantly defined by the 'color' keyword argument and the fmt string \"b\" (-> color=(0.0, 0.0, 1.0, 1)). The keyword argument will take precedence.\n",
      "  plt.plot(fpr, tpr, 'b', label = 'AUC_%s = %0.2f' % (i, roc_auc), color='b')\n"
     ]
    },
    {
     "name": "stdout",
     "output_type": "stream",
     "text": [
      "Finished iteration: 3\n",
      "=====================================\n",
      "Beginning iteration: 5/10\n",
      "Iter_4: Preprocessing complete.\n",
      "Iter_4: Model fitting complete.\n",
      "Iter_4: Model prediction complete.\n",
      "Iter_4: Finished concat.\n"
     ]
    },
    {
     "name": "stderr",
     "output_type": "stream",
     "text": [
      "/var/folders/tn/1hx74qln26x7jlmq6t6mlyqm0000gn/T/ipykernel_97026/1761898223.py:44: UserWarning: color is redundantly defined by the 'color' keyword argument and the fmt string \"b\" (-> color=(0.0, 0.0, 1.0, 1)). The keyword argument will take precedence.\n",
      "  plt.plot(fpr, tpr, 'b', label = 'AUC_%s = %0.2f' % (i, roc_auc), color='b')\n"
     ]
    },
    {
     "name": "stdout",
     "output_type": "stream",
     "text": [
      "Finished iteration: 4\n",
      "=====================================\n",
      "Beginning iteration: 6/10\n",
      "Iter_5: Preprocessing complete.\n",
      "Iter_5: Model fitting complete.\n",
      "Iter_5: Model prediction complete.\n",
      "Iter_5: Finished concat.\n"
     ]
    },
    {
     "name": "stderr",
     "output_type": "stream",
     "text": [
      "/var/folders/tn/1hx74qln26x7jlmq6t6mlyqm0000gn/T/ipykernel_97026/1761898223.py:44: UserWarning: color is redundantly defined by the 'color' keyword argument and the fmt string \"b\" (-> color=(0.0, 0.0, 1.0, 1)). The keyword argument will take precedence.\n",
      "  plt.plot(fpr, tpr, 'b', label = 'AUC_%s = %0.2f' % (i, roc_auc), color='b')\n"
     ]
    },
    {
     "name": "stdout",
     "output_type": "stream",
     "text": [
      "Finished iteration: 5\n",
      "=====================================\n",
      "Beginning iteration: 7/10\n",
      "Iter_6: Preprocessing complete.\n",
      "Iter_6: Model fitting complete.\n",
      "Iter_6: Model prediction complete.\n",
      "Iter_6: Finished concat.\n"
     ]
    },
    {
     "name": "stderr",
     "output_type": "stream",
     "text": [
      "/var/folders/tn/1hx74qln26x7jlmq6t6mlyqm0000gn/T/ipykernel_97026/1761898223.py:44: UserWarning: color is redundantly defined by the 'color' keyword argument and the fmt string \"b\" (-> color=(0.0, 0.0, 1.0, 1)). The keyword argument will take precedence.\n",
      "  plt.plot(fpr, tpr, 'b', label = 'AUC_%s = %0.2f' % (i, roc_auc), color='b')\n"
     ]
    },
    {
     "name": "stdout",
     "output_type": "stream",
     "text": [
      "Finished iteration: 6\n",
      "=====================================\n",
      "Beginning iteration: 8/10\n",
      "Iter_7: Preprocessing complete.\n",
      "Iter_7: Model fitting complete.\n",
      "Iter_7: Model prediction complete.\n",
      "Iter_7: Finished concat.\n"
     ]
    },
    {
     "name": "stderr",
     "output_type": "stream",
     "text": [
      "/var/folders/tn/1hx74qln26x7jlmq6t6mlyqm0000gn/T/ipykernel_97026/1761898223.py:44: UserWarning: color is redundantly defined by the 'color' keyword argument and the fmt string \"b\" (-> color=(0.0, 0.0, 1.0, 1)). The keyword argument will take precedence.\n",
      "  plt.plot(fpr, tpr, 'b', label = 'AUC_%s = %0.2f' % (i, roc_auc), color='b')\n"
     ]
    },
    {
     "name": "stdout",
     "output_type": "stream",
     "text": [
      "Finished iteration: 7\n",
      "=====================================\n",
      "Beginning iteration: 9/10\n",
      "Iter_8: Preprocessing complete.\n",
      "Iter_8: Model fitting complete.\n",
      "Iter_8: Model prediction complete.\n",
      "Iter_8: Finished concat.\n"
     ]
    },
    {
     "name": "stderr",
     "output_type": "stream",
     "text": [
      "/var/folders/tn/1hx74qln26x7jlmq6t6mlyqm0000gn/T/ipykernel_97026/1761898223.py:44: UserWarning: color is redundantly defined by the 'color' keyword argument and the fmt string \"b\" (-> color=(0.0, 0.0, 1.0, 1)). The keyword argument will take precedence.\n",
      "  plt.plot(fpr, tpr, 'b', label = 'AUC_%s = %0.2f' % (i, roc_auc), color='b')\n"
     ]
    },
    {
     "name": "stdout",
     "output_type": "stream",
     "text": [
      "Finished iteration: 8\n",
      "=====================================\n",
      "Beginning iteration: 10/10\n",
      "Iter_9: Preprocessing complete.\n",
      "Iter_9: Model fitting complete.\n",
      "Iter_9: Model prediction complete.\n",
      "Iter_9: Finished concat.\n"
     ]
    },
    {
     "name": "stderr",
     "output_type": "stream",
     "text": [
      "/Users/alekseyvalouev/opt/anaconda3/lib/python3.9/site-packages/sklearn/metrics/_ranking.py:999: UndefinedMetricWarning: No positive samples in y_true, true positive value should be meaningless\n",
      "  warnings.warn(\n",
      "/var/folders/tn/1hx74qln26x7jlmq6t6mlyqm0000gn/T/ipykernel_97026/1761898223.py:44: UserWarning: color is redundantly defined by the 'color' keyword argument and the fmt string \"b\" (-> color=(0.0, 0.0, 1.0, 1)). The keyword argument will take precedence.\n",
      "  plt.plot(fpr, tpr, 'b', label = 'AUC_%s = %0.2f' % (i, roc_auc), color='b')\n"
     ]
    },
    {
     "name": "stdout",
     "output_type": "stream",
     "text": [
      "Finished iteration: 9\n",
      "=====================================\n"
     ]
    },
    {
     "data": {
      "image/png": "[encoded data removed]",
      "text/plain": [
       "<Figure size 432x288 with 1 Axes>"
      ]
     },
     "metadata": {
      "needs_background": "light"
     },
     "output_type": "display_data"
    }
   ],
   "source": [
    "plt.title('ROC')\n",
    "\n",
    "for i in range(len(val)):\n",
    "    \n",
    "    print(\"Beginning iteration: %s/%s\" % (i+1, len(val)))\n",
    "    \n",
    "    scaler = StandardScaler()\n",
    "\n",
    "    b_X = burnin[:,3:30]\n",
    "    b_y = burnin[:,-3]\n",
    "\n",
    "    b_X = b_X.astype('float')\n",
    "    b_y = b_y.astype('float').astype('bool')\n",
    "\n",
    "    b_X = scaler.fit_transform(b_X)\n",
    "\n",
    "    v_X = val_test[i,:,3:30]\n",
    "    v_y = val_test[i,:,-3]\n",
    "\n",
    "    v_X = v_X.astype('float')\n",
    "    v_y = v_y.astype('float').astype('bool')\n",
    "\n",
    "    v_X = scaler.fit_transform(v_X)\n",
    "\n",
    "    b_X, b_y = BorderlineSMOTE().fit_resample(b_X, b_y)\n",
    "    \n",
    "    print(\"Iter_%s: Preprocessing complete.\" %i)\n",
    "    \n",
    "    # calculate the fpr and tpr for all thresholds of the classification\n",
    "    model = RandomForestClassifier(n_jobs=-1)\n",
    "    model = model.fit(b_X, b_y)\n",
    "    \n",
    "    print(\"Iter_%s: Model fitting complete.\" %i)\n",
    "    \n",
    "    probs = model.predict_proba(v_X)\n",
    "    \n",
    "    print(\"Iter_%s: Model prediction complete.\" %i)\n",
    "    \n",
    "    preds = probs[:,1]\n",
    "    _probs.append(probs)\n",
    "    fpr, tpr, threshold = metrics.roc_curve(v_y, preds)\n",
    "    fprs.append(fpr)\n",
    "    roc_auc = metrics.auc(fpr, tpr)\n",
    "    plt.plot(fpr, tpr, 'b', label = 'AUC_%s = %0.2f' % (i, roc_auc), color='b')\n",
    "    \n",
    "    tprs.append(tpr)\n",
    "    \n",
    "    print(\"Iter_%s: Finished concat.\" %i)\n",
    "    \n",
    "    burnin = np.concatenate((burnin, val[i]), axis=0)\n",
    "    \n",
    "    print(\"Finished iteration: %s\" %i)\n",
    "    print(\"=====================================\")"
   ]
  },
  {
   "cell_type": "code",
   "execution_count": 37,
   "id": "e5f6d35b-3c6d-4b83-8cee-2c09b80330ff",
   "metadata": {
    "tags": []
   },
   "outputs": [
    {
     "name": "stderr",
     "output_type": "stream",
     "text": [
      "/var/folders/tn/1hx74qln26x7jlmq6t6mlyqm0000gn/T/ipykernel_1111/1832198086.py:11: UserWarning: color is redundantly defined by the 'color' keyword argument and the fmt string \"b\" (-> color=(0.0, 0.0, 1.0, 1)). The keyword argument will take precedence.\n",
      "  plt.plot(tprs[i], base_fpr, 'b', label = 'AUC_%s = %0.2f' % (i, roc_auc), color='b')\n",
      "/var/folders/tn/1hx74qln26x7jlmq6t6mlyqm0000gn/T/ipykernel_1111/1832198086.py:11: UserWarning: color is redundantly defined by the 'color' keyword argument and the fmt string \"b\" (-> color=(0.0, 0.0, 1.0, 1)). The keyword argument will take precedence.\n",
      "  plt.plot(tprs[i], base_fpr, 'b', label = 'AUC_%s = %0.2f' % (i, roc_auc), color='b')\n",
      "/var/folders/tn/1hx74qln26x7jlmq6t6mlyqm0000gn/T/ipykernel_1111/1832198086.py:11: UserWarning: color is redundantly defined by the 'color' keyword argument and the fmt string \"b\" (-> color=(0.0, 0.0, 1.0, 1)). The keyword argument will take precedence.\n",
      "  plt.plot(tprs[i], base_fpr, 'b', label = 'AUC_%s = %0.2f' % (i, roc_auc), color='b')\n",
      "/var/folders/tn/1hx74qln26x7jlmq6t6mlyqm0000gn/T/ipykernel_1111/1832198086.py:11: UserWarning: color is redundantly defined by the 'color' keyword argument and the fmt string \"b\" (-> color=(0.0, 0.0, 1.0, 1)). The keyword argument will take precedence.\n",
      "  plt.plot(tprs[i], base_fpr, 'b', label = 'AUC_%s = %0.2f' % (i, roc_auc), color='b')\n",
      "/var/folders/tn/1hx74qln26x7jlmq6t6mlyqm0000gn/T/ipykernel_1111/1832198086.py:11: UserWarning: color is redundantly defined by the 'color' keyword argument and the fmt string \"b\" (-> color=(0.0, 0.0, 1.0, 1)). The keyword argument will take precedence.\n",
      "  plt.plot(tprs[i], base_fpr, 'b', label = 'AUC_%s = %0.2f' % (i, roc_auc), color='b')\n",
      "/var/folders/tn/1hx74qln26x7jlmq6t6mlyqm0000gn/T/ipykernel_1111/1832198086.py:11: UserWarning: color is redundantly defined by the 'color' keyword argument and the fmt string \"b\" (-> color=(0.0, 0.0, 1.0, 1)). The keyword argument will take precedence.\n",
      "  plt.plot(tprs[i], base_fpr, 'b', label = 'AUC_%s = %0.2f' % (i, roc_auc), color='b')\n",
      "/var/folders/tn/1hx74qln26x7jlmq6t6mlyqm0000gn/T/ipykernel_1111/1832198086.py:11: UserWarning: color is redundantly defined by the 'color' keyword argument and the fmt string \"b\" (-> color=(0.0, 0.0, 1.0, 1)). The keyword argument will take precedence.\n",
      "  plt.plot(tprs[i], base_fpr, 'b', label = 'AUC_%s = %0.2f' % (i, roc_auc), color='b')\n",
      "/var/folders/tn/1hx74qln26x7jlmq6t6mlyqm0000gn/T/ipykernel_1111/1832198086.py:11: UserWarning: color is redundantly defined by the 'color' keyword argument and the fmt string \"b\" (-> color=(0.0, 0.0, 1.0, 1)). The keyword argument will take precedence.\n",
      "  plt.plot(tprs[i], base_fpr, 'b', label = 'AUC_%s = %0.2f' % (i, roc_auc), color='b')\n",
      "/var/folders/tn/1hx74qln26x7jlmq6t6mlyqm0000gn/T/ipykernel_1111/1832198086.py:11: UserWarning: color is redundantly defined by the 'color' keyword argument and the fmt string \"b\" (-> color=(0.0, 0.0, 1.0, 1)). The keyword argument will take precedence.\n",
      "  plt.plot(tprs[i], base_fpr, 'b', label = 'AUC_%s = %0.2f' % (i, roc_auc), color='b')\n",
      "/var/folders/tn/1hx74qln26x7jlmq6t6mlyqm0000gn/T/ipykernel_1111/1832198086.py:11: UserWarning: color is redundantly defined by the 'color' keyword argument and the fmt string \"b\" (-> color=(0.0, 0.0, 1.0, 1)). The keyword argument will take precedence.\n",
      "  plt.plot(tprs[i], base_fpr, 'b', label = 'AUC_%s = %0.2f' % (i, roc_auc), color='b')\n",
      "/var/folders/tn/1hx74qln26x7jlmq6t6mlyqm0000gn/T/ipykernel_1111/1832198086.py:11: UserWarning: color is redundantly defined by the 'color' keyword argument and the fmt string \"b\" (-> color=(0.0, 0.0, 1.0, 1)). The keyword argument will take precedence.\n",
      "  plt.plot(tprs[i], base_fpr, 'b', label = 'AUC_%s = %0.2f' % (i, roc_auc), color='b')\n",
      "/var/folders/tn/1hx74qln26x7jlmq6t6mlyqm0000gn/T/ipykernel_1111/1832198086.py:11: UserWarning: color is redundantly defined by the 'color' keyword argument and the fmt string \"b\" (-> color=(0.0, 0.0, 1.0, 1)). The keyword argument will take precedence.\n",
      "  plt.plot(tprs[i], base_fpr, 'b', label = 'AUC_%s = %0.2f' % (i, roc_auc), color='b')\n",
      "/var/folders/tn/1hx74qln26x7jlmq6t6mlyqm0000gn/T/ipykernel_1111/1832198086.py:11: UserWarning: color is redundantly defined by the 'color' keyword argument and the fmt string \"b\" (-> color=(0.0, 0.0, 1.0, 1)). The keyword argument will take precedence.\n",
      "  plt.plot(tprs[i], base_fpr, 'b', label = 'AUC_%s = %0.2f' % (i, roc_auc), color='b')\n",
      "/var/folders/tn/1hx74qln26x7jlmq6t6mlyqm0000gn/T/ipykernel_1111/1832198086.py:11: UserWarning: color is redundantly defined by the 'color' keyword argument and the fmt string \"b\" (-> color=(0.0, 0.0, 1.0, 1)). The keyword argument will take precedence.\n",
      "  plt.plot(tprs[i], base_fpr, 'b', label = 'AUC_%s = %0.2f' % (i, roc_auc), color='b')\n",
      "/var/folders/tn/1hx74qln26x7jlmq6t6mlyqm0000gn/T/ipykernel_1111/1832198086.py:11: UserWarning: color is redundantly defined by the 'color' keyword argument and the fmt string \"b\" (-> color=(0.0, 0.0, 1.0, 1)). The keyword argument will take precedence.\n",
      "  plt.plot(tprs[i], base_fpr, 'b', label = 'AUC_%s = %0.2f' % (i, roc_auc), color='b')\n",
      "/var/folders/tn/1hx74qln26x7jlmq6t6mlyqm0000gn/T/ipykernel_1111/1832198086.py:11: UserWarning: color is redundantly defined by the 'color' keyword argument and the fmt string \"b\" (-> color=(0.0, 0.0, 1.0, 1)). The keyword argument will take precedence.\n",
      "  plt.plot(tprs[i], base_fpr, 'b', label = 'AUC_%s = %0.2f' % (i, roc_auc), color='b')\n",
      "/var/folders/tn/1hx74qln26x7jlmq6t6mlyqm0000gn/T/ipykernel_1111/1832198086.py:11: UserWarning: color is redundantly defined by the 'color' keyword argument and the fmt string \"b\" (-> color=(0.0, 0.0, 1.0, 1)). The keyword argument will take precedence.\n",
      "  plt.plot(tprs[i], base_fpr, 'b', label = 'AUC_%s = %0.2f' % (i, roc_auc), color='b')\n",
      "/var/folders/tn/1hx74qln26x7jlmq6t6mlyqm0000gn/T/ipykernel_1111/1832198086.py:11: UserWarning: color is redundantly defined by the 'color' keyword argument and the fmt string \"b\" (-> color=(0.0, 0.0, 1.0, 1)). The keyword argument will take precedence.\n",
      "  plt.plot(tprs[i], base_fpr, 'b', label = 'AUC_%s = %0.2f' % (i, roc_auc), color='b')\n",
      "/var/folders/tn/1hx74qln26x7jlmq6t6mlyqm0000gn/T/ipykernel_1111/1832198086.py:11: UserWarning: color is redundantly defined by the 'color' keyword argument and the fmt string \"b\" (-> color=(0.0, 0.0, 1.0, 1)). The keyword argument will take precedence.\n",
      "  plt.plot(tprs[i], base_fpr, 'b', label = 'AUC_%s = %0.2f' % (i, roc_auc), color='b')\n",
      "/var/folders/tn/1hx74qln26x7jlmq6t6mlyqm0000gn/T/ipykernel_1111/1832198086.py:11: UserWarning: color is redundantly defined by the 'color' keyword argument and the fmt string \"b\" (-> color=(0.0, 0.0, 1.0, 1)). The keyword argument will take precedence.\n",
      "  plt.plot(tprs[i], base_fpr, 'b', label = 'AUC_%s = %0.2f' % (i, roc_auc), color='b')\n",
      "/var/folders/tn/1hx74qln26x7jlmq6t6mlyqm0000gn/T/ipykernel_1111/1832198086.py:11: UserWarning: color is redundantly defined by the 'color' keyword argument and the fmt string \"b\" (-> color=(0.0, 0.0, 1.0, 1)). The keyword argument will take precedence.\n",
      "  plt.plot(tprs[i], base_fpr, 'b', label = 'AUC_%s = %0.2f' % (i, roc_auc), color='b')\n",
      "/var/folders/tn/1hx74qln26x7jlmq6t6mlyqm0000gn/T/ipykernel_1111/1832198086.py:11: UserWarning: color is redundantly defined by the 'color' keyword argument and the fmt string \"b\" (-> color=(0.0, 0.0, 1.0, 1)). The keyword argument will take precedence.\n",
      "  plt.plot(tprs[i], base_fpr, 'b', label = 'AUC_%s = %0.2f' % (i, roc_auc), color='b')\n",
      "/var/folders/tn/1hx74qln26x7jlmq6t6mlyqm0000gn/T/ipykernel_1111/1832198086.py:11: UserWarning: color is redundantly defined by the 'color' keyword argument and the fmt string \"b\" (-> color=(0.0, 0.0, 1.0, 1)). The keyword argument will take precedence.\n",
      "  plt.plot(tprs[i], base_fpr, 'b', label = 'AUC_%s = %0.2f' % (i, roc_auc), color='b')\n",
      "/var/folders/tn/1hx74qln26x7jlmq6t6mlyqm0000gn/T/ipykernel_1111/1832198086.py:11: UserWarning: color is redundantly defined by the 'color' keyword argument and the fmt string \"b\" (-> color=(0.0, 0.0, 1.0, 1)). The keyword argument will take precedence.\n",
      "  plt.plot(tprs[i], base_fpr, 'b', label = 'AUC_%s = %0.2f' % (i, roc_auc), color='b')\n",
      "/var/folders/tn/1hx74qln26x7jlmq6t6mlyqm0000gn/T/ipykernel_1111/1832198086.py:11: UserWarning: color is redundantly defined by the 'color' keyword argument and the fmt string \"b\" (-> color=(0.0, 0.0, 1.0, 1)). The keyword argument will take precedence.\n",
      "  plt.plot(tprs[i], base_fpr, 'b', label = 'AUC_%s = %0.2f' % (i, roc_auc), color='b')\n",
      "/var/folders/tn/1hx74qln26x7jlmq6t6mlyqm0000gn/T/ipykernel_1111/1832198086.py:11: UserWarning: color is redundantly defined by the 'color' keyword argument and the fmt string \"b\" (-> color=(0.0, 0.0, 1.0, 1)). The keyword argument will take precedence.\n",
      "  plt.plot(tprs[i], base_fpr, 'b', label = 'AUC_%s = %0.2f' % (i, roc_auc), color='b')\n",
      "/var/folders/tn/1hx74qln26x7jlmq6t6mlyqm0000gn/T/ipykernel_1111/1832198086.py:11: UserWarning: color is redundantly defined by the 'color' keyword argument and the fmt string \"b\" (-> color=(0.0, 0.0, 1.0, 1)). The keyword argument will take precedence.\n",
      "  plt.plot(tprs[i], base_fpr, 'b', label = 'AUC_%s = %0.2f' % (i, roc_auc), color='b')\n",
      "/var/folders/tn/1hx74qln26x7jlmq6t6mlyqm0000gn/T/ipykernel_1111/1832198086.py:11: UserWarning: color is redundantly defined by the 'color' keyword argument and the fmt string \"b\" (-> color=(0.0, 0.0, 1.0, 1)). The keyword argument will take precedence.\n",
      "  plt.plot(tprs[i], base_fpr, 'b', label = 'AUC_%s = %0.2f' % (i, roc_auc), color='b')\n",
      "/var/folders/tn/1hx74qln26x7jlmq6t6mlyqm0000gn/T/ipykernel_1111/1832198086.py:11: UserWarning: color is redundantly defined by the 'color' keyword argument and the fmt string \"b\" (-> color=(0.0, 0.0, 1.0, 1)). The keyword argument will take precedence.\n",
      "  plt.plot(tprs[i], base_fpr, 'b', label = 'AUC_%s = %0.2f' % (i, roc_auc), color='b')\n",
      "/var/folders/tn/1hx74qln26x7jlmq6t6mlyqm0000gn/T/ipykernel_1111/1832198086.py:11: UserWarning: color is redundantly defined by the 'color' keyword argument and the fmt string \"b\" (-> color=(0.0, 0.0, 1.0, 1)). The keyword argument will take precedence.\n",
      "  plt.plot(tprs[i], base_fpr, 'b', label = 'AUC_%s = %0.2f' % (i, roc_auc), color='b')\n",
      "/var/folders/tn/1hx74qln26x7jlmq6t6mlyqm0000gn/T/ipykernel_1111/1832198086.py:11: UserWarning: color is redundantly defined by the 'color' keyword argument and the fmt string \"b\" (-> color=(0.0, 0.0, 1.0, 1)). The keyword argument will take precedence.\n",
      "  plt.plot(tprs[i], base_fpr, 'b', label = 'AUC_%s = %0.2f' % (i, roc_auc), color='b')\n",
      "/var/folders/tn/1hx74qln26x7jlmq6t6mlyqm0000gn/T/ipykernel_1111/1832198086.py:11: UserWarning: color is redundantly defined by the 'color' keyword argument and the fmt string \"b\" (-> color=(0.0, 0.0, 1.0, 1)). The keyword argument will take precedence.\n",
      "  plt.plot(tprs[i], base_fpr, 'b', label = 'AUC_%s = %0.2f' % (i, roc_auc), color='b')\n",
      "/var/folders/tn/1hx74qln26x7jlmq6t6mlyqm0000gn/T/ipykernel_1111/1832198086.py:11: UserWarning: color is redundantly defined by the 'color' keyword argument and the fmt string \"b\" (-> color=(0.0, 0.0, 1.0, 1)). The keyword argument will take precedence.\n",
      "  plt.plot(tprs[i], base_fpr, 'b', label = 'AUC_%s = %0.2f' % (i, roc_auc), color='b')\n",
      "/var/folders/tn/1hx74qln26x7jlmq6t6mlyqm0000gn/T/ipykernel_1111/1832198086.py:11: UserWarning: color is redundantly defined by the 'color' keyword argument and the fmt string \"b\" (-> color=(0.0, 0.0, 1.0, 1)). The keyword argument will take precedence.\n",
      "  plt.plot(tprs[i], base_fpr, 'b', label = 'AUC_%s = %0.2f' % (i, roc_auc), color='b')\n",
      "/var/folders/tn/1hx74qln26x7jlmq6t6mlyqm0000gn/T/ipykernel_1111/1832198086.py:11: UserWarning: color is redundantly defined by the 'color' keyword argument and the fmt string \"b\" (-> color=(0.0, 0.0, 1.0, 1)). The keyword argument will take precedence.\n",
      "  plt.plot(tprs[i], base_fpr, 'b', label = 'AUC_%s = %0.2f' % (i, roc_auc), color='b')\n",
      "/var/folders/tn/1hx74qln26x7jlmq6t6mlyqm0000gn/T/ipykernel_1111/1832198086.py:11: UserWarning: color is redundantly defined by the 'color' keyword argument and the fmt string \"b\" (-> color=(0.0, 0.0, 1.0, 1)). The keyword argument will take precedence.\n",
      "  plt.plot(tprs[i], base_fpr, 'b', label = 'AUC_%s = %0.2f' % (i, roc_auc), color='b')\n",
      "/var/folders/tn/1hx74qln26x7jlmq6t6mlyqm0000gn/T/ipykernel_1111/1832198086.py:11: UserWarning: color is redundantly defined by the 'color' keyword argument and the fmt string \"b\" (-> color=(0.0, 0.0, 1.0, 1)). The keyword argument will take precedence.\n",
      "  plt.plot(tprs[i], base_fpr, 'b', label = 'AUC_%s = %0.2f' % (i, roc_auc), color='b')\n",
      "/var/folders/tn/1hx74qln26x7jlmq6t6mlyqm0000gn/T/ipykernel_1111/1832198086.py:11: UserWarning: color is redundantly defined by the 'color' keyword argument and the fmt string \"b\" (-> color=(0.0, 0.0, 1.0, 1)). The keyword argument will take precedence.\n",
      "  plt.plot(tprs[i], base_fpr, 'b', label = 'AUC_%s = %0.2f' % (i, roc_auc), color='b')\n",
      "/var/folders/tn/1hx74qln26x7jlmq6t6mlyqm0000gn/T/ipykernel_1111/1832198086.py:11: UserWarning: color is redundantly defined by the 'color' keyword argument and the fmt string \"b\" (-> color=(0.0, 0.0, 1.0, 1)). The keyword argument will take precedence.\n",
      "  plt.plot(tprs[i], base_fpr, 'b', label = 'AUC_%s = %0.2f' % (i, roc_auc), color='b')\n",
      "/var/folders/tn/1hx74qln26x7jlmq6t6mlyqm0000gn/T/ipykernel_1111/1832198086.py:11: UserWarning: color is redundantly defined by the 'color' keyword argument and the fmt string \"b\" (-> color=(0.0, 0.0, 1.0, 1)). The keyword argument will take precedence.\n",
      "  plt.plot(tprs[i], base_fpr, 'b', label = 'AUC_%s = %0.2f' % (i, roc_auc), color='b')\n",
      "/var/folders/tn/1hx74qln26x7jlmq6t6mlyqm0000gn/T/ipykernel_1111/1832198086.py:11: UserWarning: color is redundantly defined by the 'color' keyword argument and the fmt string \"b\" (-> color=(0.0, 0.0, 1.0, 1)). The keyword argument will take precedence.\n",
      "  plt.plot(tprs[i], base_fpr, 'b', label = 'AUC_%s = %0.2f' % (i, roc_auc), color='b')\n",
      "/var/folders/tn/1hx74qln26x7jlmq6t6mlyqm0000gn/T/ipykernel_1111/1832198086.py:11: UserWarning: color is redundantly defined by the 'color' keyword argument and the fmt string \"b\" (-> color=(0.0, 0.0, 1.0, 1)). The keyword argument will take precedence.\n",
      "  plt.plot(tprs[i], base_fpr, 'b', label = 'AUC_%s = %0.2f' % (i, roc_auc), color='b')\n",
      "/var/folders/tn/1hx74qln26x7jlmq6t6mlyqm0000gn/T/ipykernel_1111/1832198086.py:11: UserWarning: color is redundantly defined by the 'color' keyword argument and the fmt string \"b\" (-> color=(0.0, 0.0, 1.0, 1)). The keyword argument will take precedence.\n",
      "  plt.plot(tprs[i], base_fpr, 'b', label = 'AUC_%s = %0.2f' % (i, roc_auc), color='b')\n",
      "/var/folders/tn/1hx74qln26x7jlmq6t6mlyqm0000gn/T/ipykernel_1111/1832198086.py:11: UserWarning: color is redundantly defined by the 'color' keyword argument and the fmt string \"b\" (-> color=(0.0, 0.0, 1.0, 1)). The keyword argument will take precedence.\n",
      "  plt.plot(tprs[i], base_fpr, 'b', label = 'AUC_%s = %0.2f' % (i, roc_auc), color='b')\n",
      "/var/folders/tn/1hx74qln26x7jlmq6t6mlyqm0000gn/T/ipykernel_1111/1832198086.py:11: UserWarning: color is redundantly defined by the 'color' keyword argument and the fmt string \"b\" (-> color=(0.0, 0.0, 1.0, 1)). The keyword argument will take precedence.\n",
      "  plt.plot(tprs[i], base_fpr, 'b', label = 'AUC_%s = %0.2f' % (i, roc_auc), color='b')\n",
      "/var/folders/tn/1hx74qln26x7jlmq6t6mlyqm0000gn/T/ipykernel_1111/1832198086.py:11: UserWarning: color is redundantly defined by the 'color' keyword argument and the fmt string \"b\" (-> color=(0.0, 0.0, 1.0, 1)). The keyword argument will take precedence.\n",
      "  plt.plot(tprs[i], base_fpr, 'b', label = 'AUC_%s = %0.2f' % (i, roc_auc), color='b')\n",
      "/var/folders/tn/1hx74qln26x7jlmq6t6mlyqm0000gn/T/ipykernel_1111/1832198086.py:11: UserWarning: color is redundantly defined by the 'color' keyword argument and the fmt string \"b\" (-> color=(0.0, 0.0, 1.0, 1)). The keyword argument will take precedence.\n",
      "  plt.plot(tprs[i], base_fpr, 'b', label = 'AUC_%s = %0.2f' % (i, roc_auc), color='b')\n",
      "/var/folders/tn/1hx74qln26x7jlmq6t6mlyqm0000gn/T/ipykernel_1111/1832198086.py:11: UserWarning: color is redundantly defined by the 'color' keyword argument and the fmt string \"b\" (-> color=(0.0, 0.0, 1.0, 1)). The keyword argument will take precedence.\n",
      "  plt.plot(tprs[i], base_fpr, 'b', label = 'AUC_%s = %0.2f' % (i, roc_auc), color='b')\n",
      "/var/folders/tn/1hx74qln26x7jlmq6t6mlyqm0000gn/T/ipykernel_1111/1832198086.py:11: UserWarning: color is redundantly defined by the 'color' keyword argument and the fmt string \"b\" (-> color=(0.0, 0.0, 1.0, 1)). The keyword argument will take precedence.\n",
      "  plt.plot(tprs[i], base_fpr, 'b', label = 'AUC_%s = %0.2f' % (i, roc_auc), color='b')\n",
      "/var/folders/tn/1hx74qln26x7jlmq6t6mlyqm0000gn/T/ipykernel_1111/1832198086.py:11: UserWarning: color is redundantly defined by the 'color' keyword argument and the fmt string \"b\" (-> color=(0.0, 0.0, 1.0, 1)). The keyword argument will take precedence.\n",
      "  plt.plot(tprs[i], base_fpr, 'b', label = 'AUC_%s = %0.2f' % (i, roc_auc), color='b')\n",
      "/var/folders/tn/1hx74qln26x7jlmq6t6mlyqm0000gn/T/ipykernel_1111/1832198086.py:11: UserWarning: color is redundantly defined by the 'color' keyword argument and the fmt string \"b\" (-> color=(0.0, 0.0, 1.0, 1)). The keyword argument will take precedence.\n",
      "  plt.plot(tprs[i], base_fpr, 'b', label = 'AUC_%s = %0.2f' % (i, roc_auc), color='b')\n",
      "/var/folders/tn/1hx74qln26x7jlmq6t6mlyqm0000gn/T/ipykernel_1111/1832198086.py:11: UserWarning: color is redundantly defined by the 'color' keyword argument and the fmt string \"b\" (-> color=(0.0, 0.0, 1.0, 1)). The keyword argument will take precedence.\n",
      "  plt.plot(tprs[i], base_fpr, 'b', label = 'AUC_%s = %0.2f' % (i, roc_auc), color='b')\n",
      "/var/folders/tn/1hx74qln26x7jlmq6t6mlyqm0000gn/T/ipykernel_1111/1832198086.py:11: UserWarning: color is redundantly defined by the 'color' keyword argument and the fmt string \"b\" (-> color=(0.0, 0.0, 1.0, 1)). The keyword argument will take precedence.\n",
      "  plt.plot(tprs[i], base_fpr, 'b', label = 'AUC_%s = %0.2f' % (i, roc_auc), color='b')\n",
      "/var/folders/tn/1hx74qln26x7jlmq6t6mlyqm0000gn/T/ipykernel_1111/1832198086.py:11: UserWarning: color is redundantly defined by the 'color' keyword argument and the fmt string \"b\" (-> color=(0.0, 0.0, 1.0, 1)). The keyword argument will take precedence.\n",
      "  plt.plot(tprs[i], base_fpr, 'b', label = 'AUC_%s = %0.2f' % (i, roc_auc), color='b')\n",
      "/var/folders/tn/1hx74qln26x7jlmq6t6mlyqm0000gn/T/ipykernel_1111/1832198086.py:11: UserWarning: color is redundantly defined by the 'color' keyword argument and the fmt string \"b\" (-> color=(0.0, 0.0, 1.0, 1)). The keyword argument will take precedence.\n",
      "  plt.plot(tprs[i], base_fpr, 'b', label = 'AUC_%s = %0.2f' % (i, roc_auc), color='b')\n",
      "/var/folders/tn/1hx74qln26x7jlmq6t6mlyqm0000gn/T/ipykernel_1111/1832198086.py:11: UserWarning: color is redundantly defined by the 'color' keyword argument and the fmt string \"b\" (-> color=(0.0, 0.0, 1.0, 1)). The keyword argument will take precedence.\n",
      "  plt.plot(tprs[i], base_fpr, 'b', label = 'AUC_%s = %0.2f' % (i, roc_auc), color='b')\n",
      "/var/folders/tn/1hx74qln26x7jlmq6t6mlyqm0000gn/T/ipykernel_1111/1832198086.py:11: UserWarning: color is redundantly defined by the 'color' keyword argument and the fmt string \"b\" (-> color=(0.0, 0.0, 1.0, 1)). The keyword argument will take precedence.\n",
      "  plt.plot(tprs[i], base_fpr, 'b', label = 'AUC_%s = %0.2f' % (i, roc_auc), color='b')\n",
      "/var/folders/tn/1hx74qln26x7jlmq6t6mlyqm0000gn/T/ipykernel_1111/1832198086.py:11: UserWarning: color is redundantly defined by the 'color' keyword argument and the fmt string \"b\" (-> color=(0.0, 0.0, 1.0, 1)). The keyword argument will take precedence.\n",
      "  plt.plot(tprs[i], base_fpr, 'b', label = 'AUC_%s = %0.2f' % (i, roc_auc), color='b')\n",
      "/var/folders/tn/1hx74qln26x7jlmq6t6mlyqm0000gn/T/ipykernel_1111/1832198086.py:11: UserWarning: color is redundantly defined by the 'color' keyword argument and the fmt string \"b\" (-> color=(0.0, 0.0, 1.0, 1)). The keyword argument will take precedence.\n",
      "  plt.plot(tprs[i], base_fpr, 'b', label = 'AUC_%s = %0.2f' % (i, roc_auc), color='b')\n",
      "/var/folders/tn/1hx74qln26x7jlmq6t6mlyqm0000gn/T/ipykernel_1111/1832198086.py:11: UserWarning: color is redundantly defined by the 'color' keyword argument and the fmt string \"b\" (-> color=(0.0, 0.0, 1.0, 1)). The keyword argument will take precedence.\n",
      "  plt.plot(tprs[i], base_fpr, 'b', label = 'AUC_%s = %0.2f' % (i, roc_auc), color='b')\n",
      "/var/folders/tn/1hx74qln26x7jlmq6t6mlyqm0000gn/T/ipykernel_1111/1832198086.py:11: UserWarning: color is redundantly defined by the 'color' keyword argument and the fmt string \"b\" (-> color=(0.0, 0.0, 1.0, 1)). The keyword argument will take precedence.\n",
      "  plt.plot(tprs[i], base_fpr, 'b', label = 'AUC_%s = %0.2f' % (i, roc_auc), color='b')\n",
      "/var/folders/tn/1hx74qln26x7jlmq6t6mlyqm0000gn/T/ipykernel_1111/1832198086.py:11: UserWarning: color is redundantly defined by the 'color' keyword argument and the fmt string \"b\" (-> color=(0.0, 0.0, 1.0, 1)). The keyword argument will take precedence.\n",
      "  plt.plot(tprs[i], base_fpr, 'b', label = 'AUC_%s = %0.2f' % (i, roc_auc), color='b')\n",
      "/var/folders/tn/1hx74qln26x7jlmq6t6mlyqm0000gn/T/ipykernel_1111/1832198086.py:11: UserWarning: color is redundantly defined by the 'color' keyword argument and the fmt string \"b\" (-> color=(0.0, 0.0, 1.0, 1)). The keyword argument will take precedence.\n",
      "  plt.plot(tprs[i], base_fpr, 'b', label = 'AUC_%s = %0.2f' % (i, roc_auc), color='b')\n",
      "/var/folders/tn/1hx74qln26x7jlmq6t6mlyqm0000gn/T/ipykernel_1111/1832198086.py:11: UserWarning: color is redundantly defined by the 'color' keyword argument and the fmt string \"b\" (-> color=(0.0, 0.0, 1.0, 1)). The keyword argument will take precedence.\n",
      "  plt.plot(tprs[i], base_fpr, 'b', label = 'AUC_%s = %0.2f' % (i, roc_auc), color='b')\n",
      "/var/folders/tn/1hx74qln26x7jlmq6t6mlyqm0000gn/T/ipykernel_1111/1832198086.py:11: UserWarning: color is redundantly defined by the 'color' keyword argument and the fmt string \"b\" (-> color=(0.0, 0.0, 1.0, 1)). The keyword argument will take precedence.\n",
      "  plt.plot(tprs[i], base_fpr, 'b', label = 'AUC_%s = %0.2f' % (i, roc_auc), color='b')\n",
      "/var/folders/tn/1hx74qln26x7jlmq6t6mlyqm0000gn/T/ipykernel_1111/1832198086.py:11: UserWarning: color is redundantly defined by the 'color' keyword argument and the fmt string \"b\" (-> color=(0.0, 0.0, 1.0, 1)). The keyword argument will take precedence.\n",
      "  plt.plot(tprs[i], base_fpr, 'b', label = 'AUC_%s = %0.2f' % (i, roc_auc), color='b')\n",
      "/var/folders/tn/1hx74qln26x7jlmq6t6mlyqm0000gn/T/ipykernel_1111/1832198086.py:11: UserWarning: color is redundantly defined by the 'color' keyword argument and the fmt string \"b\" (-> color=(0.0, 0.0, 1.0, 1)). The keyword argument will take precedence.\n",
      "  plt.plot(tprs[i], base_fpr, 'b', label = 'AUC_%s = %0.2f' % (i, roc_auc), color='b')\n",
      "/var/folders/tn/1hx74qln26x7jlmq6t6mlyqm0000gn/T/ipykernel_1111/1832198086.py:11: UserWarning: color is redundantly defined by the 'color' keyword argument and the fmt string \"b\" (-> color=(0.0, 0.0, 1.0, 1)). The keyword argument will take precedence.\n",
      "  plt.plot(tprs[i], base_fpr, 'b', label = 'AUC_%s = %0.2f' % (i, roc_auc), color='b')\n",
      "/var/folders/tn/1hx74qln26x7jlmq6t6mlyqm0000gn/T/ipykernel_1111/1832198086.py:11: UserWarning: color is redundantly defined by the 'color' keyword argument and the fmt string \"b\" (-> color=(0.0, 0.0, 1.0, 1)). The keyword argument will take precedence.\n",
      "  plt.plot(tprs[i], base_fpr, 'b', label = 'AUC_%s = %0.2f' % (i, roc_auc), color='b')\n",
      "/var/folders/tn/1hx74qln26x7jlmq6t6mlyqm0000gn/T/ipykernel_1111/1832198086.py:11: UserWarning: color is redundantly defined by the 'color' keyword argument and the fmt string \"b\" (-> color=(0.0, 0.0, 1.0, 1)). The keyword argument will take precedence.\n",
      "  plt.plot(tprs[i], base_fpr, 'b', label = 'AUC_%s = %0.2f' % (i, roc_auc), color='b')\n",
      "/var/folders/tn/1hx74qln26x7jlmq6t6mlyqm0000gn/T/ipykernel_1111/1832198086.py:11: UserWarning: color is redundantly defined by the 'color' keyword argument and the fmt string \"b\" (-> color=(0.0, 0.0, 1.0, 1)). The keyword argument will take precedence.\n",
      "  plt.plot(tprs[i], base_fpr, 'b', label = 'AUC_%s = %0.2f' % (i, roc_auc), color='b')\n",
      "/var/folders/tn/1hx74qln26x7jlmq6t6mlyqm0000gn/T/ipykernel_1111/1832198086.py:11: UserWarning: color is redundantly defined by the 'color' keyword argument and the fmt string \"b\" (-> color=(0.0, 0.0, 1.0, 1)). The keyword argument will take precedence.\n",
      "  plt.plot(tprs[i], base_fpr, 'b', label = 'AUC_%s = %0.2f' % (i, roc_auc), color='b')\n",
      "/var/folders/tn/1hx74qln26x7jlmq6t6mlyqm0000gn/T/ipykernel_1111/1832198086.py:11: UserWarning: color is redundantly defined by the 'color' keyword argument and the fmt string \"b\" (-> color=(0.0, 0.0, 1.0, 1)). The keyword argument will take precedence.\n",
      "  plt.plot(tprs[i], base_fpr, 'b', label = 'AUC_%s = %0.2f' % (i, roc_auc), color='b')\n",
      "/var/folders/tn/1hx74qln26x7jlmq6t6mlyqm0000gn/T/ipykernel_1111/1832198086.py:11: UserWarning: color is redundantly defined by the 'color' keyword argument and the fmt string \"b\" (-> color=(0.0, 0.0, 1.0, 1)). The keyword argument will take precedence.\n",
      "  plt.plot(tprs[i], base_fpr, 'b', label = 'AUC_%s = %0.2f' % (i, roc_auc), color='b')\n",
      "/var/folders/tn/1hx74qln26x7jlmq6t6mlyqm0000gn/T/ipykernel_1111/1832198086.py:11: UserWarning: color is redundantly defined by the 'color' keyword argument and the fmt string \"b\" (-> color=(0.0, 0.0, 1.0, 1)). The keyword argument will take precedence.\n",
      "  plt.plot(tprs[i], base_fpr, 'b', label = 'AUC_%s = %0.2f' % (i, roc_auc), color='b')\n",
      "/var/folders/tn/1hx74qln26x7jlmq6t6mlyqm0000gn/T/ipykernel_1111/1832198086.py:11: UserWarning: color is redundantly defined by the 'color' keyword argument and the fmt string \"b\" (-> color=(0.0, 0.0, 1.0, 1)). The keyword argument will take precedence.\n",
      "  plt.plot(tprs[i], base_fpr, 'b', label = 'AUC_%s = %0.2f' % (i, roc_auc), color='b')\n",
      "/var/folders/tn/1hx74qln26x7jlmq6t6mlyqm0000gn/T/ipykernel_1111/1832198086.py:11: UserWarning: color is redundantly defined by the 'color' keyword argument and the fmt string \"b\" (-> color=(0.0, 0.0, 1.0, 1)). The keyword argument will take precedence.\n",
      "  plt.plot(tprs[i], base_fpr, 'b', label = 'AUC_%s = %0.2f' % (i, roc_auc), color='b')\n",
      "/var/folders/tn/1hx74qln26x7jlmq6t6mlyqm0000gn/T/ipykernel_1111/1832198086.py:11: UserWarning: color is redundantly defined by the 'color' keyword argument and the fmt string \"b\" (-> color=(0.0, 0.0, 1.0, 1)). The keyword argument will take precedence.\n",
      "  plt.plot(tprs[i], base_fpr, 'b', label = 'AUC_%s = %0.2f' % (i, roc_auc), color='b')\n",
      "/var/folders/tn/1hx74qln26x7jlmq6t6mlyqm0000gn/T/ipykernel_1111/1832198086.py:11: UserWarning: color is redundantly defined by the 'color' keyword argument and the fmt string \"b\" (-> color=(0.0, 0.0, 1.0, 1)). The keyword argument will take precedence.\n",
      "  plt.plot(tprs[i], base_fpr, 'b', label = 'AUC_%s = %0.2f' % (i, roc_auc), color='b')\n",
      "/var/folders/tn/1hx74qln26x7jlmq6t6mlyqm0000gn/T/ipykernel_1111/1832198086.py:11: UserWarning: color is redundantly defined by the 'color' keyword argument and the fmt string \"b\" (-> color=(0.0, 0.0, 1.0, 1)). The keyword argument will take precedence.\n",
      "  plt.plot(tprs[i], base_fpr, 'b', label = 'AUC_%s = %0.2f' % (i, roc_auc), color='b')\n",
      "/var/folders/tn/1hx74qln26x7jlmq6t6mlyqm0000gn/T/ipykernel_1111/1832198086.py:11: UserWarning: color is redundantly defined by the 'color' keyword argument and the fmt string \"b\" (-> color=(0.0, 0.0, 1.0, 1)). The keyword argument will take precedence.\n",
      "  plt.plot(tprs[i], base_fpr, 'b', label = 'AUC_%s = %0.2f' % (i, roc_auc), color='b')\n",
      "/var/folders/tn/1hx74qln26x7jlmq6t6mlyqm0000gn/T/ipykernel_1111/1832198086.py:11: UserWarning: color is redundantly defined by the 'color' keyword argument and the fmt string \"b\" (-> color=(0.0, 0.0, 1.0, 1)). The keyword argument will take precedence.\n",
      "  plt.plot(tprs[i], base_fpr, 'b', label = 'AUC_%s = %0.2f' % (i, roc_auc), color='b')\n",
      "/var/folders/tn/1hx74qln26x7jlmq6t6mlyqm0000gn/T/ipykernel_1111/1832198086.py:11: UserWarning: color is redundantly defined by the 'color' keyword argument and the fmt string \"b\" (-> color=(0.0, 0.0, 1.0, 1)). The keyword argument will take precedence.\n",
      "  plt.plot(tprs[i], base_fpr, 'b', label = 'AUC_%s = %0.2f' % (i, roc_auc), color='b')\n",
      "/var/folders/tn/1hx74qln26x7jlmq6t6mlyqm0000gn/T/ipykernel_1111/1832198086.py:11: UserWarning: color is redundantly defined by the 'color' keyword argument and the fmt string \"b\" (-> color=(0.0, 0.0, 1.0, 1)). The keyword argument will take precedence.\n",
      "  plt.plot(tprs[i], base_fpr, 'b', label = 'AUC_%s = %0.2f' % (i, roc_auc), color='b')\n",
      "/var/folders/tn/1hx74qln26x7jlmq6t6mlyqm0000gn/T/ipykernel_1111/1832198086.py:11: UserWarning: color is redundantly defined by the 'color' keyword argument and the fmt string \"b\" (-> color=(0.0, 0.0, 1.0, 1)). The keyword argument will take precedence.\n",
      "  plt.plot(tprs[i], base_fpr, 'b', label = 'AUC_%s = %0.2f' % (i, roc_auc), color='b')\n",
      "/var/folders/tn/1hx74qln26x7jlmq6t6mlyqm0000gn/T/ipykernel_1111/1832198086.py:11: UserWarning: color is redundantly defined by the 'color' keyword argument and the fmt string \"b\" (-> color=(0.0, 0.0, 1.0, 1)). The keyword argument will take precedence.\n",
      "  plt.plot(tprs[i], base_fpr, 'b', label = 'AUC_%s = %0.2f' % (i, roc_auc), color='b')\n",
      "/var/folders/tn/1hx74qln26x7jlmq6t6mlyqm0000gn/T/ipykernel_1111/1832198086.py:11: UserWarning: color is redundantly defined by the 'color' keyword argument and the fmt string \"b\" (-> color=(0.0, 0.0, 1.0, 1)). The keyword argument will take precedence.\n",
      "  plt.plot(tprs[i], base_fpr, 'b', label = 'AUC_%s = %0.2f' % (i, roc_auc), color='b')\n",
      "/var/folders/tn/1hx74qln26x7jlmq6t6mlyqm0000gn/T/ipykernel_1111/1832198086.py:11: UserWarning: color is redundantly defined by the 'color' keyword argument and the fmt string \"b\" (-> color=(0.0, 0.0, 1.0, 1)). The keyword argument will take precedence.\n",
      "  plt.plot(tprs[i], base_fpr, 'b', label = 'AUC_%s = %0.2f' % (i, roc_auc), color='b')\n",
      "/var/folders/tn/1hx74qln26x7jlmq6t6mlyqm0000gn/T/ipykernel_1111/1832198086.py:11: UserWarning: color is redundantly defined by the 'color' keyword argument and the fmt string \"b\" (-> color=(0.0, 0.0, 1.0, 1)). The keyword argument will take precedence.\n",
      "  plt.plot(tprs[i], base_fpr, 'b', label = 'AUC_%s = %0.2f' % (i, roc_auc), color='b')\n",
      "/var/folders/tn/1hx74qln26x7jlmq6t6mlyqm0000gn/T/ipykernel_1111/1832198086.py:11: UserWarning: color is redundantly defined by the 'color' keyword argument and the fmt string \"b\" (-> color=(0.0, 0.0, 1.0, 1)). The keyword argument will take precedence.\n",
      "  plt.plot(tprs[i], base_fpr, 'b', label = 'AUC_%s = %0.2f' % (i, roc_auc), color='b')\n",
      "/var/folders/tn/1hx74qln26x7jlmq6t6mlyqm0000gn/T/ipykernel_1111/1832198086.py:11: UserWarning: color is redundantly defined by the 'color' keyword argument and the fmt string \"b\" (-> color=(0.0, 0.0, 1.0, 1)). The keyword argument will take precedence.\n",
      "  plt.plot(tprs[i], base_fpr, 'b', label = 'AUC_%s = %0.2f' % (i, roc_auc), color='b')\n",
      "/var/folders/tn/1hx74qln26x7jlmq6t6mlyqm0000gn/T/ipykernel_1111/1832198086.py:11: UserWarning: color is redundantly defined by the 'color' keyword argument and the fmt string \"b\" (-> color=(0.0, 0.0, 1.0, 1)). The keyword argument will take precedence.\n",
      "  plt.plot(tprs[i], base_fpr, 'b', label = 'AUC_%s = %0.2f' % (i, roc_auc), color='b')\n",
      "/var/folders/tn/1hx74qln26x7jlmq6t6mlyqm0000gn/T/ipykernel_1111/1832198086.py:11: UserWarning: color is redundantly defined by the 'color' keyword argument and the fmt string \"b\" (-> color=(0.0, 0.0, 1.0, 1)). The keyword argument will take precedence.\n",
      "  plt.plot(tprs[i], base_fpr, 'b', label = 'AUC_%s = %0.2f' % (i, roc_auc), color='b')\n",
      "/var/folders/tn/1hx74qln26x7jlmq6t6mlyqm0000gn/T/ipykernel_1111/1832198086.py:11: UserWarning: color is redundantly defined by the 'color' keyword argument and the fmt string \"b\" (-> color=(0.0, 0.0, 1.0, 1)). The keyword argument will take precedence.\n",
      "  plt.plot(tprs[i], base_fpr, 'b', label = 'AUC_%s = %0.2f' % (i, roc_auc), color='b')\n",
      "/var/folders/tn/1hx74qln26x7jlmq6t6mlyqm0000gn/T/ipykernel_1111/1832198086.py:11: UserWarning: color is redundantly defined by the 'color' keyword argument and the fmt string \"b\" (-> color=(0.0, 0.0, 1.0, 1)). The keyword argument will take precedence.\n",
      "  plt.plot(tprs[i], base_fpr, 'b', label = 'AUC_%s = %0.2f' % (i, roc_auc), color='b')\n",
      "/var/folders/tn/1hx74qln26x7jlmq6t6mlyqm0000gn/T/ipykernel_1111/1832198086.py:11: UserWarning: color is redundantly defined by the 'color' keyword argument and the fmt string \"b\" (-> color=(0.0, 0.0, 1.0, 1)). The keyword argument will take precedence.\n",
      "  plt.plot(tprs[i], base_fpr, 'b', label = 'AUC_%s = %0.2f' % (i, roc_auc), color='b')\n",
      "/var/folders/tn/1hx74qln26x7jlmq6t6mlyqm0000gn/T/ipykernel_1111/1832198086.py:11: UserWarning: color is redundantly defined by the 'color' keyword argument and the fmt string \"b\" (-> color=(0.0, 0.0, 1.0, 1)). The keyword argument will take precedence.\n",
      "  plt.plot(tprs[i], base_fpr, 'b', label = 'AUC_%s = %0.2f' % (i, roc_auc), color='b')\n",
      "/var/folders/tn/1hx74qln26x7jlmq6t6mlyqm0000gn/T/ipykernel_1111/1832198086.py:11: UserWarning: color is redundantly defined by the 'color' keyword argument and the fmt string \"b\" (-> color=(0.0, 0.0, 1.0, 1)). The keyword argument will take precedence.\n",
      "  plt.plot(tprs[i], base_fpr, 'b', label = 'AUC_%s = %0.2f' % (i, roc_auc), color='b')\n",
      "/var/folders/tn/1hx74qln26x7jlmq6t6mlyqm0000gn/T/ipykernel_1111/1832198086.py:11: UserWarning: color is redundantly defined by the 'color' keyword argument and the fmt string \"b\" (-> color=(0.0, 0.0, 1.0, 1)). The keyword argument will take precedence.\n",
      "  plt.plot(tprs[i], base_fpr, 'b', label = 'AUC_%s = %0.2f' % (i, roc_auc), color='b')\n",
      "/var/folders/tn/1hx74qln26x7jlmq6t6mlyqm0000gn/T/ipykernel_1111/1832198086.py:11: UserWarning: color is redundantly defined by the 'color' keyword argument and the fmt string \"b\" (-> color=(0.0, 0.0, 1.0, 1)). The keyword argument will take precedence.\n",
      "  plt.plot(tprs[i], base_fpr, 'b', label = 'AUC_%s = %0.2f' % (i, roc_auc), color='b')\n",
      "/var/folders/tn/1hx74qln26x7jlmq6t6mlyqm0000gn/T/ipykernel_1111/1832198086.py:11: UserWarning: color is redundantly defined by the 'color' keyword argument and the fmt string \"b\" (-> color=(0.0, 0.0, 1.0, 1)). The keyword argument will take precedence.\n",
      "  plt.plot(tprs[i], base_fpr, 'b', label = 'AUC_%s = %0.2f' % (i, roc_auc), color='b')\n",
      "/var/folders/tn/1hx74qln26x7jlmq6t6mlyqm0000gn/T/ipykernel_1111/1832198086.py:11: UserWarning: color is redundantly defined by the 'color' keyword argument and the fmt string \"b\" (-> color=(0.0, 0.0, 1.0, 1)). The keyword argument will take precedence.\n",
      "  plt.plot(tprs[i], base_fpr, 'b', label = 'AUC_%s = %0.2f' % (i, roc_auc), color='b')\n",
      "/var/folders/tn/1hx74qln26x7jlmq6t6mlyqm0000gn/T/ipykernel_1111/1832198086.py:11: UserWarning: color is redundantly defined by the 'color' keyword argument and the fmt string \"b\" (-> color=(0.0, 0.0, 1.0, 1)). The keyword argument will take precedence.\n",
      "  plt.plot(tprs[i], base_fpr, 'b', label = 'AUC_%s = %0.2f' % (i, roc_auc), color='b')\n",
      "/var/folders/tn/1hx74qln26x7jlmq6t6mlyqm0000gn/T/ipykernel_1111/1832198086.py:11: UserWarning: color is redundantly defined by the 'color' keyword argument and the fmt string \"b\" (-> color=(0.0, 0.0, 1.0, 1)). The keyword argument will take precedence.\n",
      "  plt.plot(tprs[i], base_fpr, 'b', label = 'AUC_%s = %0.2f' % (i, roc_auc), color='b')\n",
      "/var/folders/tn/1hx74qln26x7jlmq6t6mlyqm0000gn/T/ipykernel_1111/1832198086.py:11: UserWarning: color is redundantly defined by the 'color' keyword argument and the fmt string \"b\" (-> color=(0.0, 0.0, 1.0, 1)). The keyword argument will take precedence.\n",
      "  plt.plot(tprs[i], base_fpr, 'b', label = 'AUC_%s = %0.2f' % (i, roc_auc), color='b')\n",
      "/var/folders/tn/1hx74qln26x7jlmq6t6mlyqm0000gn/T/ipykernel_1111/1832198086.py:11: UserWarning: color is redundantly defined by the 'color' keyword argument and the fmt string \"b\" (-> color=(0.0, 0.0, 1.0, 1)). The keyword argument will take precedence.\n",
      "  plt.plot(tprs[i], base_fpr, 'b', label = 'AUC_%s = %0.2f' % (i, roc_auc), color='b')\n",
      "/var/folders/tn/1hx74qln26x7jlmq6t6mlyqm0000gn/T/ipykernel_1111/1832198086.py:11: UserWarning: color is redundantly defined by the 'color' keyword argument and the fmt string \"b\" (-> color=(0.0, 0.0, 1.0, 1)). The keyword argument will take precedence.\n",
      "  plt.plot(tprs[i], base_fpr, 'b', label = 'AUC_%s = %0.2f' % (i, roc_auc), color='b')\n",
      "/var/folders/tn/1hx74qln26x7jlmq6t6mlyqm0000gn/T/ipykernel_1111/1832198086.py:11: UserWarning: color is redundantly defined by the 'color' keyword argument and the fmt string \"b\" (-> color=(0.0, 0.0, 1.0, 1)). The keyword argument will take precedence.\n",
      "  plt.plot(tprs[i], base_fpr, 'b', label = 'AUC_%s = %0.2f' % (i, roc_auc), color='b')\n",
      "/var/folders/tn/1hx74qln26x7jlmq6t6mlyqm0000gn/T/ipykernel_1111/1832198086.py:11: UserWarning: color is redundantly defined by the 'color' keyword argument and the fmt string \"b\" (-> color=(0.0, 0.0, 1.0, 1)). The keyword argument will take precedence.\n",
      "  plt.plot(tprs[i], base_fpr, 'b', label = 'AUC_%s = %0.2f' % (i, roc_auc), color='b')\n",
      "/var/folders/tn/1hx74qln26x7jlmq6t6mlyqm0000gn/T/ipykernel_1111/1832198086.py:11: UserWarning: color is redundantly defined by the 'color' keyword argument and the fmt string \"b\" (-> color=(0.0, 0.0, 1.0, 1)). The keyword argument will take precedence.\n",
      "  plt.plot(tprs[i], base_fpr, 'b', label = 'AUC_%s = %0.2f' % (i, roc_auc), color='b')\n",
      "/var/folders/tn/1hx74qln26x7jlmq6t6mlyqm0000gn/T/ipykernel_1111/1832198086.py:11: UserWarning: color is redundantly defined by the 'color' keyword argument and the fmt string \"b\" (-> color=(0.0, 0.0, 1.0, 1)). The keyword argument will take precedence.\n",
      "  plt.plot(tprs[i], base_fpr, 'b', label = 'AUC_%s = %0.2f' % (i, roc_auc), color='b')\n",
      "/var/folders/tn/1hx74qln26x7jlmq6t6mlyqm0000gn/T/ipykernel_1111/1832198086.py:11: UserWarning: color is redundantly defined by the 'color' keyword argument and the fmt string \"b\" (-> color=(0.0, 0.0, 1.0, 1)). The keyword argument will take precedence.\n",
      "  plt.plot(tprs[i], base_fpr, 'b', label = 'AUC_%s = %0.2f' % (i, roc_auc), color='b')\n",
      "/var/folders/tn/1hx74qln26x7jlmq6t6mlyqm0000gn/T/ipykernel_1111/1832198086.py:11: UserWarning: color is redundantly defined by the 'color' keyword argument and the fmt string \"b\" (-> color=(0.0, 0.0, 1.0, 1)). The keyword argument will take precedence.\n",
      "  plt.plot(tprs[i], base_fpr, 'b', label = 'AUC_%s = %0.2f' % (i, roc_auc), color='b')\n",
      "/var/folders/tn/1hx74qln26x7jlmq6t6mlyqm0000gn/T/ipykernel_1111/1832198086.py:11: UserWarning: color is redundantly defined by the 'color' keyword argument and the fmt string \"b\" (-> color=(0.0, 0.0, 1.0, 1)). The keyword argument will take precedence.\n",
      "  plt.plot(tprs[i], base_fpr, 'b', label = 'AUC_%s = %0.2f' % (i, roc_auc), color='b')\n",
      "/var/folders/tn/1hx74qln26x7jlmq6t6mlyqm0000gn/T/ipykernel_1111/1832198086.py:11: UserWarning: color is redundantly defined by the 'color' keyword argument and the fmt string \"b\" (-> color=(0.0, 0.0, 1.0, 1)). The keyword argument will take precedence.\n",
      "  plt.plot(tprs[i], base_fpr, 'b', label = 'AUC_%s = %0.2f' % (i, roc_auc), color='b')\n",
      "/var/folders/tn/1hx74qln26x7jlmq6t6mlyqm0000gn/T/ipykernel_1111/1832198086.py:11: UserWarning: color is redundantly defined by the 'color' keyword argument and the fmt string \"b\" (-> color=(0.0, 0.0, 1.0, 1)). The keyword argument will take precedence.\n",
      "  plt.plot(tprs[i], base_fpr, 'b', label = 'AUC_%s = %0.2f' % (i, roc_auc), color='b')\n",
      "/var/folders/tn/1hx74qln26x7jlmq6t6mlyqm0000gn/T/ipykernel_1111/1832198086.py:11: UserWarning: color is redundantly defined by the 'color' keyword argument and the fmt string \"b\" (-> color=(0.0, 0.0, 1.0, 1)). The keyword argument will take precedence.\n",
      "  plt.plot(tprs[i], base_fpr, 'b', label = 'AUC_%s = %0.2f' % (i, roc_auc), color='b')\n",
      "/var/folders/tn/1hx74qln26x7jlmq6t6mlyqm0000gn/T/ipykernel_1111/1832198086.py:11: UserWarning: color is redundantly defined by the 'color' keyword argument and the fmt string \"b\" (-> color=(0.0, 0.0, 1.0, 1)). The keyword argument will take precedence.\n",
      "  plt.plot(tprs[i], base_fpr, 'b', label = 'AUC_%s = %0.2f' % (i, roc_auc), color='b')\n",
      "/var/folders/tn/1hx74qln26x7jlmq6t6mlyqm0000gn/T/ipykernel_1111/1832198086.py:11: UserWarning: color is redundantly defined by the 'color' keyword argument and the fmt string \"b\" (-> color=(0.0, 0.0, 1.0, 1)). The keyword argument will take precedence.\n",
      "  plt.plot(tprs[i], base_fpr, 'b', label = 'AUC_%s = %0.2f' % (i, roc_auc), color='b')\n",
      "/var/folders/tn/1hx74qln26x7jlmq6t6mlyqm0000gn/T/ipykernel_1111/1832198086.py:11: UserWarning: color is redundantly defined by the 'color' keyword argument and the fmt string \"b\" (-> color=(0.0, 0.0, 1.0, 1)). The keyword argument will take precedence.\n",
      "  plt.plot(tprs[i], base_fpr, 'b', label = 'AUC_%s = %0.2f' % (i, roc_auc), color='b')\n"
     ]
    },
    {
     "data": {
      "image/png": "[encoded data removed]",
      "text/plain": [
       "<Figure size 432x288 with 1 Axes>"
      ]
     },
     "metadata": {
      "needs_background": "light"
     },
     "output_type": "display_data"
    }
   ],
   "source": [
    "#\n",
    "\n",
    "base_fpr = np.linspace(0, 1, 101)\n",
    "\n",
    "t_aucs = []\n",
    "\n",
    "for i in range(len(tprs)):\n",
    "    #t_tpr = np.interp(base_fpr, tprs[i], fprs[i])\n",
    "    roc_auc = metrics.auc(tprs[i], base_fpr)\n",
    "    t_aucs.append(roc_auc)\n",
    "    plt.plot(tprs[i], base_fpr, 'b', label = 'AUC_%s = %0.2f' % (i, roc_auc), color='b')\n",
    "    \n",
    "plt.title('ROC Curves for Folds for June Predictions')\n",
    "    \n",
    "plt.legend(loc = 'lower right')\n",
    "plt.plot([0, 1], [0, 1],'r--')\n",
    "plt.xlim([0, 1])\n",
    "plt.ylim([0, 1])\n",
    "    \n",
    "plt.ylabel('True Positive Rate')\n",
    "plt.xlabel('False Positive Rate')\n",
    "plt.show()"
   ]
  },
  {
   "cell_type": "code",
   "execution_count": 39,
   "id": "c2b3f547-f177-43fd-adf4-9b8a68add182",
   "metadata": {},
   "outputs": [
    {
     "data": {
      "text/plain": [
       "0.6923483419487226"
      ]
     },
     "execution_count": 39,
     "metadata": {},
     "output_type": "execute_result"
    }
   ],
   "source": [
    "np.mean(t_aucs)"
   ]
  },
  {
   "cell_type": "code",
   "execution_count": 54,
   "id": "513aa9a0-15a0-41da-a727-a1b7a3d2f4cb",
   "metadata": {},
   "outputs": [
    {
     "name": "stdout",
     "output_type": "stream",
     "text": [
      "[0.838315960355434, 0.6682078965360072, 0.8447510822510822, 0.7428852524560201, 0.7358367145838164, 0.7375737000928505, 0.6672240449964847, 0.7054186795491144, 0.5485248571428571, 0.7338903119307832]\n"
     ]
    },
    {
     "data": {
      "text/plain": [
       "0.722262849989445"
      ]
     },
     "execution_count": 54,
     "metadata": {},
     "output_type": "execute_result"
    }
   ],
   "source": [
    "summer_aucs = []\n",
    "avgs = []\n",
    "for i in range(len(aucs)):\n",
    "    if ((i%12) == 5 or (i%12) == 6 or (i%12) == 7 or (i%12) == 8):\n",
    "        summer_aucs.append(aucs[i])\n",
    "        \n",
    "for i in range(int(len(summer_aucs)/4)):\n",
    "    avgs.append(1-np.mean(np.array([summer_aucs[4*i], summer_aucs[4*i+1], summer_aucs[4*i+2], summer_aucs[4*i+3]])))\n",
    "                \n",
    "print(avgs)\n",
    "        \n",
    "np.mean(avgs)"
   ]
  },
  {
   "cell_type": "code",
   "execution_count": 63,
   "id": "f5b08dcd-b65b-4304-819a-e55ea0f7fb8f",
   "metadata": {},
   "outputs": [
    {
     "name": "stdout",
     "output_type": "stream",
     "text": [
      "[0.7825244930508088, 0.8659785828206881, 0.8360150375939849, 0.8687457279562543, 0.6867582041932543, 0.6660562898814949, 0.652894257064722, 0.6671228350045579, 0.8323775347459559, 0.7703588516746411, 0.9058737753474595, 0.8703941672362725, 0.7692072195567741, 0.6225428375599725, 0.822486863148275, 0.7573040895590588, 0.712964293994899, 0.778329469047067, 0.7486424762346395, 0.70341061905866, 0.7119568245125348, 0.7669336118848653, 0.7525116063138347, 0.7188927576601671, 0.6310464026247949, 0.6957897820482775, 0.6900316381532692, 0.652028357159597, 0.6824005060961583, 0.7595456636760984, 0.7138049229353578, 0.6659236254888429, 0.58832, 0.5443954285714285, 0.5400925714285714, 0.5212914285714286, 0.6962158469945355, 0.6814947632058286, 0.7527459016393443, 0.8051047358834245]\n"
     ]
    }
   ],
   "source": [
    "print(list(np.subtract([1]*len(summer_aucs), summer_aucs)))"
   ]
  },
  {
   "cell_type": "code",
   "execution_count": 69,
   "id": "dadb184e-981b-4edf-b610-b43d991f01c1",
   "metadata": {},
   "outputs": [],
   "source": [
    "auc_formed = list(np.subtract([1]*len(aucs), aucs))\n",
    "\n",
    "o = []\n",
    "\n",
    "for i in range(int(len(auc_formed)/12)):\n",
    "    t = []\n",
    "    for j in range(12):\n",
    "        t.append(auc_formed[10*i+j])\n",
    "    o.append(t)\n",
    "    \n",
    "pd.DataFrame(o).transpose().to_csv('/Users/alekseyvalouev/Desktop/FireData/Scripts/1.csv', index=False)"
   ]
  },
  {
   "cell_type": "code",
   "execution_count": 44,
   "id": "55e24083-3da5-47e0-a852-d5f4813d5333",
   "metadata": {},
   "outputs": [
    {
     "data": {
      "text/plain": [
       "0.6781997188656772"
      ]
     },
     "execution_count": 44,
     "metadata": {},
     "output_type": "execute_result"
    }
   ],
   "source": [
    "summer_aucs = []\n",
    "for i in range(len(aucs)):\n",
    "    if ((i%12) != 4 and (i%12) != 5 and (i%12) != 6 and (i%12) != 7 and (i%12) != 8):\n",
    "        summer_aucs.append(aucs[i])\n",
    "        \n",
    "1-np.mean(summer_aucs)"
   ]
  },
  {
   "cell_type": "code",
   "execution_count": null,
   "id": "1f42d758-ec8d-4646-be0c-3bb9dac53774",
   "metadata": {},
   "outputs": [
    {
     "data": {
      "text/plain": [
       "array(['0.0', '0.0', '0.0', ..., '0.0', '0.0', '0.0'], dtype='<U32')"
      ]
     },
     "execution_count": 40,
     "metadata": {},
     "output_type": "execute_result"
    }
   ],
   "source": [
    "_v_y"
   ]
  },
  {
   "cell_type": "code",
   "execution_count": 33,
   "id": "5cce5448-0cf4-4d1e-9a7d-3c185d87616f",
   "metadata": {},
   "outputs": [
    {
     "name": "stderr",
     "output_type": "stream",
     "text": [
      "/var/folders/tn/1hx74qln26x7jlmq6t6mlyqm0000gn/T/ipykernel_1111/1146683063.py:8: UserWarning: color is redundantly defined by the 'color' keyword argument and the fmt string \"b\" (-> color=(0.0, 0.0, 1.0, 1)). The keyword argument will take precedence.\n",
      "  plt.plot(fpr, tpr, 'b', label = 'AUC = %0.2f' % (roc_auc), color='orange')\n"
     ]
    },
    {
     "data": {
      "image/png": "[encoded data removed]",
      "text/plain": [
       "<Figure size 432x288 with 1 Axes>"
      ]
     },
     "metadata": {
      "needs_background": "light"
     },
     "output_type": "display_data"
    }
   ],
   "source": [
    "t_probs = np.concatenate(np.array(_probs), axis=0)\n",
    "preds = t_probs[:,1]\n",
    "\n",
    "_v_y = np.concatenate(val_test[:,:,-3], axis=0).astype('float')\n",
    "\n",
    "fpr, tpr, threshold = metrics.roc_curve(_v_y, preds)\n",
    "roc_auc = metrics.auc(fpr, tpr)\n",
    "plt.plot(fpr, tpr, 'b', label = 'AUC = %0.2f' % (roc_auc), color='orange')\n",
    "\n",
    "plt.title('Cross-Validated ROC Curve for June Predictions')\n",
    "\n",
    "plt.legend(loc = 'lower right')\n",
    "plt.plot([0, 1], [0, 1],'r--')\n",
    "plt.xlim([0, 1])\n",
    "plt.ylim([0, 1])\n",
    "    \n",
    "plt.ylabel('True Positive Rate')\n",
    "plt.xlabel('False Positive Rate')\n",
    "plt.show()"
   ]
  },
  {
   "cell_type": "code",
   "execution_count": null,
   "id": "a436a69a-9bd9-4ba6-92c5-03a5d7577bed",
   "metadata": {},
   "outputs": [
    {
     "name": "stdout",
     "output_type": "stream",
     "text": [
      "Requirement already satisfied: scipy in /Users/alekseyvalouev/opt/anaconda3/lib/python3.9/site-packages (1.7.1)\n",
      "Requirement already satisfied: numpy<1.23.0,>=1.16.5 in /Users/alekseyvalouev/opt/anaconda3/lib/python3.9/site-packages (from scipy) (1.20.3)\n",
      "Note: you may need to restart the kernel to use updated packages.\n"
     ]
    }
   ],
   "source": [
    "t_probs"
   ]
  },
  {
   "cell_type": "code",
   "execution_count": null,
   "id": "a0bff332-74fa-4dd3-aa1a-b0c92e211003",
   "metadata": {},
   "outputs": [
    {
     "data": {
      "text/plain": [
       "(43970, 2)"
      ]
     },
     "execution_count": 115,
     "metadata": {},
     "output_type": "execute_result"
    }
   ],
   "source": [
    "t_probs.shape"
   ]
  },
  {
   "cell_type": "code",
   "execution_count": 72,
   "id": "0cd2f9ae-c626-43a4-a97a-c949411b62bf",
   "metadata": {},
   "outputs": [],
   "source": [
    "filter = _v_y == 0.0"
   ]
  },
  {
   "cell_type": "code",
   "execution_count": 73,
   "id": "f117bfdd-12d9-423d-82db-63c131c6aa48",
   "metadata": {},
   "outputs": [
    {
     "name": "stdout",
     "output_type": "stream",
     "text": [
      "spec: 0.9 score cutoff: 0.53\n",
      "spec: 0.95 score cutoff: 0.65\n",
      "spec: 0.98 score cutoff: 0.75\n"
     ]
    }
   ],
   "source": [
    "from scipy.interpolate import interp1d\n",
    "\n",
    "scores = sorted(t_probs[filter, 1])\n",
    "\n",
    "inc = 1/(len(scores)-1)\n",
    "fractions = np.arange(0, 1 + inc, inc)\n",
    "fractions = fractions[0:len(scores)]\n",
    "\n",
    "score_curve = interp1d(fractions, scores)\n",
    "\n",
    "perf_metrics = [[0.9, None], [0.95, None], [0.98, None]]\n",
    "\n",
    "for i, metric in enumerate(perf_metrics):\n",
    "    perf_metrics[i][1] = round(float(score_curve(metric[0])), 2)\n",
    "    print(\"spec: \" + str(metric[0]) + \" score cutoff: \" + str(perf_metrics[i][1]))"
   ]
  },
  {
   "cell_type": "code",
   "execution_count": 74,
   "id": "7e531e1a-7d5d-4195-9690-904f44e5745e",
   "metadata": {},
   "outputs": [
    {
     "data": {
      "text/plain": [
       "0.31"
      ]
     },
     "execution_count": 74,
     "metadata": {},
     "output_type": "execute_result"
    }
   ],
   "source": [
    "filter = _v_y == 1.0\n",
    "num_pos = np.sum(t_probs[filter, 1] > perf_metrics[0][1])\n",
    "num_total = np.sum(filter)\n",
    "sens = np.round(float(num_pos) / float(num_total), 2)\n",
    "sens"
   ]
  },
  {
   "cell_type": "code",
   "execution_count": null,
   "id": "6b618035-f1f8-44db-b61d-40a266ba8d83",
   "metadata": {},
   "outputs": [
    {
     "data": {
      "text/plain": [
       "array([[0.895298  , 0.104702  ],\n",
       "       [0.92723357, 0.07276643],\n",
       "       [0.8794815 , 0.1205185 ],\n",
       "       ...,\n",
       "       [0.94483561, 0.05516439],\n",
       "       [0.94485918, 0.05514082],\n",
       "       [0.94775405, 0.05224595]])"
      ]
     },
     "execution_count": 116,
     "metadata": {},
     "output_type": "execute_result"
    }
   ],
   "source": [
    "t_probs"
   ]
  },
  {
   "cell_type": "code",
   "execution_count": null,
   "id": "bfbb44d7-5dd8-4d28-bd71-73925627993a",
   "metadata": {},
   "outputs": [
    {
     "data": {
      "image/png": "[encoded data removed]",
      "text/plain": [
       "<Figure size 720x504 with 1 Axes>"
      ]
     },
     "metadata": {
      "needs_background": "light"
     },
     "output_type": "display_data"
    }
   ],
   "source": [
    "import random\n",
    "\n",
    "fig = plt.figure(figsize =(10, 7))\n",
    " \n",
    "# Creating axes instance\n",
    "ax = fig.add_axes([0, 0, 1, 1])\n",
    "\n",
    "ax.boxplot([t_probs[:,1], t_probs[:,1]])\n",
    "ax.scatter(np.add(_v_y, np.random.default_rng().uniform(0,0.1,len(_v_y)))+1, t_probs[:, 1],s=0.1)\n",
    "#plt.plot([0]*len(t_probs[:,0]), t_probs[:,0])\n",
    "plt.show()"
   ]
  },
  {
   "cell_type": "code",
   "execution_count": null,
   "id": "f3fd3dee-1aa8-4953-a43b-f79495a2685c",
   "metadata": {},
   "outputs": [
    {
     "data": {
      "text/html": [
       "<div>\n",
       "<style scoped>\n",
       "    .dataframe tbody tr th:only-of-type {\n",
       "        vertical-align: middle;\n",
       "    }\n",
       "\n",
       "    .dataframe tbody tr th {\n",
       "        vertical-align: top;\n",
       "    }\n",
       "\n",
       "    .dataframe thead th {\n",
       "        text-align: right;\n",
       "    }\n",
       "</style>\n",
       "<table border=\"1\" class=\"dataframe\">\n",
       "  <thead>\n",
       "    <tr style=\"text-align: right;\">\n",
       "      <th></th>\n",
       "      <th>0</th>\n",
       "    </tr>\n",
       "  </thead>\n",
       "  <tbody>\n",
       "    <tr>\n",
       "      <th>count</th>\n",
       "      <td>43970.000000</td>\n",
       "    </tr>\n",
       "    <tr>\n",
       "      <th>mean</th>\n",
       "      <td>0.953350</td>\n",
       "    </tr>\n",
       "    <tr>\n",
       "      <th>std</th>\n",
       "      <td>0.053219</td>\n",
       "    </tr>\n",
       "    <tr>\n",
       "      <th>min</th>\n",
       "      <td>0.180000</td>\n",
       "    </tr>\n",
       "    <tr>\n",
       "      <th>1%</th>\n",
       "      <td>0.740000</td>\n",
       "    </tr>\n",
       "    <tr>\n",
       "      <th>5%</th>\n",
       "      <td>0.870000</td>\n",
       "    </tr>\n",
       "    <tr>\n",
       "      <th>10%</th>\n",
       "      <td>0.900000</td>\n",
       "    </tr>\n",
       "    <tr>\n",
       "      <th>50%</th>\n",
       "      <td>0.970000</td>\n",
       "    </tr>\n",
       "    <tr>\n",
       "      <th>80%</th>\n",
       "      <td>0.990000</td>\n",
       "    </tr>\n",
       "    <tr>\n",
       "      <th>90%</th>\n",
       "      <td>1.000000</td>\n",
       "    </tr>\n",
       "    <tr>\n",
       "      <th>95%</th>\n",
       "      <td>1.000000</td>\n",
       "    </tr>\n",
       "    <tr>\n",
       "      <th>98%</th>\n",
       "      <td>1.000000</td>\n",
       "    </tr>\n",
       "    <tr>\n",
       "      <th>99%</th>\n",
       "      <td>1.000000</td>\n",
       "    </tr>\n",
       "    <tr>\n",
       "      <th>max</th>\n",
       "      <td>1.000000</td>\n",
       "    </tr>\n",
       "  </tbody>\n",
       "</table>\n",
       "</div>"
      ],
      "text/plain": [
       "                  0\n",
       "count  43970.000000\n",
       "mean       0.953350\n",
       "std        0.053219\n",
       "min        0.180000\n",
       "1%         0.740000\n",
       "5%         0.870000\n",
       "10%        0.900000\n",
       "50%        0.970000\n",
       "80%        0.990000\n",
       "90%        1.000000\n",
       "95%        1.000000\n",
       "98%        1.000000\n",
       "99%        1.000000\n",
       "max        1.000000"
      ]
     },
     "execution_count": 54,
     "metadata": {},
     "output_type": "execute_result"
    }
   ],
   "source": [
    "pd.DataFrame(t_probs[:,0]).describe(percentiles=[0.01,0.05,0.10,0.50,0.80,0.90,0.95,0.98,0.99])"
   ]
  },
  {
   "cell_type": "code",
   "execution_count": null,
   "id": "f11f1586-7880-42b9-92d6-6f35c39a0427",
   "metadata": {},
   "outputs": [
    {
     "name": "stdout",
     "output_type": "stream",
     "text": [
      "0.976415738003184\n",
      "42933/43970\n"
     ]
    }
   ],
   "source": [
    "out = []\n",
    "\n",
    "for i in t_probs[:, 1]:\n",
    "    if (i >= 0.26):\n",
    "        out.append(1.0)\n",
    "    else:\n",
    "        out.append(0.0)\n",
    "        \n",
    "out = np.array(out)\n",
    "\n",
    "print(1-((out != _v_y).sum()/len(out)))\n",
    "\n",
    "print(str(len(out)-(out != _v_y).sum()) + \"/\" + str(len(out)))"
   ]
  },
  {
   "cell_type": "code",
   "execution_count": null,
   "id": "ffd1e6ba-e2db-4e33-b40b-e123f5262370",
   "metadata": {},
   "outputs": [],
   "source": []
  }
 ],
 "metadata": {
  "kernelspec": {
   "display_name": "Python 3 (ipykernel)",
   "language": "python",
   "name": "python3"
  },
  "language_info": {
   "codemirror_mode": {
    "name": "ipython",
    "version": 3
   },
   "file_extension": ".py",
   "mimetype": "text/x-python",
   "name": "python",
   "nbconvert_exporter": "python",
   "pygments_lexer": "ipython3",
   "version": "3.9.7"
  }
 },
 "nbformat": 4,
 "nbformat_minor": 5
}

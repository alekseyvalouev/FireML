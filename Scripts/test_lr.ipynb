{
 "cells": [
  {
   "cell_type": "code",
   "execution_count": 173,
   "id": "3607e4f6-9331-4e35-af5b-d756c69b879f",
   "metadata": {},
   "outputs": [],
   "source": [
    "import numpy as np\n",
    "import pandas as pd\n",
    "import matplotlib.pyplot as plt\n",
    "from sklearn.model_selection import train_test_split\n",
    "from math import exp"
   ]
  },
  {
   "cell_type": "code",
   "execution_count": 174,
   "id": "2169e919-1cdc-4b58-a868-4d688c665587",
   "metadata": {},
   "outputs": [],
   "source": [
    "data = pd.read_csv(\"/Users/alekseyvalouev/Desktop/FireData/CSV/final_table_shifted.csv\")\n",
    "\n",
    "data = data.dropna(axis=0, subset=['fut1fire'])"
   ]
  },
  {
   "cell_type": "code",
   "execution_count": 176,
   "id": "d1e59f30-a5b8-4dde-ad91-f675010b2bd7",
   "metadata": {},
   "outputs": [],
   "source": [
    "data = data[pd.to_datetime(data['Date']).dt.strftime('%B') == 'June']"
   ]
  },
  {
   "cell_type": "code",
   "execution_count": 177,
   "id": "e8b33547-372c-422d-a755-a90412e4940d",
   "metadata": {},
   "outputs": [],
   "source": [
    "array = data.values"
   ]
  },
  {
   "cell_type": "code",
   "execution_count": 222,
   "id": "acac783e-3551-49c3-a8a1-e4f7d7b915e8",
   "metadata": {},
   "outputs": [
    {
     "data": {
      "text/plain": [
       "\"plt.clf()\\nplt.scatter(data['TMAX'], data['VPD'])\\nplt.scatter(data['TMAX'], data['fut1fire'], c='red')\\nplt.show()\\nplt.clf()\\nplt.scatter(data['PPT'], data['TMAX'])\\nplt.scatter(data['PPT'], data['fut1fire'], c='red')\\nplt.show()\""
      ]
     },
     "execution_count": 222,
     "metadata": {},
     "output_type": "execute_result"
    }
   ],
   "source": [
    "'''plt.clf()\n",
    "plt.scatter(data['TMAX'], data['VPD'])\n",
    "plt.scatter(data['TMAX'], data['fut1fire'], c='red')\n",
    "plt.show()\n",
    "plt.clf()\n",
    "plt.scatter(data['PPT'], data['TMAX'])\n",
    "plt.scatter(data['PPT'], data['fut1fire'], c='red')\n",
    "plt.show()'''"
   ]
  },
  {
   "cell_type": "code",
   "execution_count": 180,
   "id": "05bf4940-6018-4055-8d70-9f590b74fdd0",
   "metadata": {},
   "outputs": [],
   "source": [
    "X = array[:,3:6]\n",
    "y = array[:,7]"
   ]
  },
  {
   "cell_type": "code",
   "execution_count": 210,
   "id": "64e0f0ae-aab6-42b6-ad4a-fe1f19e74ef3",
   "metadata": {},
   "outputs": [],
   "source": [
    "from sklearn.preprocessing import StandardScaler\n",
    "scaler = StandardScaler()\n",
    "  \n",
    "X = scaler.fit_transform(X)\n",
    "#y = scaler.fit_transform(y)\n",
    "\n",
    "X_train, X_test, y_train, y_test = train_test_split(X, y, test_size=0.20)\n",
    "\n",
    "X_train = X_train.astype('float')\n",
    "\n",
    "y_train = y_train.astype('bool')\n",
    "\n",
    "X_test = X_test.astype('float')\n",
    "\n",
    "y_test = y_test.astype('bool')"
   ]
  },
  {
   "cell_type": "code",
   "execution_count": 211,
   "id": "6a5d82e7-ad9e-425f-9ca5-907ba0e285c4",
   "metadata": {},
   "outputs": [],
   "source": [
    "from imblearn.over_sampling import BorderlineSMOTE "
   ]
  },
  {
   "cell_type": "code",
   "execution_count": 212,
   "id": "50bcab67-118d-4e82-8425-22956ad2415d",
   "metadata": {},
   "outputs": [],
   "source": [
    "X_train_res, y_train_res = BorderlineSMOTE().fit_resample(X_train, y_train)"
   ]
  },
  {
   "cell_type": "code",
   "execution_count": 213,
   "id": "59341664-666d-4e1d-8d7f-882e5d32ffb3",
   "metadata": {},
   "outputs": [],
   "source": [
    "# Making predictions using scikit learn\n",
    "from sklearn.linear_model import *\n",
    "from sklearn.neighbors import KNeighborsClassifier\n",
    "from sklearn.discriminant_analysis import LinearDiscriminantAnalysis\n",
    "from sklearn.naive_bayes import GaussianNB\n",
    "from sklearn.svm import LinearSVC\n",
    "from sklearn.ensemble import RandomForestClassifier\n",
    "#import sklearn.ensemble.RandomForestClassifier"
   ]
  },
  {
   "cell_type": "code",
   "execution_count": 214,
   "id": "3ec4a643-d4bc-43ae-b32a-cb81ccd7f5d6",
   "metadata": {},
   "outputs": [
    {
     "data": {
      "text/plain": [
       "RandomForestClassifier()"
      ]
     },
     "execution_count": 214,
     "metadata": {},
     "output_type": "execute_result"
    }
   ],
   "source": [
    "# Create an instance and fit the model \n",
    "lr_model = RandomForestClassifier()\n",
    "lr_model.fit(X_train_res, y_train_res)"
   ]
  },
  {
   "cell_type": "code",
   "execution_count": 216,
   "id": "ead63a84-5877-47f8-983d-84acb09d8b35",
   "metadata": {},
   "outputs": [
    {
     "name": "stdout",
     "output_type": "stream",
     "text": [
      "Accuracy = 0.932268749691007\n"
     ]
    }
   ],
   "source": [
    "# Accuracy\n",
    "print(f\"Accuracy = {lr_model.score(X_test, y_test)}\")"
   ]
  },
  {
   "cell_type": "code",
   "execution_count": 221,
   "id": "a7a566b4-a868-4e25-b94a-85a9b5f83d01",
   "metadata": {},
   "outputs": [
    {
     "data": {
      "image/png": "[encoded data removed]",
      "text/plain": [
       "<Figure size 432x288 with 1 Axes>"
      ]
     },
     "metadata": {
      "needs_background": "light"
     },
     "output_type": "display_data"
    }
   ],
   "source": [
    "import sklearn.metrics as metrics\n",
    "# calculate the fpr and tpr for all thresholds of the classification\n",
    "#kfold = StratifiedKFold(n_splits=10, random_state=1, shuffle=True)\n",
    "#cv_results = cross_val_score(model, X_train, Y_train, cv=kfold, scoring='accuracy')\n",
    "probs = lr_model.predict_proba(X_test)\n",
    "preds = probs[:,1]\n",
    "fpr, tpr, threshold = metrics.roc_curve(y_test, preds)\n",
    "roc_auc = metrics.auc(fpr, tpr)\n",
    "\n",
    "import matplotlib.pyplot as plt\n",
    "plt.title('ROC')\n",
    "plt.plot(fpr, tpr, 'b', label = 'AUC = %0.2f' % roc_auc)\n",
    "plt.legend(loc = 'lower right')\n",
    "plt.plot([0, 1], [0, 1],'r--')\n",
    "plt.xlim([0, 1])\n",
    "plt.ylim([0, 1])\n",
    "plt.ylabel('True Positive Rate')\n",
    "plt.xlabel('False Positive Rate')\n",
    "plt.show()"
   ]
  },
  {
   "cell_type": "code",
   "execution_count": 225,
   "id": "7762afca-8923-45e0-992c-9b1bcca36b60",
   "metadata": {},
   "outputs": [
    {
     "data": {
      "text/plain": [
       "Text(0.5, 0, 'Relative Importance')"
      ]
     },
     "execution_count": 225,
     "metadata": {},
     "output_type": "execute_result"
    },
    {
     "data": {
      "image/png": "[encoded data removed]",
      "text/plain": [
       "<Figure size 432x288 with 1 Axes>"
      ]
     },
     "metadata": {
      "needs_background": "light"
     },
     "output_type": "display_data"
    }
   ],
   "source": [
    "features=data.columns[[3,4,5]]\n",
    "importances = lr_model.feature_importances_\n",
    "indices = np.argsort(importances)\n",
    "\n",
    "plt.figure(1)\n",
    "plt.title('Feature Importances')\n",
    "plt.barh(range(len(indices)), importances[indices], color='b', align='center')\n",
    "plt.yticks(range(len(indices)), features[indices])\n",
    "plt.xlabel('Relative Importance')"
   ]
  },
  {
   "cell_type": "code",
   "execution_count": null,
   "id": "ed3199bc-d011-4c58-908f-917798dd2dd5",
   "metadata": {},
   "outputs": [],
   "source": []
  }
 ],
 "metadata": {
  "kernelspec": {
   "display_name": "Python 3 (ipykernel)",
   "language": "python",
   "name": "python3"
  },
  "language_info": {
   "codemirror_mode": {
    "name": "ipython",
    "version": 3
   },
   "file_extension": ".py",
   "mimetype": "text/x-python",
   "name": "python",
   "nbconvert_exporter": "python",
   "pygments_lexer": "ipython3",
   "version": "3.9.7"
  }
 },
 "nbformat": 4,
 "nbformat_minor": 5
}

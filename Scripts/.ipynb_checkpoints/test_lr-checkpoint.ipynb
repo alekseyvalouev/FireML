{
 "cells": [
  {
   "cell_type": "code",
   "execution_count": 103,
   "id": "3607e4f6-9331-4e35-af5b-d756c69b879f",
   "metadata": {},
   "outputs": [],
   "source": [
    "import numpy as np\n",
    "import pandas as pd\n",
    "import matplotlib.pyplot as plt\n",
    "from sklearn.model_selection import train_test_split\n",
    "from math import exp"
   ]
  },
  {
   "cell_type": "code",
   "execution_count": 104,
   "id": "2169e919-1cdc-4b58-a868-4d688c665587",
   "metadata": {},
   "outputs": [],
   "source": [
    "data = pd.read_csv(\"/Users/alekseyvalouev/Desktop/FireData/CSV/final_table_shifted.csv\")\n",
    "\n",
    "data = data.dropna(axis=0, subset=['fut1fire'])"
   ]
  },
  {
   "cell_type": "code",
   "execution_count": 105,
   "id": "327fb756-46f6-4161-aa88-c9265e9a72d9",
   "metadata": {},
   "outputs": [
    {
     "data": {
      "text/html": [
       "<div>\n",
       "<style scoped>\n",
       "    .dataframe tbody tr th:only-of-type {\n",
       "        vertical-align: middle;\n",
       "    }\n",
       "\n",
       "    .dataframe tbody tr th {\n",
       "        vertical-align: top;\n",
       "    }\n",
       "\n",
       "    .dataframe thead th {\n",
       "        text-align: right;\n",
       "    }\n",
       "</style>\n",
       "<table border=\"1\" class=\"dataframe\">\n",
       "  <thead>\n",
       "    <tr style=\"text-align: right;\">\n",
       "      <th></th>\n",
       "      <th>newID</th>\n",
       "      <th>Date</th>\n",
       "      <th>YYYYMM</th>\n",
       "      <th>VPD</th>\n",
       "      <th>PPT</th>\n",
       "      <th>TMAX</th>\n",
       "      <th>Fire</th>\n",
       "      <th>fut1fire</th>\n",
       "    </tr>\n",
       "  </thead>\n",
       "  <tbody>\n",
       "    <tr>\n",
       "      <th>0</th>\n",
       "      <td>1</td>\n",
       "      <td>1999-01-01</td>\n",
       "      <td>199901</td>\n",
       "      <td>5.318143</td>\n",
       "      <td>289.466287</td>\n",
       "      <td>12.153000</td>\n",
       "      <td>0</td>\n",
       "      <td>0.0</td>\n",
       "    </tr>\n",
       "    <tr>\n",
       "      <th>1</th>\n",
       "      <td>1</td>\n",
       "      <td>1999-02-01</td>\n",
       "      <td>199902</td>\n",
       "      <td>4.519571</td>\n",
       "      <td>508.476711</td>\n",
       "      <td>10.698429</td>\n",
       "      <td>0</td>\n",
       "      <td>0.0</td>\n",
       "    </tr>\n",
       "    <tr>\n",
       "      <th>2</th>\n",
       "      <td>1</td>\n",
       "      <td>1999-03-01</td>\n",
       "      <td>199903</td>\n",
       "      <td>5.311428</td>\n",
       "      <td>309.567858</td>\n",
       "      <td>11.620428</td>\n",
       "      <td>0</td>\n",
       "      <td>0.0</td>\n",
       "    </tr>\n",
       "    <tr>\n",
       "      <th>3</th>\n",
       "      <td>1</td>\n",
       "      <td>1999-04-01</td>\n",
       "      <td>199904</td>\n",
       "      <td>7.304143</td>\n",
       "      <td>82.425429</td>\n",
       "      <td>13.764143</td>\n",
       "      <td>0</td>\n",
       "      <td>0.0</td>\n",
       "    </tr>\n",
       "    <tr>\n",
       "      <th>4</th>\n",
       "      <td>1</td>\n",
       "      <td>1999-05-01</td>\n",
       "      <td>199905</td>\n",
       "      <td>5.658571</td>\n",
       "      <td>119.406572</td>\n",
       "      <td>14.522286</td>\n",
       "      <td>0</td>\n",
       "      <td>0.0</td>\n",
       "    </tr>\n",
       "    <tr>\n",
       "      <th>...</th>\n",
       "      <td>...</td>\n",
       "      <td>...</td>\n",
       "      <td>...</td>\n",
       "      <td>...</td>\n",
       "      <td>...</td>\n",
       "      <td>...</td>\n",
       "      <td>...</td>\n",
       "      <td>...</td>\n",
       "    </tr>\n",
       "    <tr>\n",
       "      <th>1217963</th>\n",
       "      <td>4517</td>\n",
       "      <td>2021-08-01</td>\n",
       "      <td>202108</td>\n",
       "      <td>24.241250</td>\n",
       "      <td>1.711850</td>\n",
       "      <td>29.326550</td>\n",
       "      <td>0</td>\n",
       "      <td>0.0</td>\n",
       "    </tr>\n",
       "    <tr>\n",
       "      <th>1217964</th>\n",
       "      <td>4517</td>\n",
       "      <td>2021-09-01</td>\n",
       "      <td>202109</td>\n",
       "      <td>21.749450</td>\n",
       "      <td>8.002600</td>\n",
       "      <td>27.934199</td>\n",
       "      <td>0</td>\n",
       "      <td>0.0</td>\n",
       "    </tr>\n",
       "    <tr>\n",
       "      <th>1217965</th>\n",
       "      <td>4517</td>\n",
       "      <td>2021-10-01</td>\n",
       "      <td>202110</td>\n",
       "      <td>22.783499</td>\n",
       "      <td>27.762850</td>\n",
       "      <td>24.977949</td>\n",
       "      <td>0</td>\n",
       "      <td>0.0</td>\n",
       "    </tr>\n",
       "    <tr>\n",
       "      <th>1217966</th>\n",
       "      <td>4517</td>\n",
       "      <td>2021-11-01</td>\n",
       "      <td>202111</td>\n",
       "      <td>22.209550</td>\n",
       "      <td>0.000000</td>\n",
       "      <td>24.351800</td>\n",
       "      <td>0</td>\n",
       "      <td>0.0</td>\n",
       "    </tr>\n",
       "    <tr>\n",
       "      <th>1217967</th>\n",
       "      <td>4517</td>\n",
       "      <td>2021-12-01</td>\n",
       "      <td>202112</td>\n",
       "      <td>11.387200</td>\n",
       "      <td>107.264397</td>\n",
       "      <td>17.097599</td>\n",
       "      <td>0</td>\n",
       "      <td>0.0</td>\n",
       "    </tr>\n",
       "  </tbody>\n",
       "</table>\n",
       "<p>1213572 rows × 8 columns</p>\n",
       "</div>"
      ],
      "text/plain": [
       "         newID        Date  YYYYMM        VPD         PPT       TMAX  Fire  \\\n",
       "0            1  1999-01-01  199901   5.318143  289.466287  12.153000     0   \n",
       "1            1  1999-02-01  199902   4.519571  508.476711  10.698429     0   \n",
       "2            1  1999-03-01  199903   5.311428  309.567858  11.620428     0   \n",
       "3            1  1999-04-01  199904   7.304143   82.425429  13.764143     0   \n",
       "4            1  1999-05-01  199905   5.658571  119.406572  14.522286     0   \n",
       "...        ...         ...     ...        ...         ...        ...   ...   \n",
       "1217963   4517  2021-08-01  202108  24.241250    1.711850  29.326550     0   \n",
       "1217964   4517  2021-09-01  202109  21.749450    8.002600  27.934199     0   \n",
       "1217965   4517  2021-10-01  202110  22.783499   27.762850  24.977949     0   \n",
       "1217966   4517  2021-11-01  202111  22.209550    0.000000  24.351800     0   \n",
       "1217967   4517  2021-12-01  202112  11.387200  107.264397  17.097599     0   \n",
       "\n",
       "         fut1fire  \n",
       "0             0.0  \n",
       "1             0.0  \n",
       "2             0.0  \n",
       "3             0.0  \n",
       "4             0.0  \n",
       "...           ...  \n",
       "1217963       0.0  \n",
       "1217964       0.0  \n",
       "1217965       0.0  \n",
       "1217966       0.0  \n",
       "1217967       0.0  \n",
       "\n",
       "[1213572 rows x 8 columns]"
      ]
     },
     "execution_count": 105,
     "metadata": {},
     "output_type": "execute_result"
    }
   ],
   "source": [
    "data"
   ]
  },
  {
   "cell_type": "code",
   "execution_count": 106,
   "id": "e8b33547-372c-422d-a755-a90412e4940d",
   "metadata": {},
   "outputs": [],
   "source": [
    "array = data.values"
   ]
  },
  {
   "cell_type": "code",
   "execution_count": 107,
   "id": "acac783e-3551-49c3-a8a1-e4f7d7b915e8",
   "metadata": {},
   "outputs": [
    {
     "data": {
      "image/png": "[encoded data removed]",
      "text/plain": [
       "<Figure size 432x288 with 1 Axes>"
      ]
     },
     "metadata": {
      "needs_background": "light"
     },
     "output_type": "display_data"
    }
   ],
   "source": [
    "plt.scatter(data['TMAX'], data['fut1fire'])\n",
    "plt.show()"
   ]
  },
  {
   "cell_type": "code",
   "execution_count": 108,
   "id": "e81b0395-aba6-400a-a887-b75d5ecfdc1d",
   "metadata": {},
   "outputs": [
    {
     "data": {
      "text/plain": [
       "array([[1, '1999-01-01', 199901, ..., 12.152999877929688, 0, 0.0],\n",
       "       [1, '1999-02-01', 199902, ..., 10.698428698948447, 0, 0.0],\n",
       "       [1, '1999-03-01', 199903, ..., 11.620428357805524, 0, 0.0],\n",
       "       ...,\n",
       "       [4517, '2021-10-01', 202110, ..., 24.97794914245605, 0, 0.0],\n",
       "       [4517, '2021-11-01', 202111, ..., 24.351799964904785, 0, 0.0],\n",
       "       [4517, '2021-12-01', 202112, ..., 17.097599029541016, 0, 0.0]],\n",
       "      dtype=object)"
      ]
     },
     "execution_count": 108,
     "metadata": {},
     "output_type": "execute_result"
    }
   ],
   "source": [
    "array"
   ]
  },
  {
   "cell_type": "code",
   "execution_count": 109,
   "id": "05bf4940-6018-4055-8d70-9f590b74fdd0",
   "metadata": {},
   "outputs": [],
   "source": [
    "X = array[:,3:6]\n",
    "y = array[:,7]"
   ]
  },
  {
   "cell_type": "code",
   "execution_count": 110,
   "id": "27777531-0227-4329-94c6-5fdf79c281ee",
   "metadata": {},
   "outputs": [
    {
     "data": {
      "text/plain": [
       "array([0.0, 0.0, 0.0, ..., 0.0, 0.0, 0.0], dtype=object)"
      ]
     },
     "execution_count": 110,
     "metadata": {},
     "output_type": "execute_result"
    }
   ],
   "source": [
    "y"
   ]
  },
  {
   "cell_type": "code",
   "execution_count": 111,
   "id": "64e0f0ae-aab6-42b6-ad4a-fe1f19e74ef3",
   "metadata": {},
   "outputs": [],
   "source": [
    "X_train, X_test, y_train, y_test = train_test_split(X, y, test_size=0.20)"
   ]
  },
  {
   "cell_type": "code",
   "execution_count": 112,
   "id": "46f04650-b4ad-4b70-bc7e-2703c6a76bee",
   "metadata": {},
   "outputs": [],
   "source": [
    "X_train = X_train.astype('float')\n",
    "\n",
    "y_train = y_train.astype('float')\n",
    "\n",
    "X_test = X_test.astype('float')\n",
    "\n",
    "y_test = y_test.astype('float')"
   ]
  },
  {
   "cell_type": "code",
   "execution_count": 121,
   "id": "59341664-666d-4e1d-8d7f-882e5d32ffb3",
   "metadata": {},
   "outputs": [],
   "source": [
    "# Making predictions using scikit learn\n",
    "from sklearn.linear_model import *\n",
    "from sklearn.neighbors import KNeighborsClassifier\n",
    "from sklearn.discriminant_analysis import LinearDiscriminantAnalysis\n",
    "from sklearn.naive_bayes import GaussianNB\n",
    "from sklearn.svm import SVC"
   ]
  },
  {
   "cell_type": "code",
   "execution_count": null,
   "id": "3ec4a643-d4bc-43ae-b32a-cb81ccd7f5d6",
   "metadata": {},
   "outputs": [],
   "source": [
    "# Create an instance and fit the model \n",
    "lr_model = SVC()\n",
    "lr_model.fit(X_train, y_train)"
   ]
  },
  {
   "cell_type": "code",
   "execution_count": null,
   "id": "72dca6d9-f962-44f4-a866-c384f03c3f3b",
   "metadata": {},
   "outputs": [],
   "source": [
    "# Making predictions\n",
    "y_pred_sk = lr_model.predict(X_test)\n",
    "plt.clf()\n",
    "plt.scatter([i[1] for i in X_test], y_test)\n",
    "plt.show()\n",
    "\n",
    "plt.clf()\n",
    "plt.scatter([i[1] for i in X_test], y_pred_sk, c=\"red\")\n",
    "plt.show()\n",
    "\n",
    "plt.clf()\n",
    "plt.scatter([i[1] for i in X_test], y_test)\n",
    "plt.scatter([i[1] for i in X_test], y_pred_sk, c=\"red\")\n",
    "plt.show()"
   ]
  },
  {
   "cell_type": "code",
   "execution_count": null,
   "id": "ead63a84-5877-47f8-983d-84acb09d8b35",
   "metadata": {},
   "outputs": [],
   "source": [
    "# Accuracy\n",
    "print(f\"Accuracy = {lr_model.score(X_test, y_test)}\")"
   ]
  }
 ],
 "metadata": {
  "kernelspec": {
   "display_name": "Python 3 (ipykernel)",
   "language": "python",
   "name": "python3"
  },
  "language_info": {
   "codemirror_mode": {
    "name": "ipython",
    "version": 3
   },
   "file_extension": ".py",
   "mimetype": "text/x-python",
   "name": "python",
   "nbconvert_exporter": "python",
   "pygments_lexer": "ipython3",
   "version": "3.9.7"
  }
 },
 "nbformat": 4,
 "nbformat_minor": 5
}
